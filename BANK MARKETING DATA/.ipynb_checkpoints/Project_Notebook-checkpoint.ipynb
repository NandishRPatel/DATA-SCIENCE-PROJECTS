{
 "cells": [
  {
   "cell_type": "markdown",
   "metadata": {},
   "source": [
    "# 0. Importing libraries"
   ]
  },
  {
   "cell_type": "code",
   "execution_count": 1,
   "metadata": {},
   "outputs": [
    {
     "name": "stderr",
     "output_type": "stream",
     "text": [
      "Using TensorFlow backend.\n"
     ]
    }
   ],
   "source": [
    "%reload_ext autoreload\n",
    "%autoreload 2\n",
    "\n",
    "import sys\n",
    "sys.path.append(\"../Functions\")\n",
    "import warnings\n",
    "warnings.filterwarnings(action = 'ignore')\n",
    "import custom_functions\n",
    "import pandas as pd\n",
    "import numpy as np\n",
    "import seaborn as sns\n",
    "import matplotlib as mpl\n",
    "import matplotlib.pyplot as plt\n",
    "from sklearn.utils import shuffle\n",
    "from sklearn.preprocessing import LabelEncoder\n",
    "from imblearn.over_sampling import SMOTE\n",
    "from sklearn.metrics import accuracy_score, f1_score, recall_score, confusion_matrix\n",
    "from sklearn.linear_model import LogisticRegression\n",
    "from imblearn.under_sampling import NearMiss\n",
    "from joblib import dump, load\n",
    "from sklearn import preprocessing\n",
    "from sklearn.tree import DecisionTreeClassifier\n",
    "from sklearn.ensemble import RandomForestClassifier, AdaBoostClassifier, ExtraTreesClassifier\n",
    "from sklearn.preprocessing import StandardScaler, MinMaxScaler\n",
    "from sklearn.metrics import accuracy_score, confusion_matrix\n",
    "from keras.utils import to_categorical\n",
    "from sklearn.decomposition import PCA, IncrementalPCA\n",
    "from sklearn.linear_model import SGDClassifier, LogisticRegression\n",
    "from sklearn.utils import shuffle\n",
    "from sklearn.metrics import auc, accuracy_score, confusion_matrix, mean_squared_error\n",
    "from sklearn.model_selection import GridSearchCV, RandomizedSearchCV, train_test_split\n",
    "from sklearn.svm import LinearSVC, SVC\n",
    "from sklearn.tree import DecisionTreeClassifier\n",
    "from sklearn.ensemble import RandomForestClassifier, AdaBoostClassifier\n",
    "from sklearn.naive_bayes import GaussianNB, MultinomialNB\n",
    "from sklearn.model_selection import GridSearchCV\n",
    "from sklearn.neighbors import KNeighborsClassifier\n",
    "from sklearn.naive_bayes import GaussianNB, MultinomialNB\n",
    "\n",
    "\n",
    "plt.style.use('ggplot')\n",
    "## Change title size of a plot\n",
    "mpl.rcParams['axes.titlesize'] = 22\n",
    "# Figure size\n",
    "mpl.rc(\"figure\", figsize = (15,7))\n",
    "## Change label size(x and y) of a plot\n",
    "mpl.rcParams['axes.labelsize'] = 18\n",
    "## Change xticks size of a plot\n",
    "mpl.rcParams['xtick.labelsize'] = 16\n",
    "## Change yticks size of a plot\n",
    "mpl.rcParams['ytick.labelsize'] = 16"
   ]
  },
  {
   "cell_type": "markdown",
   "metadata": {},
   "source": [
    "# 0.1 Functions created"
   ]
  },
  {
   "cell_type": "code",
   "execution_count": 5,
   "metadata": {},
   "outputs": [],
   "source": [
    "def process_data(df):\n",
    "    \n",
    "    # Empty dataframe\n",
    "    new_df = pd.DataFrame()\n",
    "\n",
    "    # Needed features\n",
    "    features = ['age', 'balance', 'day', 'duration', 'campaign', 'pdays']\n",
    "    features.extend(df.columns.values[17:])\n",
    "    \n",
    "    # storing selected columns in new dataframe\n",
    "    for feat in features:\n",
    "        new_df[feat] = df[feat]\n",
    "    \n",
    "    # Returning new dataframe\n",
    "    return new_df\n",
    "\n",
    "\n",
    "def classwise_accuracy(y_true, y_pred, flag = True):\n",
    "    \n",
    "    # Confusion matrix\n",
    "    cm = confusion_matrix(y_true, y_pred)\n",
    "\n",
    "    # Normalizing the entries in the matrix\n",
    "    cm = cm.astype('float') / cm.sum(axis = 1)[:, np.newaxis]\n",
    "\n",
    "    # Diagonal entries represent the accuracies of each class\n",
    "    print(\"Class 0 Accuracy : \", cm.diagonal()[0])\n",
    "    print(\"Class 1 Accuracy : \", cm.diagonal()[1])\n",
    "    \n",
    "    if flag:\n",
    "        print(\"\\n#############################################\\n\")"
   ]
  },
  {
   "cell_type": "markdown",
   "metadata": {},
   "source": [
    "# 1. Loading data"
   ]
  },
  {
   "cell_type": "code",
   "execution_count": 2,
   "metadata": {},
   "outputs": [],
   "source": [
    "# loading csv file as a dataframe\n",
    "data = pd.read_csv(\"DATA/bank-full.csv\", sep = \";\")"
   ]
  },
  {
   "cell_type": "markdown",
   "metadata": {},
   "source": [
    "# 2. Data exploring"
   ]
  },
  {
   "cell_type": "code",
   "execution_count": 3,
   "metadata": {},
   "outputs": [
    {
     "data": {
      "text/plain": [
       "(45211, 17)"
      ]
     },
     "execution_count": 3,
     "metadata": {},
     "output_type": "execute_result"
    }
   ],
   "source": [
    "# Number of observations and variables\n",
    "data.shape"
   ]
  },
  {
   "cell_type": "code",
   "execution_count": 4,
   "metadata": {},
   "outputs": [
    {
     "data": {
      "text/plain": [
       "Index(['age', 'job', 'marital', 'education', 'default', 'balance', 'housing',\n",
       "       'loan', 'contact', 'day', 'month', 'duration', 'campaign', 'pdays',\n",
       "       'previous', 'poutcome', 'y'],\n",
       "      dtype='object')"
      ]
     },
     "execution_count": 4,
     "metadata": {},
     "output_type": "execute_result"
    }
   ],
   "source": [
    "# List of variables\n",
    "data.columns"
   ]
  },
  {
   "cell_type": "markdown",
   "metadata": {},
   "source": [
    "## What variables represent?"
   ]
  },
  {
   "cell_type": "markdown",
   "metadata": {},
   "source": [
    "### Bank Client Data\n",
    "\n",
    "1 - age (**numeric**)\n",
    "\n",
    "2 - job : type of job (**categorical**: \"admin.\", \"unknown\", \"unemployed\", \"management\", \"housemaid\", \"entrepreneur\", \"student\",\n",
    "                        \"blue-collar\", \"self-employed\", \"retired\", \"technician\", \"services\") \n",
    "\n",
    "3 - marital : marital status (**categorical**: \"married\", \"divorced\", \"single\"; note: \"divorced\" means divorced or widowed)\n",
    "\n",
    "4 - education (**categorical**: \"unknown\", \"secondary\", \"primary\", \"tertiary\")\n",
    "\n",
    "5 - default: has credit in default? (**binary**: \"yes\", \"no\")\n",
    "\n",
    "6 - balance: average yearly balance, in euros (**numeric**) \n",
    "\n",
    "7 - housing: has housing loan? (**binary**: \"yes\", \"no\")\n",
    "\n",
    "8 - loan: has personal loan? (**binary**: \"yes\", \"no\")\n",
    "\n",
    "### Related with the last contact of the current campaign:\n",
    "\n",
    "9 - contact: contact communication type (**categorical**: \"unknown\", \"telephone\", \"cellular\") \n",
    "\n",
    "10 - day: last contact day of the month (**numeric**)\n",
    "\n",
    "11 - month: last contact month of year (**categorical**: \"jan\", \"feb\", \"mar\", ..., \"nov\", \"dec\")\n",
    "\n",
    "12 - duration: last contact duration, in seconds (**numeric**)\n",
    "\n",
    "### other attributes:\n",
    "\n",
    "13 - campaign: number of contacts performed during this campaign and for this client (**numeric**, includes last contact)\n",
    "\n",
    "14 - pdays: number of days that passed by after the client was last contacted from a previous campaign (**numeric**, -1 means client\n",
    "was not previously contacted)\n",
    "\n",
    "15 - previous: number of contacts performed before this campaign and for this client (**numeric**)\n",
    "\n",
    "16 - poutcome: outcome of the previous marketing campaign (**categorical**: \"unknown\", \"other\", \"failure\", \"success\")\n",
    "\n",
    "### Output variable (desired target):\n",
    "17 - y - has the client subscribed a term deposit? (**binary**: \"yes\", \"no\")"
   ]
  },
  {
   "cell_type": "code",
   "execution_count": 5,
   "metadata": {},
   "outputs": [
    {
     "name": "stdout",
     "output_type": "stream",
     "text": [
      "<class 'pandas.core.frame.DataFrame'>\n",
      "RangeIndex: 45211 entries, 0 to 45210\n",
      "Data columns (total 17 columns):\n",
      "age          45211 non-null int64\n",
      "job          45211 non-null object\n",
      "marital      45211 non-null object\n",
      "education    45211 non-null object\n",
      "default      45211 non-null object\n",
      "balance      45211 non-null int64\n",
      "housing      45211 non-null object\n",
      "loan         45211 non-null object\n",
      "contact      45211 non-null object\n",
      "day          45211 non-null int64\n",
      "month        45211 non-null object\n",
      "duration     45211 non-null int64\n",
      "campaign     45211 non-null int64\n",
      "pdays        45211 non-null int64\n",
      "previous     45211 non-null int64\n",
      "poutcome     45211 non-null object\n",
      "y            45211 non-null object\n",
      "dtypes: int64(7), object(10)\n",
      "memory usage: 5.9+ MB\n"
     ]
    }
   ],
   "source": [
    "# Information about the dataframe\n",
    "# null_counts = true, will not count rows which have missing values in it.\n",
    "data.info(null_counts = True)"
   ]
  },
  {
   "cell_type": "code",
   "execution_count": 6,
   "metadata": {},
   "outputs": [
    {
     "data": {
      "text/plain": [
       "age          False\n",
       "job          False\n",
       "marital      False\n",
       "education    False\n",
       "default      False\n",
       "balance      False\n",
       "housing      False\n",
       "loan         False\n",
       "contact      False\n",
       "day          False\n",
       "month        False\n",
       "duration     False\n",
       "campaign     False\n",
       "pdays        False\n",
       "previous     False\n",
       "poutcome     False\n",
       "y            False\n",
       "dtype: bool"
      ]
     },
     "execution_count": 6,
     "metadata": {},
     "output_type": "execute_result"
    }
   ],
   "source": [
    "# Checking for missing values\n",
    "data.isna().all()"
   ]
  },
  {
   "cell_type": "markdown",
   "metadata": {},
   "source": [
    "There are no missing values in any variables as mentioned by the data owner now I can carry out initial exploration using visualization after splitting data into 3 groups(training, validation and testing). "
   ]
  },
  {
   "cell_type": "markdown",
   "metadata": {},
   "source": [
    "### Some data preprocessing"
   ]
  },
  {
   "cell_type": "code",
   "execution_count": 7,
   "metadata": {},
   "outputs": [],
   "source": [
    "# Dummy variables for nominal columns\n",
    "dummy_cols = pd.get_dummies(data.loc[:, ['job', 'marital', 'education', 'month', 'poutcome']])\n",
    "\n",
    "# Label encoding for binary variables\n",
    "label_en = LabelEncoder()\n",
    "\n",
    "# Empty dataframe\n",
    "encoded_cols = pd.DataFrame()\n",
    "\n",
    "# Adding encoded columns\n",
    "encoded_cols['default_code'] = label_en.fit_transform(data['default'])\n",
    "encoded_cols['loan_code'] = label_en.fit_transform(data['loan'])\n",
    "encoded_cols['housing_code'] = label_en.fit_transform(data['housing'])\n",
    "encoded_cols['y_code'] = label_en.fit_transform(data['y'])\n",
    "\n",
    "# Creating new dataframe\n",
    "data_new = data.copy()\n",
    "data_new = data_new.join(dummy_cols)\n",
    "data_new = data_new.join(encoded_cols)"
   ]
  },
  {
   "cell_type": "markdown",
   "metadata": {},
   "source": [
    "### Splitting the data"
   ]
  },
  {
   "cell_type": "code",
   "execution_count": 8,
   "metadata": {},
   "outputs": [],
   "source": [
    "shuffled_data = shuffle(data_new, random_state = 73).reset_index(drop = True)\n",
    "\n",
    "# Splitting the dataframe in train, validate and test\n",
    "## Reference - https://docs.scipy.org/doc/numpy-1.10.1/reference/generated/numpy.split.html\n",
    "train_df, validate_df, test_df = np.split(\n",
    "                                          shuffled_data.sample(frac = 1), \n",
    "                                          [ int( 0.8 * len(shuffled_data) ), int( 0.9 * len(shuffled_data) ) ] \n",
    "                                         )"
   ]
  },
  {
   "cell_type": "markdown",
   "metadata": {},
   "source": [
    "### Storing the data in .CSV files"
   ]
  },
  {
   "cell_type": "code",
   "execution_count": 9,
   "metadata": {},
   "outputs": [],
   "source": [
    "train_df.to_csv(\"DATA/train.csv\", sep = \"\\t\", index = False)\n",
    "validate_df.to_csv(\"DATA/validate.csv\", sep = \"\\t\", index = False)\n",
    "test_df.to_csv(\"DATA/test.csv\", sep = \"\\t\", index = False)"
   ]
  },
  {
   "cell_type": "markdown",
   "metadata": {},
   "source": [
    "### Loading the data"
   ]
  },
  {
   "cell_type": "code",
   "execution_count": 2,
   "metadata": {},
   "outputs": [],
   "source": [
    "train_df = pd.read_csv(\"DATA/train.csv\", sep = \"\\t\")\n",
    "validate_df = pd.read_csv(\"DATA/validate.csv\", sep = \"\\t\")\n",
    "test_df = pd.read_csv(\"DATA/test.csv\", sep = \"\\t\")"
   ]
  },
  {
   "cell_type": "code",
   "execution_count": 3,
   "metadata": {},
   "outputs": [
    {
     "name": "stdout",
     "output_type": "stream",
     "text": [
      "Training dataset : (36168, 56)\n",
      "Validation dataset : (4521, 56)\n",
      "Testing dataset : (4522, 56)\n"
     ]
    }
   ],
   "source": [
    "print(\"Training dataset :\", train_df.shape)\n",
    "print(\"Validation dataset :\", validate_df.shape)\n",
    "print(\"Testing dataset :\", test_df.shape)"
   ]
  },
  {
   "cell_type": "markdown",
   "metadata": {},
   "source": [
    "## Data Summaries and Visualizations"
   ]
  },
  {
   "cell_type": "markdown",
   "metadata": {},
   "source": [
    "### age"
   ]
  },
  {
   "cell_type": "code",
   "execution_count": 106,
   "metadata": {},
   "outputs": [
    {
     "data": {
      "text/plain": [
       "count    36168.000000\n",
       "mean        40.942933\n",
       "std         10.619259\n",
       "min         18.000000\n",
       "25%         33.000000\n",
       "50%         39.000000\n",
       "75%         48.000000\n",
       "max         95.000000\n",
       "Name: age, dtype: float64"
      ]
     },
     "execution_count": 106,
     "metadata": {},
     "output_type": "execute_result"
    }
   ],
   "source": [
    "train_df[\"age\"].describe()"
   ]
  },
  {
   "cell_type": "code",
   "execution_count": 107,
   "metadata": {},
   "outputs": [
    {
     "data": {
      "image/png": "[encoded data removed]",
      "text/plain": [
       "<Figure size 1080x936 with 2 Axes>"
      ]
     },
     "metadata": {},
     "output_type": "display_data"
    }
   ],
   "source": [
    "%autoreload 2\n",
    "custom_functions.create_histogram_plus_boxplot(train_df[\"age\"], \"Age\", color = \"royalblue\", ylabel = \"Frequency\", \n",
    "                                               xlabel = \"Age in years\" , size = (15,13))"
   ]
  },
  {
   "cell_type": "code",
   "execution_count": 108,
   "metadata": {},
   "outputs": [
    {
     "name": "stdout",
     "output_type": "stream",
     "text": [
      "Number of outliers : 400\n"
     ]
    }
   ],
   "source": [
    "print(\"Number of outliers :\", train_df[train_df[\"age\"] > 70].shape[0])"
   ]
  },
  {
   "cell_type": "markdown",
   "metadata": {},
   "source": [
    "Distribution is right skewed which makes sense as there should be less participation from old people in such term deposit plan that's why there are outliers in the data. Observations where age is greater than 70 years(BY looking at the boxplot right hand whisker) are outliers, which is reasonable amount."
   ]
  },
  {
   "cell_type": "markdown",
   "metadata": {},
   "source": [
    "### job"
   ]
  },
  {
   "cell_type": "code",
   "execution_count": 109,
   "metadata": {},
   "outputs": [
    {
     "data": {
      "text/plain": [
       "blue-collar      7807\n",
       "management       7575\n",
       "technician       6048\n",
       "admin.           4141\n",
       "services         3286\n",
       "retired          1813\n",
       "self-employed    1280\n",
       "entrepreneur     1186\n",
       "unemployed       1042\n",
       "housemaid        1000\n",
       "student           753\n",
       "unknown           237\n",
       "Name: job, dtype: int64"
      ]
     },
     "execution_count": 109,
     "metadata": {},
     "output_type": "execute_result"
    }
   ],
   "source": [
    "# Frequency\n",
    "job_count_series = train_df[\"job\"].value_counts()\n",
    "job_count_series"
   ]
  },
  {
   "cell_type": "code",
   "execution_count": 110,
   "metadata": {},
   "outputs": [
    {
     "data": {
      "text/plain": [
       "blue-collar      21.585379\n",
       "management       20.943928\n",
       "technician       16.721964\n",
       "admin.           11.449347\n",
       "services          9.085379\n",
       "retired           5.012718\n",
       "self-employed     3.539040\n",
       "entrepreneur      3.279142\n",
       "unemployed        2.881000\n",
       "housemaid         2.764875\n",
       "student           2.081951\n",
       "unknown           0.655275\n",
       "Name: job, dtype: float64"
      ]
     },
     "execution_count": 110,
     "metadata": {},
     "output_type": "execute_result"
    }
   ],
   "source": [
    "# Percentage\n",
    "job_count_series/train_df.shape[0] * 100"
   ]
  },
  {
   "cell_type": "code",
   "execution_count": 111,
   "metadata": {},
   "outputs": [
    {
     "data": {
      "image/png": "[encoded data removed]",
      "text/plain": [
       "<Figure size 864x720 with 1 Axes>"
      ]
     },
     "metadata": {},
     "output_type": "display_data"
    }
   ],
   "source": [
    "# Barplot\n",
    "%autoreload 2\n",
    "custom_functions.barplot(job_count_series, \"Job\", \"Counts\", \"Job\", \n",
    "                         color = (\"salmon\", \"lightgreen\", \"cornflowerblue\",) * 4, labels = job_count_series.index, \n",
    "                         xrotation = 90)"
   ]
  },
  {
   "cell_type": "markdown",
   "metadata": {},
   "source": [
    "Most of the customers have blue-collar jobs or jobs in management. Very few Housemaid and stundents have bank accounts."
   ]
  },
  {
   "cell_type": "markdown",
   "metadata": {},
   "source": [
    "### marital"
   ]
  },
  {
   "cell_type": "code",
   "execution_count": 112,
   "metadata": {},
   "outputs": [
    {
     "data": {
      "text/plain": [
       "married     21787\n",
       "single      10215\n",
       "divorced     4166\n",
       "Name: marital, dtype: int64"
      ]
     },
     "execution_count": 112,
     "metadata": {},
     "output_type": "execute_result"
    }
   ],
   "source": [
    "# Frequency\n",
    "marital_count_series = train_df[\"marital\"].value_counts()\n",
    "marital_count_series"
   ]
  },
  {
   "cell_type": "code",
   "execution_count": 113,
   "metadata": {},
   "outputs": [
    {
     "data": {
      "text/plain": [
       "married     60.238332\n",
       "single      28.243198\n",
       "divorced    11.518469\n",
       "Name: marital, dtype: float64"
      ]
     },
     "execution_count": 113,
     "metadata": {},
     "output_type": "execute_result"
    }
   ],
   "source": [
    "# Percentage\n",
    "marital_count_series/train_df.shape[0] * 100"
   ]
  },
  {
   "cell_type": "code",
   "execution_count": 114,
   "metadata": {},
   "outputs": [
    {
     "data": {
      "image/png": "[encoded data removed]",
      "text/plain": [
       "<Figure size 1080x504 with 1 Axes>"
      ]
     },
     "metadata": {},
     "output_type": "display_data"
    }
   ],
   "source": [
    "# Donut Chart\n",
    "plt.pie(marital_count_series, colors = [\"orange\", \"royalblue\", \"seagreen\"], labels = [\"Married\", \"Single\", \"Divorced\"], \n",
    "        autopct = '%1.1f%%', startangle = 90, pctdistance = 0.80, textprops = {\"fontsize\" : 18})\n",
    "plt.gca().add_artist(plt.Circle((0, 0), 0.60, fc = 'white'));\n",
    "plt.title(\"Marital Status\")\n",
    "plt.show()"
   ]
  },
  {
   "cell_type": "markdown",
   "metadata": {},
   "source": [
    "Most of the account holders are married."
   ]
  },
  {
   "cell_type": "markdown",
   "metadata": {},
   "source": [
    "### education"
   ]
  },
  {
   "cell_type": "code",
   "execution_count": 115,
   "metadata": {},
   "outputs": [
    {
     "data": {
      "text/plain": [
       "secondary    18528\n",
       "tertiary     10681\n",
       "primary       5473\n",
       "unknown       1486\n",
       "Name: education, dtype: int64"
      ]
     },
     "execution_count": 115,
     "metadata": {},
     "output_type": "execute_result"
    }
   ],
   "source": [
    "# Frequency\n",
    "edu_count_series = train_df[\"education\"].value_counts()\n",
    "edu_count_series"
   ]
  },
  {
   "cell_type": "code",
   "execution_count": 116,
   "metadata": {},
   "outputs": [
    {
     "data": {
      "text/plain": [
       "secondary    51.227605\n",
       "tertiary     29.531630\n",
       "primary      15.132161\n",
       "unknown       4.108604\n",
       "Name: education, dtype: float64"
      ]
     },
     "execution_count": 116,
     "metadata": {},
     "output_type": "execute_result"
    }
   ],
   "source": [
    "# Percentage\n",
    "edu_count_series/train_df.shape[0] * 100"
   ]
  },
  {
   "cell_type": "code",
   "execution_count": 117,
   "metadata": {},
   "outputs": [
    {
     "data": {
      "image/png": "[encoded data removed]",
      "text/plain": [
       "<Figure size 864x720 with 1 Axes>"
      ]
     },
     "metadata": {},
     "output_type": "display_data"
    }
   ],
   "source": [
    "# Barplot\n",
    "%autoreload 2\n",
    "custom_functions.barplot(edu_count_series, \"Level of Education\", \"Counts\", \"Level of Education\", \n",
    "                         color = (\"orange\", \"mediumseagreen\", \"skyblue\", \"pink\"), labels = edu_count_series.index)"
   ]
  },
  {
   "cell_type": "markdown",
   "metadata": {},
   "source": [
    "Most of the account holders have secondary educations followed by customers who have tertiary education."
   ]
  },
  {
   "cell_type": "markdown",
   "metadata": {},
   "source": [
    "### default"
   ]
  },
  {
   "cell_type": "code",
   "execution_count": 118,
   "metadata": {},
   "outputs": [
    {
     "data": {
      "text/plain": [
       "no     35501\n",
       "yes      667\n",
       "Name: default, dtype: int64"
      ]
     },
     "execution_count": 118,
     "metadata": {},
     "output_type": "execute_result"
    }
   ],
   "source": [
    "# Frequency\n",
    "default_count_series = train_df[\"default\"].value_counts()\n",
    "default_count_series"
   ]
  },
  {
   "cell_type": "code",
   "execution_count": 119,
   "metadata": {},
   "outputs": [
    {
     "data": {
      "text/plain": [
       "no     98.155828\n",
       "yes     1.844172\n",
       "Name: default, dtype: float64"
      ]
     },
     "execution_count": 119,
     "metadata": {},
     "output_type": "execute_result"
    }
   ],
   "source": [
    "# Percentage\n",
    "default_count_series/train_df.shape[0] * 100"
   ]
  },
  {
   "cell_type": "code",
   "execution_count": 120,
   "metadata": {},
   "outputs": [
    {
     "data": {
      "image/png": "[encoded data removed]",
      "text/plain": [
       "<Figure size 864x720 with 1 Axes>"
      ]
     },
     "metadata": {},
     "output_type": "display_data"
    }
   ],
   "source": [
    "# Barplot\n",
    "%autoreload 2\n",
    "custom_functions.barplot(default_count_series, \"Default Credit\", \"Counts\", \"Default Credit\", color = (\"royalblue\", \"tomato\"), \n",
    "                         labels = default_count_series.index)"
   ]
  },
  {
   "cell_type": "markdown",
   "metadata": {},
   "source": [
    "Nearly 1.8% of the account holders were failed to repay a debt back to the bank."
   ]
  },
  {
   "cell_type": "markdown",
   "metadata": {},
   "source": [
    "### balance"
   ]
  },
  {
   "cell_type": "code",
   "execution_count": 121,
   "metadata": {},
   "outputs": [
    {
     "data": {
      "text/plain": [
       "count     36168.000000\n",
       "mean       1362.970831\n",
       "std        3067.959716\n",
       "min       -8019.000000\n",
       "25%          73.000000\n",
       "50%         448.000000\n",
       "75%        1429.000000\n",
       "max      102127.000000\n",
       "Name: balance, dtype: float64"
      ]
     },
     "execution_count": 121,
     "metadata": {},
     "output_type": "execute_result"
    }
   ],
   "source": [
    "train_df[\"balance\"].describe()"
   ]
  },
  {
   "cell_type": "code",
   "execution_count": 122,
   "metadata": {},
   "outputs": [
    {
     "data": {
      "image/png": "[encoded data removed]",
      "text/plain": [
       "<Figure size 1080x936 with 2 Axes>"
      ]
     },
     "metadata": {},
     "output_type": "display_data"
    }
   ],
   "source": [
    "%autoreload 2\n",
    "custom_functions.create_histogram_plus_boxplot(train_df[\"balance\"], \"Account Balance\", color = \"purple\", \n",
    "                                               ylabel = \"Frequency\", xlabel = \"Balance in euros\" , size = (15, 13))"
   ]
  },
  {
   "cell_type": "markdown",
   "metadata": {},
   "source": [
    "As we can see there are many outliers in the balance variable, by looking at the boxplot above we can say that amount greater than 40k can be ruled as extreme. Let's have a look at those account holders."
   ]
  },
  {
   "cell_type": "code",
   "execution_count": 123,
   "metadata": {},
   "outputs": [
    {
     "data": {
      "text/html": [
       "<div>\n",
       "<style scoped>\n",
       "    .dataframe tbody tr th:only-of-type {\n",
       "        vertical-align: middle;\n",
       "    }\n",
       "\n",
       "    .dataframe tbody tr th {\n",
       "        vertical-align: top;\n",
       "    }\n",
       "\n",
       "    .dataframe thead th {\n",
       "        text-align: right;\n",
       "    }\n",
       "</style>\n",
       "<table border=\"1\" class=\"dataframe\">\n",
       "  <thead>\n",
       "    <tr style=\"text-align: right;\">\n",
       "      <th></th>\n",
       "      <th>age</th>\n",
       "      <th>job</th>\n",
       "      <th>marital</th>\n",
       "      <th>education</th>\n",
       "      <th>default</th>\n",
       "      <th>balance</th>\n",
       "      <th>housing</th>\n",
       "      <th>loan</th>\n",
       "      <th>contact</th>\n",
       "      <th>day</th>\n",
       "      <th>month</th>\n",
       "      <th>duration</th>\n",
       "      <th>campaign</th>\n",
       "      <th>pdays</th>\n",
       "      <th>previous</th>\n",
       "      <th>poutcome</th>\n",
       "      <th>y</th>\n",
       "    </tr>\n",
       "  </thead>\n",
       "  <tbody>\n",
       "    <tr>\n",
       "      <th>506</th>\n",
       "      <td>61</td>\n",
       "      <td>self-employed</td>\n",
       "      <td>divorced</td>\n",
       "      <td>tertiary</td>\n",
       "      <td>no</td>\n",
       "      <td>52587</td>\n",
       "      <td>no</td>\n",
       "      <td>no</td>\n",
       "      <td>cellular</td>\n",
       "      <td>15</td>\n",
       "      <td>feb</td>\n",
       "      <td>394</td>\n",
       "      <td>3</td>\n",
       "      <td>189</td>\n",
       "      <td>1</td>\n",
       "      <td>success</td>\n",
       "      <td>yes</td>\n",
       "    </tr>\n",
       "    <tr>\n",
       "      <th>2448</th>\n",
       "      <td>56</td>\n",
       "      <td>entrepreneur</td>\n",
       "      <td>married</td>\n",
       "      <td>tertiary</td>\n",
       "      <td>no</td>\n",
       "      <td>51439</td>\n",
       "      <td>no</td>\n",
       "      <td>yes</td>\n",
       "      <td>cellular</td>\n",
       "      <td>8</td>\n",
       "      <td>jul</td>\n",
       "      <td>325</td>\n",
       "      <td>1</td>\n",
       "      <td>-1</td>\n",
       "      <td>0</td>\n",
       "      <td>unknown</td>\n",
       "      <td>no</td>\n",
       "    </tr>\n",
       "    <tr>\n",
       "      <th>2489</th>\n",
       "      <td>50</td>\n",
       "      <td>services</td>\n",
       "      <td>married</td>\n",
       "      <td>secondary</td>\n",
       "      <td>no</td>\n",
       "      <td>57435</td>\n",
       "      <td>yes</td>\n",
       "      <td>no</td>\n",
       "      <td>cellular</td>\n",
       "      <td>21</td>\n",
       "      <td>nov</td>\n",
       "      <td>319</td>\n",
       "      <td>3</td>\n",
       "      <td>-1</td>\n",
       "      <td>0</td>\n",
       "      <td>unknown</td>\n",
       "      <td>no</td>\n",
       "    </tr>\n",
       "    <tr>\n",
       "      <th>4012</th>\n",
       "      <td>59</td>\n",
       "      <td>unemployed</td>\n",
       "      <td>divorced</td>\n",
       "      <td>secondary</td>\n",
       "      <td>no</td>\n",
       "      <td>44134</td>\n",
       "      <td>no</td>\n",
       "      <td>no</td>\n",
       "      <td>cellular</td>\n",
       "      <td>3</td>\n",
       "      <td>feb</td>\n",
       "      <td>117</td>\n",
       "      <td>1</td>\n",
       "      <td>-1</td>\n",
       "      <td>0</td>\n",
       "      <td>unknown</td>\n",
       "      <td>no</td>\n",
       "    </tr>\n",
       "    <tr>\n",
       "      <th>4298</th>\n",
       "      <td>40</td>\n",
       "      <td>management</td>\n",
       "      <td>married</td>\n",
       "      <td>tertiary</td>\n",
       "      <td>no</td>\n",
       "      <td>52527</td>\n",
       "      <td>no</td>\n",
       "      <td>no</td>\n",
       "      <td>cellular</td>\n",
       "      <td>21</td>\n",
       "      <td>aug</td>\n",
       "      <td>140</td>\n",
       "      <td>11</td>\n",
       "      <td>-1</td>\n",
       "      <td>0</td>\n",
       "      <td>unknown</td>\n",
       "      <td>no</td>\n",
       "    </tr>\n",
       "    <tr>\n",
       "      <th>6498</th>\n",
       "      <td>60</td>\n",
       "      <td>retired</td>\n",
       "      <td>married</td>\n",
       "      <td>primary</td>\n",
       "      <td>no</td>\n",
       "      <td>71188</td>\n",
       "      <td>no</td>\n",
       "      <td>no</td>\n",
       "      <td>cellular</td>\n",
       "      <td>6</td>\n",
       "      <td>oct</td>\n",
       "      <td>205</td>\n",
       "      <td>1</td>\n",
       "      <td>-1</td>\n",
       "      <td>0</td>\n",
       "      <td>unknown</td>\n",
       "      <td>no</td>\n",
       "    </tr>\n",
       "    <tr>\n",
       "      <th>15201</th>\n",
       "      <td>56</td>\n",
       "      <td>management</td>\n",
       "      <td>divorced</td>\n",
       "      <td>tertiary</td>\n",
       "      <td>no</td>\n",
       "      <td>66721</td>\n",
       "      <td>no</td>\n",
       "      <td>no</td>\n",
       "      <td>cellular</td>\n",
       "      <td>8</td>\n",
       "      <td>aug</td>\n",
       "      <td>442</td>\n",
       "      <td>2</td>\n",
       "      <td>-1</td>\n",
       "      <td>0</td>\n",
       "      <td>unknown</td>\n",
       "      <td>no</td>\n",
       "    </tr>\n",
       "    <tr>\n",
       "      <th>17912</th>\n",
       "      <td>32</td>\n",
       "      <td>entrepreneur</td>\n",
       "      <td>single</td>\n",
       "      <td>tertiary</td>\n",
       "      <td>no</td>\n",
       "      <td>59649</td>\n",
       "      <td>no</td>\n",
       "      <td>no</td>\n",
       "      <td>cellular</td>\n",
       "      <td>1</td>\n",
       "      <td>sep</td>\n",
       "      <td>69</td>\n",
       "      <td>2</td>\n",
       "      <td>-1</td>\n",
       "      <td>0</td>\n",
       "      <td>unknown</td>\n",
       "      <td>no</td>\n",
       "    </tr>\n",
       "    <tr>\n",
       "      <th>18692</th>\n",
       "      <td>51</td>\n",
       "      <td>management</td>\n",
       "      <td>single</td>\n",
       "      <td>tertiary</td>\n",
       "      <td>no</td>\n",
       "      <td>102127</td>\n",
       "      <td>no</td>\n",
       "      <td>no</td>\n",
       "      <td>cellular</td>\n",
       "      <td>3</td>\n",
       "      <td>jun</td>\n",
       "      <td>90</td>\n",
       "      <td>1</td>\n",
       "      <td>-1</td>\n",
       "      <td>0</td>\n",
       "      <td>unknown</td>\n",
       "      <td>no</td>\n",
       "    </tr>\n",
       "    <tr>\n",
       "      <th>19671</th>\n",
       "      <td>56</td>\n",
       "      <td>blue-collar</td>\n",
       "      <td>married</td>\n",
       "      <td>secondary</td>\n",
       "      <td>no</td>\n",
       "      <td>58932</td>\n",
       "      <td>no</td>\n",
       "      <td>no</td>\n",
       "      <td>telephone</td>\n",
       "      <td>7</td>\n",
       "      <td>jul</td>\n",
       "      <td>339</td>\n",
       "      <td>2</td>\n",
       "      <td>-1</td>\n",
       "      <td>0</td>\n",
       "      <td>unknown</td>\n",
       "      <td>no</td>\n",
       "    </tr>\n",
       "    <tr>\n",
       "      <th>21064</th>\n",
       "      <td>84</td>\n",
       "      <td>retired</td>\n",
       "      <td>married</td>\n",
       "      <td>secondary</td>\n",
       "      <td>no</td>\n",
       "      <td>81204</td>\n",
       "      <td>no</td>\n",
       "      <td>no</td>\n",
       "      <td>telephone</td>\n",
       "      <td>28</td>\n",
       "      <td>dec</td>\n",
       "      <td>679</td>\n",
       "      <td>1</td>\n",
       "      <td>313</td>\n",
       "      <td>2</td>\n",
       "      <td>other</td>\n",
       "      <td>yes</td>\n",
       "    </tr>\n",
       "    <tr>\n",
       "      <th>21222</th>\n",
       "      <td>55</td>\n",
       "      <td>entrepreneur</td>\n",
       "      <td>married</td>\n",
       "      <td>tertiary</td>\n",
       "      <td>no</td>\n",
       "      <td>41923</td>\n",
       "      <td>no</td>\n",
       "      <td>no</td>\n",
       "      <td>cellular</td>\n",
       "      <td>6</td>\n",
       "      <td>aug</td>\n",
       "      <td>69</td>\n",
       "      <td>3</td>\n",
       "      <td>-1</td>\n",
       "      <td>0</td>\n",
       "      <td>unknown</td>\n",
       "      <td>no</td>\n",
       "    </tr>\n",
       "    <tr>\n",
       "      <th>23020</th>\n",
       "      <td>44</td>\n",
       "      <td>admin.</td>\n",
       "      <td>married</td>\n",
       "      <td>secondary</td>\n",
       "      <td>no</td>\n",
       "      <td>58544</td>\n",
       "      <td>yes</td>\n",
       "      <td>no</td>\n",
       "      <td>unknown</td>\n",
       "      <td>7</td>\n",
       "      <td>may</td>\n",
       "      <td>144</td>\n",
       "      <td>2</td>\n",
       "      <td>-1</td>\n",
       "      <td>0</td>\n",
       "      <td>unknown</td>\n",
       "      <td>no</td>\n",
       "    </tr>\n",
       "    <tr>\n",
       "      <th>24656</th>\n",
       "      <td>42</td>\n",
       "      <td>entrepreneur</td>\n",
       "      <td>married</td>\n",
       "      <td>tertiary</td>\n",
       "      <td>no</td>\n",
       "      <td>42045</td>\n",
       "      <td>no</td>\n",
       "      <td>no</td>\n",
       "      <td>cellular</td>\n",
       "      <td>8</td>\n",
       "      <td>aug</td>\n",
       "      <td>205</td>\n",
       "      <td>2</td>\n",
       "      <td>-1</td>\n",
       "      <td>0</td>\n",
       "      <td>unknown</td>\n",
       "      <td>no</td>\n",
       "    </tr>\n",
       "    <tr>\n",
       "      <th>25431</th>\n",
       "      <td>58</td>\n",
       "      <td>entrepreneur</td>\n",
       "      <td>married</td>\n",
       "      <td>primary</td>\n",
       "      <td>no</td>\n",
       "      <td>52499</td>\n",
       "      <td>no</td>\n",
       "      <td>no</td>\n",
       "      <td>unknown</td>\n",
       "      <td>6</td>\n",
       "      <td>jun</td>\n",
       "      <td>198</td>\n",
       "      <td>2</td>\n",
       "      <td>-1</td>\n",
       "      <td>0</td>\n",
       "      <td>unknown</td>\n",
       "      <td>no</td>\n",
       "    </tr>\n",
       "    <tr>\n",
       "      <th>27202</th>\n",
       "      <td>39</td>\n",
       "      <td>technician</td>\n",
       "      <td>single</td>\n",
       "      <td>unknown</td>\n",
       "      <td>no</td>\n",
       "      <td>45248</td>\n",
       "      <td>yes</td>\n",
       "      <td>no</td>\n",
       "      <td>unknown</td>\n",
       "      <td>6</td>\n",
       "      <td>may</td>\n",
       "      <td>1623</td>\n",
       "      <td>1</td>\n",
       "      <td>-1</td>\n",
       "      <td>0</td>\n",
       "      <td>unknown</td>\n",
       "      <td>yes</td>\n",
       "    </tr>\n",
       "    <tr>\n",
       "      <th>27369</th>\n",
       "      <td>59</td>\n",
       "      <td>housemaid</td>\n",
       "      <td>divorced</td>\n",
       "      <td>secondary</td>\n",
       "      <td>no</td>\n",
       "      <td>45141</td>\n",
       "      <td>no</td>\n",
       "      <td>no</td>\n",
       "      <td>unknown</td>\n",
       "      <td>6</td>\n",
       "      <td>jun</td>\n",
       "      <td>42</td>\n",
       "      <td>1</td>\n",
       "      <td>-1</td>\n",
       "      <td>0</td>\n",
       "      <td>unknown</td>\n",
       "      <td>no</td>\n",
       "    </tr>\n",
       "    <tr>\n",
       "      <th>27724</th>\n",
       "      <td>43</td>\n",
       "      <td>admin.</td>\n",
       "      <td>single</td>\n",
       "      <td>secondary</td>\n",
       "      <td>no</td>\n",
       "      <td>56831</td>\n",
       "      <td>no</td>\n",
       "      <td>no</td>\n",
       "      <td>unknown</td>\n",
       "      <td>15</td>\n",
       "      <td>may</td>\n",
       "      <td>243</td>\n",
       "      <td>1</td>\n",
       "      <td>-1</td>\n",
       "      <td>0</td>\n",
       "      <td>unknown</td>\n",
       "      <td>no</td>\n",
       "    </tr>\n",
       "    <tr>\n",
       "      <th>29541</th>\n",
       "      <td>38</td>\n",
       "      <td>admin.</td>\n",
       "      <td>single</td>\n",
       "      <td>tertiary</td>\n",
       "      <td>no</td>\n",
       "      <td>45789</td>\n",
       "      <td>no</td>\n",
       "      <td>no</td>\n",
       "      <td>telephone</td>\n",
       "      <td>21</td>\n",
       "      <td>jul</td>\n",
       "      <td>21</td>\n",
       "      <td>31</td>\n",
       "      <td>-1</td>\n",
       "      <td>0</td>\n",
       "      <td>unknown</td>\n",
       "      <td>no</td>\n",
       "    </tr>\n",
       "    <tr>\n",
       "      <th>30519</th>\n",
       "      <td>55</td>\n",
       "      <td>management</td>\n",
       "      <td>single</td>\n",
       "      <td>tertiary</td>\n",
       "      <td>no</td>\n",
       "      <td>43074</td>\n",
       "      <td>yes</td>\n",
       "      <td>no</td>\n",
       "      <td>cellular</td>\n",
       "      <td>25</td>\n",
       "      <td>aug</td>\n",
       "      <td>92</td>\n",
       "      <td>6</td>\n",
       "      <td>-1</td>\n",
       "      <td>0</td>\n",
       "      <td>unknown</td>\n",
       "      <td>no</td>\n",
       "    </tr>\n",
       "    <tr>\n",
       "      <th>32412</th>\n",
       "      <td>59</td>\n",
       "      <td>retired</td>\n",
       "      <td>married</td>\n",
       "      <td>tertiary</td>\n",
       "      <td>no</td>\n",
       "      <td>41242</td>\n",
       "      <td>no</td>\n",
       "      <td>no</td>\n",
       "      <td>cellular</td>\n",
       "      <td>21</td>\n",
       "      <td>nov</td>\n",
       "      <td>161</td>\n",
       "      <td>1</td>\n",
       "      <td>-1</td>\n",
       "      <td>0</td>\n",
       "      <td>unknown</td>\n",
       "      <td>no</td>\n",
       "    </tr>\n",
       "    <tr>\n",
       "      <th>32521</th>\n",
       "      <td>59</td>\n",
       "      <td>management</td>\n",
       "      <td>married</td>\n",
       "      <td>tertiary</td>\n",
       "      <td>no</td>\n",
       "      <td>98417</td>\n",
       "      <td>no</td>\n",
       "      <td>no</td>\n",
       "      <td>telephone</td>\n",
       "      <td>20</td>\n",
       "      <td>nov</td>\n",
       "      <td>145</td>\n",
       "      <td>5</td>\n",
       "      <td>-1</td>\n",
       "      <td>0</td>\n",
       "      <td>unknown</td>\n",
       "      <td>no</td>\n",
       "    </tr>\n",
       "    <tr>\n",
       "      <th>34495</th>\n",
       "      <td>59</td>\n",
       "      <td>admin.</td>\n",
       "      <td>married</td>\n",
       "      <td>unknown</td>\n",
       "      <td>no</td>\n",
       "      <td>64343</td>\n",
       "      <td>no</td>\n",
       "      <td>no</td>\n",
       "      <td>cellular</td>\n",
       "      <td>6</td>\n",
       "      <td>aug</td>\n",
       "      <td>45</td>\n",
       "      <td>4</td>\n",
       "      <td>-1</td>\n",
       "      <td>0</td>\n",
       "      <td>unknown</td>\n",
       "      <td>no</td>\n",
       "    </tr>\n",
       "  </tbody>\n",
       "</table>\n",
       "</div>"
      ],
      "text/plain": [
       "       age            job   marital  education default  balance housing loan  \\\n",
       "506     61  self-employed  divorced   tertiary      no    52587      no   no   \n",
       "2448    56   entrepreneur   married   tertiary      no    51439      no  yes   \n",
       "2489    50       services   married  secondary      no    57435     yes   no   \n",
       "4012    59     unemployed  divorced  secondary      no    44134      no   no   \n",
       "4298    40     management   married   tertiary      no    52527      no   no   \n",
       "6498    60        retired   married    primary      no    71188      no   no   \n",
       "15201   56     management  divorced   tertiary      no    66721      no   no   \n",
       "17912   32   entrepreneur    single   tertiary      no    59649      no   no   \n",
       "18692   51     management    single   tertiary      no   102127      no   no   \n",
       "19671   56    blue-collar   married  secondary      no    58932      no   no   \n",
       "21064   84        retired   married  secondary      no    81204      no   no   \n",
       "21222   55   entrepreneur   married   tertiary      no    41923      no   no   \n",
       "23020   44         admin.   married  secondary      no    58544     yes   no   \n",
       "24656   42   entrepreneur   married   tertiary      no    42045      no   no   \n",
       "25431   58   entrepreneur   married    primary      no    52499      no   no   \n",
       "27202   39     technician    single    unknown      no    45248     yes   no   \n",
       "27369   59      housemaid  divorced  secondary      no    45141      no   no   \n",
       "27724   43         admin.    single  secondary      no    56831      no   no   \n",
       "29541   38         admin.    single   tertiary      no    45789      no   no   \n",
       "30519   55     management    single   tertiary      no    43074     yes   no   \n",
       "32412   59        retired   married   tertiary      no    41242      no   no   \n",
       "32521   59     management   married   tertiary      no    98417      no   no   \n",
       "34495   59         admin.   married    unknown      no    64343      no   no   \n",
       "\n",
       "         contact  day month  duration  campaign  pdays  previous poutcome    y  \n",
       "506     cellular   15   feb       394         3    189         1  success  yes  \n",
       "2448    cellular    8   jul       325         1     -1         0  unknown   no  \n",
       "2489    cellular   21   nov       319         3     -1         0  unknown   no  \n",
       "4012    cellular    3   feb       117         1     -1         0  unknown   no  \n",
       "4298    cellular   21   aug       140        11     -1         0  unknown   no  \n",
       "6498    cellular    6   oct       205         1     -1         0  unknown   no  \n",
       "15201   cellular    8   aug       442         2     -1         0  unknown   no  \n",
       "17912   cellular    1   sep        69         2     -1         0  unknown   no  \n",
       "18692   cellular    3   jun        90         1     -1         0  unknown   no  \n",
       "19671  telephone    7   jul       339         2     -1         0  unknown   no  \n",
       "21064  telephone   28   dec       679         1    313         2    other  yes  \n",
       "21222   cellular    6   aug        69         3     -1         0  unknown   no  \n",
       "23020    unknown    7   may       144         2     -1         0  unknown   no  \n",
       "24656   cellular    8   aug       205         2     -1         0  unknown   no  \n",
       "25431    unknown    6   jun       198         2     -1         0  unknown   no  \n",
       "27202    unknown    6   may      1623         1     -1         0  unknown  yes  \n",
       "27369    unknown    6   jun        42         1     -1         0  unknown   no  \n",
       "27724    unknown   15   may       243         1     -1         0  unknown   no  \n",
       "29541  telephone   21   jul        21        31     -1         0  unknown   no  \n",
       "30519   cellular   25   aug        92         6     -1         0  unknown   no  \n",
       "32412   cellular   21   nov       161         1     -1         0  unknown   no  \n",
       "32521  telephone   20   nov       145         5     -1         0  unknown   no  \n",
       "34495   cellular    6   aug        45         4     -1         0  unknown   no  "
      ]
     },
     "execution_count": 123,
     "metadata": {},
     "output_type": "execute_result"
    }
   ],
   "source": [
    "train_df[train_df[\"balance\"] > 40000].iloc[:,:17]"
   ]
  },
  {
   "cell_type": "markdown",
   "metadata": {},
   "source": [
    "There are many outliers in account balance variable. Most extremes(approx. 20) outliers are where the account balance is greater than 40,000 EUROS. All other columns seem valid so I will keep the outliers as they are because they represent the nature of the distribution. Most of the high balance account holders are in management jobs or retired and had tertiary education. Most of the account holders are married as well as they dont have default credit(given high balance). Most of them have neither have personal or home loan(given high balance). "
   ]
  },
  {
   "cell_type": "code",
   "execution_count": 124,
   "metadata": {},
   "outputs": [
    {
     "data": {
      "text/html": [
       "<div>\n",
       "<style scoped>\n",
       "    .dataframe tbody tr th:only-of-type {\n",
       "        vertical-align: middle;\n",
       "    }\n",
       "\n",
       "    .dataframe tbody tr th {\n",
       "        vertical-align: top;\n",
       "    }\n",
       "\n",
       "    .dataframe thead th {\n",
       "        text-align: right;\n",
       "    }\n",
       "</style>\n",
       "<table border=\"1\" class=\"dataframe\">\n",
       "  <thead>\n",
       "    <tr style=\"text-align: right;\">\n",
       "      <th></th>\n",
       "      <th>age</th>\n",
       "      <th>job</th>\n",
       "      <th>marital</th>\n",
       "      <th>education</th>\n",
       "      <th>default</th>\n",
       "      <th>balance</th>\n",
       "      <th>housing</th>\n",
       "      <th>loan</th>\n",
       "      <th>contact</th>\n",
       "      <th>day</th>\n",
       "      <th>month</th>\n",
       "      <th>duration</th>\n",
       "      <th>campaign</th>\n",
       "      <th>pdays</th>\n",
       "      <th>previous</th>\n",
       "      <th>poutcome</th>\n",
       "      <th>y</th>\n",
       "    </tr>\n",
       "  </thead>\n",
       "  <tbody>\n",
       "    <tr>\n",
       "      <th>0</th>\n",
       "      <td>56</td>\n",
       "      <td>management</td>\n",
       "      <td>divorced</td>\n",
       "      <td>tertiary</td>\n",
       "      <td>no</td>\n",
       "      <td>-141</td>\n",
       "      <td>no</td>\n",
       "      <td>no</td>\n",
       "      <td>cellular</td>\n",
       "      <td>28</td>\n",
       "      <td>jul</td>\n",
       "      <td>101</td>\n",
       "      <td>4</td>\n",
       "      <td>-1</td>\n",
       "      <td>0</td>\n",
       "      <td>unknown</td>\n",
       "      <td>no</td>\n",
       "    </tr>\n",
       "    <tr>\n",
       "      <th>7</th>\n",
       "      <td>38</td>\n",
       "      <td>management</td>\n",
       "      <td>single</td>\n",
       "      <td>tertiary</td>\n",
       "      <td>no</td>\n",
       "      <td>-476</td>\n",
       "      <td>yes</td>\n",
       "      <td>no</td>\n",
       "      <td>cellular</td>\n",
       "      <td>28</td>\n",
       "      <td>jul</td>\n",
       "      <td>76</td>\n",
       "      <td>2</td>\n",
       "      <td>-1</td>\n",
       "      <td>0</td>\n",
       "      <td>unknown</td>\n",
       "      <td>no</td>\n",
       "    </tr>\n",
       "    <tr>\n",
       "      <th>11</th>\n",
       "      <td>31</td>\n",
       "      <td>management</td>\n",
       "      <td>married</td>\n",
       "      <td>tertiary</td>\n",
       "      <td>no</td>\n",
       "      <td>-513</td>\n",
       "      <td>no</td>\n",
       "      <td>yes</td>\n",
       "      <td>cellular</td>\n",
       "      <td>7</td>\n",
       "      <td>jul</td>\n",
       "      <td>124</td>\n",
       "      <td>1</td>\n",
       "      <td>-1</td>\n",
       "      <td>0</td>\n",
       "      <td>unknown</td>\n",
       "      <td>no</td>\n",
       "    </tr>\n",
       "    <tr>\n",
       "      <th>27</th>\n",
       "      <td>26</td>\n",
       "      <td>services</td>\n",
       "      <td>married</td>\n",
       "      <td>secondary</td>\n",
       "      <td>no</td>\n",
       "      <td>-379</td>\n",
       "      <td>yes</td>\n",
       "      <td>yes</td>\n",
       "      <td>cellular</td>\n",
       "      <td>22</td>\n",
       "      <td>jul</td>\n",
       "      <td>1237</td>\n",
       "      <td>7</td>\n",
       "      <td>-1</td>\n",
       "      <td>0</td>\n",
       "      <td>unknown</td>\n",
       "      <td>yes</td>\n",
       "    </tr>\n",
       "    <tr>\n",
       "      <th>50</th>\n",
       "      <td>36</td>\n",
       "      <td>blue-collar</td>\n",
       "      <td>married</td>\n",
       "      <td>primary</td>\n",
       "      <td>no</td>\n",
       "      <td>-608</td>\n",
       "      <td>yes</td>\n",
       "      <td>no</td>\n",
       "      <td>cellular</td>\n",
       "      <td>11</td>\n",
       "      <td>jul</td>\n",
       "      <td>135</td>\n",
       "      <td>2</td>\n",
       "      <td>-1</td>\n",
       "      <td>0</td>\n",
       "      <td>unknown</td>\n",
       "      <td>no</td>\n",
       "    </tr>\n",
       "    <tr>\n",
       "      <th>91</th>\n",
       "      <td>37</td>\n",
       "      <td>services</td>\n",
       "      <td>married</td>\n",
       "      <td>secondary</td>\n",
       "      <td>no</td>\n",
       "      <td>-58</td>\n",
       "      <td>yes</td>\n",
       "      <td>no</td>\n",
       "      <td>unknown</td>\n",
       "      <td>16</td>\n",
       "      <td>jun</td>\n",
       "      <td>146</td>\n",
       "      <td>3</td>\n",
       "      <td>-1</td>\n",
       "      <td>0</td>\n",
       "      <td>unknown</td>\n",
       "      <td>no</td>\n",
       "    </tr>\n",
       "    <tr>\n",
       "      <th>95</th>\n",
       "      <td>34</td>\n",
       "      <td>management</td>\n",
       "      <td>married</td>\n",
       "      <td>tertiary</td>\n",
       "      <td>no</td>\n",
       "      <td>-85</td>\n",
       "      <td>no</td>\n",
       "      <td>no</td>\n",
       "      <td>cellular</td>\n",
       "      <td>18</td>\n",
       "      <td>nov</td>\n",
       "      <td>107</td>\n",
       "      <td>1</td>\n",
       "      <td>-1</td>\n",
       "      <td>0</td>\n",
       "      <td>unknown</td>\n",
       "      <td>no</td>\n",
       "    </tr>\n",
       "    <tr>\n",
       "      <th>97</th>\n",
       "      <td>32</td>\n",
       "      <td>services</td>\n",
       "      <td>single</td>\n",
       "      <td>primary</td>\n",
       "      <td>no</td>\n",
       "      <td>-56</td>\n",
       "      <td>no</td>\n",
       "      <td>yes</td>\n",
       "      <td>cellular</td>\n",
       "      <td>19</td>\n",
       "      <td>nov</td>\n",
       "      <td>418</td>\n",
       "      <td>1</td>\n",
       "      <td>-1</td>\n",
       "      <td>0</td>\n",
       "      <td>unknown</td>\n",
       "      <td>no</td>\n",
       "    </tr>\n",
       "    <tr>\n",
       "      <th>125</th>\n",
       "      <td>36</td>\n",
       "      <td>blue-collar</td>\n",
       "      <td>divorced</td>\n",
       "      <td>secondary</td>\n",
       "      <td>no</td>\n",
       "      <td>-159</td>\n",
       "      <td>yes</td>\n",
       "      <td>no</td>\n",
       "      <td>unknown</td>\n",
       "      <td>4</td>\n",
       "      <td>jun</td>\n",
       "      <td>382</td>\n",
       "      <td>3</td>\n",
       "      <td>-1</td>\n",
       "      <td>0</td>\n",
       "      <td>unknown</td>\n",
       "      <td>no</td>\n",
       "    </tr>\n",
       "    <tr>\n",
       "      <th>131</th>\n",
       "      <td>61</td>\n",
       "      <td>retired</td>\n",
       "      <td>married</td>\n",
       "      <td>primary</td>\n",
       "      <td>no</td>\n",
       "      <td>-156</td>\n",
       "      <td>yes</td>\n",
       "      <td>yes</td>\n",
       "      <td>unknown</td>\n",
       "      <td>2</td>\n",
       "      <td>jun</td>\n",
       "      <td>283</td>\n",
       "      <td>5</td>\n",
       "      <td>-1</td>\n",
       "      <td>0</td>\n",
       "      <td>unknown</td>\n",
       "      <td>no</td>\n",
       "    </tr>\n",
       "    <tr>\n",
       "      <th>133</th>\n",
       "      <td>23</td>\n",
       "      <td>blue-collar</td>\n",
       "      <td>single</td>\n",
       "      <td>primary</td>\n",
       "      <td>yes</td>\n",
       "      <td>-627</td>\n",
       "      <td>yes</td>\n",
       "      <td>yes</td>\n",
       "      <td>unknown</td>\n",
       "      <td>27</td>\n",
       "      <td>may</td>\n",
       "      <td>115</td>\n",
       "      <td>1</td>\n",
       "      <td>-1</td>\n",
       "      <td>0</td>\n",
       "      <td>unknown</td>\n",
       "      <td>no</td>\n",
       "    </tr>\n",
       "    <tr>\n",
       "      <th>134</th>\n",
       "      <td>42</td>\n",
       "      <td>blue-collar</td>\n",
       "      <td>divorced</td>\n",
       "      <td>secondary</td>\n",
       "      <td>no</td>\n",
       "      <td>-135</td>\n",
       "      <td>yes</td>\n",
       "      <td>no</td>\n",
       "      <td>unknown</td>\n",
       "      <td>13</td>\n",
       "      <td>may</td>\n",
       "      <td>15</td>\n",
       "      <td>11</td>\n",
       "      <td>-1</td>\n",
       "      <td>0</td>\n",
       "      <td>unknown</td>\n",
       "      <td>no</td>\n",
       "    </tr>\n",
       "    <tr>\n",
       "      <th>135</th>\n",
       "      <td>53</td>\n",
       "      <td>management</td>\n",
       "      <td>married</td>\n",
       "      <td>tertiary</td>\n",
       "      <td>no</td>\n",
       "      <td>-1112</td>\n",
       "      <td>yes</td>\n",
       "      <td>no</td>\n",
       "      <td>cellular</td>\n",
       "      <td>13</td>\n",
       "      <td>may</td>\n",
       "      <td>53</td>\n",
       "      <td>3</td>\n",
       "      <td>308</td>\n",
       "      <td>1</td>\n",
       "      <td>failure</td>\n",
       "      <td>no</td>\n",
       "    </tr>\n",
       "    <tr>\n",
       "      <th>139</th>\n",
       "      <td>33</td>\n",
       "      <td>management</td>\n",
       "      <td>single</td>\n",
       "      <td>tertiary</td>\n",
       "      <td>yes</td>\n",
       "      <td>-5</td>\n",
       "      <td>no</td>\n",
       "      <td>no</td>\n",
       "      <td>cellular</td>\n",
       "      <td>18</td>\n",
       "      <td>aug</td>\n",
       "      <td>127</td>\n",
       "      <td>4</td>\n",
       "      <td>-1</td>\n",
       "      <td>0</td>\n",
       "      <td>unknown</td>\n",
       "      <td>no</td>\n",
       "    </tr>\n",
       "    <tr>\n",
       "      <th>148</th>\n",
       "      <td>31</td>\n",
       "      <td>blue-collar</td>\n",
       "      <td>single</td>\n",
       "      <td>secondary</td>\n",
       "      <td>no</td>\n",
       "      <td>-2</td>\n",
       "      <td>no</td>\n",
       "      <td>yes</td>\n",
       "      <td>cellular</td>\n",
       "      <td>7</td>\n",
       "      <td>jul</td>\n",
       "      <td>221</td>\n",
       "      <td>2</td>\n",
       "      <td>-1</td>\n",
       "      <td>0</td>\n",
       "      <td>unknown</td>\n",
       "      <td>no</td>\n",
       "    </tr>\n",
       "    <tr>\n",
       "      <th>174</th>\n",
       "      <td>51</td>\n",
       "      <td>technician</td>\n",
       "      <td>married</td>\n",
       "      <td>secondary</td>\n",
       "      <td>no</td>\n",
       "      <td>-153</td>\n",
       "      <td>no</td>\n",
       "      <td>no</td>\n",
       "      <td>cellular</td>\n",
       "      <td>20</td>\n",
       "      <td>nov</td>\n",
       "      <td>72</td>\n",
       "      <td>2</td>\n",
       "      <td>92</td>\n",
       "      <td>4</td>\n",
       "      <td>failure</td>\n",
       "      <td>no</td>\n",
       "    </tr>\n",
       "    <tr>\n",
       "      <th>181</th>\n",
       "      <td>22</td>\n",
       "      <td>blue-collar</td>\n",
       "      <td>single</td>\n",
       "      <td>primary</td>\n",
       "      <td>no</td>\n",
       "      <td>-168</td>\n",
       "      <td>yes</td>\n",
       "      <td>no</td>\n",
       "      <td>unknown</td>\n",
       "      <td>13</td>\n",
       "      <td>may</td>\n",
       "      <td>160</td>\n",
       "      <td>3</td>\n",
       "      <td>-1</td>\n",
       "      <td>0</td>\n",
       "      <td>unknown</td>\n",
       "      <td>no</td>\n",
       "    </tr>\n",
       "    <tr>\n",
       "      <th>215</th>\n",
       "      <td>52</td>\n",
       "      <td>blue-collar</td>\n",
       "      <td>married</td>\n",
       "      <td>secondary</td>\n",
       "      <td>no</td>\n",
       "      <td>-519</td>\n",
       "      <td>yes</td>\n",
       "      <td>no</td>\n",
       "      <td>unknown</td>\n",
       "      <td>9</td>\n",
       "      <td>jun</td>\n",
       "      <td>442</td>\n",
       "      <td>8</td>\n",
       "      <td>-1</td>\n",
       "      <td>0</td>\n",
       "      <td>unknown</td>\n",
       "      <td>yes</td>\n",
       "    </tr>\n",
       "    <tr>\n",
       "      <th>239</th>\n",
       "      <td>45</td>\n",
       "      <td>technician</td>\n",
       "      <td>divorced</td>\n",
       "      <td>secondary</td>\n",
       "      <td>no</td>\n",
       "      <td>-357</td>\n",
       "      <td>yes</td>\n",
       "      <td>yes</td>\n",
       "      <td>cellular</td>\n",
       "      <td>18</td>\n",
       "      <td>may</td>\n",
       "      <td>618</td>\n",
       "      <td>1</td>\n",
       "      <td>355</td>\n",
       "      <td>2</td>\n",
       "      <td>failure</td>\n",
       "      <td>yes</td>\n",
       "    </tr>\n",
       "    <tr>\n",
       "      <th>244</th>\n",
       "      <td>32</td>\n",
       "      <td>unknown</td>\n",
       "      <td>single</td>\n",
       "      <td>secondary</td>\n",
       "      <td>no</td>\n",
       "      <td>-274</td>\n",
       "      <td>no</td>\n",
       "      <td>yes</td>\n",
       "      <td>unknown</td>\n",
       "      <td>27</td>\n",
       "      <td>may</td>\n",
       "      <td>108</td>\n",
       "      <td>3</td>\n",
       "      <td>-1</td>\n",
       "      <td>0</td>\n",
       "      <td>unknown</td>\n",
       "      <td>no</td>\n",
       "    </tr>\n",
       "  </tbody>\n",
       "</table>\n",
       "</div>"
      ],
      "text/plain": [
       "     age          job   marital  education default  balance housing loan  \\\n",
       "0     56   management  divorced   tertiary      no     -141      no   no   \n",
       "7     38   management    single   tertiary      no     -476     yes   no   \n",
       "11    31   management   married   tertiary      no     -513      no  yes   \n",
       "27    26     services   married  secondary      no     -379     yes  yes   \n",
       "50    36  blue-collar   married    primary      no     -608     yes   no   \n",
       "91    37     services   married  secondary      no      -58     yes   no   \n",
       "95    34   management   married   tertiary      no      -85      no   no   \n",
       "97    32     services    single    primary      no      -56      no  yes   \n",
       "125   36  blue-collar  divorced  secondary      no     -159     yes   no   \n",
       "131   61      retired   married    primary      no     -156     yes  yes   \n",
       "133   23  blue-collar    single    primary     yes     -627     yes  yes   \n",
       "134   42  blue-collar  divorced  secondary      no     -135     yes   no   \n",
       "135   53   management   married   tertiary      no    -1112     yes   no   \n",
       "139   33   management    single   tertiary     yes       -5      no   no   \n",
       "148   31  blue-collar    single  secondary      no       -2      no  yes   \n",
       "174   51   technician   married  secondary      no     -153      no   no   \n",
       "181   22  blue-collar    single    primary      no     -168     yes   no   \n",
       "215   52  blue-collar   married  secondary      no     -519     yes   no   \n",
       "239   45   technician  divorced  secondary      no     -357     yes  yes   \n",
       "244   32      unknown    single  secondary      no     -274      no  yes   \n",
       "\n",
       "      contact  day month  duration  campaign  pdays  previous poutcome    y  \n",
       "0    cellular   28   jul       101         4     -1         0  unknown   no  \n",
       "7    cellular   28   jul        76         2     -1         0  unknown   no  \n",
       "11   cellular    7   jul       124         1     -1         0  unknown   no  \n",
       "27   cellular   22   jul      1237         7     -1         0  unknown  yes  \n",
       "50   cellular   11   jul       135         2     -1         0  unknown   no  \n",
       "91    unknown   16   jun       146         3     -1         0  unknown   no  \n",
       "95   cellular   18   nov       107         1     -1         0  unknown   no  \n",
       "97   cellular   19   nov       418         1     -1         0  unknown   no  \n",
       "125   unknown    4   jun       382         3     -1         0  unknown   no  \n",
       "131   unknown    2   jun       283         5     -1         0  unknown   no  \n",
       "133   unknown   27   may       115         1     -1         0  unknown   no  \n",
       "134   unknown   13   may        15        11     -1         0  unknown   no  \n",
       "135  cellular   13   may        53         3    308         1  failure   no  \n",
       "139  cellular   18   aug       127         4     -1         0  unknown   no  \n",
       "148  cellular    7   jul       221         2     -1         0  unknown   no  \n",
       "174  cellular   20   nov        72         2     92         4  failure   no  \n",
       "181   unknown   13   may       160         3     -1         0  unknown   no  \n",
       "215   unknown    9   jun       442         8     -1         0  unknown  yes  \n",
       "239  cellular   18   may       618         1    355         2  failure  yes  \n",
       "244   unknown   27   may       108         3     -1         0  unknown   no  "
      ]
     },
     "execution_count": 124,
     "metadata": {},
     "output_type": "execute_result"
    }
   ],
   "source": [
    "negative_bal = train_df[train_df[\"balance\"] < 0].copy()\n",
    "negative_bal.iloc[:,:17].head(20)"
   ]
  },
  {
   "cell_type": "code",
   "execution_count": 125,
   "metadata": {},
   "outputs": [
    {
     "data": {
      "text/plain": [
       "count    3026.000000\n",
       "mean       39.482485\n",
       "std         9.066505\n",
       "min        20.000000\n",
       "25%        32.000000\n",
       "50%        38.000000\n",
       "75%        46.000000\n",
       "max        63.000000\n",
       "Name: age, dtype: float64"
      ]
     },
     "execution_count": 125,
     "metadata": {},
     "output_type": "execute_result"
    }
   ],
   "source": [
    "## AGE\n",
    "negative_bal[\"age\"].describe()"
   ]
  },
  {
   "cell_type": "code",
   "execution_count": 126,
   "metadata": {},
   "outputs": [
    {
     "data": {
      "image/png": "[encoded data removed]",
      "text/plain": [
       "<Figure size 1080x936 with 2 Axes>"
      ]
     },
     "metadata": {},
     "output_type": "display_data"
    }
   ],
   "source": [
    "%autoreload 2\n",
    "custom_functions.create_histogram_plus_boxplot(negative_bal[\"age\"], \"Age\", color = \"royalblue\", ylabel = \"Frequency\", \n",
    "                                               xlabel = \"Age in years\" , size = (15,13))"
   ]
  },
  {
   "cell_type": "markdown",
   "metadata": {},
   "source": [
    "Most of the account holders with the negative balance are aged between 32 and 46\\[Working adults\\]. "
   ]
  },
  {
   "cell_type": "code",
   "execution_count": 127,
   "metadata": {},
   "outputs": [
    {
     "data": {
      "text/plain": [
       "blue-collar      29.543952\n",
       "technician       17.250496\n",
       "management       15.036352\n",
       "admin.           13.384005\n",
       "services         12.888301\n",
       "retired           3.172505\n",
       "entrepreneur      2.875083\n",
       "self-employed     2.247191\n",
       "unemployed        2.148050\n",
       "housemaid         0.991408\n",
       "student           0.363516\n",
       "unknown           0.099141\n",
       "Name: job, dtype: float64"
      ]
     },
     "execution_count": 127,
     "metadata": {},
     "output_type": "execute_result"
    }
   ],
   "source": [
    "negative_bal[\"job\"].value_counts()/len(negative_bal) * 100"
   ]
  },
  {
   "cell_type": "markdown",
   "metadata": {},
   "source": [
    "As we can see that most of the account holders(more than 25%) have blue collar job, which explains the negative balance as these people work at the bottom of the chain and enagaged with manual labor work. "
   ]
  },
  {
   "cell_type": "code",
   "execution_count": 128,
   "metadata": {},
   "outputs": [
    {
     "data": {
      "text/plain": [
       "secondary    61.269002\n",
       "tertiary     19.299405\n",
       "primary      15.928619\n",
       "unknown       3.502974\n",
       "Name: education, dtype: float64"
      ]
     },
     "execution_count": 128,
     "metadata": {},
     "output_type": "execute_result"
    }
   ],
   "source": [
    "negative_bal[\"education\"].value_counts()/len(negative_bal) * 100"
   ]
  },
  {
   "cell_type": "markdown",
   "metadata": {},
   "source": [
    "compare to people with account having high balance, most of these account holders have fininshed secondary education(high school), which also explain the fact that they are engaged in the manual labour work and not high end job like management."
   ]
  },
  {
   "cell_type": "code",
   "execution_count": 129,
   "metadata": {},
   "outputs": [
    {
     "name": "stdout",
     "output_type": "stream",
     "text": [
      "Neg balance Housing Loan : \n",
      "\n",
      "yes    72.273629\n",
      "no     27.726371\n",
      "Name: housing, dtype: float64\n"
     ]
    }
   ],
   "source": [
    "print(\"Neg balance Housing Loan : \\n\")\n",
    "print(negative_bal[\"housing\"].value_counts()/len(negative_bal) * 100)"
   ]
  },
  {
   "cell_type": "markdown",
   "metadata": {},
   "source": [
    "By looking at the data, as we can see that most of the people with negative balance have housing loan."
   ]
  },
  {
   "cell_type": "markdown",
   "metadata": {},
   "source": [
    "### housing"
   ]
  },
  {
   "cell_type": "code",
   "execution_count": 130,
   "metadata": {},
   "outputs": [
    {
     "data": {
      "text/plain": [
       "yes    20026\n",
       "no     16142\n",
       "Name: housing, dtype: int64"
      ]
     },
     "execution_count": 130,
     "metadata": {},
     "output_type": "execute_result"
    }
   ],
   "source": [
    "# Frequency\n",
    "housing_count_series = train_df[\"housing\"].value_counts()\n",
    "housing_count_series"
   ]
  },
  {
   "cell_type": "code",
   "execution_count": 131,
   "metadata": {},
   "outputs": [
    {
     "data": {
      "text/plain": [
       "yes    55.369387\n",
       "no     44.630613\n",
       "Name: housing, dtype: float64"
      ]
     },
     "execution_count": 131,
     "metadata": {},
     "output_type": "execute_result"
    }
   ],
   "source": [
    "# Percentage\n",
    "housing_count_series/train_df.shape[0] * 100"
   ]
  },
  {
   "cell_type": "code",
   "execution_count": 132,
   "metadata": {},
   "outputs": [
    {
     "data": {
      "image/png": "[encoded data removed]",
      "text/plain": [
       "<Figure size 1080x504 with 1 Axes>"
      ]
     },
     "metadata": {},
     "output_type": "display_data"
    }
   ],
   "source": [
    "# Donut Chart\n",
    "plt.pie(housing_count_series, colors = [\"tomato\", \"royalblue\"], labels = [\"Yes\", \"No\"], \n",
    "        autopct = '%1.1f%%', startangle = 90, pctdistance = 0.80, textprops = {\"fontsize\" : 18})\n",
    "plt.gca().add_artist(plt.Circle((0, 0), 0.60, fc = 'white'));\n",
    "plt.title(\"Has housing loan?\")\n",
    "plt.show()"
   ]
  },
  {
   "cell_type": "markdown",
   "metadata": {},
   "source": [
    "Majority of the customers have a housing loan."
   ]
  },
  {
   "cell_type": "markdown",
   "metadata": {},
   "source": [
    "### loan"
   ]
  },
  {
   "cell_type": "code",
   "execution_count": 133,
   "metadata": {},
   "outputs": [
    {
     "data": {
      "text/plain": [
       "no     30334\n",
       "yes     5834\n",
       "Name: loan, dtype: int64"
      ]
     },
     "execution_count": 133,
     "metadata": {},
     "output_type": "execute_result"
    }
   ],
   "source": [
    "# Frequency\n",
    "loan_count_series = train_df[\"loan\"].value_counts()\n",
    "loan_count_series"
   ]
  },
  {
   "cell_type": "code",
   "execution_count": 134,
   "metadata": {},
   "outputs": [
    {
     "data": {
      "text/plain": [
       "no     83.869719\n",
       "yes    16.130281\n",
       "Name: loan, dtype: float64"
      ]
     },
     "execution_count": 134,
     "metadata": {},
     "output_type": "execute_result"
    }
   ],
   "source": [
    "# Percentage\n",
    "loan_count_series/train_df.shape[0] * 100"
   ]
  },
  {
   "cell_type": "code",
   "execution_count": 135,
   "metadata": {},
   "outputs": [
    {
     "data": {
      "image/png": "[encoded data removed]",
      "text/plain": [
       "<Figure size 1080x504 with 1 Axes>"
      ]
     },
     "metadata": {},
     "output_type": "display_data"
    }
   ],
   "source": [
    "# Donut Chart\n",
    "plt.pie(loan_count_series, colors = [\"royalblue\", \"tomato\"], labels = [\"No\", \"Yes\"], \n",
    "        autopct = '%1.1f%%', startangle = 90, pctdistance = 0.80, textprops = {\"fontsize\" : 18})\n",
    "plt.gca().add_artist(plt.Circle((0, 0), 0.60, fc = 'white'));\n",
    "plt.title(\"Has Personal loan?\")\n",
    "plt.show()"
   ]
  },
  {
   "cell_type": "markdown",
   "metadata": {},
   "source": [
    "Majority of the account holders does not have a personal loan."
   ]
  },
  {
   "cell_type": "markdown",
   "metadata": {},
   "source": [
    "### contact"
   ]
  },
  {
   "cell_type": "code",
   "execution_count": 136,
   "metadata": {},
   "outputs": [
    {
     "data": {
      "text/plain": [
       "cellular     23469\n",
       "unknown      10386\n",
       "telephone     2313\n",
       "Name: contact, dtype: int64"
      ]
     },
     "execution_count": 136,
     "metadata": {},
     "output_type": "execute_result"
    }
   ],
   "source": [
    "# Frequency\n",
    "contact_count_series = train_df[\"contact\"].value_counts()\n",
    "contact_count_series"
   ]
  },
  {
   "cell_type": "code",
   "execution_count": 137,
   "metadata": {},
   "outputs": [
    {
     "data": {
      "text/plain": [
       "cellular     64.888852\n",
       "unknown      28.715992\n",
       "telephone     6.395156\n",
       "Name: contact, dtype: float64"
      ]
     },
     "execution_count": 137,
     "metadata": {},
     "output_type": "execute_result"
    }
   ],
   "source": [
    "# Percentage\n",
    "contact_count_series/train_df.shape[0] * 100"
   ]
  },
  {
   "cell_type": "code",
   "execution_count": 138,
   "metadata": {},
   "outputs": [
    {
     "data": {
      "image/png": "[encoded data removed]",
      "text/plain": [
       "<Figure size 864x720 with 1 Axes>"
      ]
     },
     "metadata": {},
     "output_type": "display_data"
    }
   ],
   "source": [
    "# Barplot\n",
    "%autoreload 2\n",
    "custom_functions.barplot(contact_count_series, \"Communication Medium\", \"Counts\", \"Type of contact\", \n",
    "                         color = (\"orange\", \"mediumseagreen\", \"skyblue\"), labels = contact_count_series.index)"
   ]
  },
  {
   "cell_type": "markdown",
   "metadata": {},
   "source": [
    "Most of the customers were contacted on their cellular regarding the term deposit which makes sense as time when data was collected mobile phones were more prominient and everyone had one with them. "
   ]
  },
  {
   "cell_type": "code",
   "execution_count": 139,
   "metadata": {},
   "outputs": [
    {
     "name": "stdout",
     "output_type": "stream",
     "text": [
      "Median age of the customers who were contacted using cellular : 38.0\n"
     ]
    }
   ],
   "source": [
    "print(\"Median age of the customers who were contacted using cellular :\", \n",
    "      train_df[train_df[\"contact\"] == \"cellular\"][\"age\"].median())"
   ]
  },
  {
   "cell_type": "code",
   "execution_count": 140,
   "metadata": {},
   "outputs": [
    {
     "name": "stdout",
     "output_type": "stream",
     "text": [
      "Median age of the customers who were contacted using telephone : 47.0\n"
     ]
    }
   ],
   "source": [
    "print(\"Median age of the customers who were contacted using telephone :\", \n",
    "      train_df[train_df[\"contact\"] == \"telephone\"][\"age\"].median())"
   ]
  },
  {
   "cell_type": "markdown",
   "metadata": {},
   "source": [
    "The above calculation and graphs reflect that cellular was more popular among the younger people compared to people using telephone. \\[Old People generally use telephones\\]"
   ]
  },
  {
   "cell_type": "markdown",
   "metadata": {},
   "source": [
    "### day"
   ]
  },
  {
   "cell_type": "code",
   "execution_count": 141,
   "metadata": {},
   "outputs": [
    {
     "data": {
      "text/plain": [
       "20    2240\n",
       "18    1825\n",
       "21    1639\n",
       "6     1555\n",
       "17    1536\n",
       "5     1503\n",
       "8     1468\n",
       "28    1468\n",
       "14    1461\n",
       "7     1439\n",
       "19    1411\n",
       "29    1391\n",
       "15    1379\n",
       "12    1277\n",
       "13    1270\n",
       "30    1250\n",
       "9     1240\n",
       "11    1178\n",
       "16    1146\n",
       "4     1135\n",
       "2     1055\n",
       "27     904\n",
       "3      882\n",
       "26     843\n",
       "22     736\n",
       "23     735\n",
       "25     670\n",
       "31     505\n",
       "10     408\n",
       "24     355\n",
       "1      264\n",
       "Name: day, dtype: int64"
      ]
     },
     "execution_count": 141,
     "metadata": {},
     "output_type": "execute_result"
    }
   ],
   "source": [
    "# Frequency\n",
    "day_count_series = train_df[\"day\"].value_counts()\n",
    "day_count_series"
   ]
  },
  {
   "cell_type": "code",
   "execution_count": 142,
   "metadata": {},
   "outputs": [
    {
     "data": {
      "image/png": "[encoded data removed]",
      "text/plain": [
       "<Figure size 864x720 with 1 Axes>"
      ]
     },
     "metadata": {},
     "output_type": "display_data"
    }
   ],
   "source": [
    "# Barplot\n",
    "%autoreload 2\n",
    "custom_functions.barplot(day_count_series, \"Day of the month\", \"Counts\", \"Last Contact Day of the month\", \n",
    "                         color = (\"orange\", \"mediumseagreen\", \"skyblue\",) * 10, labels = day_count_series.index)"
   ]
  },
  {
   "cell_type": "markdown",
   "metadata": {},
   "source": [
    "Contacts regarding the term deposits were generally made in the middle of the months The Least mean amount of the calls were made in the last week of the months."
   ]
  },
  {
   "cell_type": "markdown",
   "metadata": {},
   "source": [
    "### month"
   ]
  },
  {
   "cell_type": "code",
   "execution_count": 143,
   "metadata": {},
   "outputs": [
    {
     "name": "stdout",
     "output_type": "stream",
     "text": [
      "may    10972\n",
      "jul     5526\n",
      "aug     4969\n",
      "jun     4260\n",
      "nov     3199\n",
      "apr     2345\n",
      "feb     2165\n",
      "jan     1130\n",
      "oct      592\n",
      "sep      458\n",
      "mar      381\n",
      "dec      171\n",
      "Name: month, dtype: int64\n"
     ]
    }
   ],
   "source": [
    "# Frequency\n",
    "month_count_series = train_df[\"month\"].value_counts()\n",
    "print(month_count_series)\n",
    "month_count_series = month_count_series[['jan', 'feb', 'mar', 'apr', 'may', 'jun', 'jul', 'aug', 'sep', 'oct','nov', 'dec']]"
   ]
  },
  {
   "cell_type": "code",
   "execution_count": 144,
   "metadata": {},
   "outputs": [
    {
     "data": {
      "image/png": "[encoded data removed]",
      "text/plain": [
       "<Figure size 864x720 with 1 Axes>"
      ]
     },
     "metadata": {},
     "output_type": "display_data"
    }
   ],
   "source": [
    "# Barplot\n",
    "%autoreload 2\n",
    "custom_functions.barplot(month_count_series, \"Last Contact day of the month\", \"Counts\", \"Day of the month\", \n",
    "                         color = (\"tomato\", \"seagreen\", \"royalblue\",) * 10, labels = month_count_series.index)"
   ]
  },
  {
   "cell_type": "markdown",
   "metadata": {},
   "source": [
    "Most of the contacts were made in the month may. Majority of the contacts were made in the middle of the year. December has the least number of the contacts that can be explained by the festive season(employees not working/customers don't have time to talk to the bank employees/last month of the fiscal year)"
   ]
  },
  {
   "cell_type": "markdown",
   "metadata": {},
   "source": [
    "### duration"
   ]
  },
  {
   "cell_type": "code",
   "execution_count": 145,
   "metadata": {},
   "outputs": [
    {
     "data": {
      "text/plain": [
       "count    36168.000000\n",
       "mean       258.710822\n",
       "std        257.401707\n",
       "min          0.000000\n",
       "25%        103.000000\n",
       "50%        181.000000\n",
       "75%        320.000000\n",
       "max       4918.000000\n",
       "Name: duration, dtype: float64"
      ]
     },
     "execution_count": 145,
     "metadata": {},
     "output_type": "execute_result"
    }
   ],
   "source": [
    "train_df[\"duration\"].describe()"
   ]
  },
  {
   "cell_type": "code",
   "execution_count": 146,
   "metadata": {},
   "outputs": [
    {
     "data": {
      "image/png": "[encoded data removed]",
      "text/plain": [
       "<Figure size 1080x936 with 2 Axes>"
      ]
     },
     "metadata": {},
     "output_type": "display_data"
    }
   ],
   "source": [
    "%autoreload 2\n",
    "custom_functions.create_histogram_plus_boxplot(train_df[\"duration\"], \"Call Duration in seconds\", color = \"orange\", \n",
    "                                               ylabel = \"Frequency\", xlabel = \"Call Duration\" , size = (15, 13))"
   ]
  },
  {
   "cell_type": "markdown",
   "metadata": {},
   "source": [
    "Most common duration for the call is 3 minutes(180 seconds). There are many outliers out of which duration > 2500 seconds are extreme ones. Maximum duration for the call is 63 minutes(3785 seconds) which is quite long."
   ]
  },
  {
   "cell_type": "markdown",
   "metadata": {},
   "source": [
    "### campaign"
   ]
  },
  {
   "cell_type": "code",
   "execution_count": 147,
   "metadata": {},
   "outputs": [
    {
     "data": {
      "text/plain": [
       "count    36168.000000\n",
       "mean         2.762801\n",
       "std          3.109605\n",
       "min          1.000000\n",
       "25%          1.000000\n",
       "50%          2.000000\n",
       "75%          3.000000\n",
       "max         58.000000\n",
       "Name: campaign, dtype: float64"
      ]
     },
     "execution_count": 147,
     "metadata": {},
     "output_type": "execute_result"
    }
   ],
   "source": [
    "train_df[\"campaign\"].describe()"
   ]
  },
  {
   "cell_type": "code",
   "execution_count": 148,
   "metadata": {},
   "outputs": [
    {
     "data": {
      "image/png": "[encoded data removed]",
      "text/plain": [
       "<Figure size 1080x936 with 2 Axes>"
      ]
     },
     "metadata": {},
     "output_type": "display_data"
    }
   ],
   "source": [
    "%autoreload 2\n",
    "custom_functions.create_histogram_plus_boxplot(train_df[\"campaign\"], \"No of contacts for the campaign\", color = \"magenta\", \n",
    "                                               ylabel = \"Frequency\", xlabel = \"No of contacts\" , size = (15, 13))"
   ]
  },
  {
   "cell_type": "markdown",
   "metadata": {},
   "source": [
    "On average account holders were contacted 2 times. There aremany outliers out of which no of the times contacts are greater 40 are extreme. The highest no of contact is 63 which is quite large and unusual."
   ]
  },
  {
   "cell_type": "markdown",
   "metadata": {},
   "source": [
    "### pdays"
   ]
  },
  {
   "cell_type": "code",
   "execution_count": 149,
   "metadata": {},
   "outputs": [
    {
     "name": "stdout",
     "output_type": "stream",
     "text": [
      "Previously Contacted : 6595\n",
      "Previously Not Contacted : 29573\n"
     ]
    }
   ],
   "source": [
    "not_contacted_count = train_df[train_df[\"pdays\"] == -1].shape[0]\n",
    "contacted_count = train_df.shape[0] - not_contacted_count\n",
    "\n",
    "contacted = train_df[train_df[\"pdays\"] != -1]\n",
    "\n",
    "print(\"Previously Contacted :\", contacted_count)\n",
    "print(\"Previously Not Contacted :\", not_contacted_count)"
   ]
  },
  {
   "cell_type": "code",
   "execution_count": 150,
   "metadata": {},
   "outputs": [
    {
     "data": {
      "text/plain": [
       "count    6595.000000\n",
       "mean      224.028052\n",
       "std       115.028187\n",
       "min         1.000000\n",
       "25%       132.000000\n",
       "50%       193.000000\n",
       "75%       326.500000\n",
       "max       871.000000\n",
       "Name: pdays, dtype: float64"
      ]
     },
     "execution_count": 150,
     "metadata": {},
     "output_type": "execute_result"
    }
   ],
   "source": [
    "contacted[\"pdays\"].describe()"
   ]
  },
  {
   "cell_type": "code",
   "execution_count": 151,
   "metadata": {},
   "outputs": [
    {
     "data": {
      "image/png": "[encoded data removed]",
      "text/plain": [
       "<Figure size 1080x936 with 2 Axes>"
      ]
     },
     "metadata": {},
     "output_type": "display_data"
    }
   ],
   "source": [
    "%autoreload 2\n",
    "custom_functions.create_histogram_plus_boxplot(contacted[\"pdays\"], \"Pdays\", color = \"purple\", \n",
    "                                               ylabel = \"Frequency\", xlabel = \"Days\" , size = (15, 13))"
   ]
  },
  {
   "cell_type": "markdown",
   "metadata": {},
   "source": [
    "Average number of days that passed by after the client was last contacted from a previous campaign is 225 days. There are few outliers but none of them are too extreme."
   ]
  },
  {
   "cell_type": "markdown",
   "metadata": {},
   "source": [
    "### previous"
   ]
  },
  {
   "cell_type": "code",
   "execution_count": 154,
   "metadata": {},
   "outputs": [
    {
     "data": {
      "text/plain": [
       "count    36168.000000\n",
       "mean         0.578467\n",
       "std          2.389536\n",
       "min          0.000000\n",
       "25%          0.000000\n",
       "50%          0.000000\n",
       "75%          0.000000\n",
       "max        275.000000\n",
       "Name: previous, dtype: float64"
      ]
     },
     "execution_count": 154,
     "metadata": {},
     "output_type": "execute_result"
    }
   ],
   "source": [
    "train_df[\"previous\"].describe()"
   ]
  },
  {
   "cell_type": "code",
   "execution_count": 155,
   "metadata": {},
   "outputs": [
    {
     "data": {
      "image/png": "[encoded data removed]",
      "text/plain": [
       "<Figure size 1080x936 with 2 Axes>"
      ]
     },
     "metadata": {},
     "output_type": "display_data"
    }
   ],
   "source": [
    "%autoreload 2\n",
    "custom_functions.create_histogram_plus_boxplot(train_df[\"previous\"], \"No of contacts before this campaign\", color = \"gold\", \n",
    "                                               ylabel = \"Frequency\", xlabel = \"No of contacts\" , size = (15, 13))"
   ]
  },
  {
   "cell_type": "markdown",
   "metadata": {},
   "source": [
    "There is one extreme outlier where number of contacts performed before this campaign is 275. I will remove this observation from the data."
   ]
  },
  {
   "cell_type": "code",
   "execution_count": 156,
   "metadata": {},
   "outputs": [],
   "source": [
    "train_df = train_df[train_df[\"previous\"] < 275]"
   ]
  },
  {
   "cell_type": "code",
   "execution_count": 157,
   "metadata": {},
   "outputs": [
    {
     "data": {
      "image/png": "[encoded data removed]",
      "text/plain": [
       "<Figure size 1080x936 with 2 Axes>"
      ]
     },
     "metadata": {},
     "output_type": "display_data"
    }
   ],
   "source": [
    "%autoreload 2\n",
    "custom_functions.create_histogram_plus_boxplot(train_df[\"previous\"], \"No of contacts before this campaign\", color = \"gold\", \n",
    "                                               ylabel = \"Frequency\", xlabel = \"No of contacts\" , size = (15, 13))"
   ]
  },
  {
   "cell_type": "code",
   "execution_count": 158,
   "metadata": {},
   "outputs": [
    {
     "name": "stdout",
     "output_type": "stream",
     "text": [
      "Previously Contacted : 6594\n",
      "Previously Not Contacted : 29573\n"
     ]
    }
   ],
   "source": [
    "not_contacted_count = train_df[train_df[\"previous\"] == 0].shape[0]\n",
    "contacted_count = train_df.shape[0] - not_contacted_count\n",
    "\n",
    "contacted = train_df[train_df[\"previous\"] != 0]\n",
    "\n",
    "print(\"Previously Contacted :\", contacted_count)\n",
    "print(\"Previously Not Contacted :\", not_contacted_count)"
   ]
  },
  {
   "cell_type": "code",
   "execution_count": 159,
   "metadata": {},
   "outputs": [
    {
     "data": {
      "text/plain": [
       "count    6594.000000\n",
       "mean        3.131180\n",
       "std         3.447017\n",
       "min         1.000000\n",
       "25%         1.000000\n",
       "50%         2.000000\n",
       "75%         4.000000\n",
       "max        58.000000\n",
       "Name: previous, dtype: float64"
      ]
     },
     "execution_count": 159,
     "metadata": {},
     "output_type": "execute_result"
    }
   ],
   "source": [
    "contacted[\"previous\"].describe()"
   ]
  },
  {
   "cell_type": "code",
   "execution_count": 160,
   "metadata": {},
   "outputs": [
    {
     "data": {
      "image/png": "[encoded data removed]",
      "text/plain": [
       "<Figure size 1080x936 with 2 Axes>"
      ]
     },
     "metadata": {},
     "output_type": "display_data"
    }
   ],
   "source": [
    "%autoreload 2\n",
    "custom_functions.create_histogram_plus_boxplot(contacted[\"previous\"], \"Previous\", color = \"black\", \n",
    "                                               ylabel = \"Frequency\", xlabel = \"No of contacts\" , size = (15, 13))"
   ]
  },
  {
   "cell_type": "markdown",
   "metadata": {},
   "source": [
    "Average number of contacts made before this campaign is 3. There are few outliers few extreme ones where no of contact is greater than 50 but due to low in number I will keep them as it is."
   ]
  },
  {
   "cell_type": "markdown",
   "metadata": {},
   "source": [
    "### poutcome"
   ]
  },
  {
   "cell_type": "code",
   "execution_count": 161,
   "metadata": {},
   "outputs": [
    {
     "data": {
      "text/plain": [
       "unknown    29577\n",
       "failure     3928\n",
       "other       1450\n",
       "success     1212\n",
       "Name: poutcome, dtype: int64"
      ]
     },
     "execution_count": 161,
     "metadata": {},
     "output_type": "execute_result"
    }
   ],
   "source": [
    "# Frequency\n",
    "poutcome_count_series = train_df[\"poutcome\"].value_counts()\n",
    "poutcome_count_series"
   ]
  },
  {
   "cell_type": "code",
   "execution_count": 162,
   "metadata": {},
   "outputs": [
    {
     "data": {
      "text/plain": [
       "unknown    81.778970\n",
       "failure    10.860729\n",
       "other       4.009180\n",
       "success     3.351121\n",
       "Name: poutcome, dtype: float64"
      ]
     },
     "execution_count": 162,
     "metadata": {},
     "output_type": "execute_result"
    }
   ],
   "source": [
    "# Percentage\n",
    "poutcome_count_series/train_df.shape[0] * 100"
   ]
  },
  {
   "cell_type": "code",
   "execution_count": 163,
   "metadata": {},
   "outputs": [
    {
     "data": {
      "image/png": "[encoded data removed]",
      "text/plain": [
       "<Figure size 864x720 with 1 Axes>"
      ]
     },
     "metadata": {},
     "output_type": "display_data"
    }
   ],
   "source": [
    "# Barplot\n",
    "%autoreload 2\n",
    "custom_functions.barplot(poutcome_count_series, \"Outcome of the previos campaign\", \"Counts\", \"Outcome\", \n",
    "                         color = (\"orange\", \"mediumseagreen\", \"skyblue\", \"salmon\"), labels = poutcome_count_series.index)"
   ]
  },
  {
   "cell_type": "markdown",
   "metadata": {},
   "source": [
    "If we ignore the the observation where outcome is unknown and other, the success rate for the previous campaign is quite low(half as failure rate)."
   ]
  },
  {
   "cell_type": "markdown",
   "metadata": {},
   "source": [
    "### y"
   ]
  },
  {
   "cell_type": "code",
   "execution_count": 164,
   "metadata": {},
   "outputs": [
    {
     "data": {
      "text/plain": [
       "no     31939\n",
       "yes     4228\n",
       "Name: y, dtype: int64"
      ]
     },
     "execution_count": 164,
     "metadata": {},
     "output_type": "execute_result"
    }
   ],
   "source": [
    "# Frequency\n",
    "y_count_series = train_df[\"y\"].value_counts()\n",
    "y_count_series"
   ]
  },
  {
   "cell_type": "code",
   "execution_count": 165,
   "metadata": {},
   "outputs": [
    {
     "data": {
      "text/plain": [
       "no     88.309785\n",
       "yes    11.690215\n",
       "Name: y, dtype: float64"
      ]
     },
     "execution_count": 165,
     "metadata": {},
     "output_type": "execute_result"
    }
   ],
   "source": [
    "# Percentage\n",
    "y_count_series/train_df.shape[0] * 100"
   ]
  },
  {
   "cell_type": "code",
   "execution_count": 166,
   "metadata": {},
   "outputs": [
    {
     "data": {
      "image/png": "[encoded data removed]",
      "text/plain": [
       "<Figure size 864x720 with 1 Axes>"
      ]
     },
     "metadata": {},
     "output_type": "display_data"
    }
   ],
   "source": [
    "# Barplot\n",
    "%autoreload 2\n",
    "custom_functions.barplot(y_count_series, \"Term deposit describe or not\", \"Counts\", \"Term deposit subscribed?\", \n",
    "                         color = (\"skyblue\", \"salmon\"), labels = y_count_series.index)"
   ]
  },
  {
   "cell_type": "markdown",
   "metadata": {},
   "source": [
    "There are only 12% of the clients subscribed to the terms which can be explained by the poor success rate of previous campaign outcome. As we can see that data is imbalanced in the terms of outcome variable."
   ]
  },
  {
   "cell_type": "markdown",
   "metadata": {},
   "source": [
    "## Data Preprocessing"
   ]
  },
  {
   "cell_type": "code",
   "execution_count": 6,
   "metadata": {},
   "outputs": [
    {
     "name": "stdout",
     "output_type": "stream",
     "text": [
      "X_train shape:  (36168, 44)\n",
      "y_train shape:  (36168,)\n",
      "X_valid shape:  (4521, 44)\n",
      "y_valid shape:  (4521,)\n",
      "X_test shape:  (4522, 44)\n",
      "y_test shape:  (4522,)\n"
     ]
    }
   ],
   "source": [
    "new_train = process_data(train_df)\n",
    "new_valid = process_data(validate_df)\n",
    "new_test = process_data(test_df)\n",
    "\n",
    "# Training data\n",
    "X_train = new_train.iloc[:,:-1]\n",
    "y_train = new_train.iloc[:, -1]\n",
    "\n",
    "# Validation data\n",
    "X_valid = new_valid.iloc[:,:-1]\n",
    "y_valid = new_valid.iloc[:, -1]\n",
    "\n",
    "# Test data\n",
    "X_test = new_test.iloc[:,:-1]\n",
    "y_test = new_test.iloc[:, -1]\n",
    "\n",
    "\n",
    "print(\"X_train shape: \", X_train.shape)\n",
    "print(\"y_train shape: \", y_train.shape)\n",
    "print(\"X_valid shape: \", X_valid.shape)\n",
    "print(\"y_valid shape: \", y_valid.shape)\n",
    "print(\"X_test shape: \", X_test.shape)\n",
    "print(\"y_test shape: \", y_test.shape)"
   ]
  },
  {
   "cell_type": "markdown",
   "metadata": {},
   "source": [
    "### Scaling"
   ]
  },
  {
   "cell_type": "code",
   "execution_count": 7,
   "metadata": {},
   "outputs": [
    {
     "data": {
      "text/html": [
       "<div>\n",
       "<style scoped>\n",
       "    .dataframe tbody tr th:only-of-type {\n",
       "        vertical-align: middle;\n",
       "    }\n",
       "\n",
       "    .dataframe tbody tr th {\n",
       "        vertical-align: top;\n",
       "    }\n",
       "\n",
       "    .dataframe thead th {\n",
       "        text-align: right;\n",
       "    }\n",
       "</style>\n",
       "<table border=\"1\" class=\"dataframe\">\n",
       "  <thead>\n",
       "    <tr style=\"text-align: right;\">\n",
       "      <th></th>\n",
       "      <th>age</th>\n",
       "      <th>balance</th>\n",
       "      <th>day</th>\n",
       "      <th>duration</th>\n",
       "      <th>campaign</th>\n",
       "      <th>pdays</th>\n",
       "      <th>job_admin.</th>\n",
       "      <th>job_blue-collar</th>\n",
       "      <th>job_entrepreneur</th>\n",
       "      <th>job_housemaid</th>\n",
       "      <th>...</th>\n",
       "      <th>month_nov</th>\n",
       "      <th>month_oct</th>\n",
       "      <th>month_sep</th>\n",
       "      <th>poutcome_failure</th>\n",
       "      <th>poutcome_other</th>\n",
       "      <th>poutcome_success</th>\n",
       "      <th>poutcome_unknown</th>\n",
       "      <th>default_code</th>\n",
       "      <th>loan_code</th>\n",
       "      <th>housing_code</th>\n",
       "    </tr>\n",
       "  </thead>\n",
       "  <tbody>\n",
       "    <tr>\n",
       "      <th>0</th>\n",
       "      <td>56</td>\n",
       "      <td>-141</td>\n",
       "      <td>28</td>\n",
       "      <td>101</td>\n",
       "      <td>4</td>\n",
       "      <td>-1</td>\n",
       "      <td>0</td>\n",
       "      <td>0</td>\n",
       "      <td>0</td>\n",
       "      <td>0</td>\n",
       "      <td>...</td>\n",
       "      <td>0</td>\n",
       "      <td>0</td>\n",
       "      <td>0</td>\n",
       "      <td>0</td>\n",
       "      <td>0</td>\n",
       "      <td>0</td>\n",
       "      <td>1</td>\n",
       "      <td>0</td>\n",
       "      <td>0</td>\n",
       "      <td>0</td>\n",
       "    </tr>\n",
       "    <tr>\n",
       "      <th>1</th>\n",
       "      <td>61</td>\n",
       "      <td>479</td>\n",
       "      <td>22</td>\n",
       "      <td>464</td>\n",
       "      <td>5</td>\n",
       "      <td>-1</td>\n",
       "      <td>0</td>\n",
       "      <td>0</td>\n",
       "      <td>0</td>\n",
       "      <td>0</td>\n",
       "      <td>...</td>\n",
       "      <td>0</td>\n",
       "      <td>0</td>\n",
       "      <td>0</td>\n",
       "      <td>0</td>\n",
       "      <td>0</td>\n",
       "      <td>0</td>\n",
       "      <td>1</td>\n",
       "      <td>0</td>\n",
       "      <td>0</td>\n",
       "      <td>0</td>\n",
       "    </tr>\n",
       "    <tr>\n",
       "      <th>2</th>\n",
       "      <td>53</td>\n",
       "      <td>6671</td>\n",
       "      <td>30</td>\n",
       "      <td>72</td>\n",
       "      <td>9</td>\n",
       "      <td>-1</td>\n",
       "      <td>0</td>\n",
       "      <td>0</td>\n",
       "      <td>0</td>\n",
       "      <td>0</td>\n",
       "      <td>...</td>\n",
       "      <td>0</td>\n",
       "      <td>0</td>\n",
       "      <td>0</td>\n",
       "      <td>0</td>\n",
       "      <td>0</td>\n",
       "      <td>0</td>\n",
       "      <td>1</td>\n",
       "      <td>0</td>\n",
       "      <td>1</td>\n",
       "      <td>1</td>\n",
       "    </tr>\n",
       "    <tr>\n",
       "      <th>3</th>\n",
       "      <td>32</td>\n",
       "      <td>71</td>\n",
       "      <td>6</td>\n",
       "      <td>80</td>\n",
       "      <td>3</td>\n",
       "      <td>-1</td>\n",
       "      <td>0</td>\n",
       "      <td>0</td>\n",
       "      <td>0</td>\n",
       "      <td>0</td>\n",
       "      <td>...</td>\n",
       "      <td>0</td>\n",
       "      <td>0</td>\n",
       "      <td>0</td>\n",
       "      <td>0</td>\n",
       "      <td>0</td>\n",
       "      <td>0</td>\n",
       "      <td>1</td>\n",
       "      <td>0</td>\n",
       "      <td>0</td>\n",
       "      <td>0</td>\n",
       "    </tr>\n",
       "    <tr>\n",
       "      <th>4</th>\n",
       "      <td>59</td>\n",
       "      <td>57</td>\n",
       "      <td>5</td>\n",
       "      <td>98</td>\n",
       "      <td>1</td>\n",
       "      <td>-1</td>\n",
       "      <td>0</td>\n",
       "      <td>1</td>\n",
       "      <td>0</td>\n",
       "      <td>0</td>\n",
       "      <td>...</td>\n",
       "      <td>0</td>\n",
       "      <td>0</td>\n",
       "      <td>0</td>\n",
       "      <td>0</td>\n",
       "      <td>0</td>\n",
       "      <td>0</td>\n",
       "      <td>1</td>\n",
       "      <td>0</td>\n",
       "      <td>0</td>\n",
       "      <td>1</td>\n",
       "    </tr>\n",
       "  </tbody>\n",
       "</table>\n",
       "<p>5 rows × 44 columns</p>\n",
       "</div>"
      ],
      "text/plain": [
       "   age  balance  day  duration  campaign  pdays  job_admin.  job_blue-collar  \\\n",
       "0   56     -141   28       101         4     -1           0                0   \n",
       "1   61      479   22       464         5     -1           0                0   \n",
       "2   53     6671   30        72         9     -1           0                0   \n",
       "3   32       71    6        80         3     -1           0                0   \n",
       "4   59       57    5        98         1     -1           0                1   \n",
       "\n",
       "   job_entrepreneur  job_housemaid  ...  month_nov  month_oct  month_sep  \\\n",
       "0                 0              0  ...          0          0          0   \n",
       "1                 0              0  ...          0          0          0   \n",
       "2                 0              0  ...          0          0          0   \n",
       "3                 0              0  ...          0          0          0   \n",
       "4                 0              0  ...          0          0          0   \n",
       "\n",
       "   poutcome_failure  poutcome_other  poutcome_success  poutcome_unknown  \\\n",
       "0                 0               0                 0                 1   \n",
       "1                 0               0                 0                 1   \n",
       "2                 0               0                 0                 1   \n",
       "3                 0               0                 0                 1   \n",
       "4                 0               0                 0                 1   \n",
       "\n",
       "   default_code  loan_code  housing_code  \n",
       "0             0          0             0  \n",
       "1             0          0             0  \n",
       "2             0          1             1  \n",
       "3             0          0             0  \n",
       "4             0          0             1  \n",
       "\n",
       "[5 rows x 44 columns]"
      ]
     },
     "execution_count": 7,
     "metadata": {},
     "output_type": "execute_result"
    }
   ],
   "source": [
    "X_train.head()"
   ]
  },
  {
   "cell_type": "markdown",
   "metadata": {},
   "source": [
    "As we can see that all features are on different scale(footing), it is better to scale them so that variance of these features dont affect the models."
   ]
  },
  {
   "cell_type": "code",
   "execution_count": 8,
   "metadata": {},
   "outputs": [],
   "source": [
    "# Scaling the data\n",
    "X_train.loc[:, [\"age\", \"balance\", \"day\", \"duration\", \"campaign\", \"pdays\"]] = preprocessing.scale(X_train.loc[:, [\"age\", \"balance\", \"day\", \"duration\", \"campaign\", \"pdays\"]])\n",
    "X_valid.loc[:, [\"age\", \"balance\", \"day\", \"duration\", \"campaign\", \"pdays\"]] = preprocessing.scale(X_valid.loc[:, [\"age\", \"balance\", \"day\", \"duration\", \"campaign\", \"pdays\"]])\n",
    "X_test.loc[:, [\"age\", \"balance\", \"day\", \"duration\", \"campaign\", \"pdays\"]] = preprocessing.scale(X_test.loc[:, [\"age\", \"balance\", \"day\", \"duration\", \"campaign\", \"pdays\"]])"
   ]
  },
  {
   "cell_type": "markdown",
   "metadata": {},
   "source": [
    "### SMOTE Over Sampling"
   ]
  },
  {
   "cell_type": "markdown",
   "metadata": {},
   "source": [
    "#### Problem"
   ]
  },
  {
   "cell_type": "code",
   "execution_count": 9,
   "metadata": {},
   "outputs": [
    {
     "data": {
      "text/plain": [
       "0    31940\n",
       "1     4228\n",
       "Name: y_code, dtype: int64"
      ]
     },
     "execution_count": 9,
     "metadata": {},
     "output_type": "execute_result"
    }
   ],
   "source": [
    "new_train[\"y_code\"].value_counts()"
   ]
  },
  {
   "cell_type": "markdown",
   "metadata": {},
   "source": [
    "As we can see that the data is imbalanced. The number of observations with y value 1 is way less compared to number of observation with y value 0. Such unbalanced dataset can cause models to learn well about frequently appearing y values but when it comes to less frequent category model is unable to learn. Consider following example."
   ]
  },
  {
   "cell_type": "code",
   "execution_count": 10,
   "metadata": {},
   "outputs": [],
   "source": [
    "# Let's run simple logistic regression for our imbalanced data set\n",
    "# Init the model\n",
    "log_model = LogisticRegression(random_state=79)\n",
    "\n",
    "# Fitting the model\n",
    "log_model.fit(X_train, y_train);"
   ]
  },
  {
   "cell_type": "code",
   "execution_count": 11,
   "metadata": {},
   "outputs": [
    {
     "name": "stdout",
     "output_type": "stream",
     "text": [
      "Overall Accuracy of the model :  0.9044459190444591\n"
     ]
    }
   ],
   "source": [
    "# Prediction labels for validation data\n",
    "y_valid_pred = log_model.predict(X_valid)\n",
    "\n",
    "# Checking the performance of the model\n",
    "print(\"Overall Accuracy of the model : \", accuracy_score(y_valid, y_valid_pred))"
   ]
  },
  {
   "cell_type": "markdown",
   "metadata": {},
   "source": [
    "As we can see that overall accuract is 90% which is good but let's look at class wise accuracy and see how well model did."
   ]
  },
  {
   "cell_type": "code",
   "execution_count": 12,
   "metadata": {},
   "outputs": [
    {
     "name": "stdout",
     "output_type": "stream",
     "text": [
      "Class 0 Accuracy :  0.9774605559729527\n",
      "Class 1 Accuracy :  0.3522727272727273\n"
     ]
    }
   ],
   "source": [
    "# Confusion matrix\n",
    "cm = confusion_matrix(y_valid, y_valid_pred)\n",
    "\n",
    "# Normalizing the entries in the matrix\n",
    "cm = cm.astype('float') / cm.sum(axis=1)[:, np.newaxis]\n",
    "\n",
    "# Diagonal entries represent the accuracies of each class\n",
    "print(\"Class 0 Accuracy : \", cm.diagonal()[0])\n",
    "print(\"Class 1 Accuracy : \", cm.diagonal()[1])"
   ]
  },
  {
   "cell_type": "markdown",
   "metadata": {},
   "source": [
    "As we can see that model got 98% accuracy for class 0 observations while on the other hand model is poorly performing for class 1 observations. Here our objective is to predict whether client subscribes to a loan or not model need to perform well on both classes especially for class 1 which represent \"no\"."
   ]
  },
  {
   "cell_type": "markdown",
   "metadata": {},
   "source": [
    "#### Solution : Over-Sampling"
   ]
  },
  {
   "cell_type": "code",
   "execution_count": 13,
   "metadata": {
    "scrolled": true
   },
   "outputs": [
    {
     "data": {
      "text/plain": [
       "1    31940\n",
       "0    31940\n",
       "Name: y_code, dtype: int64"
      ]
     },
     "execution_count": 13,
     "metadata": {},
     "output_type": "execute_result"
    }
   ],
   "source": [
    "# Over sampling using SMOTE\n",
    "smt = SMOTE(k_neighbors = 6, random_state = 79)\n",
    "\n",
    "# Getting new data\n",
    "X_train_SMOTE, y_train_SMOTE = smt.fit_sample(X_train, y_train)\n",
    "\n",
    "# Checking proportions of target class categories\n",
    "y_train_SMOTE.value_counts()"
   ]
  },
  {
   "cell_type": "markdown",
   "metadata": {},
   "source": [
    "#### Saving the data"
   ]
  },
  {
   "cell_type": "code",
   "execution_count": null,
   "metadata": {},
   "outputs": [],
   "source": [
    "# TRAINING DATA\n",
    "X_train_SMOTE.to_csv(\"X_train_SMOTE.csv\")\n",
    "y_train_SMOTE.to_csv(\"y_train_SMOTE.csv\")\n",
    "\n",
    "# VALIDATION DATA\n",
    "X_valid.to_csv(\"X_valid.csv\")\n",
    "y_valid.to_csv(\"y_valid.csv\")\n",
    "\n",
    "# TEST DATA\n",
    "X_test.to_csv(\"X_test.csv\")\n",
    "y_test.to_csv(\"y_test.csv\")"
   ]
  },
  {
   "cell_type": "markdown",
   "metadata": {},
   "source": [
    "As we can see that now we have created synthetic samples using SMOTE and also both classes have same observations."
   ]
  },
  {
   "cell_type": "code",
   "execution_count": 15,
   "metadata": {},
   "outputs": [],
   "source": [
    "# Init model\n",
    "log_model = LogisticRegression(random_state = 79)\n",
    "\n",
    "# Fitting the model\n",
    "log_model.fit(X_train_SMOTE, y_train_SMOTE);"
   ]
  },
  {
   "cell_type": "code",
   "execution_count": 16,
   "metadata": {},
   "outputs": [
    {
     "name": "stdout",
     "output_type": "stream",
     "text": [
      "Overall Accuracy of the model :  0.8953771289537713\n"
     ]
    }
   ],
   "source": [
    "y_valid_pred = log_model.predict(X_valid)\n",
    "\n",
    "# Checking the performance of the model\n",
    "print(\"Overall Accuracy of the model : \", accuracy_score(y_valid, y_valid_pred))"
   ]
  },
  {
   "cell_type": "code",
   "execution_count": 17,
   "metadata": {},
   "outputs": [
    {
     "name": "stdout",
     "output_type": "stream",
     "text": [
      "Class 0 Accuracy :  0.9328825444527924\n",
      "Class 1 Accuracy :  0.6117424242424242\n"
     ]
    }
   ],
   "source": [
    "# Confusion matrix\n",
    "cm = confusion_matrix(y_valid, y_valid_pred)\n",
    "\n",
    "# Normalizing the entries in the matrix\n",
    "cm = cm.astype('float') / cm.sum(axis=1)[:, np.newaxis]\n",
    "\n",
    "# Diagonal entries represent the accuracies of each class\n",
    "print(\"Class 0 Accuracy : \", cm.diagonal()[0])\n",
    "print(\"Class 1 Accuracy : \", cm.diagonal()[1])"
   ]
  },
  {
   "cell_type": "markdown",
   "metadata": {},
   "source": [
    "As we can see that we are slighly compromising the overall accuracy and Class 0 Accuracy but on the other hand we can see that Class 1 Accuracy got increased. "
   ]
  },
  {
   "cell_type": "markdown",
   "metadata": {},
   "source": [
    "#### Solution :  Under-Sampling"
   ]
  },
  {
   "cell_type": "markdown",
   "metadata": {},
   "source": [
    "Observe the proportions of the classes in the target data."
   ]
  },
  {
   "cell_type": "code",
   "execution_count": 18,
   "metadata": {},
   "outputs": [
    {
     "data": {
      "text/plain": [
       "0    31940\n",
       "1     4228\n",
       "Name: y_code, dtype: int64"
      ]
     },
     "execution_count": 18,
     "metadata": {},
     "output_type": "execute_result"
    }
   ],
   "source": [
    "y_train.value_counts()"
   ]
  },
  {
   "cell_type": "markdown",
   "metadata": {},
   "source": [
    "#### Applying the Under-Sampling technique Near Miss"
   ]
  },
  {
   "cell_type": "code",
   "execution_count": 19,
   "metadata": {},
   "outputs": [
    {
     "data": {
      "text/plain": [
       "1    4228\n",
       "0    4228\n",
       "Name: y_code, dtype: int64"
      ]
     },
     "execution_count": 19,
     "metadata": {},
     "output_type": "execute_result"
    }
   ],
   "source": [
    "# Init the near miss model\n",
    "nr = NearMiss(n_neighbors = 6)\n",
    "\n",
    "# Getting new data\n",
    "X_train_NM, y_train_NM = nr.fit_sample(X_train, y_train)\n",
    "\n",
    "# Checking the data after near miss\n",
    "y_train_NM.value_counts()"
   ]
  },
  {
   "cell_type": "markdown",
   "metadata": {},
   "source": [
    "As we can see that no we reduced the number of majority classes and both classes have same observations."
   ]
  },
  {
   "cell_type": "code",
   "execution_count": 20,
   "metadata": {},
   "outputs": [],
   "source": [
    "# Init model\n",
    "log_model = LogisticRegression(random_state = 79)\n",
    "\n",
    "# Fitting the model\n",
    "log_model.fit(X_train_NM, y_train_NM);"
   ]
  },
  {
   "cell_type": "code",
   "execution_count": 21,
   "metadata": {},
   "outputs": [
    {
     "name": "stdout",
     "output_type": "stream",
     "text": [
      "Overall Accuracy of the model :  0.6115903561159035\n"
     ]
    }
   ],
   "source": [
    "y_valid_pred = log_model.predict(X_valid)\n",
    "\n",
    "# Checking the performance of the model\n",
    "print(\"Overall Accuracy of the model : \", accuracy_score(y_valid, y_valid_pred))"
   ]
  },
  {
   "cell_type": "code",
   "execution_count": 22,
   "metadata": {},
   "outputs": [
    {
     "name": "stdout",
     "output_type": "stream",
     "text": [
      "Class 0 Accuracy :  0.5832707237665915\n",
      "Class 1 Accuracy :  0.8257575757575758\n"
     ]
    }
   ],
   "source": [
    "# Confusion matrix\n",
    "cm = confusion_matrix(y_valid, y_valid_pred)\n",
    "\n",
    "# Normalizing the entries in the matrix\n",
    "cm = cm.astype('float') / cm.sum(axis=1)[:, np.newaxis]\n",
    "\n",
    "# Diagonal entries represent the accuracies of each class\n",
    "print(\"Class 0 Accuracy : \", cm.diagonal()[0])\n",
    "print(\"Class 1 Accuracy : \", cm.diagonal()[1])"
   ]
  },
  {
   "cell_type": "markdown",
   "metadata": {},
   "source": [
    "As we can see that we are compromising the overall accuracy and Class 0 Accuracy but on the other hand we can see that Class 1 Accuracy got significantly increased. But near miss caused the overall accuracy to get very low. So we will stick with the SMOTE instead of NEARMISS."
   ]
  },
  {
   "cell_type": "markdown",
   "metadata": {},
   "source": [
    "## Modelling"
   ]
  },
  {
   "cell_type": "markdown",
   "metadata": {},
   "source": [
    "We can perform Grid search but it gives us the best parameters based on the overall accuracy and here we are trying to find the best parameters that give us good overall accuracy as well as good class wise accuracy, hence performing the grid search using for loops."
   ]
  },
  {
   "cell_type": "markdown",
   "metadata": {},
   "source": [
    "### Logistic Regression"
   ]
  },
  {
   "cell_type": "markdown",
   "metadata": {},
   "source": [
    "#### Hyperparameter selection"
   ]
  },
  {
   "cell_type": "code",
   "execution_count": 29,
   "metadata": {
    "scrolled": false
   },
   "outputs": [
    {
     "name": "stdout",
     "output_type": "stream",
     "text": [
      "TOL :  1e-05\n",
      "C :  0.001\n",
      "Overall accuracy(Train) :  0.8552442078897934\n",
      "Overall accuracy(Valid) :  0.8476000884760009\n",
      "Class 0 Accuracy :  0.8620085149010769\n",
      "Class 1 Accuracy :  0.7386363636363636\n",
      "\n",
      "#############################################\n",
      "\n",
      "TOL :  1e-05\n",
      "C :  0.01\n",
      "Overall accuracy(Train) :  0.8897463994990608\n",
      "Overall accuracy(Valid) :  0.8721521787215218\n",
      "Class 0 Accuracy :  0.8925619834710744\n",
      "Class 1 Accuracy :  0.7178030303030303\n",
      "\n",
      "#############################################\n",
      "\n",
      "TOL :  1e-05\n",
      "C :  0.1\n",
      "Overall accuracy(Train) :  0.902504696305573\n",
      "Overall accuracy(Valid) :  0.8887414288874143\n",
      "Class 0 Accuracy :  0.9226145755071374\n",
      "Class 1 Accuracy :  0.6325757575757576\n",
      "\n",
      "#############################################\n",
      "\n",
      "TOL :  1e-05\n",
      "C :  1\n",
      "Overall accuracy(Train) :  0.9022855353788353\n",
      "Overall accuracy(Valid) :  0.8953771289537713\n",
      "Class 0 Accuracy :  0.9328825444527924\n",
      "Class 1 Accuracy :  0.6117424242424242\n",
      "\n",
      "#############################################\n",
      "\n",
      "TOL :  1e-05\n",
      "C :  10\n",
      "Overall accuracy(Train) :  0.9021133375078272\n",
      "Overall accuracy(Valid) :  0.8958195089581951\n",
      "Class 0 Accuracy :  0.9336338592536939\n",
      "Class 1 Accuracy :  0.6098484848484849\n",
      "\n",
      "#############################################\n",
      "\n",
      "TOL :  1e-05\n",
      "C :  100\n",
      "Overall accuracy(Train) :  0.9020663744520977\n",
      "Overall accuracy(Valid) :  0.8955983189559832\n",
      "Class 0 Accuracy :  0.9333834209867268\n",
      "Class 1 Accuracy :  0.6098484848484849\n",
      "\n",
      "#############################################\n",
      "\n",
      "TOL :  1e-05\n",
      "C :  1000\n",
      "Overall accuracy(Train) :  0.902128991859737\n",
      "Overall accuracy(Valid) :  0.8949347489493474\n",
      "Class 0 Accuracy :  0.9333834209867268\n",
      "Class 1 Accuracy :  0.6041666666666666\n",
      "\n",
      "#############################################\n",
      "\n",
      "TOL :  1e-06\n",
      "C :  0.001\n",
      "Overall accuracy(Train) :  0.8552442078897934\n",
      "Overall accuracy(Valid) :  0.8476000884760009\n",
      "Class 0 Accuracy :  0.8620085149010769\n",
      "Class 1 Accuracy :  0.7386363636363636\n",
      "\n",
      "#############################################\n",
      "\n",
      "TOL :  1e-06\n",
      "C :  0.01\n",
      "Overall accuracy(Train) :  0.8897463994990608\n",
      "Overall accuracy(Valid) :  0.8721521787215218\n",
      "Class 0 Accuracy :  0.8925619834710744\n",
      "Class 1 Accuracy :  0.7178030303030303\n",
      "\n",
      "#############################################\n",
      "\n",
      "TOL :  1e-06\n",
      "C :  0.1\n",
      "Overall accuracy(Train) :  0.902504696305573\n",
      "Overall accuracy(Valid) :  0.8887414288874143\n",
      "Class 0 Accuracy :  0.9226145755071374\n",
      "Class 1 Accuracy :  0.6325757575757576\n",
      "\n",
      "#############################################\n",
      "\n",
      "TOL :  1e-06\n",
      "C :  1\n",
      "Overall accuracy(Train) :  0.9022855353788353\n",
      "Overall accuracy(Valid) :  0.8953771289537713\n",
      "Class 0 Accuracy :  0.9328825444527924\n",
      "Class 1 Accuracy :  0.6117424242424242\n",
      "\n",
      "#############################################\n",
      "\n",
      "TOL :  1e-06\n",
      "C :  10\n",
      "Overall accuracy(Train) :  0.9021133375078272\n",
      "Overall accuracy(Valid) :  0.8958195089581951\n",
      "Class 0 Accuracy :  0.9336338592536939\n",
      "Class 1 Accuracy :  0.6098484848484849\n",
      "\n",
      "#############################################\n",
      "\n",
      "TOL :  1e-06\n",
      "C :  100\n",
      "Overall accuracy(Train) :  0.9020663744520977\n",
      "Overall accuracy(Valid) :  0.8955983189559832\n",
      "Class 0 Accuracy :  0.9333834209867268\n",
      "Class 1 Accuracy :  0.6098484848484849\n",
      "\n",
      "#############################################\n",
      "\n",
      "TOL :  1e-06\n",
      "C :  1000\n",
      "Overall accuracy(Train) :  0.902128991859737\n",
      "Overall accuracy(Valid) :  0.8949347489493474\n",
      "Class 0 Accuracy :  0.9333834209867268\n",
      "Class 1 Accuracy :  0.6041666666666666\n",
      "\n",
      "#############################################\n",
      "\n",
      "TOL :  1e-07\n",
      "C :  0.001\n",
      "Overall accuracy(Train) :  0.8552442078897934\n",
      "Overall accuracy(Valid) :  0.8476000884760009\n",
      "Class 0 Accuracy :  0.8620085149010769\n",
      "Class 1 Accuracy :  0.7386363636363636\n",
      "\n",
      "#############################################\n",
      "\n",
      "TOL :  1e-07\n",
      "C :  0.01\n",
      "Overall accuracy(Train) :  0.8897463994990608\n",
      "Overall accuracy(Valid) :  0.8721521787215218\n",
      "Class 0 Accuracy :  0.8925619834710744\n",
      "Class 1 Accuracy :  0.7178030303030303\n",
      "\n",
      "#############################################\n",
      "\n",
      "TOL :  1e-07\n",
      "C :  0.1\n",
      "Overall accuracy(Train) :  0.902504696305573\n",
      "Overall accuracy(Valid) :  0.8887414288874143\n",
      "Class 0 Accuracy :  0.9226145755071374\n",
      "Class 1 Accuracy :  0.6325757575757576\n",
      "\n",
      "#############################################\n",
      "\n",
      "TOL :  1e-07\n",
      "C :  1\n",
      "Overall accuracy(Train) :  0.9022855353788353\n",
      "Overall accuracy(Valid) :  0.8953771289537713\n",
      "Class 0 Accuracy :  0.9328825444527924\n",
      "Class 1 Accuracy :  0.6117424242424242\n",
      "\n",
      "#############################################\n",
      "\n",
      "TOL :  1e-07\n",
      "C :  10\n",
      "Overall accuracy(Train) :  0.9021133375078272\n",
      "Overall accuracy(Valid) :  0.8958195089581951\n",
      "Class 0 Accuracy :  0.9336338592536939\n",
      "Class 1 Accuracy :  0.6098484848484849\n",
      "\n",
      "#############################################\n",
      "\n",
      "TOL :  1e-07\n",
      "C :  100\n",
      "Overall accuracy(Train) :  0.9020663744520977\n",
      "Overall accuracy(Valid) :  0.8955983189559832\n",
      "Class 0 Accuracy :  0.9333834209867268\n",
      "Class 1 Accuracy :  0.6098484848484849\n",
      "\n",
      "#############################################\n",
      "\n",
      "TOL :  1e-07\n",
      "C :  1000\n",
      "Overall accuracy(Train) :  0.902128991859737\n",
      "Overall accuracy(Valid) :  0.8949347489493474\n",
      "Class 0 Accuracy :  0.9333834209867268\n",
      "Class 1 Accuracy :  0.6041666666666666\n",
      "\n",
      "#############################################\n",
      "\n",
      "TOL :  1e-08\n",
      "C :  0.001\n",
      "Overall accuracy(Train) :  0.8552442078897934\n",
      "Overall accuracy(Valid) :  0.8476000884760009\n",
      "Class 0 Accuracy :  0.8620085149010769\n",
      "Class 1 Accuracy :  0.7386363636363636\n",
      "\n",
      "#############################################\n",
      "\n",
      "TOL :  1e-08\n",
      "C :  0.01\n",
      "Overall accuracy(Train) :  0.8897463994990608\n",
      "Overall accuracy(Valid) :  0.8721521787215218\n",
      "Class 0 Accuracy :  0.8925619834710744\n",
      "Class 1 Accuracy :  0.7178030303030303\n",
      "\n",
      "#############################################\n",
      "\n",
      "TOL :  1e-08\n",
      "C :  0.1\n",
      "Overall accuracy(Train) :  0.902504696305573\n",
      "Overall accuracy(Valid) :  0.8887414288874143\n",
      "Class 0 Accuracy :  0.9226145755071374\n",
      "Class 1 Accuracy :  0.6325757575757576\n",
      "\n",
      "#############################################\n",
      "\n",
      "TOL :  1e-08\n",
      "C :  1\n",
      "Overall accuracy(Train) :  0.9022855353788353\n",
      "Overall accuracy(Valid) :  0.8953771289537713\n",
      "Class 0 Accuracy :  0.9328825444527924\n",
      "Class 1 Accuracy :  0.6117424242424242\n",
      "\n",
      "#############################################\n",
      "\n",
      "TOL :  1e-08\n",
      "C :  10\n",
      "Overall accuracy(Train) :  0.9021133375078272\n",
      "Overall accuracy(Valid) :  0.8958195089581951\n",
      "Class 0 Accuracy :  0.9336338592536939\n",
      "Class 1 Accuracy :  0.6098484848484849\n",
      "\n",
      "#############################################\n",
      "\n",
      "TOL :  1e-08\n",
      "C :  100\n",
      "Overall accuracy(Train) :  0.9020663744520977\n",
      "Overall accuracy(Valid) :  0.8955983189559832\n",
      "Class 0 Accuracy :  0.9333834209867268\n",
      "Class 1 Accuracy :  0.6098484848484849\n",
      "\n",
      "#############################################\n",
      "\n",
      "TOL :  1e-08\n",
      "C :  1000\n",
      "Overall accuracy(Train) :  0.902128991859737\n",
      "Overall accuracy(Valid) :  0.8949347489493474\n",
      "Class 0 Accuracy :  0.9333834209867268\n",
      "Class 1 Accuracy :  0.6041666666666666\n",
      "\n",
      "#############################################\n",
      "\n"
     ]
    }
   ],
   "source": [
    "# Tolerance for criteria\n",
    "tol = [0.00001, 0.000001, 0.0000001, 0.00000001]\n",
    "\n",
    "# Cost for regularization\n",
    "cost = [0.001, 0.01, 0.1, 1, 10, 100, 1000]\n",
    "\n",
    "# Looping through all the combinations of parameters\n",
    "for t in tol:\n",
    "    \n",
    "    for c in cost:\n",
    "        \n",
    "        # Printing the parameters\n",
    "        print(\"TOL : \", t)\n",
    "        print(\"C : \", c)\n",
    "        \n",
    "        # INIT the model\n",
    "        lr = LogisticRegression(tol = t, C = c, random_state = 79)\n",
    "        \n",
    "        # Fitting the model\n",
    "        lr.fit(X_train_SMOTE, y_train_SMOTE)\n",
    "        \n",
    "        # Predicting using the model\n",
    "        pred = lr.predict(X_valid)\n",
    "        \n",
    "        # Overall accuracy score\n",
    "        ## Train\n",
    "        print(\"Overall accuracy(Train) : \", accuracy_score(y_train_SMOTE, lr.predict(X_train_SMOTE)))\n",
    "        ## Valid\n",
    "        print(\"Overall accuracy(Valid) : \", accuracy_score(y_valid, pred))\n",
    "        \n",
    "        # Classwise accuracy\n",
    "        classwise_accuracy(y_valid, pred)"
   ]
  },
  {
   "cell_type": "markdown",
   "metadata": {},
   "source": [
    "As we can see that for C = 0.001 and all the values of TOL we got the highest overall and class wise accuracy. And the accuracy is consistent across the train and valid data. We will stick to the highest TOL and C = 0.001 values. Results is as following:\n",
    "\n",
    "TOL :  1e-05\n",
    "\n",
    "C :  0.001\n",
    "\n",
    "Overall accuracy(Train) :  0.8552442078897934\n",
    "\n",
    "\n",
    "Overall accuracy(Valid) :  0.8476000884760009\n",
    "\n",
    "Class 0 Accuracy :  0.8620085149010769\n",
    "\n",
    "Class 1 Accuracy :  0.7386363636363636"
   ]
  },
  {
   "cell_type": "markdown",
   "metadata": {},
   "source": [
    "#### The best model"
   ]
  },
  {
   "cell_type": "code",
   "execution_count": 30,
   "metadata": {},
   "outputs": [
    {
     "name": "stdout",
     "output_type": "stream",
     "text": [
      "Overall accuracy (Train) :  0.8552442078897934\n",
      "Overall accuracy (Validation) :  0.8476000884760009\n",
      "Class 0 Accuracy :  0.8620085149010769\n",
      "Class 1 Accuracy :  0.7386363636363636\n"
     ]
    }
   ],
   "source": [
    "# Init the model with the best params\n",
    "lr_final = LogisticRegression(tol = 0.00001, C = 0.001, random_state = 79)\n",
    "\n",
    "# Fitting the data\n",
    "lr_final.fit(X_train_SMOTE, y_train_SMOTE)\n",
    "\n",
    "\n",
    "# Overall accuracy score for training data\n",
    "print(\"Overall accuracy (Train) : \", accuracy_score(y_train_SMOTE, \n",
    "                                            lr_final.predict(X_train_SMOTE)))\n",
    "\n",
    "# Predicting using the final model\n",
    "pred = lr_final.predict(X_valid)\n",
    "\n",
    "# Overall accuracy score for validation data\n",
    "print(\"Overall accuracy (Validation) : \", accuracy_score(y_valid, pred))\n",
    "\n",
    "\n",
    "# class wise accuracy\n",
    "classwise_accuracy(y_valid, pred, False)\n",
    "\n",
    "# Saving the model\n",
    "dump(lr_final, 'MODELS/Log_reg.joblib');"
   ]
  },
  {
   "cell_type": "markdown",
   "metadata": {},
   "source": [
    "As we can see that model accuracy is consistent across the training and validation dataset we can rule out the possibilities of under or over fitting."
   ]
  },
  {
   "cell_type": "markdown",
   "metadata": {},
   "source": [
    "### Decision Tree"
   ]
  },
  {
   "cell_type": "markdown",
   "metadata": {},
   "source": [
    "#### Parameter Selection"
   ]
  },
  {
   "cell_type": "code",
   "execution_count": 27,
   "metadata": {
    "scrolled": false
   },
   "outputs": [
    {
     "name": "stdout",
     "output_type": "stream",
     "text": [
      "SPLIT :  1000\n",
      "LEAF :  500\n",
      "Overall accuracy(train) :  0.8435660613650595\n",
      "Overall accuracy(valid) :  0.7591240875912408\n",
      "Class 0 Accuracy :  0.7510643626346105\n",
      "Class 1 Accuracy :  0.8200757575757576\n",
      "\n",
      "#############################################\n",
      "\n",
      "SPLIT :  1000\n",
      "LEAF :  400\n",
      "Overall accuracy(train) :  0.8477457733249844\n",
      "Overall accuracy(valid) :  0.7575757575757576\n",
      "Class 0 Accuracy :  0.7488104182319059\n",
      "Class 1 Accuracy :  0.8238636363636364\n",
      "\n",
      "#############################################\n",
      "\n",
      "SPLIT :  1000\n",
      "LEAF :  300\n",
      "Overall accuracy(train) :  0.8501565435190983\n",
      "Overall accuracy(valid) :  0.7624419376244194\n",
      "Class 0 Accuracy :  0.7535687453042825\n",
      "Class 1 Accuracy :  0.8295454545454546\n",
      "\n",
      "#############################################\n",
      "\n",
      "SPLIT :  1000\n",
      "LEAF :  200\n",
      "Overall accuracy(train) :  0.8522698810269255\n",
      "Overall accuracy(valid) :  0.7489493474894935\n",
      "Class 0 Accuracy :  0.7350363135487102\n",
      "Class 1 Accuracy :  0.8541666666666666\n",
      "\n",
      "#############################################\n",
      "\n",
      "SPLIT :  1000\n",
      "LEAF :  100\n",
      "Overall accuracy(train) :  0.8633844708829055\n",
      "Overall accuracy(valid) :  0.7604512276045122\n",
      "Class 0 Accuracy :  0.7475582268970699\n",
      "Class 1 Accuracy :  0.8579545454545454\n",
      "\n",
      "#############################################\n",
      "\n",
      "SPLIT :  900\n",
      "LEAF :  500\n",
      "Overall accuracy(train) :  0.8435660613650595\n",
      "Overall accuracy(valid) :  0.7591240875912408\n",
      "Class 0 Accuracy :  0.7510643626346105\n",
      "Class 1 Accuracy :  0.8200757575757576\n",
      "\n",
      "#############################################\n",
      "\n",
      "SPLIT :  900\n",
      "LEAF :  400\n",
      "Overall accuracy(train) :  0.8485597996242955\n",
      "Overall accuracy(valid) :  0.7575757575757576\n",
      "Class 0 Accuracy :  0.7488104182319059\n",
      "Class 1 Accuracy :  0.8238636363636364\n",
      "\n",
      "#############################################\n",
      "\n",
      "SPLIT :  900\n",
      "LEAF :  300\n",
      "Overall accuracy(train) :  0.8525516593613024\n",
      "Overall accuracy(valid) :  0.7622207476222075\n",
      "Class 0 Accuracy :  0.7535687453042825\n",
      "Class 1 Accuracy :  0.8276515151515151\n",
      "\n",
      "#############################################\n",
      "\n",
      "SPLIT :  900\n",
      "LEAF :  200\n",
      "Overall accuracy(train) :  0.8559329993738259\n",
      "Overall accuracy(valid) :  0.75204600752046\n",
      "Class 0 Accuracy :  0.7382920110192838\n",
      "Class 1 Accuracy :  0.8560606060606061\n",
      "\n",
      "#############################################\n",
      "\n",
      "SPLIT :  900\n",
      "LEAF :  100\n",
      "Overall accuracy(train) :  0.8657952410770194\n",
      "Overall accuracy(valid) :  0.7604512276045122\n",
      "Class 0 Accuracy :  0.7473077886301027\n",
      "Class 1 Accuracy :  0.8598484848484849\n",
      "\n",
      "#############################################\n",
      "\n",
      "SPLIT :  800\n",
      "LEAF :  500\n",
      "Overall accuracy(train) :  0.8435660613650595\n",
      "Overall accuracy(valid) :  0.7591240875912408\n",
      "Class 0 Accuracy :  0.7510643626346105\n",
      "Class 1 Accuracy :  0.8200757575757576\n",
      "\n",
      "#############################################\n",
      "\n",
      "SPLIT :  800\n",
      "LEAF :  400\n",
      "Overall accuracy(train) :  0.8491233562930495\n",
      "Overall accuracy(valid) :  0.7635478876354789\n",
      "Class 0 Accuracy :  0.7558226897069872\n",
      "Class 1 Accuracy :  0.821969696969697\n",
      "\n",
      "#############################################\n",
      "\n",
      "SPLIT :  800\n",
      "LEAF :  300\n",
      "Overall accuracy(train) :  0.8531152160300564\n",
      "Overall accuracy(valid) :  0.7681928776819288\n",
      "Class 0 Accuracy :  0.7605810167793638\n",
      "Class 1 Accuracy :  0.8257575757575758\n",
      "\n",
      "#############################################\n",
      "\n",
      "SPLIT :  800\n",
      "LEAF :  200\n",
      "Overall accuracy(train) :  0.8570601127113338\n",
      "Overall accuracy(valid) :  0.7670869276708693\n",
      "Class 0 Accuracy :  0.7570748810418232\n",
      "Class 1 Accuracy :  0.8428030303030303\n",
      "\n",
      "#############################################\n",
      "\n",
      "SPLIT :  800\n",
      "LEAF :  100\n",
      "Overall accuracy(train) :  0.8695992485911084\n",
      "Overall accuracy(valid) :  0.7666445476664455\n",
      "Class 0 Accuracy :  0.7550713749060857\n",
      "Class 1 Accuracy :  0.8541666666666666\n",
      "\n",
      "#############################################\n",
      "\n",
      "SPLIT :  700\n",
      "LEAF :  500\n",
      "Overall accuracy(train) :  0.8435660613650595\n",
      "Overall accuracy(valid) :  0.7591240875912408\n",
      "Class 0 Accuracy :  0.7510643626346105\n",
      "Class 1 Accuracy :  0.8200757575757576\n",
      "\n",
      "#############################################\n",
      "\n",
      "SPLIT :  700\n",
      "LEAF :  400\n",
      "Overall accuracy(train) :  0.8491233562930495\n",
      "Overall accuracy(valid) :  0.7635478876354789\n",
      "Class 0 Accuracy :  0.7558226897069872\n",
      "Class 1 Accuracy :  0.821969696969697\n",
      "\n",
      "#############################################\n",
      "\n",
      "SPLIT :  700\n",
      "LEAF :  300\n",
      "Overall accuracy(train) :  0.853522229179712\n",
      "Overall accuracy(valid) :  0.7681928776819288\n",
      "Class 0 Accuracy :  0.7605810167793638\n",
      "Class 1 Accuracy :  0.8257575757575758\n",
      "\n",
      "#############################################\n",
      "\n",
      "SPLIT :  700\n",
      "LEAF :  200\n",
      "Overall accuracy(train) :  0.8570601127113338\n",
      "Overall accuracy(valid) :  0.7670869276708693\n",
      "Class 0 Accuracy :  0.7570748810418232\n",
      "Class 1 Accuracy :  0.8428030303030303\n",
      "\n",
      "#############################################\n",
      "\n",
      "SPLIT :  700\n",
      "LEAF :  100\n",
      "Overall accuracy(train) :  0.8696618659987476\n",
      "Overall accuracy(valid) :  0.7688564476885644\n",
      "Class 0 Accuracy :  0.758076634109692\n",
      "Class 1 Accuracy :  0.8503787878787878\n",
      "\n",
      "#############################################\n",
      "\n",
      "SPLIT :  600\n",
      "LEAF :  500\n",
      "Overall accuracy(train) :  0.8435660613650595\n",
      "Overall accuracy(valid) :  0.7591240875912408\n",
      "Class 0 Accuracy :  0.7510643626346105\n",
      "Class 1 Accuracy :  0.8200757575757576\n",
      "\n",
      "#############################################\n",
      "\n",
      "SPLIT :  600\n",
      "LEAF :  400\n",
      "Overall accuracy(train) :  0.8491233562930495\n",
      "Overall accuracy(valid) :  0.7635478876354789\n",
      "Class 0 Accuracy :  0.7558226897069872\n",
      "Class 1 Accuracy :  0.821969696969697\n",
      "\n",
      "#############################################\n",
      "\n",
      "SPLIT :  600\n",
      "LEAF :  300\n",
      "Overall accuracy(train) :  0.853522229179712\n",
      "Overall accuracy(valid) :  0.7681928776819288\n",
      "Class 0 Accuracy :  0.7605810167793638\n",
      "Class 1 Accuracy :  0.8257575757575758\n",
      "\n",
      "#############################################\n",
      "\n",
      "SPLIT :  600\n",
      "LEAF :  200\n",
      "Overall accuracy(train) :  0.8579211020663744\n",
      "Overall accuracy(valid) :  0.7659809776598098\n",
      "Class 0 Accuracy :  0.7545704983721513\n",
      "Class 1 Accuracy :  0.8522727272727273\n",
      "\n",
      "#############################################\n",
      "\n",
      "SPLIT :  600\n",
      "LEAF :  100\n",
      "Overall accuracy(train) :  0.8698340638697558\n",
      "Overall accuracy(valid) :  0.7646538376465384\n",
      "Class 0 Accuracy :  0.7520661157024794\n",
      "Class 1 Accuracy :  0.8598484848484849\n",
      "\n",
      "#############################################\n",
      "\n",
      "SPLIT :  500\n",
      "LEAF :  500\n",
      "Overall accuracy(train) :  0.8435660613650595\n",
      "Overall accuracy(valid) :  0.7591240875912408\n",
      "Class 0 Accuracy :  0.7510643626346105\n",
      "Class 1 Accuracy :  0.8200757575757576\n",
      "\n",
      "#############################################\n",
      "\n",
      "SPLIT :  500\n",
      "LEAF :  400\n",
      "Overall accuracy(train) :  0.8491233562930495\n",
      "Overall accuracy(valid) :  0.7635478876354789\n",
      "Class 0 Accuracy :  0.7558226897069872\n",
      "Class 1 Accuracy :  0.821969696969697\n",
      "\n",
      "#############################################\n",
      "\n",
      "SPLIT :  500\n",
      "LEAF :  300\n",
      "Overall accuracy(train) :  0.853522229179712\n",
      "Overall accuracy(valid) :  0.7681928776819288\n",
      "Class 0 Accuracy :  0.7605810167793638\n",
      "Class 1 Accuracy :  0.8257575757575758\n",
      "\n",
      "#############################################\n",
      "\n",
      "SPLIT :  500\n",
      "LEAF :  200\n",
      "Overall accuracy(train) :  0.8599405134627427\n",
      "Overall accuracy(valid) :  0.7571333775713338\n",
      "Class 0 Accuracy :  0.7433007763586276\n",
      "Class 1 Accuracy :  0.8617424242424242\n",
      "\n",
      "#############################################\n",
      "\n",
      "SPLIT :  500\n",
      "LEAF :  100\n",
      "Overall accuracy(train) :  0.8718691296180339\n",
      "Overall accuracy(valid) :  0.7653174076531741\n",
      "Class 0 Accuracy :  0.7525669922364138\n",
      "Class 1 Accuracy :  0.8617424242424242\n",
      "\n",
      "#############################################\n",
      "\n"
     ]
    }
   ],
   "source": [
    "# Parameters of choice\n",
    "min_sample_splits = [1000, 900, 800, 700, 600, 500]\n",
    "min_sample_leafs = [500, 400, 300, 200, 100]\n",
    "\n",
    "\n",
    "for split in min_sample_splits:\n",
    "    \n",
    "    for leaf in min_sample_leafs:\n",
    "        \n",
    "        print(\"SPLIT : \", split)\n",
    "        print(\"LEAF : \", leaf)\n",
    "        \n",
    "        dt = DecisionTreeClassifier(\n",
    "                                min_samples_split = split, \n",
    "                                min_samples_leaf = leaf,\n",
    "                                random_state = 79\n",
    "                            )\n",
    "        \n",
    "        dt.fit(X_train_SMOTE, y_train_SMOTE)\n",
    "        \n",
    "        # Predicting using the model\n",
    "        pred = dt.predict(X_valid)\n",
    "        \n",
    "        # Overall accuracy\n",
    "        ## train\n",
    "        print(\"Overall accuracy(train) : \", accuracy_score(y_train_SMOTE, dt.predict(X_train_SMOTE)))\n",
    "        ## Valid\n",
    "        print(\"Overall accuracy(valid) : \", accuracy_score(y_valid, pred))\n",
    "        \n",
    "        # Classwise accuracy (Valid)\n",
    "        classwise_accuracy(y_valid, pred)"
   ]
  },
  {
   "cell_type": "markdown",
   "metadata": {},
   "source": [
    "We are going to choose min_samples_split = 800 and min_samples_leaf = 400 as we have almost same overall accuracy as the highest overall accuracy and individual class accuracies are also the same. There are also other parameter combinations which got the same result such as min_sample_split = 700, 600, 500 and min_sample_leaf = 400. "
   ]
  },
  {
   "cell_type": "markdown",
   "metadata": {},
   "source": [
    "#### The best model"
   ]
  },
  {
   "cell_type": "code",
   "execution_count": 31,
   "metadata": {},
   "outputs": [
    {
     "name": "stdout",
     "output_type": "stream",
     "text": [
      "Overall accuracy (Train) :  0.8491233562930495\n",
      "Overall accuracy (Validation) :  0.7635478876354789\n",
      "Class 0 Accuracy :  0.7558226897069872\n",
      "Class 1 Accuracy :  0.821969696969697\n"
     ]
    }
   ],
   "source": [
    "# Init the model with the best params\n",
    "dt_final = DecisionTreeClassifier(\n",
    "                                  min_samples_split = 800, \n",
    "                                  min_samples_leaf = 400,\n",
    "                                  random_state = 79\n",
    "                                )\n",
    "\n",
    "# Fitting the data\n",
    "dt_final.fit(X_train_SMOTE, y_train_SMOTE)\n",
    "\n",
    "\n",
    "# Overall accuracy score for training data\n",
    "print(\"Overall accuracy (Train) : \", accuracy_score(y_train_SMOTE, \n",
    "                                            dt_final.predict(X_train_SMOTE)))\n",
    "\n",
    "# Predicting on validation data\n",
    "pred = dt_final.predict(X_valid)\n",
    "\n",
    "# Overall accuracy score for validation data\n",
    "print(\"Overall accuracy (Validation) : \", accuracy_score(y_valid, pred))\n",
    "\n",
    "# Classwise accuracy\n",
    "classwise_accuracy(y_valid, pred, False)\n",
    "\n",
    "# Saving the model\n",
    "dump(dt_final, 'MODELS/dt.joblib');"
   ]
  },
  {
   "cell_type": "markdown",
   "metadata": {},
   "source": [
    "As we can see that model is performing good on training data but slighly poorly on validation data. Model is slightly overfitting on the training data. We will try to address this problem using boosting algorithms and using cluster of trees(RandomForest). "
   ]
  },
  {
   "cell_type": "markdown",
   "metadata": {},
   "source": [
    "### Random Forest"
   ]
  },
  {
   "cell_type": "markdown",
   "metadata": {},
   "source": [
    "We will use the best parameters from decision tree because random forest is nothing but just cluster of decision tree classifiers."
   ]
  },
  {
   "cell_type": "markdown",
   "metadata": {},
   "source": [
    "#### Parameter Selection"
   ]
  },
  {
   "cell_type": "code",
   "execution_count": 37,
   "metadata": {
    "scrolled": false
   },
   "outputs": [
    {
     "name": "stdout",
     "output_type": "stream",
     "text": [
      "# of Estimators :  500\n",
      "Overall accuracy(train) :  0.8725109580463368\n",
      "Overall accuracy(valid) :  0.7843397478433974\n",
      "Class 0 Accuracy :  0.7733533683946907\n",
      "Class 1 Accuracy :  0.8674242424242424\n",
      "\n",
      "#############################################\n",
      "\n",
      "# of Estimators :  400\n",
      "Overall accuracy(train) :  0.8736224170319349\n",
      "Overall accuracy(valid) :  0.7825702278257023\n",
      "Class 0 Accuracy :  0.7708489857250188\n",
      "Class 1 Accuracy :  0.8712121212121212\n",
      "\n",
      "#############################################\n",
      "\n",
      "# of Estimators :  300\n",
      "Overall accuracy(train) :  0.8739668127739512\n",
      "Overall accuracy(valid) :  0.7803583278035833\n",
      "Class 0 Accuracy :  0.768595041322314\n",
      "Class 1 Accuracy :  0.8693181818181818\n",
      "\n",
      "#############################################\n",
      "\n",
      "# of Estimators :  200\n",
      "Overall accuracy(train) :  0.8727457733249844\n",
      "Overall accuracy(valid) :  0.7861092678610927\n",
      "Class 0 Accuracy :  0.776358627598297\n",
      "Class 1 Accuracy :  0.8598484848484849\n",
      "\n",
      "#############################################\n",
      "\n",
      "# of Estimators :  100\n",
      "Overall accuracy(train) :  0.8719004383218535\n",
      "Overall accuracy(valid) :  0.7878787878787878\n",
      "Class 0 Accuracy :  0.7773603806661658\n",
      "Class 1 Accuracy :  0.8674242424242424\n",
      "\n",
      "#############################################\n",
      "\n"
     ]
    }
   ],
   "source": [
    "# Parameters of choice\n",
    "estimators = [500, 400, 300, 200, 100]\n",
    "\n",
    "for est in estimators:\n",
    "    \n",
    "    print(\"# of Estimators : \", est)\n",
    "    \n",
    "    rf = RandomForestClassifier(\n",
    "                                n_estimators = est,\n",
    "                                min_samples_split = 800, \n",
    "                                min_samples_leaf = 400,\n",
    "                                random_state = 79\n",
    "                            )\n",
    "    \n",
    "    rf.fit(X_train_SMOTE, y_train_SMOTE)\n",
    "    \n",
    "    # Predicting using the model\n",
    "    pred = rf.predict(X_valid)\n",
    "    \n",
    "    # Overall accuracy\n",
    "    ## train\n",
    "    print(\"Overall accuracy(train) : \", accuracy_score(y_train_SMOTE, rf.predict(X_train_SMOTE)))\n",
    "    ## Valid\n",
    "    print(\"Overall accuracy(valid) : \", accuracy_score(y_valid, pred))\n",
    "    \n",
    "    # Classwise accuracy (Valid)\n",
    "    classwise_accuracy(y_valid, pred)"
   ]
  },
  {
   "cell_type": "markdown",
   "metadata": {},
   "source": [
    "As we can see that for 200 estimators we get great balance between classwise accuracies(least difference). Overall accuracy for training and validation data is same for all the estimators."
   ]
  },
  {
   "cell_type": "markdown",
   "metadata": {},
   "source": [
    "#### Best model"
   ]
  },
  {
   "cell_type": "code",
   "execution_count": 38,
   "metadata": {},
   "outputs": [
    {
     "name": "stdout",
     "output_type": "stream",
     "text": [
      "Train Accuracy: 0.8773794614902943\n",
      "Validation Accuracy: 0.7827914178279142\n",
      "Class 0 Accuracy :  0.7708489857250188\n",
      "Class 1 Accuracy :  0.8731060606060606\n"
     ]
    }
   ],
   "source": [
    "#Training of a Random Forest classifier with 500 trees \n",
    "rnd_clf = RandomForestClassifier(n_estimators = 200, min_samples_split = 500, \n",
    "                                 min_samples_leaf = 300, random_state = 79)\n",
    "rnd_clf.fit(X_train_SMOTE, y_train_SMOTE)\n",
    "\n",
    "# Saving the model\n",
    "rf_dump = dump(rnd_clf, 'MODELS/RF.joblib')\n",
    "\n",
    "# Loading the model\n",
    "# rnd_clf = load('MODELS/RF.joblib')\n",
    "\n",
    "# Training and Validation accuracy\n",
    "print(\"Train Accuracy:\", accuracy_score(y_train_SMOTE,\n",
    "                                       rnd_clf.predict(X_train_SMOTE)))\n",
    "\n",
    "# Prediciton on validation data\n",
    "pred = rnd_clf.predict(X_valid);\n",
    "\n",
    "print(\"Validation Accuracy:\", accuracy_score(y_valid, pred))\n",
    "\n",
    "# Classwise accuracy\n",
    "classwise_accuracy(y_valid, pred, False)"
   ]
  },
  {
   "cell_type": "markdown",
   "metadata": {},
   "source": [
    "As we can see that RandomForest is also performing same as decision tree classifier, there is no improvement in the overall accuracy for either train or validation."
   ]
  },
  {
   "cell_type": "markdown",
   "metadata": {},
   "source": [
    "### Extra trees classifier"
   ]
  },
  {
   "cell_type": "markdown",
   "metadata": {},
   "source": [
    "#### Parameter selection"
   ]
  },
  {
   "cell_type": "code",
   "execution_count": 43,
   "metadata": {
    "scrolled": false
   },
   "outputs": [
    {
     "name": "stdout",
     "output_type": "stream",
     "text": [
      "SPLIT :  1000\n",
      "LEAF :  500\n",
      "Overall accuracy(train) :  0.7974170319348779\n",
      "Overall accuracy(valid) :  0.8252598982525989\n",
      "Class 0 Accuracy :  0.8564988730277987\n",
      "Class 1 Accuracy :  0.5890151515151515\n",
      "\n",
      "#############################################\n",
      "\n",
      "SPLIT :  1000\n",
      "LEAF :  400\n",
      "Overall accuracy(train) :  0.8070288040075141\n",
      "Overall accuracy(valid) :  0.8347710683477106\n",
      "Class 0 Accuracy :  0.8660155271725519\n",
      "Class 1 Accuracy :  0.5984848484848485\n",
      "\n",
      "#############################################\n",
      "\n",
      "SPLIT :  1000\n",
      "LEAF :  300\n",
      "Overall accuracy(train) :  0.8140262993112085\n",
      "Overall accuracy(valid) :  0.8422915284229153\n",
      "Class 0 Accuracy :  0.8732782369146006\n",
      "Class 1 Accuracy :  0.6079545454545454\n",
      "\n",
      "#############################################\n",
      "\n",
      "SPLIT :  1000\n",
      "LEAF :  200\n",
      "Overall accuracy(train) :  0.8210394489668128\n",
      "Overall accuracy(valid) :  0.8462729484627295\n",
      "Class 0 Accuracy :  0.8792887553218132\n",
      "Class 1 Accuracy :  0.5965909090909091\n",
      "\n",
      "#############################################\n",
      "\n",
      "SPLIT :  1000\n",
      "LEAF :  100\n",
      "Overall accuracy(train) :  0.835097056981841\n",
      "Overall accuracy(valid) :  0.8591019685910197\n",
      "Class 0 Accuracy :  0.8928124217380415\n",
      "Class 1 Accuracy :  0.6041666666666666\n",
      "\n",
      "#############################################\n",
      "\n",
      "SPLIT :  900\n",
      "LEAF :  500\n",
      "Overall accuracy(train) :  0.7974170319348779\n",
      "Overall accuracy(valid) :  0.8252598982525989\n",
      "Class 0 Accuracy :  0.8564988730277987\n",
      "Class 1 Accuracy :  0.5890151515151515\n",
      "\n",
      "#############################################\n",
      "\n",
      "SPLIT :  900\n",
      "LEAF :  400\n",
      "Overall accuracy(train) :  0.8025829680651221\n",
      "Overall accuracy(valid) :  0.8394160583941606\n",
      "Class 0 Accuracy :  0.8722764838467317\n",
      "Class 1 Accuracy :  0.5909090909090909\n",
      "\n",
      "#############################################\n",
      "\n",
      "SPLIT :  900\n",
      "LEAF :  300\n",
      "Overall accuracy(train) :  0.8175172197871008\n",
      "Overall accuracy(valid) :  0.8427339084273391\n",
      "Class 0 Accuracy :  0.876533934385174\n",
      "Class 1 Accuracy :  0.5871212121212122\n",
      "\n",
      "#############################################\n",
      "\n",
      "SPLIT :  900\n",
      "LEAF :  200\n",
      "Overall accuracy(train) :  0.8188948027551659\n",
      "Overall accuracy(valid) :  0.8467153284671532\n",
      "Class 0 Accuracy :  0.8812922614575507\n",
      "Class 1 Accuracy :  0.5852272727272727\n",
      "\n",
      "#############################################\n",
      "\n",
      "SPLIT :  900\n",
      "LEAF :  100\n",
      "Overall accuracy(train) :  0.8396994364433312\n",
      "Overall accuracy(valid) :  0.8619774386197744\n",
      "Class 0 Accuracy :  0.8915602304032056\n",
      "Class 1 Accuracy :  0.6382575757575758\n",
      "\n",
      "#############################################\n",
      "\n",
      "SPLIT :  800\n",
      "LEAF :  500\n",
      "Overall accuracy(train) :  0.7974170319348779\n",
      "Overall accuracy(valid) :  0.8252598982525989\n",
      "Class 0 Accuracy :  0.8564988730277987\n",
      "Class 1 Accuracy :  0.5890151515151515\n",
      "\n",
      "#############################################\n",
      "\n",
      "SPLIT :  800\n",
      "LEAF :  400\n",
      "Overall accuracy(train) :  0.8061208515967438\n",
      "Overall accuracy(valid) :  0.8416279584162796\n",
      "Class 0 Accuracy :  0.8735286751815677\n",
      "Class 1 Accuracy :  0.6003787878787878\n",
      "\n",
      "#############################################\n",
      "\n",
      "SPLIT :  800\n",
      "LEAF :  300\n",
      "Overall accuracy(train) :  0.8163587977457734\n",
      "Overall accuracy(valid) :  0.8420703384207033\n",
      "Class 0 Accuracy :  0.8730277986476334\n",
      "Class 1 Accuracy :  0.6079545454545454\n",
      "\n",
      "#############################################\n",
      "\n",
      "SPLIT :  800\n",
      "LEAF :  200\n",
      "Overall accuracy(train) :  0.8262523481527865\n",
      "Overall accuracy(valid) :  0.8506967485069675\n",
      "Class 0 Accuracy :  0.8820435762584523\n",
      "Class 1 Accuracy :  0.6136363636363636\n",
      "\n",
      "#############################################\n",
      "\n",
      "SPLIT :  800\n",
      "LEAF :  100\n",
      "Overall accuracy(train) :  0.8415309956167815\n",
      "Overall accuracy(valid) :  0.8586595885865959\n",
      "Class 0 Accuracy :  0.8903080390683696\n",
      "Class 1 Accuracy :  0.6193181818181818\n",
      "\n",
      "#############################################\n",
      "\n",
      "SPLIT :  700\n",
      "LEAF :  500\n",
      "Overall accuracy(train) :  0.7974170319348779\n",
      "Overall accuracy(valid) :  0.8252598982525989\n",
      "Class 0 Accuracy :  0.8564988730277987\n",
      "Class 1 Accuracy :  0.5890151515151515\n",
      "\n",
      "#############################################\n",
      "\n",
      "SPLIT :  700\n",
      "LEAF :  400\n",
      "Overall accuracy(train) :  0.8061208515967438\n",
      "Overall accuracy(valid) :  0.8416279584162796\n",
      "Class 0 Accuracy :  0.8735286751815677\n",
      "Class 1 Accuracy :  0.6003787878787878\n",
      "\n",
      "#############################################\n",
      "\n",
      "SPLIT :  700\n",
      "LEAF :  300\n",
      "Overall accuracy(train) :  0.8145898559799625\n",
      "Overall accuracy(valid) :  0.8416279584162796\n",
      "Class 0 Accuracy :  0.8742799899824694\n",
      "Class 1 Accuracy :  0.5946969696969697\n",
      "\n",
      "#############################################\n",
      "\n",
      "SPLIT :  700\n",
      "LEAF :  200\n",
      "Overall accuracy(train) :  0.8230745147150907\n",
      "Overall accuracy(valid) :  0.8502543685025437\n",
      "Class 0 Accuracy :  0.8820435762584523\n",
      "Class 1 Accuracy :  0.6098484848484849\n",
      "\n",
      "#############################################\n",
      "\n",
      "SPLIT :  700\n",
      "LEAF :  100\n",
      "Overall accuracy(train) :  0.8396211646837821\n",
      "Overall accuracy(valid) :  0.8582172085821721\n",
      "Class 0 Accuracy :  0.8900576008014025\n",
      "Class 1 Accuracy :  0.6174242424242424\n",
      "\n",
      "#############################################\n",
      "\n",
      "SPLIT :  600\n",
      "LEAF :  500\n",
      "Overall accuracy(train) :  0.7974170319348779\n",
      "Overall accuracy(valid) :  0.8252598982525989\n",
      "Class 0 Accuracy :  0.8564988730277987\n",
      "Class 1 Accuracy :  0.5890151515151515\n",
      "\n",
      "#############################################\n",
      "\n",
      "SPLIT :  600\n",
      "LEAF :  400\n",
      "Overall accuracy(train) :  0.8061208515967438\n",
      "Overall accuracy(valid) :  0.8416279584162796\n",
      "Class 0 Accuracy :  0.8735286751815677\n",
      "Class 1 Accuracy :  0.6003787878787878\n",
      "\n",
      "#############################################\n",
      "\n",
      "SPLIT :  600\n",
      "LEAF :  300\n",
      "Overall accuracy(train) :  0.8196775203506574\n",
      "Overall accuracy(valid) :  0.8374253483742535\n",
      "Class 0 Accuracy :  0.8675181567743552\n",
      "Class 1 Accuracy :  0.6098484848484849\n",
      "\n",
      "#############################################\n",
      "\n",
      "SPLIT :  600\n",
      "LEAF :  200\n",
      "Overall accuracy(train) :  0.8273638071383844\n",
      "Overall accuracy(valid) :  0.8460517584605176\n",
      "Class 0 Accuracy :  0.876533934385174\n",
      "Class 1 Accuracy :  0.615530303030303\n",
      "\n",
      "#############################################\n",
      "\n",
      "SPLIT :  600\n",
      "LEAF :  100\n",
      "Overall accuracy(train) :  0.8381340012523482\n",
      "Overall accuracy(valid) :  0.8564476885644768\n",
      "Class 0 Accuracy :  0.89206110693714\n",
      "Class 1 Accuracy :  0.5871212121212122\n",
      "\n",
      "#############################################\n",
      "\n",
      "SPLIT :  500\n",
      "LEAF :  500\n",
      "Overall accuracy(train) :  0.7974170319348779\n",
      "Overall accuracy(valid) :  0.8252598982525989\n",
      "Class 0 Accuracy :  0.8564988730277987\n",
      "Class 1 Accuracy :  0.5890151515151515\n",
      "\n",
      "#############################################\n",
      "\n",
      "SPLIT :  500\n",
      "LEAF :  400\n",
      "Overall accuracy(train) :  0.8061208515967438\n",
      "Overall accuracy(valid) :  0.8416279584162796\n",
      "Class 0 Accuracy :  0.8735286751815677\n",
      "Class 1 Accuracy :  0.6003787878787878\n",
      "\n",
      "#############################################\n",
      "\n",
      "SPLIT :  500\n",
      "LEAF :  300\n",
      "Overall accuracy(train) :  0.8196775203506574\n",
      "Overall accuracy(valid) :  0.8374253483742535\n",
      "Class 0 Accuracy :  0.8675181567743552\n",
      "Class 1 Accuracy :  0.6098484848484849\n",
      "\n",
      "#############################################\n",
      "\n",
      "SPLIT :  500\n",
      "LEAF :  200\n",
      "Overall accuracy(train) :  0.829257983719474\n",
      "Overall accuracy(valid) :  0.8453881884538819\n",
      "Class 0 Accuracy :  0.8750313047833709\n",
      "Class 1 Accuracy :  0.6212121212121212\n",
      "\n",
      "#############################################\n",
      "\n",
      "SPLIT :  500\n",
      "LEAF :  100\n",
      "Overall accuracy(train) :  0.8412805259862242\n",
      "Overall accuracy(valid) :  0.8579960185799602\n",
      "Class 0 Accuracy :  0.8900576008014025\n",
      "Class 1 Accuracy :  0.615530303030303\n",
      "\n",
      "#############################################\n",
      "\n"
     ]
    }
   ],
   "source": [
    "# Parameters of choice\n",
    "min_sample_splits = [1000, 900, 800, 700, 600, 500]\n",
    "min_sample_leafs = [500, 400, 300, 200, 100]\n",
    "\n",
    "\n",
    "for split in min_sample_splits:\n",
    "    \n",
    "    for leaf in min_sample_leafs:\n",
    "        \n",
    "        print(\"SPLIT : \", split)\n",
    "        print(\"LEAF : \", leaf)\n",
    "        \n",
    "        ext = ExtraTreesClassifier(\n",
    "                                min_samples_split = split, \n",
    "                                min_samples_leaf = leaf,\n",
    "                                random_state = 79\n",
    "                            )\n",
    "        \n",
    "        ext.fit(X_train_SMOTE, y_train_SMOTE)\n",
    "        \n",
    "        # Predicting using the model\n",
    "        pred = ext.predict(X_valid)\n",
    "        \n",
    "        # Overall accuracy\n",
    "        ## train\n",
    "        print(\"Overall accuracy(train) : \", accuracy_score(y_train_SMOTE, ext.predict(X_train_SMOTE)))\n",
    "        ## Valid\n",
    "        print(\"Overall accuracy(valid) : \", accuracy_score(y_valid, pred))\n",
    "    \n",
    "        # Classwise accuracy\n",
    "        classwise_accuracy(y_valid, pred)"
   ]
  },
  {
   "cell_type": "markdown",
   "metadata": {},
   "source": [
    "We are ready to compromise the overall and class 0 accuracy for greater accuracy of class 1 instances. Here we will select such \n",
    "parameter combination which gives us the highest class 1 accuracy. Such parameters are:\n",
    "\n",
    "SPLIT :  900\n",
    "\n",
    "LEAF :  100\n",
    "\n",
    "Overall accuracy(valid) :  0.8619774386197744\n",
    "\n",
    "Class 0 Accuracy :  0.8915602304032056\n",
    "\n",
    "Class 1 Accuracy :  0.6382575757575758"
   ]
  },
  {
   "cell_type": "markdown",
   "metadata": {},
   "source": [
    "#### The best model"
   ]
  },
  {
   "cell_type": "code",
   "execution_count": 44,
   "metadata": {},
   "outputs": [
    {
     "name": "stdout",
     "output_type": "stream",
     "text": [
      "Train Accuracy: 0.8396994364433312\n",
      "Validation Accuracy: 0.8619774386197744\n",
      "Class 0 Accuracy :  0.8915602304032056\n",
      "Class 1 Accuracy :  0.6382575757575758\n"
     ]
    }
   ],
   "source": [
    "ext_clf = ExtraTreesClassifier(min_samples_split = 900, \n",
    "                                 min_samples_leaf = 100, random_state = 79)\n",
    "\n",
    "ext_clf.fit(X_train_SMOTE, y_train_SMOTE)\n",
    "\n",
    "# Saving the model\n",
    "ext_dump = dump(ext_clf, 'MODELS/ext.joblib')\n",
    "\n",
    "# Loading the model\n",
    "# ext_clf = load('MODELS/EXT.joblib')\n",
    "\n",
    "# Training and Validation accuracy\n",
    "print(\"Train Accuracy:\", accuracy_score(y_train_SMOTE,\n",
    "                                       ext_clf.predict(X_train_SMOTE)))\n",
    "\n",
    "# Prediciton on validation data\n",
    "pred = ext_clf.predict(X_valid);\n",
    "\n",
    "print(\"Validation Accuracy:\", accuracy_score(y_valid, pred))\n",
    "\n",
    "# Classwise accuracy\n",
    "classwise_accuracy(y_valid, pred, False)"
   ]
  },
  {
   "cell_type": "markdown",
   "metadata": {},
   "source": [
    "As we can see that model gives us consistent(almost the same) result across the training and validation dataset. But the class 1 accuracy is quite low compared to class 0 accuracy but it adequate."
   ]
  },
  {
   "cell_type": "markdown",
   "metadata": {},
   "source": [
    "### KNN"
   ]
  },
  {
   "cell_type": "markdown",
   "metadata": {},
   "source": [
    "#### Parameter selection - uniform weights"
   ]
  },
  {
   "cell_type": "code",
   "execution_count": 62,
   "metadata": {},
   "outputs": [
    {
     "name": "stdout",
     "output_type": "stream",
     "text": [
      "#Neighbours :  10\n",
      "Overall accuracy(train) :  0.9278021289918598\n",
      "Overall accuracy(valid) :  0.8440610484406105\n",
      "Class 0 Accuracy :  0.8534936138241923\n",
      "Class 1 Accuracy :  0.7727272727272727\n",
      "\n",
      "#############################################\n",
      "\n",
      "#Neighbours :  11\n",
      "Overall accuracy(train) :  0.9188008766437069\n",
      "Overall accuracy(valid) :  0.8330015483300155\n",
      "Class 0 Accuracy :  0.8352116203355873\n",
      "Class 1 Accuracy :  0.8162878787878788\n",
      "\n",
      "#############################################\n",
      "\n",
      "#Neighbours :  12\n",
      "Overall accuracy(train) :  0.9221509079524107\n",
      "Overall accuracy(valid) :  0.8411855784118558\n",
      "Class 0 Accuracy :  0.8469822188830454\n",
      "Class 1 Accuracy :  0.7973484848484849\n",
      "\n",
      "#############################################\n",
      "\n",
      "#Neighbours :  13\n",
      "Overall accuracy(train) :  0.9152943018159049\n",
      "Overall accuracy(valid) :  0.8321167883211679\n",
      "Class 0 Accuracy :  0.8334585524668169\n",
      "Class 1 Accuracy :  0.821969696969697\n",
      "\n",
      "#############################################\n",
      "\n",
      "#Neighbours :  14\n",
      "Overall accuracy(train) :  0.9181120851596744\n",
      "Overall accuracy(valid) :  0.8411855784118558\n",
      "Class 0 Accuracy :  0.8469822188830454\n",
      "Class 1 Accuracy :  0.7973484848484849\n",
      "\n",
      "#############################################\n",
      "\n",
      "#Neighbours :  15\n",
      "Overall accuracy(train) :  0.9126330619912336\n",
      "Overall accuracy(valid) :  0.8352134483521345\n",
      "Class 0 Accuracy :  0.8354620586025545\n",
      "Class 1 Accuracy :  0.8333333333333334\n",
      "\n",
      "#############################################\n",
      "\n",
      "#Neighbours :  16\n",
      "Overall accuracy(train) :  0.9143863494051346\n",
      "Overall accuracy(valid) :  0.840743198407432\n",
      "Class 0 Accuracy :  0.8447282744803406\n",
      "Class 1 Accuracy :  0.8106060606060606\n",
      "\n",
      "#############################################\n",
      "\n",
      "#Neighbours :  17\n",
      "Overall accuracy(train) :  0.9090638697557921\n",
      "Overall accuracy(valid) :  0.8334439283344393\n",
      "Class 0 Accuracy :  0.8324567993989481\n",
      "Class 1 Accuracy :  0.8409090909090909\n",
      "\n",
      "#############################################\n",
      "\n",
      "#Neighbours :  18\n",
      "Overall accuracy(train) :  0.9111772072636193\n",
      "Overall accuracy(valid) :  0.8385312983853129\n",
      "Class 0 Accuracy :  0.8404708239418983\n",
      "Class 1 Accuracy :  0.8238636363636364\n",
      "\n",
      "#############################################\n",
      "\n",
      "#Neighbours :  19\n",
      "Overall accuracy(train) :  0.9067000626174077\n",
      "Overall accuracy(valid) :  0.8303472683034727\n",
      "Class 0 Accuracy :  0.8294515401953418\n",
      "Class 1 Accuracy :  0.8371212121212122\n",
      "\n",
      "#############################################\n",
      "\n"
     ]
    }
   ],
   "source": [
    "# Number of neighbors\n",
    "neighbors = range(10, 20)\n",
    "\n",
    "for n in neighbors:\n",
    "    \n",
    "    print(\"#Neighbours : \", n)\n",
    "    \n",
    "    # Init the model\n",
    "    neigh = KNeighborsClassifier(n_neighbors = n)\n",
    "    \n",
    "    # Fitting the training data\n",
    "    neigh.fit(X_train_SMOTE, y_train_SMOTE)\n",
    "    \n",
    "    # Predictions on validation data\n",
    "    pred = neigh.predict(X_valid)\n",
    "    \n",
    "    # Overall accuracy\n",
    "    ## train\n",
    "    print(\"Overall accuracy(train) : \", accuracy_score(y_train_SMOTE, neigh.predict(X_train_SMOTE)))\n",
    "    ## Valid\n",
    "    print(\"Overall accuracy(valid) : \", accuracy_score(y_valid, pred))\n",
    "    \n",
    "    # Classwise accuracy\n",
    "    classwise_accuracy(y_valid, pred)"
   ]
  },
  {
   "cell_type": "markdown",
   "metadata": {},
   "source": [
    "AS we can see that KNN with more than 10 neighbours perfoming quite well with the data. We can see that for all the choices of neighbours there is overfitting present. It is because we performed the SMOTE on the training data and SMOTE generated extra points based on the neighbuorhood data points. Since all the choices are performing great, we will choose the #neighbours = 15 because there is classic balance b/w the accuracy of the two classes.\n",
    "\n",
    "#Neighbours :  15\n",
    "\n",
    "\n",
    "Overall accuracy(train) :  0.9126330619912336\n",
    "\n",
    "Overall accuracy(valid) :  0.8352134483521345\n",
    "\n",
    "\n",
    "Class 0 Accuracy :  0.8354620586025545\n",
    "\n",
    "Class 1 Accuracy :  0.8333333333333334\n"
   ]
  },
  {
   "cell_type": "markdown",
   "metadata": {},
   "source": [
    "#### Parameter selection - distance based weights"
   ]
  },
  {
   "cell_type": "code",
   "execution_count": 65,
   "metadata": {},
   "outputs": [
    {
     "name": "stdout",
     "output_type": "stream",
     "text": [
      "#Neighbours :  10\n",
      "Overall accuracy(train) :  1.0\n",
      "Overall accuracy(valid) :  0.8389736783897368\n",
      "Class 0 Accuracy :  0.8457300275482094\n",
      "Class 1 Accuracy :  0.7878787878787878\n",
      "\n",
      "#############################################\n",
      "\n",
      "#Neighbours :  11\n",
      "Overall accuracy(train) :  1.0\n",
      "Overall accuracy(valid) :  0.8365405883654059\n",
      "Class 0 Accuracy :  0.8404708239418983\n",
      "Class 1 Accuracy :  0.8068181818181818\n",
      "\n",
      "#############################################\n",
      "\n",
      "#Neighbours :  12\n",
      "Overall accuracy(train) :  1.0\n",
      "Overall accuracy(valid) :  0.8389736783897368\n",
      "Class 0 Accuracy :  0.8434760831455046\n",
      "Class 1 Accuracy :  0.8049242424242424\n",
      "\n",
      "#############################################\n",
      "\n",
      "#Neighbours :  13\n",
      "Overall accuracy(train) :  1.0\n",
      "Overall accuracy(valid) :  0.8365405883654059\n",
      "Class 0 Accuracy :  0.8397195091409967\n",
      "Class 1 Accuracy :  0.8125\n",
      "\n",
      "#############################################\n",
      "\n",
      "#Neighbours :  14\n",
      "Overall accuracy(train) :  1.0\n",
      "Overall accuracy(valid) :  0.8385312983853129\n",
      "Class 0 Accuracy :  0.8427247683446031\n",
      "Class 1 Accuracy :  0.8068181818181818\n",
      "\n",
      "#############################################\n",
      "\n",
      "#Neighbours :  15\n",
      "Overall accuracy(train) :  1.0\n",
      "Overall accuracy(valid) :  0.8365405883654059\n",
      "Class 0 Accuracy :  0.8384673178061608\n",
      "Class 1 Accuracy :  0.821969696969697\n",
      "\n",
      "#############################################\n",
      "\n",
      "#Neighbours :  16\n",
      "Overall accuracy(train) :  1.0\n",
      "Overall accuracy(valid) :  0.8380889183808892\n",
      "Class 0 Accuracy :  0.8407212622088656\n",
      "Class 1 Accuracy :  0.8181818181818182\n",
      "\n",
      "#############################################\n",
      "\n",
      "#Neighbours :  17\n",
      "Overall accuracy(train) :  1.0\n",
      "Overall accuracy(valid) :  0.8354346383543464\n",
      "Class 0 Accuracy :  0.8359629351364889\n",
      "Class 1 Accuracy :  0.8314393939393939\n",
      "\n",
      "#############################################\n",
      "\n",
      "#Neighbours :  18\n",
      "Overall accuracy(train) :  1.0\n",
      "Overall accuracy(valid) :  0.8369829683698297\n",
      "Class 0 Accuracy :  0.8372151264713248\n",
      "Class 1 Accuracy :  0.8352272727272727\n",
      "\n",
      "#############################################\n",
      "\n",
      "#Neighbours :  19\n",
      "Overall accuracy(train) :  1.0\n",
      "Overall accuracy(valid) :  0.8345498783454988\n",
      "Class 0 Accuracy :  0.8347107438016529\n",
      "Class 1 Accuracy :  0.8333333333333334\n",
      "\n",
      "#############################################\n",
      "\n"
     ]
    }
   ],
   "source": [
    "# Number of neighbors\n",
    "neighbors = range(10, 20)\n",
    "\n",
    "for n in neighbors:\n",
    "    \n",
    "    print(\"#Neighbours : \", n)\n",
    "    \n",
    "    # Init the model\n",
    "    neigh = KNeighborsClassifier(n_neighbors = n, weights = \"distance\")\n",
    "    \n",
    "    # Fitting the training data\n",
    "    neigh.fit(X_train_SMOTE, y_train_SMOTE)\n",
    "    \n",
    "    # Predictions on validation data\n",
    "    pred = neigh.predict(X_valid)\n",
    "    \n",
    "    # Overall accuracy\n",
    "    ## train\n",
    "    print(\"Overall accuracy(train) : \", accuracy_score(y_train_SMOTE, neigh.predict(X_train_SMOTE)))\n",
    "    ## Valid\n",
    "    print(\"Overall accuracy(valid) : \", accuracy_score(y_valid, pred))\n",
    "    \n",
    "    # Classwise accuracy\n",
    "    classwise_accuracy(y_valid, pred)"
   ]
  },
  {
   "cell_type": "markdown",
   "metadata": {},
   "source": [
    "As we can see that model if overfitting to the training data more than KNN with uniform weights. We will **use uniform weights** instead of distance based weigths."
   ]
  },
  {
   "cell_type": "markdown",
   "metadata": {},
   "source": [
    "#### Best model"
   ]
  },
  {
   "cell_type": "code",
   "execution_count": 64,
   "metadata": {},
   "outputs": [
    {
     "name": "stdout",
     "output_type": "stream",
     "text": [
      "Overall accuracy(train) :  0.9126330619912336\n",
      "Overall accuracy(valid) :  0.8352134483521345\n",
      "Class 0 Accuracy :  0.8354620586025545\n",
      "Class 1 Accuracy :  0.8333333333333334\n"
     ]
    }
   ],
   "source": [
    "# Best model init\n",
    "neigh_final = KNeighborsClassifier(n_neighbors = 15)\n",
    "\n",
    "# Fitting the model\n",
    "neigh_final.fit(X_train_SMOTE, y_train_SMOTE)\n",
    "    \n",
    "# Saving the model\n",
    "neigh_dump = dump(neigh_final, 'MODELS/KNN.joblib')\n",
    "\n",
    "# Loading the model\n",
    "# ext_clf = load('MODELS/EXT.joblib')    \n",
    "    \n",
    "# Predictions using the best model\n",
    "pred = neigh_final.predict(X_valid)\n",
    "  \n",
    "# Overall accuracy\n",
    "## train\n",
    "print(\"Overall accuracy(train) : \", accuracy_score(y_train_SMOTE, neigh_final.predict(X_train_SMOTE)))\n",
    "## Valid\n",
    "print(\"Overall accuracy(valid) : \", accuracy_score(y_valid, pred))\n",
    "    \n",
    "# Classwise accuracy\n",
    "classwise_accuracy(y_valid, pred, False)"
   ]
  },
  {
   "cell_type": "markdown",
   "metadata": {},
   "source": [
    "### Gaussian Naive Bayes"
   ]
  },
  {
   "cell_type": "code",
   "execution_count": 70,
   "metadata": {},
   "outputs": [
    {
     "name": "stdout",
     "output_type": "stream",
     "text": [
      "Overall accuracy(train) :  0.7681747025673137\n",
      "Overall accuracy(valid) :  0.710241097102411\n",
      "Class 0 Accuracy :  0.7069872276483846\n",
      "Class 1 Accuracy :  0.7348484848484849\n"
     ]
    }
   ],
   "source": [
    "# Init the model\n",
    "gnb = GaussianNB()\n",
    "\n",
    "# Fitting the data\n",
    "gnb.fit(X_train_SMOTE, y_train_SMOTE)\n",
    "\n",
    "# Predictions using the best model\n",
    "pred = gnb.predict(X_valid)\n",
    "  \n",
    "# Overall accuracy\n",
    "## train\n",
    "print(\"Overall accuracy(train) : \", accuracy_score(y_train_SMOTE, gnb.predict(X_train_SMOTE)))\n",
    "## Valid\n",
    "print(\"Overall accuracy(valid) : \", accuracy_score(y_valid, pred))\n",
    "    \n",
    "# Classwise accuracy\n",
    "classwise_accuracy(y_valid, pred, False)\n",
    "\n",
    "# Saving the model\n",
    "gnb_dump = dump(gnb, 'MODELS/GNB.joblib')"
   ]
  },
  {
   "cell_type": "markdown",
   "metadata": {},
   "source": [
    "### SVC"
   ]
  },
  {
   "cell_type": "markdown",
   "metadata": {},
   "source": [
    "We will do three different kernels(Linear/RBF/POLY) with different parameter values. We will use 10-6 for stopping criteria.  "
   ]
  },
  {
   "cell_type": "markdown",
   "metadata": {},
   "source": [
    "#### Parameter Selection - RBF"
   ]
  },
  {
   "cell_type": "code",
   "execution_count": 84,
   "metadata": {},
   "outputs": [
    {
     "name": "stdout",
     "output_type": "stream",
     "text": [
      "C :  0.001\n",
      "Overall accuracy(train) :  0.8073888541014402\n",
      "Overall accuracy(valid) :  0.7838973678389737\n",
      "Class 0 Accuracy :  0.7853744052091159\n",
      "Class 1 Accuracy :  0.7727272727272727\n",
      "\n",
      "#############################################\n",
      "\n",
      "C :  0.01\n",
      "Overall accuracy(train) :  0.8712742642454603\n",
      "Overall accuracy(valid) :  0.8396372483963724\n",
      "Class 0 Accuracy :  0.8447282744803406\n",
      "Class 1 Accuracy :  0.8011363636363636\n",
      "\n",
      "#############################################\n",
      "\n",
      "C :  0.1\n",
      "Overall accuracy(train) :  0.9134157795867252\n",
      "Overall accuracy(valid) :  0.8721521787215218\n",
      "Class 0 Accuracy :  0.8863010267968946\n",
      "Class 1 Accuracy :  0.7651515151515151\n",
      "\n",
      "#############################################\n",
      "\n",
      "C :  1\n",
      "Overall accuracy(train) :  0.9353005635566688\n",
      "Overall accuracy(valid) :  0.88940499889405\n",
      "Class 0 Accuracy :  0.9163536188329576\n",
      "Class 1 Accuracy :  0.6856060606060606\n",
      "\n",
      "#############################################\n",
      "\n",
      "C :  10\n",
      "Overall accuracy(train) :  0.957874139010645\n",
      "Overall accuracy(valid) :  0.8880778588807786\n",
      "Class 0 Accuracy :  0.925870272977711\n",
      "Class 1 Accuracy :  0.6022727272727273\n",
      "\n",
      "#############################################\n",
      "\n",
      "C :  100\n",
      "Overall accuracy(train) :  0.9793832185347526\n",
      "Overall accuracy(valid) :  0.8743640787436407\n",
      "Class 0 Accuracy :  0.9191084397695968\n",
      "Class 1 Accuracy :  0.5359848484848485\n",
      "\n",
      "#############################################\n",
      "\n",
      "C :  1000\n",
      "Overall accuracy(train) :  0.9919067000626174\n",
      "Overall accuracy(valid) :  0.8672859986728599\n",
      "Class 0 Accuracy :  0.916854495366892\n",
      "Class 1 Accuracy :  0.49242424242424243\n",
      "\n",
      "#############################################\n",
      "\n"
     ]
    }
   ],
   "source": [
    "# Choices of cost - regularization parameter\n",
    "cost = [0.001, 0.01, 0.1, 1, 10, 100, 1000]\n",
    "\n",
    "# Tolerance for stopping criterion.\n",
    "tol = 0.00001\n",
    "\n",
    "for c in cost:\n",
    "    \n",
    "    # cost\n",
    "    print(\"C : \", c)\n",
    "    \n",
    "    # Init the classifier\n",
    "    svm = SVC(C = c, kernel = 'rbf', random_state = 79)\n",
    "    \n",
    "    # Fitting the training data\n",
    "    svm.fit(X_train_SMOTE, y_train_SMOTE)\n",
    "    \n",
    "    # Predictions on validation data\n",
    "    pred = svm.predict(X_valid)\n",
    "    \n",
    "    # Overall accuracy\n",
    "    ## train\n",
    "    print(\"Overall accuracy(train) : \", accuracy_score(y_train_SMOTE, svm.predict(X_train_SMOTE)))\n",
    "    ## Valid\n",
    "    print(\"Overall accuracy(valid) : \", accuracy_score(y_valid, pred))\n",
    "    \n",
    "    # Classwise accuracy\n",
    "    classwise_accuracy(y_valid, pred)"
   ]
  },
  {
   "cell_type": "markdown",
   "metadata": {},
   "source": [
    "As we can see that as C increases Class-0 accuracy increases and the difference of train accuracy and validation accuracy."
   ]
  },
  {
   "cell_type": "markdown",
   "metadata": {},
   "source": [
    "#### Parameter Selection - Linear"
   ]
  },
  {
   "cell_type": "code",
   "execution_count": null,
   "metadata": {},
   "outputs": [
    {
     "name": "stdout",
     "output_type": "stream",
     "text": [
      "C :  0.001\n",
      "Overall accuracy(train) :  0.8731058234189104\n",
      "Overall accuracy(valid) :  0.8484848484848485\n",
      "Class 0 Accuracy :  0.8605058852992737\n",
      "Class 1 Accuracy :  0.7575757575757576\n",
      "\n",
      "#############################################\n",
      "\n",
      "C :  0.01\n",
      "Overall accuracy(train) :  0.8992172824045085\n",
      "Overall accuracy(valid) :  0.8770183587701836\n",
      "Class 0 Accuracy :  0.9020786376158277\n",
      "Class 1 Accuracy :  0.6875\n",
      "\n",
      "#############################################\n",
      "\n",
      "C :  0.1\n",
      "Overall accuracy(train) :  0.9022698810269255\n",
      "Overall accuracy(valid) :  0.8913957089139571\n",
      "Class 0 Accuracy :  0.9251189581768094\n",
      "Class 1 Accuracy :  0.6363636363636364\n",
      "\n",
      "#############################################\n",
      "\n",
      "C :  1\n",
      "Overall accuracy(train) :  0.9033969943644333\n",
      "Overall accuracy(valid) :  0.8891838088918381\n",
      "Class 0 Accuracy :  0.9238667668419734\n",
      "Class 1 Accuracy :  0.6268939393939394\n",
      "\n",
      "#############################################\n",
      "\n",
      "C :  10\n",
      "Overall accuracy(train) :  0.9036005009392611\n",
      "Overall accuracy(valid) :  0.8882990488829905\n",
      "Class 0 Accuracy :  0.9228650137741047\n",
      "Class 1 Accuracy :  0.6268939393939394\n",
      "\n",
      "#############################################\n",
      "\n",
      "C :  100\n",
      "Overall accuracy(train) :  0.9036474639949906\n",
      "Overall accuracy(valid) :  0.8885202388852024\n",
      "Class 0 Accuracy :  0.9231154520410719\n",
      "Class 1 Accuracy :  0.6268939393939394\n",
      "\n",
      "#############################################\n",
      "\n",
      "C :  1000\n"
     ]
    }
   ],
   "source": [
    "# Choices of cost - regularization parameter\n",
    "cost = [0.001, 0.01, 0.1, 1, 10, 100, 1000]\n",
    "\n",
    "# Tolerance for stopping criterion.\n",
    "tol = 0.00001\n",
    "\n",
    "for c in cost:\n",
    "    \n",
    "    # cost\n",
    "    print(\"C : \", c)\n",
    "    \n",
    "    # Init the classifier\n",
    "    svm = SVC(C = c, kernel = 'linear', random_state = 79)\n",
    "    \n",
    "    # Fitting the training data\n",
    "    svm.fit(X_train_SMOTE, y_train_SMOTE)\n",
    "    \n",
    "    # Predictions on validation data\n",
    "    pred = svm.predict(X_valid)\n",
    "    \n",
    "    # Overall accuracy\n",
    "    ## train\n",
    "    print(\"Overall accuracy(train) : \", accuracy_score(y_train_SMOTE, svm.predict(X_train_SMOTE)))\n",
    "    ## Valid\n",
    "    print(\"Overall accuracy(valid) : \", accuracy_score(y_valid, pred))\n",
    "    \n",
    "    # Classwise accuracy\n",
    "    classwise_accuracy(y_valid, pred)"
   ]
  },
  {
   "cell_type": "markdown",
   "metadata": {},
   "source": [
    "#### Parameter Selection - Poly"
   ]
  },
  {
   "cell_type": "code",
   "execution_count": null,
   "metadata": {},
   "outputs": [],
   "source": [
    "# Choices of cost - regularization parameter\n",
    "cost = [0.001, 0.01, 0.1, 1, 10, 100, 1000]\n",
    "\n",
    "# Tolerance for stopping criterion.\n",
    "tol = 0.00001\n",
    "\n",
    "for c in cost:\n",
    "    \n",
    "    # cost\n",
    "    print(\"C : \", c)\n",
    "    \n",
    "    # Init the classifier\n",
    "    svm = SVC(C = c, kernel = 'linear', random_state = 79)\n",
    "    \n",
    "    # Fitting the training data\n",
    "    svm.fit(X_train_SMOTE, y_train_SMOTE)\n",
    "    \n",
    "    # Predictions on validation data\n",
    "    pred = svm.predict(X_valid)\n",
    "    \n",
    "    # Overall accuracy\n",
    "    ## train\n",
    "    print(\"Overall accuracy(train) : \", accuracy_score(y_train_SMOTE, svm.predict(X_train_SMOTE)))\n",
    "    ## Valid\n",
    "    print(\"Overall accuracy(valid) : \", accuracy_score(y_valid, pred))\n",
    "    \n",
    "    # Classwise accuracy\n",
    "    classwise_accuracy(y_valid, pred)"
   ]
  }
 ],
 "metadata": {
  "kernelspec": {
   "display_name": "Python 3",
   "language": "python",
   "name": "python3"
  },
  "language_info": {
   "codemirror_mode": {
    "name": "ipython",
    "version": 3
   },
   "file_extension": ".py",
   "mimetype": "text/x-python",
   "name": "python",
   "nbconvert_exporter": "python",
   "pygments_lexer": "ipython3",
   "version": "3.7.6"
  }
 },
 "nbformat": 4,
 "nbformat_minor": 2
}
