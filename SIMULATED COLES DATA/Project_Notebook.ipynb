{
 "cells": [
  {
   "cell_type": "markdown",
   "metadata": {},
   "source": [
    "# 0. Importing Required Libraries"
   ]
  },
  {
   "cell_type": "code",
   "execution_count": 48,
   "metadata": {},
   "outputs": [],
   "source": [
    "import pandas as pd\n",
    "import numpy as np\n",
    "import seaborn as sns\n",
    "import matplotlib as mpl\n",
    "import matplotlib.pyplot as plt\n",
    "\n",
    "plt.style.use('ggplot')\n",
    "## Change title size of a plot\n",
    "mpl.rcParams['axes.titlesize'] = 22\n",
    "# Figure size\n",
    "mpl.rc(\"figure\", figsize = (15,7))\n",
    "## Change label size(x and y) of a plot\n",
    "mpl.rcParams['axes.labelsize'] = 18\n",
    "## Change xticks size of a plot\n",
    "mpl.rcParams['xtick.labelsize'] = 16\n",
    "## Change yticks size of a plot\n",
    "mpl.rcParams['ytick.labelsize'] = 16"
   ]
  },
  {
   "cell_type": "markdown",
   "metadata": {},
   "source": [
    "# 1. Getting Data"
   ]
  },
  {
   "cell_type": "code",
   "execution_count": 19,
   "metadata": {},
   "outputs": [],
   "source": [
    "# Reading the excel file, sheet = Coles Transactions \n",
    "data = pd.read_excel(\"Simulated Coles Data.xlsx\", sheet_name = \"Coles Transactions\")"
   ]
  },
  {
   "cell_type": "markdown",
   "metadata": {},
   "source": [
    "# 2. Data Exploration"
   ]
  },
  {
   "cell_type": "code",
   "execution_count": 20,
   "metadata": {},
   "outputs": [
    {
     "data": {
      "text/plain": [
       "(58100, 53)"
      ]
     },
     "execution_count": 20,
     "metadata": {},
     "output_type": "execute_result"
    }
   ],
   "source": [
    "# Shape of the dataframe\n",
    "data.shape"
   ]
  },
  {
   "cell_type": "markdown",
   "metadata": {},
   "source": [
    "Data has 58,100 observations and 53 variables."
   ]
  },
  {
   "cell_type": "code",
   "execution_count": 21,
   "metadata": {},
   "outputs": [
    {
     "data": {
      "text/plain": [
       "Index(['ReceiptID', 'Value', 'pmethod', 'sex', 'homeown', 'income', 'age',\n",
       "       'PostCode', 'nchildren', 'fruit', 'freshmeat', 'dairy',\n",
       "       'MozerallaCheese', 'cannedveg', 'cereal', 'frozenmeal', 'frozendessert',\n",
       "       'PizzaBase', 'TomatoSauce', 'frozen fish', 'bread', 'milk', 'softdrink',\n",
       "       'fruitjuice', 'confectionery', 'fish', 'vegetables', 'icecream',\n",
       "       'energydrink', 'tea', 'coffee', 'laundryPowder', 'householCleaners',\n",
       "       'corn chips', 'Frozen yogurt', 'Chocolate', 'Olive Oil', 'Baby Food',\n",
       "       'Napies', 'banana', 'cat food', 'dog food', 'mince', 'sunflower Oil',\n",
       "       'chicken', 'vitamins', 'deodorants', 'dishwashingliquid', 'onions',\n",
       "       'lettuce', 'KitKat', 'TeaTowel', 'Scones'],\n",
       "      dtype='object')"
      ]
     },
     "execution_count": 21,
     "metadata": {},
     "output_type": "execute_result"
    }
   ],
   "source": [
    "# Name of the columns\n",
    "data.columns"
   ]
  },
  {
   "cell_type": "code",
   "execution_count": 22,
   "metadata": {},
   "outputs": [
    {
     "data": {
      "text/html": [
       "<div>\n",
       "<style scoped>\n",
       "    .dataframe tbody tr th:only-of-type {\n",
       "        vertical-align: middle;\n",
       "    }\n",
       "\n",
       "    .dataframe tbody tr th {\n",
       "        vertical-align: top;\n",
       "    }\n",
       "\n",
       "    .dataframe thead th {\n",
       "        text-align: right;\n",
       "    }\n",
       "</style>\n",
       "<table border=\"1\" class=\"dataframe\">\n",
       "  <thead>\n",
       "    <tr style=\"text-align: right;\">\n",
       "      <th></th>\n",
       "      <th>ReceiptID</th>\n",
       "      <th>Value</th>\n",
       "      <th>pmethod</th>\n",
       "      <th>sex</th>\n",
       "      <th>homeown</th>\n",
       "      <th>income</th>\n",
       "      <th>age</th>\n",
       "      <th>PostCode</th>\n",
       "      <th>nchildren</th>\n",
       "      <th>fruit</th>\n",
       "      <th>...</th>\n",
       "      <th>sunflower Oil</th>\n",
       "      <th>chicken</th>\n",
       "      <th>vitamins</th>\n",
       "      <th>deodorants</th>\n",
       "      <th>dishwashingliquid</th>\n",
       "      <th>onions</th>\n",
       "      <th>lettuce</th>\n",
       "      <th>KitKat</th>\n",
       "      <th>TeaTowel</th>\n",
       "      <th>Scones</th>\n",
       "    </tr>\n",
       "  </thead>\n",
       "  <tbody>\n",
       "    <tr>\n",
       "      <th>0</th>\n",
       "      <td>600001</td>\n",
       "      <td>78.0</td>\n",
       "      <td>2</td>\n",
       "      <td>2</td>\n",
       "      <td>2</td>\n",
       "      <td>83167.0</td>\n",
       "      <td>72.0</td>\n",
       "      <td>2437</td>\n",
       "      <td>0.0</td>\n",
       "      <td>0</td>\n",
       "      <td>...</td>\n",
       "      <td>0</td>\n",
       "      <td>1</td>\n",
       "      <td>1</td>\n",
       "      <td>0</td>\n",
       "      <td>1</td>\n",
       "      <td>1</td>\n",
       "      <td>1</td>\n",
       "      <td>0</td>\n",
       "      <td>0</td>\n",
       "      <td>0</td>\n",
       "    </tr>\n",
       "    <tr>\n",
       "      <th>1</th>\n",
       "      <td>600002</td>\n",
       "      <td>120.0</td>\n",
       "      <td>3</td>\n",
       "      <td>2</td>\n",
       "      <td>1</td>\n",
       "      <td>15151.0</td>\n",
       "      <td>78.0</td>\n",
       "      <td>2187</td>\n",
       "      <td>3.0</td>\n",
       "      <td>0</td>\n",
       "      <td>...</td>\n",
       "      <td>1</td>\n",
       "      <td>0</td>\n",
       "      <td>0</td>\n",
       "      <td>1</td>\n",
       "      <td>0</td>\n",
       "      <td>0</td>\n",
       "      <td>1</td>\n",
       "      <td>0</td>\n",
       "      <td>0</td>\n",
       "      <td>0</td>\n",
       "    </tr>\n",
       "    <tr>\n",
       "      <th>2</th>\n",
       "      <td>600003</td>\n",
       "      <td>198.0</td>\n",
       "      <td>3</td>\n",
       "      <td>1</td>\n",
       "      <td>1</td>\n",
       "      <td>21367.0</td>\n",
       "      <td>42.0</td>\n",
       "      <td>2378</td>\n",
       "      <td>0.0</td>\n",
       "      <td>1</td>\n",
       "      <td>...</td>\n",
       "      <td>1</td>\n",
       "      <td>1</td>\n",
       "      <td>0</td>\n",
       "      <td>0</td>\n",
       "      <td>0</td>\n",
       "      <td>1</td>\n",
       "      <td>1</td>\n",
       "      <td>0</td>\n",
       "      <td>0</td>\n",
       "      <td>0</td>\n",
       "    </tr>\n",
       "    <tr>\n",
       "      <th>3</th>\n",
       "      <td>600004</td>\n",
       "      <td>190.0</td>\n",
       "      <td>2</td>\n",
       "      <td>1</td>\n",
       "      <td>1</td>\n",
       "      <td>56528.0</td>\n",
       "      <td>59.0</td>\n",
       "      <td>2453</td>\n",
       "      <td>3.0</td>\n",
       "      <td>0</td>\n",
       "      <td>...</td>\n",
       "      <td>1</td>\n",
       "      <td>1</td>\n",
       "      <td>0</td>\n",
       "      <td>0</td>\n",
       "      <td>1</td>\n",
       "      <td>0</td>\n",
       "      <td>1</td>\n",
       "      <td>0</td>\n",
       "      <td>0</td>\n",
       "      <td>0</td>\n",
       "    </tr>\n",
       "    <tr>\n",
       "      <th>4</th>\n",
       "      <td>600005</td>\n",
       "      <td>173.0</td>\n",
       "      <td>3</td>\n",
       "      <td>1</td>\n",
       "      <td>1</td>\n",
       "      <td>43373.0</td>\n",
       "      <td>39.0</td>\n",
       "      <td>2146</td>\n",
       "      <td>2.0</td>\n",
       "      <td>0</td>\n",
       "      <td>...</td>\n",
       "      <td>0</td>\n",
       "      <td>1</td>\n",
       "      <td>0</td>\n",
       "      <td>0</td>\n",
       "      <td>1</td>\n",
       "      <td>0</td>\n",
       "      <td>0</td>\n",
       "      <td>0</td>\n",
       "      <td>0</td>\n",
       "      <td>0</td>\n",
       "    </tr>\n",
       "  </tbody>\n",
       "</table>\n",
       "<p>5 rows × 53 columns</p>\n",
       "</div>"
      ],
      "text/plain": [
       "   ReceiptID  Value  pmethod  sex  homeown   income   age PostCode  nchildren  \\\n",
       "0     600001   78.0        2    2        2  83167.0  72.0     2437        0.0   \n",
       "1     600002  120.0        3    2        1  15151.0  78.0     2187        3.0   \n",
       "2     600003  198.0        3    1        1  21367.0  42.0     2378        0.0   \n",
       "3     600004  190.0        2    1        1  56528.0  59.0     2453        3.0   \n",
       "4     600005  173.0        3    1        1  43373.0  39.0     2146        2.0   \n",
       "\n",
       "  fruit   ...    sunflower Oil  chicken  vitamins  deodorants  \\\n",
       "0     0   ...                0        1         1           0   \n",
       "1     0   ...                1        0         0           1   \n",
       "2     1   ...                1        1         0           0   \n",
       "3     0   ...                1        1         0           0   \n",
       "4     0   ...                0        1         0           0   \n",
       "\n",
       "   dishwashingliquid  onions  lettuce  KitKat  TeaTowel  Scones  \n",
       "0                  1       1        1       0         0       0  \n",
       "1                  0       0        1       0         0       0  \n",
       "2                  0       1        1       0         0       0  \n",
       "3                  1       0        1       0         0       0  \n",
       "4                  1       0        0       0         0       0  \n",
       "\n",
       "[5 rows x 53 columns]"
      ]
     },
     "execution_count": 22,
     "metadata": {},
     "output_type": "execute_result"
    }
   ],
   "source": [
    "# Getting first 5 rows of the data\n",
    "data.head()"
   ]
  },
  {
   "cell_type": "code",
   "execution_count": 23,
   "metadata": {},
   "outputs": [
    {
     "data": {
      "text/html": [
       "<div>\n",
       "<style scoped>\n",
       "    .dataframe tbody tr th:only-of-type {\n",
       "        vertical-align: middle;\n",
       "    }\n",
       "\n",
       "    .dataframe tbody tr th {\n",
       "        vertical-align: top;\n",
       "    }\n",
       "\n",
       "    .dataframe thead th {\n",
       "        text-align: right;\n",
       "    }\n",
       "</style>\n",
       "<table border=\"1\" class=\"dataframe\">\n",
       "  <thead>\n",
       "    <tr style=\"text-align: right;\">\n",
       "      <th></th>\n",
       "      <th>ReceiptID</th>\n",
       "      <th>Value</th>\n",
       "      <th>pmethod</th>\n",
       "      <th>sex</th>\n",
       "      <th>homeown</th>\n",
       "      <th>income</th>\n",
       "      <th>age</th>\n",
       "      <th>nchildren</th>\n",
       "      <th>freshmeat</th>\n",
       "      <th>dairy</th>\n",
       "      <th>...</th>\n",
       "      <th>sunflower Oil</th>\n",
       "      <th>chicken</th>\n",
       "      <th>vitamins</th>\n",
       "      <th>deodorants</th>\n",
       "      <th>dishwashingliquid</th>\n",
       "      <th>onions</th>\n",
       "      <th>lettuce</th>\n",
       "      <th>KitKat</th>\n",
       "      <th>TeaTowel</th>\n",
       "      <th>Scones</th>\n",
       "    </tr>\n",
       "  </thead>\n",
       "  <tbody>\n",
       "    <tr>\n",
       "      <th>count</th>\n",
       "      <td>58100.000000</td>\n",
       "      <td>58100.000000</td>\n",
       "      <td>58100.000000</td>\n",
       "      <td>58100.000000</td>\n",
       "      <td>58100.000000</td>\n",
       "      <td>58099.000000</td>\n",
       "      <td>58099.000000</td>\n",
       "      <td>58098.000000</td>\n",
       "      <td>58100.000000</td>\n",
       "      <td>58100.000000</td>\n",
       "      <td>...</td>\n",
       "      <td>58100.000000</td>\n",
       "      <td>58100.000000</td>\n",
       "      <td>58100.000000</td>\n",
       "      <td>58100.000000</td>\n",
       "      <td>58100.000000</td>\n",
       "      <td>58100.000000</td>\n",
       "      <td>58100.00000</td>\n",
       "      <td>58100.000000</td>\n",
       "      <td>58100.000000</td>\n",
       "      <td>58100.000000</td>\n",
       "    </tr>\n",
       "    <tr>\n",
       "      <th>mean</th>\n",
       "      <td>629050.500017</td>\n",
       "      <td>77.286134</td>\n",
       "      <td>2.496162</td>\n",
       "      <td>1.598055</td>\n",
       "      <td>1.389501</td>\n",
       "      <td>74838.192084</td>\n",
       "      <td>39.716626</td>\n",
       "      <td>1.348549</td>\n",
       "      <td>0.186145</td>\n",
       "      <td>0.231050</td>\n",
       "      <td>...</td>\n",
       "      <td>0.271394</td>\n",
       "      <td>0.650929</td>\n",
       "      <td>0.201824</td>\n",
       "      <td>0.251601</td>\n",
       "      <td>0.351411</td>\n",
       "      <td>0.221893</td>\n",
       "      <td>0.74315</td>\n",
       "      <td>0.016403</td>\n",
       "      <td>0.037108</td>\n",
       "      <td>0.046024</td>\n",
       "    </tr>\n",
       "    <tr>\n",
       "      <th>std</th>\n",
       "      <td>16772.169250</td>\n",
       "      <td>57.538666</td>\n",
       "      <td>2.520534</td>\n",
       "      <td>0.490295</td>\n",
       "      <td>2.489640</td>\n",
       "      <td>23952.338326</td>\n",
       "      <td>11.612701</td>\n",
       "      <td>2.758248</td>\n",
       "      <td>0.389227</td>\n",
       "      <td>0.421508</td>\n",
       "      <td>...</td>\n",
       "      <td>0.444683</td>\n",
       "      <td>0.476680</td>\n",
       "      <td>0.401365</td>\n",
       "      <td>0.433937</td>\n",
       "      <td>0.477415</td>\n",
       "      <td>0.415523</td>\n",
       "      <td>0.43690</td>\n",
       "      <td>0.127020</td>\n",
       "      <td>0.189029</td>\n",
       "      <td>0.209539</td>\n",
       "    </tr>\n",
       "    <tr>\n",
       "      <th>min</th>\n",
       "      <td>600001.000000</td>\n",
       "      <td>0.929691</td>\n",
       "      <td>1.000000</td>\n",
       "      <td>1.000000</td>\n",
       "      <td>1.000000</td>\n",
       "      <td>6000.230000</td>\n",
       "      <td>10.000000</td>\n",
       "      <td>0.000000</td>\n",
       "      <td>0.000000</td>\n",
       "      <td>0.000000</td>\n",
       "      <td>...</td>\n",
       "      <td>0.000000</td>\n",
       "      <td>0.000000</td>\n",
       "      <td>0.000000</td>\n",
       "      <td>0.000000</td>\n",
       "      <td>0.000000</td>\n",
       "      <td>0.000000</td>\n",
       "      <td>0.00000</td>\n",
       "      <td>0.000000</td>\n",
       "      <td>0.000000</td>\n",
       "      <td>0.000000</td>\n",
       "    </tr>\n",
       "    <tr>\n",
       "      <th>25%</th>\n",
       "      <td>614525.750000</td>\n",
       "      <td>29.530734</td>\n",
       "      <td>2.000000</td>\n",
       "      <td>1.000000</td>\n",
       "      <td>1.000000</td>\n",
       "      <td>65582.790269</td>\n",
       "      <td>33.751207</td>\n",
       "      <td>0.000000</td>\n",
       "      <td>0.000000</td>\n",
       "      <td>0.000000</td>\n",
       "      <td>...</td>\n",
       "      <td>0.000000</td>\n",
       "      <td>0.000000</td>\n",
       "      <td>0.000000</td>\n",
       "      <td>0.000000</td>\n",
       "      <td>0.000000</td>\n",
       "      <td>0.000000</td>\n",
       "      <td>0.00000</td>\n",
       "      <td>0.000000</td>\n",
       "      <td>0.000000</td>\n",
       "      <td>0.000000</td>\n",
       "    </tr>\n",
       "    <tr>\n",
       "      <th>50%</th>\n",
       "      <td>629050.500000</td>\n",
       "      <td>63.581908</td>\n",
       "      <td>2.000000</td>\n",
       "      <td>2.000000</td>\n",
       "      <td>1.000000</td>\n",
       "      <td>70168.878667</td>\n",
       "      <td>37.779257</td>\n",
       "      <td>1.000000</td>\n",
       "      <td>0.000000</td>\n",
       "      <td>0.000000</td>\n",
       "      <td>...</td>\n",
       "      <td>0.000000</td>\n",
       "      <td>1.000000</td>\n",
       "      <td>0.000000</td>\n",
       "      <td>0.000000</td>\n",
       "      <td>0.000000</td>\n",
       "      <td>0.000000</td>\n",
       "      <td>1.00000</td>\n",
       "      <td>0.000000</td>\n",
       "      <td>0.000000</td>\n",
       "      <td>0.000000</td>\n",
       "    </tr>\n",
       "    <tr>\n",
       "      <th>75%</th>\n",
       "      <td>643575.250000</td>\n",
       "      <td>116.000000</td>\n",
       "      <td>3.000000</td>\n",
       "      <td>2.000000</td>\n",
       "      <td>2.000000</td>\n",
       "      <td>75371.207579</td>\n",
       "      <td>42.217415</td>\n",
       "      <td>2.000000</td>\n",
       "      <td>0.000000</td>\n",
       "      <td>0.000000</td>\n",
       "      <td>...</td>\n",
       "      <td>1.000000</td>\n",
       "      <td>1.000000</td>\n",
       "      <td>0.000000</td>\n",
       "      <td>1.000000</td>\n",
       "      <td>1.000000</td>\n",
       "      <td>0.000000</td>\n",
       "      <td>1.00000</td>\n",
       "      <td>0.000000</td>\n",
       "      <td>0.000000</td>\n",
       "      <td>0.000000</td>\n",
       "    </tr>\n",
       "    <tr>\n",
       "      <th>max</th>\n",
       "      <td>658100.000000</td>\n",
       "      <td>1967.696760</td>\n",
       "      <td>101.000000</td>\n",
       "      <td>2.000000</td>\n",
       "      <td>102.000000</td>\n",
       "      <td>650235.250000</td>\n",
       "      <td>95.000000</td>\n",
       "      <td>105.000000</td>\n",
       "      <td>1.000000</td>\n",
       "      <td>1.000000</td>\n",
       "      <td>...</td>\n",
       "      <td>1.000000</td>\n",
       "      <td>1.000000</td>\n",
       "      <td>1.000000</td>\n",
       "      <td>1.000000</td>\n",
       "      <td>1.000000</td>\n",
       "      <td>1.000000</td>\n",
       "      <td>1.00000</td>\n",
       "      <td>1.000000</td>\n",
       "      <td>1.000000</td>\n",
       "      <td>1.000000</td>\n",
       "    </tr>\n",
       "  </tbody>\n",
       "</table>\n",
       "<p>8 rows × 51 columns</p>\n",
       "</div>"
      ],
      "text/plain": [
       "           ReceiptID         Value       pmethod           sex       homeown  \\\n",
       "count   58100.000000  58100.000000  58100.000000  58100.000000  58100.000000   \n",
       "mean   629050.500017     77.286134      2.496162      1.598055      1.389501   \n",
       "std     16772.169250     57.538666      2.520534      0.490295      2.489640   \n",
       "min    600001.000000      0.929691      1.000000      1.000000      1.000000   \n",
       "25%    614525.750000     29.530734      2.000000      1.000000      1.000000   \n",
       "50%    629050.500000     63.581908      2.000000      2.000000      1.000000   \n",
       "75%    643575.250000    116.000000      3.000000      2.000000      2.000000   \n",
       "max    658100.000000   1967.696760    101.000000      2.000000    102.000000   \n",
       "\n",
       "              income           age     nchildren     freshmeat         dairy  \\\n",
       "count   58099.000000  58099.000000  58098.000000  58100.000000  58100.000000   \n",
       "mean    74838.192084     39.716626      1.348549      0.186145      0.231050   \n",
       "std     23952.338326     11.612701      2.758248      0.389227      0.421508   \n",
       "min      6000.230000     10.000000      0.000000      0.000000      0.000000   \n",
       "25%     65582.790269     33.751207      0.000000      0.000000      0.000000   \n",
       "50%     70168.878667     37.779257      1.000000      0.000000      0.000000   \n",
       "75%     75371.207579     42.217415      2.000000      0.000000      0.000000   \n",
       "max    650235.250000     95.000000    105.000000      1.000000      1.000000   \n",
       "\n",
       "           ...       sunflower Oil       chicken      vitamins    deodorants  \\\n",
       "count      ...        58100.000000  58100.000000  58100.000000  58100.000000   \n",
       "mean       ...            0.271394      0.650929      0.201824      0.251601   \n",
       "std        ...            0.444683      0.476680      0.401365      0.433937   \n",
       "min        ...            0.000000      0.000000      0.000000      0.000000   \n",
       "25%        ...            0.000000      0.000000      0.000000      0.000000   \n",
       "50%        ...            0.000000      1.000000      0.000000      0.000000   \n",
       "75%        ...            1.000000      1.000000      0.000000      1.000000   \n",
       "max        ...            1.000000      1.000000      1.000000      1.000000   \n",
       "\n",
       "       dishwashingliquid        onions      lettuce        KitKat  \\\n",
       "count       58100.000000  58100.000000  58100.00000  58100.000000   \n",
       "mean            0.351411      0.221893      0.74315      0.016403   \n",
       "std             0.477415      0.415523      0.43690      0.127020   \n",
       "min             0.000000      0.000000      0.00000      0.000000   \n",
       "25%             0.000000      0.000000      0.00000      0.000000   \n",
       "50%             0.000000      0.000000      1.00000      0.000000   \n",
       "75%             1.000000      0.000000      1.00000      0.000000   \n",
       "max             1.000000      1.000000      1.00000      1.000000   \n",
       "\n",
       "           TeaTowel        Scones  \n",
       "count  58100.000000  58100.000000  \n",
       "mean       0.037108      0.046024  \n",
       "std        0.189029      0.209539  \n",
       "min        0.000000      0.000000  \n",
       "25%        0.000000      0.000000  \n",
       "50%        0.000000      0.000000  \n",
       "75%        0.000000      0.000000  \n",
       "max        1.000000      1.000000  \n",
       "\n",
       "[8 rows x 51 columns]"
      ]
     },
     "execution_count": 23,
     "metadata": {},
     "output_type": "execute_result"
    }
   ],
   "source": [
    "# Getting summary of all the columns\n",
    "data.describe()"
   ]
  },
  {
   "cell_type": "code",
   "execution_count": 59,
   "metadata": {},
   "outputs": [
    {
     "name": "stdout",
     "output_type": "stream",
     "text": [
      "<class 'pandas.core.frame.DataFrame'>\n",
      "RangeIndex: 58100 entries, 0 to 58099\n",
      "Data columns (total 53 columns):\n",
      "ReceiptID            58100 non-null int64\n",
      "Value                58100 non-null float64\n",
      "pmethod              58100 non-null int64\n",
      "sex                  58100 non-null int64\n",
      "homeown              58100 non-null int64\n",
      "income               58099 non-null float64\n",
      "age                  58099 non-null float64\n",
      "PostCode             48308 non-null object\n",
      "nchildren            58098 non-null float64\n",
      "fruit                58100 non-null object\n",
      "freshmeat            58100 non-null int64\n",
      "dairy                58100 non-null int64\n",
      "MozerallaCheese      58100 non-null int64\n",
      "cannedveg            58099 non-null float64\n",
      "cereal               58091 non-null float64\n",
      "frozenmeal           58100 non-null int64\n",
      "frozendessert        58100 non-null int64\n",
      "PizzaBase            58099 non-null float64\n",
      "TomatoSauce          58100 non-null int64\n",
      "frozen fish          58100 non-null int64\n",
      "bread                58100 non-null int64\n",
      "milk                 58099 non-null float64\n",
      "softdrink            58100 non-null int64\n",
      "fruitjuice           58100 non-null int64\n",
      "confectionery        58099 non-null float64\n",
      "fish                 58100 non-null int64\n",
      "vegetables           58100 non-null int64\n",
      "icecream             58100 non-null int64\n",
      "energydrink          58100 non-null int64\n",
      "tea                  58100 non-null int64\n",
      "coffee               58100 non-null int64\n",
      "laundryPowder        58100 non-null int64\n",
      "householCleaners     58100 non-null int64\n",
      "corn chips           58100 non-null int64\n",
      "Frozen yogurt        58100 non-null int64\n",
      "Chocolate            58100 non-null int64\n",
      "Olive Oil            58100 non-null int64\n",
      "Baby Food            58100 non-null int64\n",
      "Napies               58100 non-null int64\n",
      "banana               58100 non-null int64\n",
      "cat food             58100 non-null int64\n",
      "dog food             58100 non-null int64\n",
      "mince                58100 non-null int64\n",
      "sunflower Oil        58100 non-null int64\n",
      "chicken              58100 non-null int64\n",
      "vitamins             58100 non-null int64\n",
      "deodorants           58100 non-null int64\n",
      "dishwashingliquid    58100 non-null int64\n",
      "onions               58100 non-null int64\n",
      "lettuce              58100 non-null int64\n",
      "KitKat               58100 non-null int64\n",
      "TeaTowel             58100 non-null int64\n",
      "Scones               58100 non-null int64\n",
      "dtypes: float64(9), int64(42), object(2)\n",
      "memory usage: 23.5+ MB\n"
     ]
    }
   ],
   "source": [
    "# Information about the dataframe\n",
    "# null_counts = true, will not count rows which have missing values in it.\n",
    "data.info(null_counts = True)"
   ]
  },
  {
   "cell_type": "markdown",
   "metadata": {},
   "source": [
    "The columns having count less than 58,100 means those columns have missing values in them. Most of the columns are of type integer and float."
   ]
  },
  {
   "cell_type": "code",
   "execution_count": 44,
   "metadata": {},
   "outputs": [
    {
     "data": {
      "text/plain": [
       "ReceiptID               0\n",
       "Value                   0\n",
       "pmethod                 0\n",
       "sex                     0\n",
       "homeown                 0\n",
       "income                  1\n",
       "age                     1\n",
       "PostCode             9792\n",
       "nchildren               2\n",
       "fruit                   0\n",
       "freshmeat               0\n",
       "dairy                   0\n",
       "MozerallaCheese         0\n",
       "cannedveg               1\n",
       "cereal                  9\n",
       "frozenmeal              0\n",
       "frozendessert           0\n",
       "PizzaBase               1\n",
       "TomatoSauce             0\n",
       "frozen fish             0\n",
       "bread                   0\n",
       "milk                    1\n",
       "softdrink               0\n",
       "fruitjuice              0\n",
       "confectionery           1\n",
       "fish                    0\n",
       "vegetables              0\n",
       "icecream                0\n",
       "energydrink             0\n",
       "tea                     0\n",
       "coffee                  0\n",
       "laundryPowder           0\n",
       "householCleaners        0\n",
       "corn chips              0\n",
       "Frozen yogurt           0\n",
       "Chocolate               0\n",
       "Olive Oil               0\n",
       "Baby Food               0\n",
       "Napies                  0\n",
       "banana                  0\n",
       "cat food                0\n",
       "dog food                0\n",
       "mince                   0\n",
       "sunflower Oil           0\n",
       "chicken                 0\n",
       "vitamins                0\n",
       "deodorants              0\n",
       "dishwashingliquid       0\n",
       "onions                  0\n",
       "lettuce                 0\n",
       "KitKat                  0\n",
       "TeaTowel                0\n",
       "Scones                  0\n",
       "dtype: int64"
      ]
     },
     "execution_count": 44,
     "metadata": {},
     "output_type": "execute_result"
    }
   ],
   "source": [
    "# Getting number of missing values in each column\n",
    "data.isna().sum()"
   ]
  },
  {
   "cell_type": "markdown",
   "metadata": {},
   "source": [
    "Most of the missing values are in column PostCode which is 9792 and second highest number of missing values is in cereal column which is 9. "
   ]
  },
  {
   "cell_type": "code",
   "execution_count": 65,
   "metadata": {},
   "outputs": [
    {
     "name": "stdout",
     "output_type": "stream",
     "text": [
      "Total number of missing values is : 9809\n"
     ]
    }
   ],
   "source": [
    "print(\"Total number of missing values is :\",data.isna().sum().sum())"
   ]
  },
  {
   "cell_type": "code",
   "execution_count": 56,
   "metadata": {},
   "outputs": [
    {
     "data": {
      "image/png": "[encoded data removed]",
      "text/plain": [
       "<Figure size 1440x504 with 2 Axes>"
      ]
     },
     "metadata": {
      "needs_background": "light"
     },
     "output_type": "display_data"
    }
   ],
   "source": [
    "# Plotting the missing values\n",
    "plt.figure(figsize = (20,7))\n",
    "sns.heatmap(data.isna())\n",
    "plt.show()"
   ]
  },
  {
   "cell_type": "markdown",
   "metadata": {},
   "source": [
    "This graph above confirms the statement we just made before about the missing values distribution."
   ]
  },
  {
   "cell_type": "markdown",
   "metadata": {},
   "source": [
    "# 3. Data Preprocessing and Cleaning"
   ]
  },
  {
   "cell_type": "markdown",
   "metadata": {},
   "source": [
    "### Receipt ID\n",
    "#### Shows receipt id of the transaction. Each transaction should have unique receipt id."
   ]
  },
  {
   "cell_type": "code",
   "execution_count": 24,
   "metadata": {},
   "outputs": [
    {
     "data": {
      "text/plain": [
       "58100"
      ]
     },
     "execution_count": 24,
     "metadata": {},
     "output_type": "execute_result"
    }
   ],
   "source": [
    "len(data.ReceiptID)"
   ]
  },
  {
   "cell_type": "code",
   "execution_count": 26,
   "metadata": {},
   "outputs": [
    {
     "data": {
      "text/plain": [
       "58091"
      ]
     },
     "execution_count": 26,
     "metadata": {},
     "output_type": "execute_result"
    }
   ],
   "source": [
    "# Getting length of unique ReceiptID\n",
    "len(set(data.ReceiptID))"
   ]
  },
  {
   "cell_type": "markdown",
   "metadata": {},
   "source": [
    "9 duplicate entries in Receipt ID."
   ]
  },
  {
   "cell_type": "markdown",
   "metadata": {},
   "source": [
    "### Value\n",
    "#### Shows the value of the transaction."
   ]
  },
  {
   "cell_type": "code",
   "execution_count": 31,
   "metadata": {},
   "outputs": [
    {
     "data": {
      "text/plain": [
       "count    58100.000000\n",
       "mean        77.286134\n",
       "std         57.538666\n",
       "min          0.929691\n",
       "25%         29.530734\n",
       "50%         63.581908\n",
       "75%        116.000000\n",
       "max       1967.696760\n",
       "Name: Value, dtype: float64"
      ]
     },
     "execution_count": 31,
     "metadata": {},
     "output_type": "execute_result"
    }
   ],
   "source": [
    "# Summary of the value column\n",
    "data.Value.describe()"
   ]
  },
  {
   "cell_type": "code",
   "execution_count": null,
   "metadata": {},
   "outputs": [],
   "source": []
  }
 ],
 "metadata": {
  "kernelspec": {
   "display_name": "Python 3",
   "language": "python",
   "name": "python3"
  },
  "language_info": {
   "codemirror_mode": {
    "name": "ipython",
    "version": 3
   },
   "file_extension": ".py",
   "mimetype": "text/x-python",
   "name": "python",
   "nbconvert_exporter": "python",
   "pygments_lexer": "ipython3",
   "version": "3.7.1"
  }
 },
 "nbformat": 4,
 "nbformat_minor": 2
}
