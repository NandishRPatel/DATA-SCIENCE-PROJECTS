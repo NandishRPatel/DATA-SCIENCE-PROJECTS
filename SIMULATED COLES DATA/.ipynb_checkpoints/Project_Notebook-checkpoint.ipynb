{
 "cells": [
  {
   "cell_type": "markdown",
   "metadata": {},
   "source": [
    "# 0. Importing Required Libraries"
   ]
  },
  {
   "cell_type": "code",
   "execution_count": 214,
   "metadata": {},
   "outputs": [],
   "source": [
    "%reload_ext autoreload\n",
    "%autoreload 2\n",
    "\n",
    "import sys\n",
    "sys.path.append(\"../Functions\")\n",
    "import warnings\n",
    "warnings.filterwarnings(action = 'once')\n",
    "import custom_functions\n",
    "import pandas as pd\n",
    "import numpy as np\n",
    "import seaborn as sns\n",
    "import matplotlib as mpl\n",
    "import matplotlib.pyplot as plt\n",
    "\n",
    "plt.style.use('ggplot')\n",
    "## Change title size of a plot\n",
    "mpl.rcParams['axes.titlesize'] = 22\n",
    "# Figure size\n",
    "mpl.rc(\"figure\", figsize = (15,7))\n",
    "## Change label size(x and y) of a plot\n",
    "mpl.rcParams['axes.labelsize'] = 18\n",
    "## Change xticks size of a plot\n",
    "mpl.rcParams['xtick.labelsize'] = 16\n",
    "## Change yticks size of a plot\n",
    "mpl.rcParams['ytick.labelsize'] = 16"
   ]
  },
  {
   "cell_type": "markdown",
   "metadata": {},
   "source": [
    "# 1. Getting Data"
   ]
  },
  {
   "cell_type": "code",
   "execution_count": 215,
   "metadata": {},
   "outputs": [
    {
     "name": "stderr",
     "output_type": "stream",
     "text": [
      "D:\\Anaconda3\\lib\\site-packages\\xlrd\\xlsx.py:266: PendingDeprecationWarning: This method will be removed in future versions.  Use 'tree.iter()' or 'list(tree.iter())' instead.\n",
      "  for elem in self.tree.iter() if Element_has_iter else self.tree.getiterator():\n"
     ]
    }
   ],
   "source": [
    "# Reading the excel file, sheet = Coles Transactions \n",
    "data = pd.read_excel(\"Simulated Coles Data.xlsx\", sheet_name = \"Coles Transactions\")"
   ]
  },
  {
   "cell_type": "markdown",
   "metadata": {},
   "source": [
    "# 2. Data Exploration"
   ]
  },
  {
   "cell_type": "code",
   "execution_count": 216,
   "metadata": {},
   "outputs": [
    {
     "data": {
      "text/plain": [
       "(58100, 53)"
      ]
     },
     "execution_count": 216,
     "metadata": {},
     "output_type": "execute_result"
    }
   ],
   "source": [
    "# Shape of the dataframe\n",
    "data.shape"
   ]
  },
  {
   "cell_type": "markdown",
   "metadata": {},
   "source": [
    "Data has 58,100 observations and 53 variables."
   ]
  },
  {
   "cell_type": "code",
   "execution_count": 217,
   "metadata": {},
   "outputs": [
    {
     "data": {
      "text/plain": [
       "Index(['ReceiptID', 'Value', 'pmethod', 'sex', 'homeown', 'income', 'age',\n",
       "       'PostCode', 'nchildren', 'fruit', 'freshmeat', 'dairy',\n",
       "       'MozerallaCheese', 'cannedveg', 'cereal', 'frozenmeal', 'frozendessert',\n",
       "       'PizzaBase', 'TomatoSauce', 'frozen fish', 'bread', 'milk', 'softdrink',\n",
       "       'fruitjuice', 'confectionery', 'fish', 'vegetables', 'icecream',\n",
       "       'energydrink', 'tea', 'coffee', 'laundryPowder', 'householCleaners',\n",
       "       'corn chips', 'Frozen yogurt', 'Chocolate', 'Olive Oil', 'Baby Food',\n",
       "       'Napies', 'banana', 'cat food', 'dog food', 'mince', 'sunflower Oil',\n",
       "       'chicken', 'vitamins', 'deodorants', 'dishwashingliquid', 'onions',\n",
       "       'lettuce', 'KitKat', 'TeaTowel', 'Scones'],\n",
       "      dtype='object')"
      ]
     },
     "execution_count": 217,
     "metadata": {},
     "output_type": "execute_result"
    }
   ],
   "source": [
    "# Name of the columns\n",
    "data.columns"
   ]
  },
  {
   "cell_type": "code",
   "execution_count": 218,
   "metadata": {},
   "outputs": [
    {
     "data": {
      "text/html": [
       "<div>\n",
       "<style scoped>\n",
       "    .dataframe tbody tr th:only-of-type {\n",
       "        vertical-align: middle;\n",
       "    }\n",
       "\n",
       "    .dataframe tbody tr th {\n",
       "        vertical-align: top;\n",
       "    }\n",
       "\n",
       "    .dataframe thead th {\n",
       "        text-align: right;\n",
       "    }\n",
       "</style>\n",
       "<table border=\"1\" class=\"dataframe\">\n",
       "  <thead>\n",
       "    <tr style=\"text-align: right;\">\n",
       "      <th></th>\n",
       "      <th>ReceiptID</th>\n",
       "      <th>Value</th>\n",
       "      <th>pmethod</th>\n",
       "      <th>sex</th>\n",
       "      <th>homeown</th>\n",
       "      <th>income</th>\n",
       "      <th>age</th>\n",
       "      <th>PostCode</th>\n",
       "      <th>nchildren</th>\n",
       "      <th>fruit</th>\n",
       "      <th>...</th>\n",
       "      <th>sunflower Oil</th>\n",
       "      <th>chicken</th>\n",
       "      <th>vitamins</th>\n",
       "      <th>deodorants</th>\n",
       "      <th>dishwashingliquid</th>\n",
       "      <th>onions</th>\n",
       "      <th>lettuce</th>\n",
       "      <th>KitKat</th>\n",
       "      <th>TeaTowel</th>\n",
       "      <th>Scones</th>\n",
       "    </tr>\n",
       "  </thead>\n",
       "  <tbody>\n",
       "    <tr>\n",
       "      <th>0</th>\n",
       "      <td>600001</td>\n",
       "      <td>78.0</td>\n",
       "      <td>2</td>\n",
       "      <td>2</td>\n",
       "      <td>2</td>\n",
       "      <td>83167.0</td>\n",
       "      <td>72.0</td>\n",
       "      <td>2437</td>\n",
       "      <td>0.0</td>\n",
       "      <td>0</td>\n",
       "      <td>...</td>\n",
       "      <td>0</td>\n",
       "      <td>1</td>\n",
       "      <td>1</td>\n",
       "      <td>0</td>\n",
       "      <td>1</td>\n",
       "      <td>1</td>\n",
       "      <td>1</td>\n",
       "      <td>0</td>\n",
       "      <td>0</td>\n",
       "      <td>0</td>\n",
       "    </tr>\n",
       "    <tr>\n",
       "      <th>1</th>\n",
       "      <td>600002</td>\n",
       "      <td>120.0</td>\n",
       "      <td>3</td>\n",
       "      <td>2</td>\n",
       "      <td>1</td>\n",
       "      <td>15151.0</td>\n",
       "      <td>78.0</td>\n",
       "      <td>2187</td>\n",
       "      <td>3.0</td>\n",
       "      <td>0</td>\n",
       "      <td>...</td>\n",
       "      <td>1</td>\n",
       "      <td>0</td>\n",
       "      <td>0</td>\n",
       "      <td>1</td>\n",
       "      <td>0</td>\n",
       "      <td>0</td>\n",
       "      <td>1</td>\n",
       "      <td>0</td>\n",
       "      <td>0</td>\n",
       "      <td>0</td>\n",
       "    </tr>\n",
       "    <tr>\n",
       "      <th>2</th>\n",
       "      <td>600003</td>\n",
       "      <td>198.0</td>\n",
       "      <td>3</td>\n",
       "      <td>1</td>\n",
       "      <td>1</td>\n",
       "      <td>21367.0</td>\n",
       "      <td>42.0</td>\n",
       "      <td>2378</td>\n",
       "      <td>0.0</td>\n",
       "      <td>1</td>\n",
       "      <td>...</td>\n",
       "      <td>1</td>\n",
       "      <td>1</td>\n",
       "      <td>0</td>\n",
       "      <td>0</td>\n",
       "      <td>0</td>\n",
       "      <td>1</td>\n",
       "      <td>1</td>\n",
       "      <td>0</td>\n",
       "      <td>0</td>\n",
       "      <td>0</td>\n",
       "    </tr>\n",
       "    <tr>\n",
       "      <th>3</th>\n",
       "      <td>600004</td>\n",
       "      <td>190.0</td>\n",
       "      <td>2</td>\n",
       "      <td>1</td>\n",
       "      <td>1</td>\n",
       "      <td>56528.0</td>\n",
       "      <td>59.0</td>\n",
       "      <td>2453</td>\n",
       "      <td>3.0</td>\n",
       "      <td>0</td>\n",
       "      <td>...</td>\n",
       "      <td>1</td>\n",
       "      <td>1</td>\n",
       "      <td>0</td>\n",
       "      <td>0</td>\n",
       "      <td>1</td>\n",
       "      <td>0</td>\n",
       "      <td>1</td>\n",
       "      <td>0</td>\n",
       "      <td>0</td>\n",
       "      <td>0</td>\n",
       "    </tr>\n",
       "    <tr>\n",
       "      <th>4</th>\n",
       "      <td>600005</td>\n",
       "      <td>173.0</td>\n",
       "      <td>3</td>\n",
       "      <td>1</td>\n",
       "      <td>1</td>\n",
       "      <td>43373.0</td>\n",
       "      <td>39.0</td>\n",
       "      <td>2146</td>\n",
       "      <td>2.0</td>\n",
       "      <td>0</td>\n",
       "      <td>...</td>\n",
       "      <td>0</td>\n",
       "      <td>1</td>\n",
       "      <td>0</td>\n",
       "      <td>0</td>\n",
       "      <td>1</td>\n",
       "      <td>0</td>\n",
       "      <td>0</td>\n",
       "      <td>0</td>\n",
       "      <td>0</td>\n",
       "      <td>0</td>\n",
       "    </tr>\n",
       "  </tbody>\n",
       "</table>\n",
       "<p>5 rows × 53 columns</p>\n",
       "</div>"
      ],
      "text/plain": [
       "   ReceiptID  Value  pmethod  sex  homeown   income   age PostCode  nchildren  \\\n",
       "0     600001   78.0        2    2        2  83167.0  72.0     2437        0.0   \n",
       "1     600002  120.0        3    2        1  15151.0  78.0     2187        3.0   \n",
       "2     600003  198.0        3    1        1  21367.0  42.0     2378        0.0   \n",
       "3     600004  190.0        2    1        1  56528.0  59.0     2453        3.0   \n",
       "4     600005  173.0        3    1        1  43373.0  39.0     2146        2.0   \n",
       "\n",
       "  fruit  ...  sunflower Oil  chicken  vitamins  deodorants  dishwashingliquid  \\\n",
       "0     0  ...              0        1         1           0                  1   \n",
       "1     0  ...              1        0         0           1                  0   \n",
       "2     1  ...              1        1         0           0                  0   \n",
       "3     0  ...              1        1         0           0                  1   \n",
       "4     0  ...              0        1         0           0                  1   \n",
       "\n",
       "   onions  lettuce  KitKat  TeaTowel  Scones  \n",
       "0       1        1       0         0       0  \n",
       "1       0        1       0         0       0  \n",
       "2       1        1       0         0       0  \n",
       "3       0        1       0         0       0  \n",
       "4       0        0       0         0       0  \n",
       "\n",
       "[5 rows x 53 columns]"
      ]
     },
     "execution_count": 218,
     "metadata": {},
     "output_type": "execute_result"
    }
   ],
   "source": [
    "# Getting first 5 rows of the data\n",
    "data.head()"
   ]
  },
  {
   "cell_type": "code",
   "execution_count": 219,
   "metadata": {},
   "outputs": [
    {
     "data": {
      "text/html": [
       "<div>\n",
       "<style scoped>\n",
       "    .dataframe tbody tr th:only-of-type {\n",
       "        vertical-align: middle;\n",
       "    }\n",
       "\n",
       "    .dataframe tbody tr th {\n",
       "        vertical-align: top;\n",
       "    }\n",
       "\n",
       "    .dataframe thead th {\n",
       "        text-align: right;\n",
       "    }\n",
       "</style>\n",
       "<table border=\"1\" class=\"dataframe\">\n",
       "  <thead>\n",
       "    <tr style=\"text-align: right;\">\n",
       "      <th></th>\n",
       "      <th>ReceiptID</th>\n",
       "      <th>Value</th>\n",
       "      <th>pmethod</th>\n",
       "      <th>sex</th>\n",
       "      <th>homeown</th>\n",
       "      <th>income</th>\n",
       "      <th>age</th>\n",
       "      <th>nchildren</th>\n",
       "      <th>freshmeat</th>\n",
       "      <th>dairy</th>\n",
       "      <th>...</th>\n",
       "      <th>sunflower Oil</th>\n",
       "      <th>chicken</th>\n",
       "      <th>vitamins</th>\n",
       "      <th>deodorants</th>\n",
       "      <th>dishwashingliquid</th>\n",
       "      <th>onions</th>\n",
       "      <th>lettuce</th>\n",
       "      <th>KitKat</th>\n",
       "      <th>TeaTowel</th>\n",
       "      <th>Scones</th>\n",
       "    </tr>\n",
       "  </thead>\n",
       "  <tbody>\n",
       "    <tr>\n",
       "      <th>count</th>\n",
       "      <td>58100.000000</td>\n",
       "      <td>58100.000000</td>\n",
       "      <td>58100.000000</td>\n",
       "      <td>58100.000000</td>\n",
       "      <td>58100.000000</td>\n",
       "      <td>58099.000000</td>\n",
       "      <td>58099.000000</td>\n",
       "      <td>58098.000000</td>\n",
       "      <td>58100.000000</td>\n",
       "      <td>58100.000000</td>\n",
       "      <td>...</td>\n",
       "      <td>58100.000000</td>\n",
       "      <td>58100.000000</td>\n",
       "      <td>58100.000000</td>\n",
       "      <td>58100.000000</td>\n",
       "      <td>58100.000000</td>\n",
       "      <td>58100.000000</td>\n",
       "      <td>58100.00000</td>\n",
       "      <td>58100.000000</td>\n",
       "      <td>58100.000000</td>\n",
       "      <td>58100.000000</td>\n",
       "    </tr>\n",
       "    <tr>\n",
       "      <th>mean</th>\n",
       "      <td>629050.500017</td>\n",
       "      <td>77.286134</td>\n",
       "      <td>2.496162</td>\n",
       "      <td>1.598055</td>\n",
       "      <td>1.389501</td>\n",
       "      <td>74838.192084</td>\n",
       "      <td>39.716626</td>\n",
       "      <td>1.348549</td>\n",
       "      <td>0.186145</td>\n",
       "      <td>0.231050</td>\n",
       "      <td>...</td>\n",
       "      <td>0.271394</td>\n",
       "      <td>0.650929</td>\n",
       "      <td>0.201824</td>\n",
       "      <td>0.251601</td>\n",
       "      <td>0.351411</td>\n",
       "      <td>0.221893</td>\n",
       "      <td>0.74315</td>\n",
       "      <td>0.016403</td>\n",
       "      <td>0.037108</td>\n",
       "      <td>0.046024</td>\n",
       "    </tr>\n",
       "    <tr>\n",
       "      <th>std</th>\n",
       "      <td>16772.169250</td>\n",
       "      <td>57.538666</td>\n",
       "      <td>2.520534</td>\n",
       "      <td>0.490295</td>\n",
       "      <td>2.489640</td>\n",
       "      <td>23952.338326</td>\n",
       "      <td>11.612701</td>\n",
       "      <td>2.758248</td>\n",
       "      <td>0.389227</td>\n",
       "      <td>0.421508</td>\n",
       "      <td>...</td>\n",
       "      <td>0.444683</td>\n",
       "      <td>0.476680</td>\n",
       "      <td>0.401365</td>\n",
       "      <td>0.433937</td>\n",
       "      <td>0.477415</td>\n",
       "      <td>0.415523</td>\n",
       "      <td>0.43690</td>\n",
       "      <td>0.127020</td>\n",
       "      <td>0.189029</td>\n",
       "      <td>0.209539</td>\n",
       "    </tr>\n",
       "    <tr>\n",
       "      <th>min</th>\n",
       "      <td>600001.000000</td>\n",
       "      <td>0.929691</td>\n",
       "      <td>1.000000</td>\n",
       "      <td>1.000000</td>\n",
       "      <td>1.000000</td>\n",
       "      <td>6000.230000</td>\n",
       "      <td>10.000000</td>\n",
       "      <td>0.000000</td>\n",
       "      <td>0.000000</td>\n",
       "      <td>0.000000</td>\n",
       "      <td>...</td>\n",
       "      <td>0.000000</td>\n",
       "      <td>0.000000</td>\n",
       "      <td>0.000000</td>\n",
       "      <td>0.000000</td>\n",
       "      <td>0.000000</td>\n",
       "      <td>0.000000</td>\n",
       "      <td>0.00000</td>\n",
       "      <td>0.000000</td>\n",
       "      <td>0.000000</td>\n",
       "      <td>0.000000</td>\n",
       "    </tr>\n",
       "    <tr>\n",
       "      <th>25%</th>\n",
       "      <td>614525.750000</td>\n",
       "      <td>29.530734</td>\n",
       "      <td>2.000000</td>\n",
       "      <td>1.000000</td>\n",
       "      <td>1.000000</td>\n",
       "      <td>65582.790269</td>\n",
       "      <td>33.751207</td>\n",
       "      <td>0.000000</td>\n",
       "      <td>0.000000</td>\n",
       "      <td>0.000000</td>\n",
       "      <td>...</td>\n",
       "      <td>0.000000</td>\n",
       "      <td>0.000000</td>\n",
       "      <td>0.000000</td>\n",
       "      <td>0.000000</td>\n",
       "      <td>0.000000</td>\n",
       "      <td>0.000000</td>\n",
       "      <td>0.00000</td>\n",
       "      <td>0.000000</td>\n",
       "      <td>0.000000</td>\n",
       "      <td>0.000000</td>\n",
       "    </tr>\n",
       "    <tr>\n",
       "      <th>50%</th>\n",
       "      <td>629050.500000</td>\n",
       "      <td>63.581908</td>\n",
       "      <td>2.000000</td>\n",
       "      <td>2.000000</td>\n",
       "      <td>1.000000</td>\n",
       "      <td>70168.878667</td>\n",
       "      <td>37.779257</td>\n",
       "      <td>1.000000</td>\n",
       "      <td>0.000000</td>\n",
       "      <td>0.000000</td>\n",
       "      <td>...</td>\n",
       "      <td>0.000000</td>\n",
       "      <td>1.000000</td>\n",
       "      <td>0.000000</td>\n",
       "      <td>0.000000</td>\n",
       "      <td>0.000000</td>\n",
       "      <td>0.000000</td>\n",
       "      <td>1.00000</td>\n",
       "      <td>0.000000</td>\n",
       "      <td>0.000000</td>\n",
       "      <td>0.000000</td>\n",
       "    </tr>\n",
       "    <tr>\n",
       "      <th>75%</th>\n",
       "      <td>643575.250000</td>\n",
       "      <td>116.000000</td>\n",
       "      <td>3.000000</td>\n",
       "      <td>2.000000</td>\n",
       "      <td>2.000000</td>\n",
       "      <td>75371.207579</td>\n",
       "      <td>42.217415</td>\n",
       "      <td>2.000000</td>\n",
       "      <td>0.000000</td>\n",
       "      <td>0.000000</td>\n",
       "      <td>...</td>\n",
       "      <td>1.000000</td>\n",
       "      <td>1.000000</td>\n",
       "      <td>0.000000</td>\n",
       "      <td>1.000000</td>\n",
       "      <td>1.000000</td>\n",
       "      <td>0.000000</td>\n",
       "      <td>1.00000</td>\n",
       "      <td>0.000000</td>\n",
       "      <td>0.000000</td>\n",
       "      <td>0.000000</td>\n",
       "    </tr>\n",
       "    <tr>\n",
       "      <th>max</th>\n",
       "      <td>658100.000000</td>\n",
       "      <td>1967.696760</td>\n",
       "      <td>101.000000</td>\n",
       "      <td>2.000000</td>\n",
       "      <td>102.000000</td>\n",
       "      <td>650235.250000</td>\n",
       "      <td>95.000000</td>\n",
       "      <td>105.000000</td>\n",
       "      <td>1.000000</td>\n",
       "      <td>1.000000</td>\n",
       "      <td>...</td>\n",
       "      <td>1.000000</td>\n",
       "      <td>1.000000</td>\n",
       "      <td>1.000000</td>\n",
       "      <td>1.000000</td>\n",
       "      <td>1.000000</td>\n",
       "      <td>1.000000</td>\n",
       "      <td>1.00000</td>\n",
       "      <td>1.000000</td>\n",
       "      <td>1.000000</td>\n",
       "      <td>1.000000</td>\n",
       "    </tr>\n",
       "  </tbody>\n",
       "</table>\n",
       "<p>8 rows × 51 columns</p>\n",
       "</div>"
      ],
      "text/plain": [
       "           ReceiptID         Value       pmethod           sex       homeown  \\\n",
       "count   58100.000000  58100.000000  58100.000000  58100.000000  58100.000000   \n",
       "mean   629050.500017     77.286134      2.496162      1.598055      1.389501   \n",
       "std     16772.169250     57.538666      2.520534      0.490295      2.489640   \n",
       "min    600001.000000      0.929691      1.000000      1.000000      1.000000   \n",
       "25%    614525.750000     29.530734      2.000000      1.000000      1.000000   \n",
       "50%    629050.500000     63.581908      2.000000      2.000000      1.000000   \n",
       "75%    643575.250000    116.000000      3.000000      2.000000      2.000000   \n",
       "max    658100.000000   1967.696760    101.000000      2.000000    102.000000   \n",
       "\n",
       "              income           age     nchildren     freshmeat         dairy  \\\n",
       "count   58099.000000  58099.000000  58098.000000  58100.000000  58100.000000   \n",
       "mean    74838.192084     39.716626      1.348549      0.186145      0.231050   \n",
       "std     23952.338326     11.612701      2.758248      0.389227      0.421508   \n",
       "min      6000.230000     10.000000      0.000000      0.000000      0.000000   \n",
       "25%     65582.790269     33.751207      0.000000      0.000000      0.000000   \n",
       "50%     70168.878667     37.779257      1.000000      0.000000      0.000000   \n",
       "75%     75371.207579     42.217415      2.000000      0.000000      0.000000   \n",
       "max    650235.250000     95.000000    105.000000      1.000000      1.000000   \n",
       "\n",
       "       ...  sunflower Oil       chicken      vitamins    deodorants  \\\n",
       "count  ...   58100.000000  58100.000000  58100.000000  58100.000000   \n",
       "mean   ...       0.271394      0.650929      0.201824      0.251601   \n",
       "std    ...       0.444683      0.476680      0.401365      0.433937   \n",
       "min    ...       0.000000      0.000000      0.000000      0.000000   \n",
       "25%    ...       0.000000      0.000000      0.000000      0.000000   \n",
       "50%    ...       0.000000      1.000000      0.000000      0.000000   \n",
       "75%    ...       1.000000      1.000000      0.000000      1.000000   \n",
       "max    ...       1.000000      1.000000      1.000000      1.000000   \n",
       "\n",
       "       dishwashingliquid        onions      lettuce        KitKat  \\\n",
       "count       58100.000000  58100.000000  58100.00000  58100.000000   \n",
       "mean            0.351411      0.221893      0.74315      0.016403   \n",
       "std             0.477415      0.415523      0.43690      0.127020   \n",
       "min             0.000000      0.000000      0.00000      0.000000   \n",
       "25%             0.000000      0.000000      0.00000      0.000000   \n",
       "50%             0.000000      0.000000      1.00000      0.000000   \n",
       "75%             1.000000      0.000000      1.00000      0.000000   \n",
       "max             1.000000      1.000000      1.00000      1.000000   \n",
       "\n",
       "           TeaTowel        Scones  \n",
       "count  58100.000000  58100.000000  \n",
       "mean       0.037108      0.046024  \n",
       "std        0.189029      0.209539  \n",
       "min        0.000000      0.000000  \n",
       "25%        0.000000      0.000000  \n",
       "50%        0.000000      0.000000  \n",
       "75%        0.000000      0.000000  \n",
       "max        1.000000      1.000000  \n",
       "\n",
       "[8 rows x 51 columns]"
      ]
     },
     "execution_count": 219,
     "metadata": {},
     "output_type": "execute_result"
    }
   ],
   "source": [
    "# Getting summary of all the columns\n",
    "data.describe()"
   ]
  },
  {
   "cell_type": "code",
   "execution_count": 220,
   "metadata": {},
   "outputs": [
    {
     "name": "stdout",
     "output_type": "stream",
     "text": [
      "<class 'pandas.core.frame.DataFrame'>\n",
      "RangeIndex: 58100 entries, 0 to 58099\n",
      "Data columns (total 53 columns):\n",
      "ReceiptID            58100 non-null int64\n",
      "Value                58100 non-null float64\n",
      "pmethod              58100 non-null int64\n",
      "sex                  58100 non-null int64\n",
      "homeown              58100 non-null int64\n",
      "income               58099 non-null float64\n",
      "age                  58099 non-null float64\n",
      "PostCode             48308 non-null object\n",
      "nchildren            58098 non-null float64\n",
      "fruit                58100 non-null object\n",
      "freshmeat            58100 non-null int64\n",
      "dairy                58100 non-null int64\n",
      "MozerallaCheese      58100 non-null int64\n",
      "cannedveg            58099 non-null float64\n",
      "cereal               58091 non-null float64\n",
      "frozenmeal           58100 non-null int64\n",
      "frozendessert        58100 non-null int64\n",
      "PizzaBase            58099 non-null float64\n",
      "TomatoSauce          58100 non-null int64\n",
      "frozen fish          58100 non-null int64\n",
      "bread                58100 non-null int64\n",
      "milk                 58099 non-null float64\n",
      "softdrink            58100 non-null int64\n",
      "fruitjuice           58100 non-null int64\n",
      "confectionery        58099 non-null float64\n",
      "fish                 58100 non-null int64\n",
      "vegetables           58100 non-null int64\n",
      "icecream             58100 non-null int64\n",
      "energydrink          58100 non-null int64\n",
      "tea                  58100 non-null int64\n",
      "coffee               58100 non-null int64\n",
      "laundryPowder        58100 non-null int64\n",
      "householCleaners     58100 non-null int64\n",
      "corn chips           58100 non-null int64\n",
      "Frozen yogurt        58100 non-null int64\n",
      "Chocolate            58100 non-null int64\n",
      "Olive Oil            58100 non-null int64\n",
      "Baby Food            58100 non-null int64\n",
      "Napies               58100 non-null int64\n",
      "banana               58100 non-null int64\n",
      "cat food             58100 non-null int64\n",
      "dog food             58100 non-null int64\n",
      "mince                58100 non-null int64\n",
      "sunflower Oil        58100 non-null int64\n",
      "chicken              58100 non-null int64\n",
      "vitamins             58100 non-null int64\n",
      "deodorants           58100 non-null int64\n",
      "dishwashingliquid    58100 non-null int64\n",
      "onions               58100 non-null int64\n",
      "lettuce              58100 non-null int64\n",
      "KitKat               58100 non-null int64\n",
      "TeaTowel             58100 non-null int64\n",
      "Scones               58100 non-null int64\n",
      "dtypes: float64(9), int64(42), object(2)\n",
      "memory usage: 23.5+ MB\n"
     ]
    }
   ],
   "source": [
    "# Information about the dataframe\n",
    "# null_counts = true, will not count rows which have missing values in it.\n",
    "data.info(null_counts = True)"
   ]
  },
  {
   "cell_type": "markdown",
   "metadata": {},
   "source": [
    "The columns having count less than 58,100 means those columns have missing values in them. Most of the columns are of type integer and float."
   ]
  },
  {
   "cell_type": "code",
   "execution_count": 221,
   "metadata": {},
   "outputs": [
    {
     "data": {
      "text/plain": [
       "ReceiptID               0\n",
       "Value                   0\n",
       "pmethod                 0\n",
       "sex                     0\n",
       "homeown                 0\n",
       "income                  1\n",
       "age                     1\n",
       "PostCode             9792\n",
       "nchildren               2\n",
       "fruit                   0\n",
       "freshmeat               0\n",
       "dairy                   0\n",
       "MozerallaCheese         0\n",
       "cannedveg               1\n",
       "cereal                  9\n",
       "frozenmeal              0\n",
       "frozendessert           0\n",
       "PizzaBase               1\n",
       "TomatoSauce             0\n",
       "frozen fish             0\n",
       "bread                   0\n",
       "milk                    1\n",
       "softdrink               0\n",
       "fruitjuice              0\n",
       "confectionery           1\n",
       "fish                    0\n",
       "vegetables              0\n",
       "icecream                0\n",
       "energydrink             0\n",
       "tea                     0\n",
       "coffee                  0\n",
       "laundryPowder           0\n",
       "householCleaners        0\n",
       "corn chips              0\n",
       "Frozen yogurt           0\n",
       "Chocolate               0\n",
       "Olive Oil               0\n",
       "Baby Food               0\n",
       "Napies                  0\n",
       "banana                  0\n",
       "cat food                0\n",
       "dog food                0\n",
       "mince                   0\n",
       "sunflower Oil           0\n",
       "chicken                 0\n",
       "vitamins                0\n",
       "deodorants              0\n",
       "dishwashingliquid       0\n",
       "onions                  0\n",
       "lettuce                 0\n",
       "KitKat                  0\n",
       "TeaTowel                0\n",
       "Scones                  0\n",
       "dtype: int64"
      ]
     },
     "execution_count": 221,
     "metadata": {},
     "output_type": "execute_result"
    }
   ],
   "source": [
    "# Getting number of missing values in each column\n",
    "data.isna().sum()"
   ]
  },
  {
   "cell_type": "markdown",
   "metadata": {},
   "source": [
    "Most of the missing values are in column PostCode which is 9792 and second highest number of missing values is in cereal column which is 9. "
   ]
  },
  {
   "cell_type": "code",
   "execution_count": 222,
   "metadata": {},
   "outputs": [
    {
     "name": "stdout",
     "output_type": "stream",
     "text": [
      "Total number of missing values is : 9809\n"
     ]
    }
   ],
   "source": [
    "print(\"Total number of missing values is :\",data.isna().sum().sum())"
   ]
  },
  {
   "cell_type": "code",
   "execution_count": 223,
   "metadata": {},
   "outputs": [
    {
     "name": "stderr",
     "output_type": "stream",
     "text": [
      "D:\\Anaconda3\\lib\\site-packages\\seaborn\\matrix.py:268: PendingDeprecationWarning: \n",
      "The label function will be deprecated in a future version. Use Tick.label1 instead.\n",
      "  fontsize = tick.label.get_size()\n"
     ]
    },
    {
     "data": {
      "image/png": "[encoded data removed]",
      "text/plain": [
       "<Figure size 1440x504 with 2 Axes>"
      ]
     },
     "metadata": {},
     "output_type": "display_data"
    }
   ],
   "source": [
    "# Plotting the missing values\n",
    "plt.figure(figsize = (20,7))\n",
    "sns.heatmap(data.isna())\n",
    "plt.show()"
   ]
  },
  {
   "cell_type": "markdown",
   "metadata": {},
   "source": [
    "This graph above confirms the statement we just made before about the missing values distribution."
   ]
  },
  {
   "cell_type": "markdown",
   "metadata": {},
   "source": [
    "# 3. Data Preprocessing and Cleaning"
   ]
  },
  {
   "cell_type": "markdown",
   "metadata": {},
   "source": [
    "### Receipt ID\n",
    "#### Shows receipt id of the transaction. Each transaction should have unique receipt id."
   ]
  },
  {
   "cell_type": "code",
   "execution_count": 224,
   "metadata": {},
   "outputs": [
    {
     "data": {
      "text/plain": [
       "0"
      ]
     },
     "execution_count": 224,
     "metadata": {},
     "output_type": "execute_result"
    }
   ],
   "source": [
    "# Checking if there are missing values or not\n",
    "len(data.ReceiptID[data.ReceiptID.isna()])"
   ]
  },
  {
   "cell_type": "code",
   "execution_count": 225,
   "metadata": {},
   "outputs": [
    {
     "data": {
      "text/plain": [
       "58100"
      ]
     },
     "execution_count": 225,
     "metadata": {},
     "output_type": "execute_result"
    }
   ],
   "source": [
    "len(data.ReceiptID)"
   ]
  },
  {
   "cell_type": "code",
   "execution_count": 226,
   "metadata": {},
   "outputs": [
    {
     "data": {
      "text/plain": [
       "58091"
      ]
     },
     "execution_count": 226,
     "metadata": {},
     "output_type": "execute_result"
    }
   ],
   "source": [
    "# Getting length of unique ReceiptID\n",
    "len(set(data.ReceiptID))"
   ]
  },
  {
   "cell_type": "markdown",
   "metadata": {},
   "source": [
    "9 duplicate entries in Receipt ID."
   ]
  },
  {
   "cell_type": "code",
   "execution_count": 227,
   "metadata": {},
   "outputs": [
    {
     "data": {
      "text/html": [
       "<div>\n",
       "<style scoped>\n",
       "    .dataframe tbody tr th:only-of-type {\n",
       "        vertical-align: middle;\n",
       "    }\n",
       "\n",
       "    .dataframe tbody tr th {\n",
       "        vertical-align: top;\n",
       "    }\n",
       "\n",
       "    .dataframe thead th {\n",
       "        text-align: right;\n",
       "    }\n",
       "</style>\n",
       "<table border=\"1\" class=\"dataframe\">\n",
       "  <thead>\n",
       "    <tr style=\"text-align: right;\">\n",
       "      <th></th>\n",
       "      <th>ReceiptID</th>\n",
       "      <th>Value</th>\n",
       "      <th>pmethod</th>\n",
       "      <th>sex</th>\n",
       "      <th>homeown</th>\n",
       "      <th>income</th>\n",
       "      <th>age</th>\n",
       "      <th>PostCode</th>\n",
       "      <th>nchildren</th>\n",
       "      <th>fruit</th>\n",
       "      <th>...</th>\n",
       "      <th>sunflower Oil</th>\n",
       "      <th>chicken</th>\n",
       "      <th>vitamins</th>\n",
       "      <th>deodorants</th>\n",
       "      <th>dishwashingliquid</th>\n",
       "      <th>onions</th>\n",
       "      <th>lettuce</th>\n",
       "      <th>KitKat</th>\n",
       "      <th>TeaTowel</th>\n",
       "      <th>Scones</th>\n",
       "    </tr>\n",
       "  </thead>\n",
       "  <tbody>\n",
       "    <tr>\n",
       "      <th>79</th>\n",
       "      <td>600090</td>\n",
       "      <td>142.000000</td>\n",
       "      <td>3</td>\n",
       "      <td>2</td>\n",
       "      <td>1</td>\n",
       "      <td>50226.000000</td>\n",
       "      <td>81.000000</td>\n",
       "      <td>2250</td>\n",
       "      <td>2.0</td>\n",
       "      <td>1</td>\n",
       "      <td>...</td>\n",
       "      <td>0</td>\n",
       "      <td>1</td>\n",
       "      <td>0</td>\n",
       "      <td>0</td>\n",
       "      <td>0</td>\n",
       "      <td>0</td>\n",
       "      <td>1</td>\n",
       "      <td>0</td>\n",
       "      <td>0</td>\n",
       "      <td>0</td>\n",
       "    </tr>\n",
       "    <tr>\n",
       "      <th>89</th>\n",
       "      <td>600090</td>\n",
       "      <td>96.000000</td>\n",
       "      <td>2</td>\n",
       "      <td>2</td>\n",
       "      <td>1</td>\n",
       "      <td>95560.000000</td>\n",
       "      <td>12.000000</td>\n",
       "      <td>2422</td>\n",
       "      <td>3.0</td>\n",
       "      <td>1</td>\n",
       "      <td>...</td>\n",
       "      <td>1</td>\n",
       "      <td>1</td>\n",
       "      <td>1</td>\n",
       "      <td>0</td>\n",
       "      <td>0</td>\n",
       "      <td>1</td>\n",
       "      <td>1</td>\n",
       "      <td>0</td>\n",
       "      <td>0</td>\n",
       "      <td>0</td>\n",
       "    </tr>\n",
       "    <tr>\n",
       "      <th>82</th>\n",
       "      <td>600093</td>\n",
       "      <td>45.000000</td>\n",
       "      <td>2</td>\n",
       "      <td>2</td>\n",
       "      <td>1</td>\n",
       "      <td>17984.000000</td>\n",
       "      <td>30.000000</td>\n",
       "      <td>2445</td>\n",
       "      <td>1.0</td>\n",
       "      <td>1</td>\n",
       "      <td>...</td>\n",
       "      <td>0</td>\n",
       "      <td>1</td>\n",
       "      <td>1</td>\n",
       "      <td>0</td>\n",
       "      <td>1</td>\n",
       "      <td>0</td>\n",
       "      <td>1</td>\n",
       "      <td>0</td>\n",
       "      <td>0</td>\n",
       "      <td>1</td>\n",
       "    </tr>\n",
       "    <tr>\n",
       "      <th>92</th>\n",
       "      <td>600093</td>\n",
       "      <td>152.000000</td>\n",
       "      <td>3</td>\n",
       "      <td>1</td>\n",
       "      <td>2</td>\n",
       "      <td>117353.000000</td>\n",
       "      <td>55.000000</td>\n",
       "      <td>2460</td>\n",
       "      <td>3.0</td>\n",
       "      <td>1</td>\n",
       "      <td>...</td>\n",
       "      <td>1</td>\n",
       "      <td>0</td>\n",
       "      <td>0</td>\n",
       "      <td>0</td>\n",
       "      <td>1</td>\n",
       "      <td>1</td>\n",
       "      <td>1</td>\n",
       "      <td>0</td>\n",
       "      <td>0</td>\n",
       "      <td>0</td>\n",
       "    </tr>\n",
       "    <tr>\n",
       "      <th>87</th>\n",
       "      <td>600099</td>\n",
       "      <td>154.000000</td>\n",
       "      <td>2</td>\n",
       "      <td>2</td>\n",
       "      <td>3</td>\n",
       "      <td>80687.000000</td>\n",
       "      <td>47.000000</td>\n",
       "      <td>2111</td>\n",
       "      <td>0.0</td>\n",
       "      <td>0</td>\n",
       "      <td>...</td>\n",
       "      <td>0</td>\n",
       "      <td>1</td>\n",
       "      <td>0</td>\n",
       "      <td>0</td>\n",
       "      <td>1</td>\n",
       "      <td>0</td>\n",
       "      <td>1</td>\n",
       "      <td>0</td>\n",
       "      <td>0</td>\n",
       "      <td>0</td>\n",
       "    </tr>\n",
       "    <tr>\n",
       "      <th>98</th>\n",
       "      <td>600099</td>\n",
       "      <td>17.000000</td>\n",
       "      <td>2</td>\n",
       "      <td>2</td>\n",
       "      <td>1</td>\n",
       "      <td>64145.000000</td>\n",
       "      <td>42.000000</td>\n",
       "      <td>2285</td>\n",
       "      <td>0.0</td>\n",
       "      <td>0</td>\n",
       "      <td>...</td>\n",
       "      <td>1</td>\n",
       "      <td>1</td>\n",
       "      <td>0</td>\n",
       "      <td>0</td>\n",
       "      <td>1</td>\n",
       "      <td>0</td>\n",
       "      <td>1</td>\n",
       "      <td>0</td>\n",
       "      <td>1</td>\n",
       "      <td>0</td>\n",
       "    </tr>\n",
       "    <tr>\n",
       "      <th>12294</th>\n",
       "      <td>612295</td>\n",
       "      <td>16.000000</td>\n",
       "      <td>4</td>\n",
       "      <td>1</td>\n",
       "      <td>2</td>\n",
       "      <td>67443.834744</td>\n",
       "      <td>38.810297</td>\n",
       "      <td>NaN</td>\n",
       "      <td>3.0</td>\n",
       "      <td>1</td>\n",
       "      <td>...</td>\n",
       "      <td>1</td>\n",
       "      <td>1</td>\n",
       "      <td>0</td>\n",
       "      <td>1</td>\n",
       "      <td>1</td>\n",
       "      <td>0</td>\n",
       "      <td>1</td>\n",
       "      <td>0</td>\n",
       "      <td>0</td>\n",
       "      <td>1</td>\n",
       "    </tr>\n",
       "    <tr>\n",
       "      <th>12296</th>\n",
       "      <td>612295</td>\n",
       "      <td>28.740141</td>\n",
       "      <td>2</td>\n",
       "      <td>2</td>\n",
       "      <td>1</td>\n",
       "      <td>79696.212416</td>\n",
       "      <td>39.079175</td>\n",
       "      <td>NaN</td>\n",
       "      <td>2.0</td>\n",
       "      <td>0</td>\n",
       "      <td>...</td>\n",
       "      <td>0</td>\n",
       "      <td>1</td>\n",
       "      <td>0</td>\n",
       "      <td>0</td>\n",
       "      <td>0</td>\n",
       "      <td>0</td>\n",
       "      <td>1</td>\n",
       "      <td>0</td>\n",
       "      <td>1</td>\n",
       "      <td>0</td>\n",
       "    </tr>\n",
       "    <tr>\n",
       "      <th>12306</th>\n",
       "      <td>612305</td>\n",
       "      <td>14.506269</td>\n",
       "      <td>4</td>\n",
       "      <td>2</td>\n",
       "      <td>1</td>\n",
       "      <td>72757.193087</td>\n",
       "      <td>31.349241</td>\n",
       "      <td>NaN</td>\n",
       "      <td>3.0</td>\n",
       "      <td>0</td>\n",
       "      <td>...</td>\n",
       "      <td>0</td>\n",
       "      <td>0</td>\n",
       "      <td>1</td>\n",
       "      <td>0</td>\n",
       "      <td>0</td>\n",
       "      <td>1</td>\n",
       "      <td>0</td>\n",
       "      <td>0</td>\n",
       "      <td>0</td>\n",
       "      <td>0</td>\n",
       "    </tr>\n",
       "    <tr>\n",
       "      <th>12304</th>\n",
       "      <td>612305</td>\n",
       "      <td>22.287095</td>\n",
       "      <td>2</td>\n",
       "      <td>2</td>\n",
       "      <td>1</td>\n",
       "      <td>72118.969656</td>\n",
       "      <td>28.102349</td>\n",
       "      <td>NaN</td>\n",
       "      <td>1.0</td>\n",
       "      <td>1</td>\n",
       "      <td>...</td>\n",
       "      <td>0</td>\n",
       "      <td>1</td>\n",
       "      <td>0</td>\n",
       "      <td>0</td>\n",
       "      <td>1</td>\n",
       "      <td>0</td>\n",
       "      <td>1</td>\n",
       "      <td>0</td>\n",
       "      <td>0</td>\n",
       "      <td>0</td>\n",
       "    </tr>\n",
       "    <tr>\n",
       "      <th>12314</th>\n",
       "      <td>612315</td>\n",
       "      <td>11.000000</td>\n",
       "      <td>4</td>\n",
       "      <td>1</td>\n",
       "      <td>2</td>\n",
       "      <td>69802.218682</td>\n",
       "      <td>43.819375</td>\n",
       "      <td>NaN</td>\n",
       "      <td>2.0</td>\n",
       "      <td>1</td>\n",
       "      <td>...</td>\n",
       "      <td>0</td>\n",
       "      <td>1</td>\n",
       "      <td>0</td>\n",
       "      <td>0</td>\n",
       "      <td>0</td>\n",
       "      <td>0</td>\n",
       "      <td>1</td>\n",
       "      <td>0</td>\n",
       "      <td>0</td>\n",
       "      <td>0</td>\n",
       "    </tr>\n",
       "    <tr>\n",
       "      <th>12316</th>\n",
       "      <td>612315</td>\n",
       "      <td>118.441447</td>\n",
       "      <td>3</td>\n",
       "      <td>2</td>\n",
       "      <td>1</td>\n",
       "      <td>71475.078687</td>\n",
       "      <td>35.108421</td>\n",
       "      <td>NaN</td>\n",
       "      <td>2.0</td>\n",
       "      <td>1</td>\n",
       "      <td>...</td>\n",
       "      <td>0</td>\n",
       "      <td>0</td>\n",
       "      <td>0</td>\n",
       "      <td>0</td>\n",
       "      <td>0</td>\n",
       "      <td>0</td>\n",
       "      <td>1</td>\n",
       "      <td>0</td>\n",
       "      <td>0</td>\n",
       "      <td>0</td>\n",
       "    </tr>\n",
       "    <tr>\n",
       "      <th>12344</th>\n",
       "      <td>612345</td>\n",
       "      <td>79.635933</td>\n",
       "      <td>3</td>\n",
       "      <td>2</td>\n",
       "      <td>1</td>\n",
       "      <td>74571.622479</td>\n",
       "      <td>29.822062</td>\n",
       "      <td>NaN</td>\n",
       "      <td>1.0</td>\n",
       "      <td>1</td>\n",
       "      <td>...</td>\n",
       "      <td>1</td>\n",
       "      <td>0</td>\n",
       "      <td>0</td>\n",
       "      <td>0</td>\n",
       "      <td>0</td>\n",
       "      <td>0</td>\n",
       "      <td>1</td>\n",
       "      <td>0</td>\n",
       "      <td>0</td>\n",
       "      <td>0</td>\n",
       "    </tr>\n",
       "    <tr>\n",
       "      <th>12346</th>\n",
       "      <td>612345</td>\n",
       "      <td>4.872894</td>\n",
       "      <td>3</td>\n",
       "      <td>1</td>\n",
       "      <td>1</td>\n",
       "      <td>68899.046618</td>\n",
       "      <td>41.956245</td>\n",
       "      <td>NaN</td>\n",
       "      <td>1.0</td>\n",
       "      <td>1</td>\n",
       "      <td>...</td>\n",
       "      <td>1</td>\n",
       "      <td>1</td>\n",
       "      <td>1</td>\n",
       "      <td>1</td>\n",
       "      <td>0</td>\n",
       "      <td>0</td>\n",
       "      <td>1</td>\n",
       "      <td>0</td>\n",
       "      <td>0</td>\n",
       "      <td>0</td>\n",
       "    </tr>\n",
       "    <tr>\n",
       "      <th>12349</th>\n",
       "      <td>612350</td>\n",
       "      <td>40.061788</td>\n",
       "      <td>3</td>\n",
       "      <td>1</td>\n",
       "      <td>1</td>\n",
       "      <td>59029.603313</td>\n",
       "      <td>40.584459</td>\n",
       "      <td>NaN</td>\n",
       "      <td>2.0</td>\n",
       "      <td>1</td>\n",
       "      <td>...</td>\n",
       "      <td>0</td>\n",
       "      <td>1</td>\n",
       "      <td>0</td>\n",
       "      <td>1</td>\n",
       "      <td>0</td>\n",
       "      <td>0</td>\n",
       "      <td>0</td>\n",
       "      <td>0</td>\n",
       "      <td>0</td>\n",
       "      <td>0</td>\n",
       "    </tr>\n",
       "    <tr>\n",
       "      <th>12369</th>\n",
       "      <td>612350</td>\n",
       "      <td>11.000000</td>\n",
       "      <td>1</td>\n",
       "      <td>1</td>\n",
       "      <td>1</td>\n",
       "      <td>67110.115945</td>\n",
       "      <td>40.696993</td>\n",
       "      <td>NaN</td>\n",
       "      <td>1.0</td>\n",
       "      <td>1</td>\n",
       "      <td>...</td>\n",
       "      <td>0</td>\n",
       "      <td>0</td>\n",
       "      <td>0</td>\n",
       "      <td>1</td>\n",
       "      <td>1</td>\n",
       "      <td>0</td>\n",
       "      <td>1</td>\n",
       "      <td>0</td>\n",
       "      <td>0</td>\n",
       "      <td>0</td>\n",
       "    </tr>\n",
       "    <tr>\n",
       "      <th>12394</th>\n",
       "      <td>612395</td>\n",
       "      <td>28.635672</td>\n",
       "      <td>1</td>\n",
       "      <td>2</td>\n",
       "      <td>1</td>\n",
       "      <td>70889.639920</td>\n",
       "      <td>35.552522</td>\n",
       "      <td>NaN</td>\n",
       "      <td>1.0</td>\n",
       "      <td>1</td>\n",
       "      <td>...</td>\n",
       "      <td>1</td>\n",
       "      <td>1</td>\n",
       "      <td>0</td>\n",
       "      <td>0</td>\n",
       "      <td>0</td>\n",
       "      <td>0</td>\n",
       "      <td>0</td>\n",
       "      <td>0</td>\n",
       "      <td>0</td>\n",
       "      <td>0</td>\n",
       "    </tr>\n",
       "    <tr>\n",
       "      <th>12396</th>\n",
       "      <td>612395</td>\n",
       "      <td>33.817973</td>\n",
       "      <td>2</td>\n",
       "      <td>1</td>\n",
       "      <td>1</td>\n",
       "      <td>73544.316849</td>\n",
       "      <td>40.745527</td>\n",
       "      <td>NaN</td>\n",
       "      <td>1.0</td>\n",
       "      <td>1</td>\n",
       "      <td>...</td>\n",
       "      <td>1</td>\n",
       "      <td>0</td>\n",
       "      <td>1</td>\n",
       "      <td>0</td>\n",
       "      <td>0</td>\n",
       "      <td>0</td>\n",
       "      <td>1</td>\n",
       "      <td>1</td>\n",
       "      <td>0</td>\n",
       "      <td>0</td>\n",
       "    </tr>\n",
       "  </tbody>\n",
       "</table>\n",
       "<p>18 rows × 53 columns</p>\n",
       "</div>"
      ],
      "text/plain": [
       "       ReceiptID       Value  pmethod  sex  homeown         income        age  \\\n",
       "79        600090  142.000000        3    2        1   50226.000000  81.000000   \n",
       "89        600090   96.000000        2    2        1   95560.000000  12.000000   \n",
       "82        600093   45.000000        2    2        1   17984.000000  30.000000   \n",
       "92        600093  152.000000        3    1        2  117353.000000  55.000000   \n",
       "87        600099  154.000000        2    2        3   80687.000000  47.000000   \n",
       "98        600099   17.000000        2    2        1   64145.000000  42.000000   \n",
       "12294     612295   16.000000        4    1        2   67443.834744  38.810297   \n",
       "12296     612295   28.740141        2    2        1   79696.212416  39.079175   \n",
       "12306     612305   14.506269        4    2        1   72757.193087  31.349241   \n",
       "12304     612305   22.287095        2    2        1   72118.969656  28.102349   \n",
       "12314     612315   11.000000        4    1        2   69802.218682  43.819375   \n",
       "12316     612315  118.441447        3    2        1   71475.078687  35.108421   \n",
       "12344     612345   79.635933        3    2        1   74571.622479  29.822062   \n",
       "12346     612345    4.872894        3    1        1   68899.046618  41.956245   \n",
       "12349     612350   40.061788        3    1        1   59029.603313  40.584459   \n",
       "12369     612350   11.000000        1    1        1   67110.115945  40.696993   \n",
       "12394     612395   28.635672        1    2        1   70889.639920  35.552522   \n",
       "12396     612395   33.817973        2    1        1   73544.316849  40.745527   \n",
       "\n",
       "      PostCode  nchildren fruit  ...  sunflower Oil  chicken  vitamins  \\\n",
       "79        2250        2.0     1  ...              0        1         0   \n",
       "89        2422        3.0     1  ...              1        1         1   \n",
       "82        2445        1.0     1  ...              0        1         1   \n",
       "92        2460        3.0     1  ...              1        0         0   \n",
       "87        2111        0.0     0  ...              0        1         0   \n",
       "98        2285        0.0     0  ...              1        1         0   \n",
       "12294      NaN        3.0     1  ...              1        1         0   \n",
       "12296      NaN        2.0     0  ...              0        1         0   \n",
       "12306      NaN        3.0     0  ...              0        0         1   \n",
       "12304      NaN        1.0     1  ...              0        1         0   \n",
       "12314      NaN        2.0     1  ...              0        1         0   \n",
       "12316      NaN        2.0     1  ...              0        0         0   \n",
       "12344      NaN        1.0     1  ...              1        0         0   \n",
       "12346      NaN        1.0     1  ...              1        1         1   \n",
       "12349      NaN        2.0     1  ...              0        1         0   \n",
       "12369      NaN        1.0     1  ...              0        0         0   \n",
       "12394      NaN        1.0     1  ...              1        1         0   \n",
       "12396      NaN        1.0     1  ...              1        0         1   \n",
       "\n",
       "       deodorants  dishwashingliquid  onions  lettuce  KitKat  TeaTowel  \\\n",
       "79              0                  0       0        1       0         0   \n",
       "89              0                  0       1        1       0         0   \n",
       "82              0                  1       0        1       0         0   \n",
       "92              0                  1       1        1       0         0   \n",
       "87              0                  1       0        1       0         0   \n",
       "98              0                  1       0        1       0         1   \n",
       "12294           1                  1       0        1       0         0   \n",
       "12296           0                  0       0        1       0         1   \n",
       "12306           0                  0       1        0       0         0   \n",
       "12304           0                  1       0        1       0         0   \n",
       "12314           0                  0       0        1       0         0   \n",
       "12316           0                  0       0        1       0         0   \n",
       "12344           0                  0       0        1       0         0   \n",
       "12346           1                  0       0        1       0         0   \n",
       "12349           1                  0       0        0       0         0   \n",
       "12369           1                  1       0        1       0         0   \n",
       "12394           0                  0       0        0       0         0   \n",
       "12396           0                  0       0        1       1         0   \n",
       "\n",
       "       Scones  \n",
       "79          0  \n",
       "89          0  \n",
       "82          1  \n",
       "92          0  \n",
       "87          0  \n",
       "98          0  \n",
       "12294       1  \n",
       "12296       0  \n",
       "12306       0  \n",
       "12304       0  \n",
       "12314       0  \n",
       "12316       0  \n",
       "12344       0  \n",
       "12346       0  \n",
       "12349       0  \n",
       "12369       0  \n",
       "12394       0  \n",
       "12396       0  \n",
       "\n",
       "[18 rows x 53 columns]"
      ]
     },
     "execution_count": 227,
     "metadata": {},
     "output_type": "execute_result"
    }
   ],
   "source": [
    "data[data.duplicated(\"ReceiptID\", keep = False)].sort_values(\"ReceiptID\")"
   ]
  },
  {
   "cell_type": "markdown",
   "metadata": {},
   "source": [
    "Here only ReceiptID has duplicate values not other columns that means transactions are different. We won't be needing ReceiptID for our analysis, so we are not dealing with this issue."
   ]
  },
  {
   "cell_type": "markdown",
   "metadata": {},
   "source": [
    "### Value\n",
    "#### Shows the value of the transaction in dollars."
   ]
  },
  {
   "cell_type": "code",
   "execution_count": 228,
   "metadata": {},
   "outputs": [
    {
     "data": {
      "text/plain": [
       "count    58100.000000\n",
       "mean        77.286134\n",
       "std         57.538666\n",
       "min          0.929691\n",
       "25%         29.530734\n",
       "50%         63.581908\n",
       "75%        116.000000\n",
       "max       1967.696760\n",
       "Name: Value, dtype: float64"
      ]
     },
     "execution_count": 228,
     "metadata": {},
     "output_type": "execute_result"
    }
   ],
   "source": [
    "# Summary of the value column\n",
    "data.Value.describe()"
   ]
  },
  {
   "cell_type": "code",
   "execution_count": 229,
   "metadata": {},
   "outputs": [
    {
     "data": {
      "text/plain": [
       "0"
      ]
     },
     "execution_count": 229,
     "metadata": {},
     "output_type": "execute_result"
    }
   ],
   "source": [
    "# Checking if there are missing values or not\n",
    "len(data.Value[data.Value.isna()])"
   ]
  },
  {
   "cell_type": "code",
   "execution_count": 230,
   "metadata": {},
   "outputs": [
    {
     "data": {
      "image/png": "[encoded data removed]",
      "text/plain": [
       "<Figure size 1080x936 with 2 Axes>"
      ]
     },
     "metadata": {},
     "output_type": "display_data"
    }
   ],
   "source": [
    "# Visualization before data cleaning\n",
    "%autoreload 2\n",
    "custom_functions.create_histogram_plus_boxplot(data.Value, \"Value\", color = \"royalblue\", ylabel = \"Frequency\", \n",
    "                                               xlabel = \"Value in dollars\" , size = (15,13))"
   ]
  },
  {
   "cell_type": "markdown",
   "metadata": {},
   "source": [
    "Histogram is right skewed. Most of the values are in between 0 - 250. By looking at the boxplot we can say that there are many outliers, but only 3 of them are extreme which are \\\\$802.0592, \\\\$1242.9862, \\\\$1967.6968. These observations could be explained by saying that they could be order for a big party or an occasion. These values might cause problems when we will be doing clustering, so I will be changing them to the median value of the column Value excluding extreme outliers. Since we are changing only 3 observation it won't be affecting results of future analysis. "
   ]
  },
  {
   "cell_type": "code",
   "execution_count": 231,
   "metadata": {},
   "outputs": [],
   "source": [
    "# Replacing extreme outliers with median value\n",
    "data.loc[data.Value > 500, \"Value\"] = data.Value.median()"
   ]
  },
  {
   "cell_type": "code",
   "execution_count": 232,
   "metadata": {},
   "outputs": [
    {
     "data": {
      "text/plain": [
       "count    58100.000000\n",
       "mean        77.220351\n",
       "std         56.716522\n",
       "min          0.929691\n",
       "25%         29.530734\n",
       "50%         63.580855\n",
       "75%        116.000000\n",
       "max        318.000000\n",
       "Name: Value, dtype: float64"
      ]
     },
     "execution_count": 232,
     "metadata": {},
     "output_type": "execute_result"
    }
   ],
   "source": [
    "# Summary after Data cleaning\n",
    "data.Value.describe()"
   ]
  },
  {
   "cell_type": "code",
   "execution_count": 233,
   "metadata": {},
   "outputs": [
    {
     "data": {
      "image/png": "[encoded data removed]",
      "text/plain": [
       "<Figure size 1080x936 with 2 Axes>"
      ]
     },
     "metadata": {},
     "output_type": "display_data"
    }
   ],
   "source": [
    "# Visualization after data cleaning\n",
    "%autoreload 2\n",
    "custom_functions.create_histogram_plus_boxplot(data.Value, \"Value\", color = \"royalblue\", ylabel = \"Frequency\", \n",
    "                                               xlabel = \"Value in dollars\" , size = (15,13))"
   ]
  },
  {
   "cell_type": "markdown",
   "metadata": {},
   "source": [
    "Distribution of Value is right skewed. It means generally the value of the transaction value is between \\\\$25 - \\\\$120. But occurence of transactions with high value is less compare to occurence of transactions with low value is quite common. There are still some outliers but they are not extreme so I am leaving them in the data as it is."
   ]
  },
  {
   "cell_type": "markdown",
   "metadata": {},
   "source": [
    "### Pmethod\n",
    "#### Shows the payment method used for the transaction.\n",
    "#### Payment method 1 : Cash, 2 : Card, 3 : Eftpos, 4 : Other "
   ]
  },
  {
   "cell_type": "code",
   "execution_count": 234,
   "metadata": {},
   "outputs": [
    {
     "data": {
      "text/plain": [
       "count    58100.000000\n",
       "mean         2.496162\n",
       "std          2.520534\n",
       "min          1.000000\n",
       "25%          2.000000\n",
       "50%          2.000000\n",
       "75%          3.000000\n",
       "max        101.000000\n",
       "Name: pmethod, dtype: float64"
      ]
     },
     "execution_count": 234,
     "metadata": {},
     "output_type": "execute_result"
    }
   ],
   "source": [
    "# Summary\n",
    "data.pmethod.describe()"
   ]
  },
  {
   "cell_type": "code",
   "execution_count": 235,
   "metadata": {},
   "outputs": [
    {
     "data": {
      "text/plain": [
       "0"
      ]
     },
     "execution_count": 235,
     "metadata": {},
     "output_type": "execute_result"
    }
   ],
   "source": [
    "# Checking if there are missing values or not\n",
    "len(data.pmethod[data.pmethod.isna()])"
   ]
  },
  {
   "cell_type": "code",
   "execution_count": 236,
   "metadata": {},
   "outputs": [
    {
     "data": {
      "text/html": [
       "<div>\n",
       "<style scoped>\n",
       "    .dataframe tbody tr th:only-of-type {\n",
       "        vertical-align: middle;\n",
       "    }\n",
       "\n",
       "    .dataframe tbody tr th {\n",
       "        vertical-align: top;\n",
       "    }\n",
       "\n",
       "    .dataframe thead th {\n",
       "        text-align: right;\n",
       "    }\n",
       "</style>\n",
       "<table border=\"1\" class=\"dataframe\">\n",
       "  <thead>\n",
       "    <tr style=\"text-align: right;\">\n",
       "      <th></th>\n",
       "      <th>ReceiptID</th>\n",
       "      <th>Value</th>\n",
       "      <th>pmethod</th>\n",
       "      <th>sex</th>\n",
       "      <th>homeown</th>\n",
       "      <th>income</th>\n",
       "      <th>age</th>\n",
       "      <th>PostCode</th>\n",
       "      <th>nchildren</th>\n",
       "      <th>fruit</th>\n",
       "      <th>...</th>\n",
       "      <th>sunflower Oil</th>\n",
       "      <th>chicken</th>\n",
       "      <th>vitamins</th>\n",
       "      <th>deodorants</th>\n",
       "      <th>dishwashingliquid</th>\n",
       "      <th>onions</th>\n",
       "      <th>lettuce</th>\n",
       "      <th>KitKat</th>\n",
       "      <th>TeaTowel</th>\n",
       "      <th>Scones</th>\n",
       "    </tr>\n",
       "  </thead>\n",
       "  <tbody>\n",
       "    <tr>\n",
       "      <th>58003</th>\n",
       "      <td>658004</td>\n",
       "      <td>124.0</td>\n",
       "      <td>5</td>\n",
       "      <td>2</td>\n",
       "      <td>6</td>\n",
       "      <td>90915.0</td>\n",
       "      <td>11.0</td>\n",
       "      <td>2304</td>\n",
       "      <td>9.0</td>\n",
       "      <td>0</td>\n",
       "      <td>...</td>\n",
       "      <td>0</td>\n",
       "      <td>1</td>\n",
       "      <td>1</td>\n",
       "      <td>1</td>\n",
       "      <td>1</td>\n",
       "      <td>0</td>\n",
       "      <td>1</td>\n",
       "      <td>0</td>\n",
       "      <td>0</td>\n",
       "      <td>0</td>\n",
       "    </tr>\n",
       "    <tr>\n",
       "      <th>58004</th>\n",
       "      <td>658005</td>\n",
       "      <td>178.0</td>\n",
       "      <td>6</td>\n",
       "      <td>2</td>\n",
       "      <td>7</td>\n",
       "      <td>105121.0</td>\n",
       "      <td>23.0</td>\n",
       "      <td>2231</td>\n",
       "      <td>10.0</td>\n",
       "      <td>1</td>\n",
       "      <td>...</td>\n",
       "      <td>0</td>\n",
       "      <td>1</td>\n",
       "      <td>0</td>\n",
       "      <td>0</td>\n",
       "      <td>0</td>\n",
       "      <td>0</td>\n",
       "      <td>1</td>\n",
       "      <td>0</td>\n",
       "      <td>0</td>\n",
       "      <td>0</td>\n",
       "    </tr>\n",
       "    <tr>\n",
       "      <th>58005</th>\n",
       "      <td>658006</td>\n",
       "      <td>142.0</td>\n",
       "      <td>7</td>\n",
       "      <td>1</td>\n",
       "      <td>8</td>\n",
       "      <td>102043.0</td>\n",
       "      <td>90.0</td>\n",
       "      <td>2192</td>\n",
       "      <td>11.0</td>\n",
       "      <td>1</td>\n",
       "      <td>...</td>\n",
       "      <td>1</td>\n",
       "      <td>0</td>\n",
       "      <td>0</td>\n",
       "      <td>1</td>\n",
       "      <td>0</td>\n",
       "      <td>0</td>\n",
       "      <td>1</td>\n",
       "      <td>0</td>\n",
       "      <td>0</td>\n",
       "      <td>0</td>\n",
       "    </tr>\n",
       "    <tr>\n",
       "      <th>58006</th>\n",
       "      <td>658007</td>\n",
       "      <td>95.0</td>\n",
       "      <td>8</td>\n",
       "      <td>2</td>\n",
       "      <td>9</td>\n",
       "      <td>111302.0</td>\n",
       "      <td>73.0</td>\n",
       "      <td>2271</td>\n",
       "      <td>12.0</td>\n",
       "      <td>0</td>\n",
       "      <td>...</td>\n",
       "      <td>1</td>\n",
       "      <td>1</td>\n",
       "      <td>1</td>\n",
       "      <td>0</td>\n",
       "      <td>0</td>\n",
       "      <td>1</td>\n",
       "      <td>1</td>\n",
       "      <td>0</td>\n",
       "      <td>0</td>\n",
       "      <td>0</td>\n",
       "    </tr>\n",
       "    <tr>\n",
       "      <th>58007</th>\n",
       "      <td>658008</td>\n",
       "      <td>196.0</td>\n",
       "      <td>9</td>\n",
       "      <td>1</td>\n",
       "      <td>10</td>\n",
       "      <td>25396.0</td>\n",
       "      <td>54.0</td>\n",
       "      <td>2130</td>\n",
       "      <td>13.0</td>\n",
       "      <td>0</td>\n",
       "      <td>...</td>\n",
       "      <td>0</td>\n",
       "      <td>0</td>\n",
       "      <td>1</td>\n",
       "      <td>0</td>\n",
       "      <td>0</td>\n",
       "      <td>0</td>\n",
       "      <td>1</td>\n",
       "      <td>0</td>\n",
       "      <td>0</td>\n",
       "      <td>0</td>\n",
       "    </tr>\n",
       "    <tr>\n",
       "      <th>...</th>\n",
       "      <td>...</td>\n",
       "      <td>...</td>\n",
       "      <td>...</td>\n",
       "      <td>...</td>\n",
       "      <td>...</td>\n",
       "      <td>...</td>\n",
       "      <td>...</td>\n",
       "      <td>...</td>\n",
       "      <td>...</td>\n",
       "      <td>...</td>\n",
       "      <td>...</td>\n",
       "      <td>...</td>\n",
       "      <td>...</td>\n",
       "      <td>...</td>\n",
       "      <td>...</td>\n",
       "      <td>...</td>\n",
       "      <td>...</td>\n",
       "      <td>...</td>\n",
       "      <td>...</td>\n",
       "      <td>...</td>\n",
       "      <td>...</td>\n",
       "    </tr>\n",
       "    <tr>\n",
       "      <th>58095</th>\n",
       "      <td>658096</td>\n",
       "      <td>184.0</td>\n",
       "      <td>97</td>\n",
       "      <td>2</td>\n",
       "      <td>98</td>\n",
       "      <td>90021.0</td>\n",
       "      <td>73.0</td>\n",
       "      <td>2391</td>\n",
       "      <td>101.0</td>\n",
       "      <td>0</td>\n",
       "      <td>...</td>\n",
       "      <td>0</td>\n",
       "      <td>1</td>\n",
       "      <td>0</td>\n",
       "      <td>1</td>\n",
       "      <td>0</td>\n",
       "      <td>0</td>\n",
       "      <td>1</td>\n",
       "      <td>0</td>\n",
       "      <td>0</td>\n",
       "      <td>0</td>\n",
       "    </tr>\n",
       "    <tr>\n",
       "      <th>58096</th>\n",
       "      <td>658097</td>\n",
       "      <td>163.0</td>\n",
       "      <td>98</td>\n",
       "      <td>2</td>\n",
       "      <td>99</td>\n",
       "      <td>69559.0</td>\n",
       "      <td>90.0</td>\n",
       "      <td>2416</td>\n",
       "      <td>102.0</td>\n",
       "      <td>0</td>\n",
       "      <td>...</td>\n",
       "      <td>0</td>\n",
       "      <td>1</td>\n",
       "      <td>0</td>\n",
       "      <td>1</td>\n",
       "      <td>1</td>\n",
       "      <td>0</td>\n",
       "      <td>1</td>\n",
       "      <td>0</td>\n",
       "      <td>0</td>\n",
       "      <td>0</td>\n",
       "    </tr>\n",
       "    <tr>\n",
       "      <th>58097</th>\n",
       "      <td>658098</td>\n",
       "      <td>20.0</td>\n",
       "      <td>99</td>\n",
       "      <td>2</td>\n",
       "      <td>100</td>\n",
       "      <td>119925.0</td>\n",
       "      <td>17.0</td>\n",
       "      <td>2351</td>\n",
       "      <td>103.0</td>\n",
       "      <td>0</td>\n",
       "      <td>...</td>\n",
       "      <td>1</td>\n",
       "      <td>1</td>\n",
       "      <td>1</td>\n",
       "      <td>1</td>\n",
       "      <td>1</td>\n",
       "      <td>0</td>\n",
       "      <td>1</td>\n",
       "      <td>0</td>\n",
       "      <td>0</td>\n",
       "      <td>0</td>\n",
       "    </tr>\n",
       "    <tr>\n",
       "      <th>58098</th>\n",
       "      <td>658099</td>\n",
       "      <td>106.0</td>\n",
       "      <td>100</td>\n",
       "      <td>2</td>\n",
       "      <td>101</td>\n",
       "      <td>54001.0</td>\n",
       "      <td>55.0</td>\n",
       "      <td>2446</td>\n",
       "      <td>104.0</td>\n",
       "      <td>1</td>\n",
       "      <td>...</td>\n",
       "      <td>1</td>\n",
       "      <td>1</td>\n",
       "      <td>0</td>\n",
       "      <td>0</td>\n",
       "      <td>1</td>\n",
       "      <td>0</td>\n",
       "      <td>0</td>\n",
       "      <td>0</td>\n",
       "      <td>0</td>\n",
       "      <td>0</td>\n",
       "    </tr>\n",
       "    <tr>\n",
       "      <th>58099</th>\n",
       "      <td>658100</td>\n",
       "      <td>59.0</td>\n",
       "      <td>101</td>\n",
       "      <td>2</td>\n",
       "      <td>102</td>\n",
       "      <td>72683.0</td>\n",
       "      <td>26.0</td>\n",
       "      <td>2126</td>\n",
       "      <td>105.0</td>\n",
       "      <td>0</td>\n",
       "      <td>...</td>\n",
       "      <td>0</td>\n",
       "      <td>1</td>\n",
       "      <td>0</td>\n",
       "      <td>0</td>\n",
       "      <td>0</td>\n",
       "      <td>0</td>\n",
       "      <td>1</td>\n",
       "      <td>0</td>\n",
       "      <td>0</td>\n",
       "      <td>0</td>\n",
       "    </tr>\n",
       "  </tbody>\n",
       "</table>\n",
       "<p>97 rows × 53 columns</p>\n",
       "</div>"
      ],
      "text/plain": [
       "       ReceiptID  Value  pmethod  sex  homeown    income   age PostCode  \\\n",
       "58003     658004  124.0        5    2        6   90915.0  11.0     2304   \n",
       "58004     658005  178.0        6    2        7  105121.0  23.0     2231   \n",
       "58005     658006  142.0        7    1        8  102043.0  90.0     2192   \n",
       "58006     658007   95.0        8    2        9  111302.0  73.0     2271   \n",
       "58007     658008  196.0        9    1       10   25396.0  54.0     2130   \n",
       "...          ...    ...      ...  ...      ...       ...   ...      ...   \n",
       "58095     658096  184.0       97    2       98   90021.0  73.0     2391   \n",
       "58096     658097  163.0       98    2       99   69559.0  90.0     2416   \n",
       "58097     658098   20.0       99    2      100  119925.0  17.0     2351   \n",
       "58098     658099  106.0      100    2      101   54001.0  55.0     2446   \n",
       "58099     658100   59.0      101    2      102   72683.0  26.0     2126   \n",
       "\n",
       "       nchildren fruit  ...  sunflower Oil  chicken  vitamins  deodorants  \\\n",
       "58003        9.0     0  ...              0        1         1           1   \n",
       "58004       10.0     1  ...              0        1         0           0   \n",
       "58005       11.0     1  ...              1        0         0           1   \n",
       "58006       12.0     0  ...              1        1         1           0   \n",
       "58007       13.0     0  ...              0        0         1           0   \n",
       "...          ...   ...  ...            ...      ...       ...         ...   \n",
       "58095      101.0     0  ...              0        1         0           1   \n",
       "58096      102.0     0  ...              0        1         0           1   \n",
       "58097      103.0     0  ...              1        1         1           1   \n",
       "58098      104.0     1  ...              1        1         0           0   \n",
       "58099      105.0     0  ...              0        1         0           0   \n",
       "\n",
       "       dishwashingliquid  onions  lettuce  KitKat  TeaTowel  Scones  \n",
       "58003                  1       0        1       0         0       0  \n",
       "58004                  0       0        1       0         0       0  \n",
       "58005                  0       0        1       0         0       0  \n",
       "58006                  0       1        1       0         0       0  \n",
       "58007                  0       0        1       0         0       0  \n",
       "...                  ...     ...      ...     ...       ...     ...  \n",
       "58095                  0       0        1       0         0       0  \n",
       "58096                  1       0        1       0         0       0  \n",
       "58097                  1       0        1       0         0       0  \n",
       "58098                  1       0        0       0         0       0  \n",
       "58099                  0       0        1       0         0       0  \n",
       "\n",
       "[97 rows x 53 columns]"
      ]
     },
     "execution_count": 236,
     "metadata": {},
     "output_type": "execute_result"
    }
   ],
   "source": [
    "# Checking for invalid entries\n",
    "data[data.pmethod > 4]"
   ]
  },
  {
   "cell_type": "markdown",
   "metadata": {},
   "source": [
    "There are 97 entries which are greater than 4(i.e invalid). We can also see that observations which have invalid values for pmethod also have invalid values for homeown(> 3)\\[homeown 1 : Yes, 2 : No, 3 : Unknown\\]. We can also see that nchildren values of these observation is not valid(>8). We will remove these observation as the invalid values persist in more than one column."
   ]
  },
  {
   "cell_type": "code",
   "execution_count": 237,
   "metadata": {},
   "outputs": [],
   "source": [
    "# Filtering out the data\n",
    "data = data[data.pmethod < 5]"
   ]
  },
  {
   "cell_type": "code",
   "execution_count": 238,
   "metadata": {},
   "outputs": [],
   "source": [
    "# Converting the numeric field to categorical\n",
    "data.pmethod = data.pmethod.astype(\"category\")"
   ]
  },
  {
   "cell_type": "code",
   "execution_count": 239,
   "metadata": {},
   "outputs": [],
   "source": [
    "# Creating a new variable replacing categorical codes to actual category names\n",
    "data[\"pmethod_processed\"] = data.pmethod.values.map({1 : \"Cash\", 2 : \"Card\", 3 : \"EFTPOS\", 4 : \"Other\"})"
   ]
  },
  {
   "cell_type": "code",
   "execution_count": 240,
   "metadata": {},
   "outputs": [
    {
     "data": {
      "text/plain": [
       "Card      24720\n",
       "EFTPOS    17690\n",
       "Cash       8332\n",
       "Other      7261\n",
       "Name: pmethod_processed, dtype: int64"
      ]
     },
     "execution_count": 240,
     "metadata": {},
     "output_type": "execute_result"
    }
   ],
   "source": [
    "# Gettting the frequency of the categories\n",
    "pmethod_count_series = data.pmethod_processed.value_counts()\n",
    "pmethod_count_series"
   ]
  },
  {
   "cell_type": "markdown",
   "metadata": {},
   "source": [
    "There are 4 unique values for pmethod. Most common of them is card with frequency of 24720."
   ]
  },
  {
   "cell_type": "code",
   "execution_count": 241,
   "metadata": {},
   "outputs": [
    {
     "data": {
      "image/png": "[encoded data removed]",
      "text/plain": [
       "<Figure size 864x720 with 1 Axes>"
      ]
     },
     "metadata": {},
     "output_type": "display_data"
    }
   ],
   "source": [
    "# Visualization after data cleaning\n",
    "%autoreload 2\n",
    "custom_functions.barplot(pmethod_count_series, \"Payment method\", \"Counts\", \"Payment Methods\", \n",
    "                         color=[\"red\",\"green\", \"blue\", \"grey\"], labels = [\"Card\", \"EFTPOS\", \"Cash\", \"Other\"])"
   ]
  },
  {
   "cell_type": "markdown",
   "metadata": {},
   "source": [
    "Most common form of payment is via card and EFTPOS."
   ]
  },
  {
   "cell_type": "markdown",
   "metadata": {},
   "source": [
    "### Sex\n",
    "#### Shows gender of the customer 1 : Male, 2 : Female"
   ]
  },
  {
   "cell_type": "code",
   "execution_count": 242,
   "metadata": {},
   "outputs": [
    {
     "data": {
      "text/plain": [
       "count    58003.000000\n",
       "mean         1.597831\n",
       "std          0.490340\n",
       "min          1.000000\n",
       "25%          1.000000\n",
       "50%          2.000000\n",
       "75%          2.000000\n",
       "max          2.000000\n",
       "Name: sex, dtype: float64"
      ]
     },
     "execution_count": 242,
     "metadata": {},
     "output_type": "execute_result"
    }
   ],
   "source": [
    "# Summary\n",
    "data.sex.describe()"
   ]
  },
  {
   "cell_type": "code",
   "execution_count": 243,
   "metadata": {},
   "outputs": [
    {
     "data": {
      "text/plain": [
       "0"
      ]
     },
     "execution_count": 243,
     "metadata": {},
     "output_type": "execute_result"
    }
   ],
   "source": [
    "# Checking if there are missing values or not\n",
    "len(data.sex[data.sex.isna()])"
   ]
  },
  {
   "cell_type": "markdown",
   "metadata": {},
   "source": [
    "No invalid entries"
   ]
  },
  {
   "cell_type": "code",
   "execution_count": 244,
   "metadata": {},
   "outputs": [],
   "source": [
    "# Converting sex into categorical variable\n",
    "data.sex = data.sex.astype(\"category\")"
   ]
  },
  {
   "cell_type": "code",
   "execution_count": 245,
   "metadata": {},
   "outputs": [
    {
     "data": {
      "text/plain": [
       "Female    34676\n",
       "Male      23327\n",
       "Name: sex_processed, dtype: int64"
      ]
     },
     "execution_count": 245,
     "metadata": {},
     "output_type": "execute_result"
    }
   ],
   "source": [
    "# Creating a new variable replacing categorical codes to actual category names\n",
    "data[\"sex_processed\"] = data.sex.map({1 : \"Male\", 2 : \"Female\"})\n",
    "\n",
    "# Gettting the frequency of the categories\n",
    "sex_counts_series = data.sex_processed.value_counts()\n",
    "sex_counts_series"
   ]
  },
  {
   "cell_type": "code",
   "execution_count": 246,
   "metadata": {},
   "outputs": [
    {
     "data": {
      "image/png": "[encoded data removed]",
      "text/plain": [
       "<Figure size 1080x504 with 1 Axes>"
      ]
     },
     "metadata": {},
     "output_type": "display_data"
    }
   ],
   "source": [
    "# Donut Chart\n",
    "plt.pie(sex_counts_series, colors = [\"pink\", \"skyblue\"], labels = [\"Female\", \"Male\"], \n",
    "        autopct = '%1.1f%%', startangle = 90, pctdistance = 0.80, textprops = {\"fontsize\" : 18})\n",
    "plt.gca().add_artist(plt.Circle((0, 0), 0.60, fc = 'white'));"
   ]
  },
  {
   "cell_type": "markdown",
   "metadata": {},
   "source": [
    "### Homeown\n",
    "#### Shows whether customer own a home or not 1 : Yes, 2: No, 3 : Unknown"
   ]
  },
  {
   "cell_type": "code",
   "execution_count": 247,
   "metadata": {},
   "outputs": [
    {
     "data": {
      "text/plain": [
       "count    58003.000000\n",
       "mean         1.301519\n",
       "std          0.510835\n",
       "min          1.000000\n",
       "25%          1.000000\n",
       "50%          1.000000\n",
       "75%          2.000000\n",
       "max          5.000000\n",
       "Name: homeown, dtype: float64"
      ]
     },
     "execution_count": 247,
     "metadata": {},
     "output_type": "execute_result"
    }
   ],
   "source": [
    "# Summary\n",
    "data.homeown.describe()"
   ]
  },
  {
   "cell_type": "code",
   "execution_count": 248,
   "metadata": {},
   "outputs": [
    {
     "data": {
      "text/plain": [
       "0"
      ]
     },
     "execution_count": 248,
     "metadata": {},
     "output_type": "execute_result"
    }
   ],
   "source": [
    "# Checking if there are missing values or not\n",
    "len(data.homeown[data.homeown.isna()])"
   ]
  },
  {
   "cell_type": "code",
   "execution_count": 249,
   "metadata": {},
   "outputs": [
    {
     "data": {
      "text/html": [
       "<div>\n",
       "<style scoped>\n",
       "    .dataframe tbody tr th:only-of-type {\n",
       "        vertical-align: middle;\n",
       "    }\n",
       "\n",
       "    .dataframe tbody tr th {\n",
       "        vertical-align: top;\n",
       "    }\n",
       "\n",
       "    .dataframe thead th {\n",
       "        text-align: right;\n",
       "    }\n",
       "</style>\n",
       "<table border=\"1\" class=\"dataframe\">\n",
       "  <thead>\n",
       "    <tr style=\"text-align: right;\">\n",
       "      <th></th>\n",
       "      <th>ReceiptID</th>\n",
       "      <th>Value</th>\n",
       "      <th>pmethod</th>\n",
       "      <th>sex</th>\n",
       "      <th>homeown</th>\n",
       "      <th>income</th>\n",
       "      <th>age</th>\n",
       "      <th>PostCode</th>\n",
       "      <th>nchildren</th>\n",
       "      <th>fruit</th>\n",
       "      <th>...</th>\n",
       "      <th>vitamins</th>\n",
       "      <th>deodorants</th>\n",
       "      <th>dishwashingliquid</th>\n",
       "      <th>onions</th>\n",
       "      <th>lettuce</th>\n",
       "      <th>KitKat</th>\n",
       "      <th>TeaTowel</th>\n",
       "      <th>Scones</th>\n",
       "      <th>pmethod_processed</th>\n",
       "      <th>sex_processed</th>\n",
       "    </tr>\n",
       "  </thead>\n",
       "  <tbody>\n",
       "    <tr>\n",
       "      <th>58001</th>\n",
       "      <td>658002</td>\n",
       "      <td>48.0</td>\n",
       "      <td>3</td>\n",
       "      <td>2</td>\n",
       "      <td>4</td>\n",
       "      <td>60985.0</td>\n",
       "      <td>46.0</td>\n",
       "      <td>2143</td>\n",
       "      <td>7.0</td>\n",
       "      <td>0</td>\n",
       "      <td>...</td>\n",
       "      <td>0</td>\n",
       "      <td>1</td>\n",
       "      <td>1</td>\n",
       "      <td>0</td>\n",
       "      <td>0</td>\n",
       "      <td>0</td>\n",
       "      <td>0</td>\n",
       "      <td>0</td>\n",
       "      <td>EFTPOS</td>\n",
       "      <td>Female</td>\n",
       "    </tr>\n",
       "    <tr>\n",
       "      <th>58002</th>\n",
       "      <td>658003</td>\n",
       "      <td>68.0</td>\n",
       "      <td>4</td>\n",
       "      <td>1</td>\n",
       "      <td>5</td>\n",
       "      <td>101239.0</td>\n",
       "      <td>73.0</td>\n",
       "      <td>2193</td>\n",
       "      <td>8.0</td>\n",
       "      <td>0</td>\n",
       "      <td>...</td>\n",
       "      <td>0</td>\n",
       "      <td>1</td>\n",
       "      <td>1</td>\n",
       "      <td>0</td>\n",
       "      <td>1</td>\n",
       "      <td>0</td>\n",
       "      <td>0</td>\n",
       "      <td>0</td>\n",
       "      <td>Other</td>\n",
       "      <td>Male</td>\n",
       "    </tr>\n",
       "  </tbody>\n",
       "</table>\n",
       "<p>2 rows × 55 columns</p>\n",
       "</div>"
      ],
      "text/plain": [
       "       ReceiptID  Value pmethod sex  homeown    income   age PostCode  \\\n",
       "58001     658002   48.0       3   2        4   60985.0  46.0     2143   \n",
       "58002     658003   68.0       4   1        5  101239.0  73.0     2193   \n",
       "\n",
       "       nchildren fruit  ...  vitamins  deodorants  dishwashingliquid  onions  \\\n",
       "58001        7.0     0  ...         0           1                  1       0   \n",
       "58002        8.0     0  ...         0           1                  1       0   \n",
       "\n",
       "       lettuce  KitKat  TeaTowel  Scones  pmethod_processed  sex_processed  \n",
       "58001        0       0         0       0             EFTPOS         Female  \n",
       "58002        1       0         0       0              Other           Male  \n",
       "\n",
       "[2 rows x 55 columns]"
      ]
     },
     "execution_count": 249,
     "metadata": {},
     "output_type": "execute_result"
    }
   ],
   "source": [
    "# Filtering the data\n",
    "data[data.homeown > 3]"
   ]
  },
  {
   "cell_type": "markdown",
   "metadata": {},
   "source": [
    "For above two observations the value of homeown column is invalid. Also the values for nchildren is quite unusual so I will be removing these two observations."
   ]
  },
  {
   "cell_type": "code",
   "execution_count": 250,
   "metadata": {},
   "outputs": [],
   "source": [
    "# Filtering out the data\n",
    "data = data[data.homeown < 4]\n",
    "\n",
    "# Converting the homeown from integer to categorical variable\n",
    "data.homeown = data.homeown.astype(\"category\")"
   ]
  },
  {
   "cell_type": "code",
   "execution_count": 251,
   "metadata": {},
   "outputs": [
    {
     "data": {
      "text/plain": [
       "Yes        41970\n",
       "No         14580\n",
       "Unknown     1451\n",
       "Name: homeown_processed, dtype: int64"
      ]
     },
     "execution_count": 251,
     "metadata": {},
     "output_type": "execute_result"
    }
   ],
   "source": [
    "# Creating a new variable replacing categorical codes to actual category names\n",
    "data[\"homeown_processed\"] = data.homeown.map({1 : \"Yes\", 2 : \"No\", 3: \"Unknown\"})\n",
    "\n",
    "# Gettting the frequency of the categories\n",
    "homeown_count_series = data.homeown_processed.value_counts()\n",
    "homeown_count_series"
   ]
  },
  {
   "cell_type": "code",
   "execution_count": 252,
   "metadata": {},
   "outputs": [
    {
     "data": {
      "image/png": "[encoded data removed]",
      "text/plain": [
       "<Figure size 864x720 with 1 Axes>"
      ]
     },
     "metadata": {},
     "output_type": "display_data"
    }
   ],
   "source": [
    "%autoreload 2\n",
    "custom_functions.barplot(homeown_count_series, \"Does customer own a home?\", \"Counts\", \"Homeown\", \n",
    "                         color=[\"red\", \"green\", \"blue\"], labels = [\"Yes\", \"No\", \"Unknown\"])"
   ]
  },
  {
   "cell_type": "markdown",
   "metadata": {},
   "source": [
    "Around 42,000 of the customers own a house where around 15,000 of the customers are maybe renting the place they are staying."
   ]
  },
  {
   "cell_type": "markdown",
   "metadata": {},
   "source": [
    "### Income\n",
    "#### Shows income of the customers"
   ]
  },
  {
   "cell_type": "code",
   "execution_count": 253,
   "metadata": {},
   "outputs": [
    {
     "data": {
      "text/plain": [
       "count     58000.000000\n",
       "mean      74849.692464\n",
       "std       23938.874467\n",
       "min        6000.230000\n",
       "25%       65589.469477\n",
       "50%       70169.026563\n",
       "75%       75363.116654\n",
       "max      650235.250000\n",
       "Name: income, dtype: float64"
      ]
     },
     "execution_count": 253,
     "metadata": {},
     "output_type": "execute_result"
    }
   ],
   "source": [
    "# Summary\n",
    "data.income.describe()"
   ]
  },
  {
   "cell_type": "code",
   "execution_count": 254,
   "metadata": {},
   "outputs": [
    {
     "data": {
      "text/plain": [
       "1"
      ]
     },
     "execution_count": 254,
     "metadata": {},
     "output_type": "execute_result"
    }
   ],
   "source": [
    "# Checking if there are missing values or not\n",
    "len(data.income[data.income.isna()])"
   ]
  },
  {
   "cell_type": "code",
   "execution_count": 255,
   "metadata": {},
   "outputs": [
    {
     "data": {
      "text/html": [
       "<div>\n",
       "<style scoped>\n",
       "    .dataframe tbody tr th:only-of-type {\n",
       "        vertical-align: middle;\n",
       "    }\n",
       "\n",
       "    .dataframe tbody tr th {\n",
       "        vertical-align: top;\n",
       "    }\n",
       "\n",
       "    .dataframe thead th {\n",
       "        text-align: right;\n",
       "    }\n",
       "</style>\n",
       "<table border=\"1\" class=\"dataframe\">\n",
       "  <thead>\n",
       "    <tr style=\"text-align: right;\">\n",
       "      <th></th>\n",
       "      <th>ReceiptID</th>\n",
       "      <th>Value</th>\n",
       "      <th>pmethod</th>\n",
       "      <th>sex</th>\n",
       "      <th>homeown</th>\n",
       "      <th>income</th>\n",
       "      <th>age</th>\n",
       "      <th>PostCode</th>\n",
       "      <th>nchildren</th>\n",
       "      <th>fruit</th>\n",
       "      <th>...</th>\n",
       "      <th>deodorants</th>\n",
       "      <th>dishwashingliquid</th>\n",
       "      <th>onions</th>\n",
       "      <th>lettuce</th>\n",
       "      <th>KitKat</th>\n",
       "      <th>TeaTowel</th>\n",
       "      <th>Scones</th>\n",
       "      <th>pmethod_processed</th>\n",
       "      <th>sex_processed</th>\n",
       "      <th>homeown_processed</th>\n",
       "    </tr>\n",
       "  </thead>\n",
       "  <tbody>\n",
       "    <tr>\n",
       "      <th>56951</th>\n",
       "      <td>656952</td>\n",
       "      <td>182.0</td>\n",
       "      <td>1</td>\n",
       "      <td>1</td>\n",
       "      <td>1</td>\n",
       "      <td>NaN</td>\n",
       "      <td>16.0</td>\n",
       "      <td>2307</td>\n",
       "      <td>3.0</td>\n",
       "      <td>1</td>\n",
       "      <td>...</td>\n",
       "      <td>0</td>\n",
       "      <td>0</td>\n",
       "      <td>1</td>\n",
       "      <td>1</td>\n",
       "      <td>0</td>\n",
       "      <td>0</td>\n",
       "      <td>0</td>\n",
       "      <td>Cash</td>\n",
       "      <td>Male</td>\n",
       "      <td>Yes</td>\n",
       "    </tr>\n",
       "  </tbody>\n",
       "</table>\n",
       "<p>1 rows × 56 columns</p>\n",
       "</div>"
      ],
      "text/plain": [
       "       ReceiptID  Value pmethod sex homeown  income   age PostCode  nchildren  \\\n",
       "56951     656952  182.0       1   1       1     NaN  16.0     2307        3.0   \n",
       "\n",
       "      fruit  ...  deodorants  dishwashingliquid  onions  lettuce  KitKat  \\\n",
       "56951     1  ...           0                  0       1        1       0   \n",
       "\n",
       "       TeaTowel  Scones  pmethod_processed  sex_processed  homeown_processed  \n",
       "56951         0       0               Cash           Male                Yes  \n",
       "\n",
       "[1 rows x 56 columns]"
      ]
     },
     "execution_count": 255,
     "metadata": {},
     "output_type": "execute_result"
    }
   ],
   "source": [
    "# Checking for missing values\n",
    "data[data.income.isna()]"
   ]
  },
  {
   "cell_type": "code",
   "execution_count": 256,
   "metadata": {},
   "outputs": [],
   "source": [
    "# Replacing missing value with mean value\n",
    "data.loc[data.income[data.income.isna()].index, \"income\"]  = data.income.median()"
   ]
  },
  {
   "cell_type": "code",
   "execution_count": 257,
   "metadata": {},
   "outputs": [
    {
     "data": {
      "image/png": "[encoded data removed]",
      "text/plain": [
       "<Figure size 1080x936 with 2 Axes>"
      ]
     },
     "metadata": {},
     "output_type": "display_data"
    }
   ],
   "source": [
    "%autoreload 2\n",
    "custom_functions.create_histogram_plus_boxplot(data.income, \"Income\", color = \"seagreen\", ylabel = \"Frequency\", \n",
    "                                               xlabel = \"Income in dollars\" , size = (15,13))"
   ]
  },
  {
   "cell_type": "markdown",
   "metadata": {},
   "source": [
    "Distribution of income is right skewed(as expected). Number of people with high salaries are low compare to number of people with low salaries. We can see there are many outliers. But there is one extreme outlier where income is around \\\\$650235.25. We will replace this value with mean as well because it will affect the clustering results."
   ]
  },
  {
   "cell_type": "code",
   "execution_count": 258,
   "metadata": {},
   "outputs": [],
   "source": [
    "# Replacing the extreme outlier with the median value\n",
    "data.loc[data.income[data.income == data.income.max()].index, \"income\"] = data.income.median()"
   ]
  },
  {
   "cell_type": "code",
   "execution_count": 259,
   "metadata": {},
   "outputs": [
    {
     "data": {
      "image/png": "[encoded data removed]",
      "text/plain": [
       "<Figure size 1080x936 with 2 Axes>"
      ]
     },
     "metadata": {},
     "output_type": "display_data"
    }
   ],
   "source": [
    "%autoreload 2\n",
    "custom_functions.create_histogram_plus_boxplot(data.income, \"Income\", color = \"seagreen\", ylabel = \"Frequency\", \n",
    "                                               xlabel = \"Income in dollars\" , size = (15,13))"
   ]
  },
  {
   "cell_type": "markdown",
   "metadata": {},
   "source": [
    "The distribution somewhat looks normal to me. People with extreme salaries(either low or high) are less compare to median salary which is around \\\\$70k.  There are still outliers in the data but since distribution somewhat looks like normal(usually found in real life) I won't be dealing with them. "
   ]
  },
  {
   "cell_type": "markdown",
   "metadata": {},
   "source": [
    "### Age\n",
    "#### It is the age of the customer."
   ]
  },
  {
   "cell_type": "code",
   "execution_count": 260,
   "metadata": {},
   "outputs": [
    {
     "data": {
      "text/plain": [
       "count    58000.000000\n",
       "mean        39.694970\n",
       "std         11.566954\n",
       "min         10.000000\n",
       "25%         33.751674\n",
       "50%         37.775554\n",
       "75%         42.204893\n",
       "max         95.000000\n",
       "Name: age, dtype: float64"
      ]
     },
     "execution_count": 260,
     "metadata": {},
     "output_type": "execute_result"
    }
   ],
   "source": [
    "# summary\n",
    "data.age.describe()"
   ]
  },
  {
   "cell_type": "code",
   "execution_count": 261,
   "metadata": {},
   "outputs": [
    {
     "data": {
      "text/plain": [
       "1"
      ]
     },
     "execution_count": 261,
     "metadata": {},
     "output_type": "execute_result"
    }
   ],
   "source": [
    "# Checking if there are missing values or not\n",
    "len(data.age[data.age.isna()])"
   ]
  },
  {
   "cell_type": "code",
   "execution_count": 262,
   "metadata": {},
   "outputs": [
    {
     "data": {
      "text/html": [
       "<div>\n",
       "<style scoped>\n",
       "    .dataframe tbody tr th:only-of-type {\n",
       "        vertical-align: middle;\n",
       "    }\n",
       "\n",
       "    .dataframe tbody tr th {\n",
       "        vertical-align: top;\n",
       "    }\n",
       "\n",
       "    .dataframe thead th {\n",
       "        text-align: right;\n",
       "    }\n",
       "</style>\n",
       "<table border=\"1\" class=\"dataframe\">\n",
       "  <thead>\n",
       "    <tr style=\"text-align: right;\">\n",
       "      <th></th>\n",
       "      <th>ReceiptID</th>\n",
       "      <th>Value</th>\n",
       "      <th>pmethod</th>\n",
       "      <th>sex</th>\n",
       "      <th>homeown</th>\n",
       "      <th>income</th>\n",
       "      <th>age</th>\n",
       "      <th>PostCode</th>\n",
       "      <th>nchildren</th>\n",
       "      <th>fruit</th>\n",
       "      <th>...</th>\n",
       "      <th>deodorants</th>\n",
       "      <th>dishwashingliquid</th>\n",
       "      <th>onions</th>\n",
       "      <th>lettuce</th>\n",
       "      <th>KitKat</th>\n",
       "      <th>TeaTowel</th>\n",
       "      <th>Scones</th>\n",
       "      <th>pmethod_processed</th>\n",
       "      <th>sex_processed</th>\n",
       "      <th>homeown_processed</th>\n",
       "    </tr>\n",
       "  </thead>\n",
       "  <tbody>\n",
       "    <tr>\n",
       "      <th>38394</th>\n",
       "      <td>638395</td>\n",
       "      <td>21.807319</td>\n",
       "      <td>2</td>\n",
       "      <td>2</td>\n",
       "      <td>1</td>\n",
       "      <td>66998.679198</td>\n",
       "      <td>NaN</td>\n",
       "      <td>2250</td>\n",
       "      <td>6.0</td>\n",
       "      <td>0</td>\n",
       "      <td>...</td>\n",
       "      <td>0</td>\n",
       "      <td>1</td>\n",
       "      <td>0</td>\n",
       "      <td>1</td>\n",
       "      <td>0</td>\n",
       "      <td>0</td>\n",
       "      <td>0</td>\n",
       "      <td>Card</td>\n",
       "      <td>Female</td>\n",
       "      <td>Yes</td>\n",
       "    </tr>\n",
       "  </tbody>\n",
       "</table>\n",
       "<p>1 rows × 56 columns</p>\n",
       "</div>"
      ],
      "text/plain": [
       "       ReceiptID      Value pmethod sex homeown        income  age PostCode  \\\n",
       "38394     638395  21.807319       2   2       1  66998.679198  NaN     2250   \n",
       "\n",
       "       nchildren fruit  ...  deodorants  dishwashingliquid  onions  lettuce  \\\n",
       "38394        6.0     0  ...           0                  1       0        1   \n",
       "\n",
       "       KitKat  TeaTowel  Scones  pmethod_processed  sex_processed  \\\n",
       "38394       0         0       0               Card         Female   \n",
       "\n",
       "       homeown_processed  \n",
       "38394                Yes  \n",
       "\n",
       "[1 rows x 56 columns]"
      ]
     },
     "execution_count": 262,
     "metadata": {},
     "output_type": "execute_result"
    }
   ],
   "source": [
    "# Checking the missing value observation\n",
    "data[data.age.isna()]"
   ]
  },
  {
   "cell_type": "code",
   "execution_count": 263,
   "metadata": {},
   "outputs": [
    {
     "data": {
      "text/plain": [
       "0"
      ]
     },
     "execution_count": 263,
     "metadata": {},
     "output_type": "execute_result"
    }
   ],
   "source": [
    "# Replacing the missing value with the median\n",
    "data.loc[data.age[data.age.isna()].index, \"age\"] = data.age.median()\n",
    "\n",
    "# Checking if there are missing values or not\n",
    "len(data.age[data.age.isna()])"
   ]
  },
  {
   "cell_type": "code",
   "execution_count": 264,
   "metadata": {},
   "outputs": [
    {
     "data": {
      "image/png": "[encoded data removed]",
      "text/plain": [
       "<Figure size 1080x936 with 2 Axes>"
      ]
     },
     "metadata": {},
     "output_type": "display_data"
    }
   ],
   "source": [
    "%autoreload 2\n",
    "custom_functions.create_histogram_plus_boxplot(data.age, \"Age\", color = \"salmon\", ylabel = \"Frequency\", \n",
    "                                               xlabel = \"Age in Years\" , size = (15,13))"
   ]
  },
  {
   "cell_type": "markdown",
   "metadata": {},
   "source": [
    "Distribution is almost normal(slightly right skewed). The age is from 10 to 95 years. There are many outliers but none of them are extreme. Here I would like to like to explore young customers with age less than 16."
   ]
  },
  {
   "cell_type": "code",
   "execution_count": 265,
   "metadata": {},
   "outputs": [
    {
     "data": {
      "text/html": [
       "<div>\n",
       "<style scoped>\n",
       "    .dataframe tbody tr th:only-of-type {\n",
       "        vertical-align: middle;\n",
       "    }\n",
       "\n",
       "    .dataframe tbody tr th {\n",
       "        vertical-align: top;\n",
       "    }\n",
       "\n",
       "    .dataframe thead th {\n",
       "        text-align: right;\n",
       "    }\n",
       "</style>\n",
       "<table border=\"1\" class=\"dataframe\">\n",
       "  <thead>\n",
       "    <tr style=\"text-align: right;\">\n",
       "      <th></th>\n",
       "      <th>ReceiptID</th>\n",
       "      <th>Value</th>\n",
       "      <th>pmethod</th>\n",
       "      <th>sex</th>\n",
       "      <th>homeown</th>\n",
       "      <th>income</th>\n",
       "      <th>age</th>\n",
       "      <th>PostCode</th>\n",
       "      <th>nchildren</th>\n",
       "      <th>fruit</th>\n",
       "      <th>...</th>\n",
       "      <th>deodorants</th>\n",
       "      <th>dishwashingliquid</th>\n",
       "      <th>onions</th>\n",
       "      <th>lettuce</th>\n",
       "      <th>KitKat</th>\n",
       "      <th>TeaTowel</th>\n",
       "      <th>Scones</th>\n",
       "      <th>pmethod_processed</th>\n",
       "      <th>sex_processed</th>\n",
       "      <th>homeown_processed</th>\n",
       "    </tr>\n",
       "  </thead>\n",
       "  <tbody>\n",
       "    <tr>\n",
       "      <th>39</th>\n",
       "      <td>600040</td>\n",
       "      <td>126.0</td>\n",
       "      <td>2</td>\n",
       "      <td>1</td>\n",
       "      <td>1</td>\n",
       "      <td>114736.0</td>\n",
       "      <td>11.0</td>\n",
       "      <td>2500</td>\n",
       "      <td>0.0</td>\n",
       "      <td>0</td>\n",
       "      <td>...</td>\n",
       "      <td>0</td>\n",
       "      <td>1</td>\n",
       "      <td>0</td>\n",
       "      <td>1</td>\n",
       "      <td>0</td>\n",
       "      <td>0</td>\n",
       "      <td>0</td>\n",
       "      <td>Card</td>\n",
       "      <td>Male</td>\n",
       "      <td>Yes</td>\n",
       "    </tr>\n",
       "    <tr>\n",
       "      <th>40</th>\n",
       "      <td>600041</td>\n",
       "      <td>125.0</td>\n",
       "      <td>3</td>\n",
       "      <td>2</td>\n",
       "      <td>1</td>\n",
       "      <td>99181.0</td>\n",
       "      <td>14.0</td>\n",
       "      <td>2166</td>\n",
       "      <td>0.0</td>\n",
       "      <td>1</td>\n",
       "      <td>...</td>\n",
       "      <td>0</td>\n",
       "      <td>0</td>\n",
       "      <td>0</td>\n",
       "      <td>0</td>\n",
       "      <td>0</td>\n",
       "      <td>0</td>\n",
       "      <td>0</td>\n",
       "      <td>EFTPOS</td>\n",
       "      <td>Female</td>\n",
       "      <td>Yes</td>\n",
       "    </tr>\n",
       "    <tr>\n",
       "      <th>62</th>\n",
       "      <td>600063</td>\n",
       "      <td>135.0</td>\n",
       "      <td>2</td>\n",
       "      <td>2</td>\n",
       "      <td>1</td>\n",
       "      <td>27685.0</td>\n",
       "      <td>14.0</td>\n",
       "      <td>2189</td>\n",
       "      <td>1.0</td>\n",
       "      <td>0</td>\n",
       "      <td>...</td>\n",
       "      <td>1</td>\n",
       "      <td>0</td>\n",
       "      <td>0</td>\n",
       "      <td>1</td>\n",
       "      <td>0</td>\n",
       "      <td>0</td>\n",
       "      <td>0</td>\n",
       "      <td>Card</td>\n",
       "      <td>Female</td>\n",
       "      <td>Yes</td>\n",
       "    </tr>\n",
       "    <tr>\n",
       "      <th>66</th>\n",
       "      <td>600067</td>\n",
       "      <td>152.0</td>\n",
       "      <td>3</td>\n",
       "      <td>1</td>\n",
       "      <td>1</td>\n",
       "      <td>24287.0</td>\n",
       "      <td>10.0</td>\n",
       "      <td>2313</td>\n",
       "      <td>3.0</td>\n",
       "      <td>0</td>\n",
       "      <td>...</td>\n",
       "      <td>0</td>\n",
       "      <td>1</td>\n",
       "      <td>0</td>\n",
       "      <td>1</td>\n",
       "      <td>0</td>\n",
       "      <td>0</td>\n",
       "      <td>0</td>\n",
       "      <td>EFTPOS</td>\n",
       "      <td>Male</td>\n",
       "      <td>Yes</td>\n",
       "    </tr>\n",
       "    <tr>\n",
       "      <th>83</th>\n",
       "      <td>600084</td>\n",
       "      <td>179.0</td>\n",
       "      <td>2</td>\n",
       "      <td>1</td>\n",
       "      <td>1</td>\n",
       "      <td>72758.0</td>\n",
       "      <td>14.0</td>\n",
       "      <td>2261</td>\n",
       "      <td>3.0</td>\n",
       "      <td>0</td>\n",
       "      <td>...</td>\n",
       "      <td>1</td>\n",
       "      <td>0</td>\n",
       "      <td>0</td>\n",
       "      <td>1</td>\n",
       "      <td>0</td>\n",
       "      <td>0</td>\n",
       "      <td>0</td>\n",
       "      <td>Card</td>\n",
       "      <td>Male</td>\n",
       "      <td>Yes</td>\n",
       "    </tr>\n",
       "    <tr>\n",
       "      <th>...</th>\n",
       "      <td>...</td>\n",
       "      <td>...</td>\n",
       "      <td>...</td>\n",
       "      <td>...</td>\n",
       "      <td>...</td>\n",
       "      <td>...</td>\n",
       "      <td>...</td>\n",
       "      <td>...</td>\n",
       "      <td>...</td>\n",
       "      <td>...</td>\n",
       "      <td>...</td>\n",
       "      <td>...</td>\n",
       "      <td>...</td>\n",
       "      <td>...</td>\n",
       "      <td>...</td>\n",
       "      <td>...</td>\n",
       "      <td>...</td>\n",
       "      <td>...</td>\n",
       "      <td>...</td>\n",
       "      <td>...</td>\n",
       "      <td>...</td>\n",
       "    </tr>\n",
       "    <tr>\n",
       "      <th>57960</th>\n",
       "      <td>657961</td>\n",
       "      <td>143.0</td>\n",
       "      <td>2</td>\n",
       "      <td>2</td>\n",
       "      <td>2</td>\n",
       "      <td>95723.0</td>\n",
       "      <td>14.0</td>\n",
       "      <td>2341</td>\n",
       "      <td>2.0</td>\n",
       "      <td>1</td>\n",
       "      <td>...</td>\n",
       "      <td>1</td>\n",
       "      <td>0</td>\n",
       "      <td>1</td>\n",
       "      <td>0</td>\n",
       "      <td>0</td>\n",
       "      <td>0</td>\n",
       "      <td>0</td>\n",
       "      <td>Card</td>\n",
       "      <td>Female</td>\n",
       "      <td>No</td>\n",
       "    </tr>\n",
       "    <tr>\n",
       "      <th>57972</th>\n",
       "      <td>657973</td>\n",
       "      <td>89.0</td>\n",
       "      <td>3</td>\n",
       "      <td>2</td>\n",
       "      <td>1</td>\n",
       "      <td>57158.0</td>\n",
       "      <td>13.0</td>\n",
       "      <td>2287</td>\n",
       "      <td>1.0</td>\n",
       "      <td>1</td>\n",
       "      <td>...</td>\n",
       "      <td>0</td>\n",
       "      <td>0</td>\n",
       "      <td>0</td>\n",
       "      <td>1</td>\n",
       "      <td>0</td>\n",
       "      <td>0</td>\n",
       "      <td>0</td>\n",
       "      <td>EFTPOS</td>\n",
       "      <td>Female</td>\n",
       "      <td>Yes</td>\n",
       "    </tr>\n",
       "    <tr>\n",
       "      <th>57975</th>\n",
       "      <td>657976</td>\n",
       "      <td>74.0</td>\n",
       "      <td>3</td>\n",
       "      <td>2</td>\n",
       "      <td>2</td>\n",
       "      <td>110465.0</td>\n",
       "      <td>13.0</td>\n",
       "      <td>2390</td>\n",
       "      <td>0.0</td>\n",
       "      <td>0</td>\n",
       "      <td>...</td>\n",
       "      <td>0</td>\n",
       "      <td>0</td>\n",
       "      <td>0</td>\n",
       "      <td>1</td>\n",
       "      <td>0</td>\n",
       "      <td>0</td>\n",
       "      <td>0</td>\n",
       "      <td>EFTPOS</td>\n",
       "      <td>Female</td>\n",
       "      <td>No</td>\n",
       "    </tr>\n",
       "    <tr>\n",
       "      <th>57987</th>\n",
       "      <td>657988</td>\n",
       "      <td>141.0</td>\n",
       "      <td>2</td>\n",
       "      <td>2</td>\n",
       "      <td>1</td>\n",
       "      <td>70560.0</td>\n",
       "      <td>12.0</td>\n",
       "      <td>2466</td>\n",
       "      <td>2.0</td>\n",
       "      <td>0</td>\n",
       "      <td>...</td>\n",
       "      <td>0</td>\n",
       "      <td>1</td>\n",
       "      <td>1</td>\n",
       "      <td>0</td>\n",
       "      <td>0</td>\n",
       "      <td>0</td>\n",
       "      <td>0</td>\n",
       "      <td>Card</td>\n",
       "      <td>Female</td>\n",
       "      <td>Yes</td>\n",
       "    </tr>\n",
       "    <tr>\n",
       "      <th>57989</th>\n",
       "      <td>657990</td>\n",
       "      <td>173.0</td>\n",
       "      <td>2</td>\n",
       "      <td>2</td>\n",
       "      <td>1</td>\n",
       "      <td>90372.0</td>\n",
       "      <td>12.0</td>\n",
       "      <td>2397</td>\n",
       "      <td>1.0</td>\n",
       "      <td>0</td>\n",
       "      <td>...</td>\n",
       "      <td>0</td>\n",
       "      <td>0</td>\n",
       "      <td>0</td>\n",
       "      <td>1</td>\n",
       "      <td>0</td>\n",
       "      <td>0</td>\n",
       "      <td>0</td>\n",
       "      <td>Card</td>\n",
       "      <td>Female</td>\n",
       "      <td>Yes</td>\n",
       "    </tr>\n",
       "  </tbody>\n",
       "</table>\n",
       "<p>379 rows × 56 columns</p>\n",
       "</div>"
      ],
      "text/plain": [
       "       ReceiptID  Value pmethod sex homeown    income   age PostCode  \\\n",
       "39        600040  126.0       2   1       1  114736.0  11.0     2500   \n",
       "40        600041  125.0       3   2       1   99181.0  14.0     2166   \n",
       "62        600063  135.0       2   2       1   27685.0  14.0     2189   \n",
       "66        600067  152.0       3   1       1   24287.0  10.0     2313   \n",
       "83        600084  179.0       2   1       1   72758.0  14.0     2261   \n",
       "...          ...    ...     ...  ..     ...       ...   ...      ...   \n",
       "57960     657961  143.0       2   2       2   95723.0  14.0     2341   \n",
       "57972     657973   89.0       3   2       1   57158.0  13.0     2287   \n",
       "57975     657976   74.0       3   2       2  110465.0  13.0     2390   \n",
       "57987     657988  141.0       2   2       1   70560.0  12.0     2466   \n",
       "57989     657990  173.0       2   2       1   90372.0  12.0     2397   \n",
       "\n",
       "       nchildren fruit  ...  deodorants  dishwashingliquid  onions  lettuce  \\\n",
       "39           0.0     0  ...           0                  1       0        1   \n",
       "40           0.0     1  ...           0                  0       0        0   \n",
       "62           1.0     0  ...           1                  0       0        1   \n",
       "66           3.0     0  ...           0                  1       0        1   \n",
       "83           3.0     0  ...           1                  0       0        1   \n",
       "...          ...   ...  ...         ...                ...     ...      ...   \n",
       "57960        2.0     1  ...           1                  0       1        0   \n",
       "57972        1.0     1  ...           0                  0       0        1   \n",
       "57975        0.0     0  ...           0                  0       0        1   \n",
       "57987        2.0     0  ...           0                  1       1        0   \n",
       "57989        1.0     0  ...           0                  0       0        1   \n",
       "\n",
       "       KitKat  TeaTowel  Scones  pmethod_processed  sex_processed  \\\n",
       "39          0         0       0               Card           Male   \n",
       "40          0         0       0             EFTPOS         Female   \n",
       "62          0         0       0               Card         Female   \n",
       "66          0         0       0             EFTPOS           Male   \n",
       "83          0         0       0               Card           Male   \n",
       "...       ...       ...     ...                ...            ...   \n",
       "57960       0         0       0               Card         Female   \n",
       "57972       0         0       0             EFTPOS         Female   \n",
       "57975       0         0       0             EFTPOS         Female   \n",
       "57987       0         0       0               Card         Female   \n",
       "57989       0         0       0               Card         Female   \n",
       "\n",
       "       homeown_processed  \n",
       "39                   Yes  \n",
       "40                   Yes  \n",
       "62                   Yes  \n",
       "66                   Yes  \n",
       "83                   Yes  \n",
       "...                  ...  \n",
       "57960                 No  \n",
       "57972                Yes  \n",
       "57975                 No  \n",
       "57987                Yes  \n",
       "57989                Yes  \n",
       "\n",
       "[379 rows x 56 columns]"
      ]
     },
     "execution_count": 265,
     "metadata": {},
     "output_type": "execute_result"
    }
   ],
   "source": [
    "# Filtering the data\n",
    "young_customers = data[(data.age < 16)]\n",
    "young_customers"
   ]
  },
  {
   "cell_type": "code",
   "execution_count": 266,
   "metadata": {},
   "outputs": [
    {
     "data": {
      "text/plain": [
       "count       379.000000\n",
       "mean      68084.010087\n",
       "std       30718.122639\n",
       "min       15578.000000\n",
       "25%       40242.500000\n",
       "50%       68046.000000\n",
       "75%       93854.000000\n",
       "max      141842.000000\n",
       "Name: income, dtype: float64"
      ]
     },
     "execution_count": 266,
     "metadata": {},
     "output_type": "execute_result"
    }
   ],
   "source": [
    "young_customers.income.describe()"
   ]
  },
  {
   "cell_type": "code",
   "execution_count": 267,
   "metadata": {},
   "outputs": [
    {
     "data": {
      "text/plain": [
       "2    189\n",
       "1    183\n",
       "3      7\n",
       "Name: homeown, dtype: int64"
      ]
     },
     "execution_count": 267,
     "metadata": {},
     "output_type": "execute_result"
    }
   ],
   "source": [
    "young_customers.homeown.value_counts()"
   ]
  },
  {
   "cell_type": "markdown",
   "metadata": {},
   "source": [
    "As we can see that most of the younge customers have high income and they own a house, which raises a question regarding the quality of the data. All other field values look valid so I am leaving these values as it is. "
   ]
  },
  {
   "cell_type": "markdown",
   "metadata": {},
   "source": [
    "### Postcode\n",
    "#### Postcode of the customers' residence"
   ]
  },
  {
   "cell_type": "code",
   "execution_count": 268,
   "metadata": {},
   "outputs": [
    {
     "data": {
      "text/plain": [
       "count     48209\n",
       "unique     1250\n",
       "top        2122\n",
       "freq        811\n",
       "Name: PostCode, dtype: int64"
      ]
     },
     "execution_count": 268,
     "metadata": {},
     "output_type": "execute_result"
    }
   ],
   "source": [
    "# Summary\n",
    "data.PostCode.describe()"
   ]
  },
  {
   "cell_type": "code",
   "execution_count": 269,
   "metadata": {},
   "outputs": [
    {
     "data": {
      "text/plain": [
       "9792"
      ]
     },
     "execution_count": 269,
     "metadata": {},
     "output_type": "execute_result"
    }
   ],
   "source": [
    "# Missing values\n",
    "len(data.PostCode[data.PostCode.isna()])"
   ]
  },
  {
   "cell_type": "markdown",
   "metadata": {},
   "source": [
    "Around 9792(17%) of the values are missing, As this is significant amount of observations we can't just remove them. We will keep them as it is as this field is not useful for our analysis."
   ]
  },
  {
   "cell_type": "code",
   "execution_count": null,
   "metadata": {},
   "outputs": [],
   "source": []
  }
 ],
 "metadata": {
  "kernelspec": {
   "display_name": "Python 3",
   "language": "python",
   "name": "python3"
  },
  "language_info": {
   "codemirror_mode": {
    "name": "ipython",
    "version": 3
   },
   "file_extension": ".py",
   "mimetype": "text/x-python",
   "name": "python",
   "nbconvert_exporter": "python",
   "pygments_lexer": "ipython3",
   "version": "3.7.6"
  }
 },
 "nbformat": 4,
 "nbformat_minor": 2
}
