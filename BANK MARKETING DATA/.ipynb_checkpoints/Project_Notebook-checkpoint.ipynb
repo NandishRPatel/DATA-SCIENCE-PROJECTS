{
 "cells": [
  {
   "cell_type": "markdown",
   "metadata": {},
   "source": [
    "# 0. Importing libraries"
   ]
  },
  {
   "cell_type": "code",
   "execution_count": 52,
   "metadata": {},
   "outputs": [],
   "source": [
    "%reload_ext autoreload\n",
    "%autoreload 2\n",
    "\n",
    "import sys\n",
    "sys.path.append(\"../Functions\")\n",
    "import warnings\n",
    "warnings.filterwarnings(action = 'ignore')\n",
    "import custom_functions\n",
    "import pandas as pd\n",
    "import numpy as np\n",
    "import seaborn as sns\n",
    "import matplotlib as mpl\n",
    "import matplotlib.pyplot as plt\n",
    "from sklearn.utils import shuffle\n",
    "\n",
    "plt.style.use('ggplot')\n",
    "## Change title size of a plot\n",
    "mpl.rcParams['axes.titlesize'] = 22\n",
    "# Figure size\n",
    "mpl.rc(\"figure\", figsize = (15,7))\n",
    "## Change label size(x and y) of a plot\n",
    "mpl.rcParams['axes.labelsize'] = 18\n",
    "## Change xticks size of a plot\n",
    "mpl.rcParams['xtick.labelsize'] = 16\n",
    "## Change yticks size of a plot\n",
    "mpl.rcParams['ytick.labelsize'] = 16"
   ]
  },
  {
   "cell_type": "markdown",
   "metadata": {},
   "source": [
    "# 1. Loading data"
   ]
  },
  {
   "cell_type": "code",
   "execution_count": 12,
   "metadata": {},
   "outputs": [],
   "source": [
    "# loading csv file as a dataframe\n",
    "data = pd.read_csv(\"DATA/bank-full.csv\", sep = \";\")"
   ]
  },
  {
   "cell_type": "markdown",
   "metadata": {},
   "source": [
    "# 2. Data exploring"
   ]
  },
  {
   "cell_type": "code",
   "execution_count": 13,
   "metadata": {},
   "outputs": [
    {
     "data": {
      "text/plain": [
       "(45211, 17)"
      ]
     },
     "execution_count": 13,
     "metadata": {},
     "output_type": "execute_result"
    }
   ],
   "source": [
    "# Number of observations and variables\n",
    "data.shape"
   ]
  },
  {
   "cell_type": "code",
   "execution_count": 14,
   "metadata": {},
   "outputs": [
    {
     "data": {
      "text/plain": [
       "Index(['age', 'job', 'marital', 'education', 'default', 'balance', 'housing',\n",
       "       'loan', 'contact', 'day', 'month', 'duration', 'campaign', 'pdays',\n",
       "       'previous', 'poutcome', 'y'],\n",
       "      dtype='object')"
      ]
     },
     "execution_count": 14,
     "metadata": {},
     "output_type": "execute_result"
    }
   ],
   "source": [
    "# List of variables\n",
    "data.columns"
   ]
  },
  {
   "cell_type": "markdown",
   "metadata": {},
   "source": [
    "## What variables represent?"
   ]
  },
  {
   "cell_type": "markdown",
   "metadata": {},
   "source": [
    "### Bank Client Data\n",
    "\n",
    "1 - age (**numeric**)\n",
    "\n",
    "2 - job : type of job (**categorical**: \"admin.\", \"unknown\", \"unemployed\", \"management\", \"housemaid\", \"entrepreneur\", \"student\",\n",
    "                        \"blue-collar\", \"self-employed\", \"retired\", \"technician\", \"services\") \n",
    "\n",
    "3 - marital : marital status (**categorical**: \"married\", \"divorced\", \"single\"; note: \"divorced\" means divorced or widowed)\n",
    "\n",
    "4 - education (**categorical**: \"unknown\", \"secondary\", \"primary\", \"tertiary\")\n",
    "\n",
    "5 - default: has credit in default? (**binary**: \"yes\", \"no\")\n",
    "\n",
    "6 - balance: average yearly balance, in euros (**numeric**) \n",
    "\n",
    "7 - housing: has housing loan? (**binary**: \"yes\", \"no\")\n",
    "\n",
    "8 - loan: has personal loan? (**binary**: \"yes\", \"no\")\n",
    "\n",
    "### Related with the last contact of the current campaign:\n",
    "\n",
    "9 - contact: contact communication type (**categorical**: \"unknown\", \"telephone\", \"cellular\") \n",
    "\n",
    "10 - day: last contact day of the month (**numeric**)\n",
    "\n",
    "11 - month: last contact month of year (**categorical**: \"jan\", \"feb\", \"mar\", ..., \"nov\", \"dec\")\n",
    "\n",
    "12 - duration: last contact duration, in seconds (**numeric**)\n",
    "\n",
    "### other attributes:\n",
    "\n",
    "13 - campaign: number of contacts performed during this campaign and for this client (**numeric**, includes last contact)\n",
    "\n",
    "14 - pdays: number of days that passed by after the client was last contacted from a previous campaign (**numeric**, -1 means client\n",
    "was not previously contacted)\n",
    "\n",
    "15 - previous: number of contacts performed before this campaign and for this client (**numeric**)\n",
    "\n",
    "16 - poutcome: outcome of the previous marketing campaign (**categorical**: \"unknown\", \"other\", \"failure\", \"success\")\n",
    "\n",
    "### Output variable (desired target):\n",
    "17 - y - has the client subscribed a term deposit? (**binary**: \"yes\", \"no\")"
   ]
  },
  {
   "cell_type": "code",
   "execution_count": 18,
   "metadata": {},
   "outputs": [
    {
     "name": "stdout",
     "output_type": "stream",
     "text": [
      "<class 'pandas.core.frame.DataFrame'>\n",
      "RangeIndex: 45211 entries, 0 to 45210\n",
      "Data columns (total 17 columns):\n",
      "age          45211 non-null int64\n",
      "job          45211 non-null object\n",
      "marital      45211 non-null object\n",
      "education    45211 non-null object\n",
      "default      45211 non-null object\n",
      "balance      45211 non-null int64\n",
      "housing      45211 non-null object\n",
      "loan         45211 non-null object\n",
      "contact      45211 non-null object\n",
      "day          45211 non-null int64\n",
      "month        45211 non-null object\n",
      "duration     45211 non-null int64\n",
      "campaign     45211 non-null int64\n",
      "pdays        45211 non-null int64\n",
      "previous     45211 non-null int64\n",
      "poutcome     45211 non-null object\n",
      "y            45211 non-null object\n",
      "dtypes: int64(7), object(10)\n",
      "memory usage: 5.9+ MB\n"
     ]
    }
   ],
   "source": [
    "# Information about the dataframe\n",
    "# null_counts = true, will not count rows which have missing values in it.\n",
    "data.info(null_counts = True)"
   ]
  },
  {
   "cell_type": "code",
   "execution_count": 10,
   "metadata": {},
   "outputs": [
    {
     "data": {
      "text/plain": [
       "age          False\n",
       "job          False\n",
       "marital      False\n",
       "education    False\n",
       "default      False\n",
       "balance      False\n",
       "housing      False\n",
       "loan         False\n",
       "contact      False\n",
       "day          False\n",
       "month        False\n",
       "duration     False\n",
       "campaign     False\n",
       "pdays        False\n",
       "previous     False\n",
       "poutcome     False\n",
       "y            False\n",
       "dtype: bool"
      ]
     },
     "execution_count": 10,
     "metadata": {},
     "output_type": "execute_result"
    }
   ],
   "source": [
    "# Checking for missing values\n",
    "data.isna().all()"
   ]
  },
  {
   "cell_type": "markdown",
   "metadata": {},
   "source": [
    "There are no missing values in any variables as mentioned by the data owner now I can carry out initial exploration using visualization after splitting data into 3 groups(training, validation and testing). "
   ]
  },
  {
   "cell_type": "markdown",
   "metadata": {},
   "source": [
    "### Splitting the data"
   ]
  },
  {
   "cell_type": "code",
   "execution_count": 43,
   "metadata": {},
   "outputs": [],
   "source": [
    "shuffled_data = shuffle(data, random_state = 73).reset_index(drop = True)\n",
    "\n",
    "# Splitting the dataframe in train, validate and test\n",
    "## Reference - https://docs.scipy.org/doc/numpy-1.10.1/reference/generated/numpy.split.html\n",
    "train_df, validate_df, test_df = np.split(\n",
    "                                          shuffled_data.sample(frac = 1), \n",
    "                                          [ int( 0.8 * len(shuffled_data) ), int( 0.9 * len(shuffled_data) ) ] \n",
    "                                         )"
   ]
  },
  {
   "cell_type": "code",
   "execution_count": 48,
   "metadata": {},
   "outputs": [
    {
     "name": "stdout",
     "output_type": "stream",
     "text": [
      "Training set :  (36168, 17)\n",
      "Validation set :  (4521, 17)\n",
      "Testing set :  (4522, 17)\n"
     ]
    }
   ],
   "source": [
    "print(\"Training set : \", train_df.shape)\n",
    "print(\"Validation set : \", validate_df.shape)\n",
    "print(\"Testing set : \", test_df.shape)"
   ]
  },
  {
   "cell_type": "markdown",
   "metadata": {},
   "source": [
    "## Data Summaries and Visualizations"
   ]
  },
  {
   "cell_type": "markdown",
   "metadata": {},
   "source": [
    "### age"
   ]
  },
  {
   "cell_type": "code",
   "execution_count": 50,
   "metadata": {},
   "outputs": [
    {
     "data": {
      "text/plain": [
       "count    36168.000000\n",
       "mean        40.938288\n",
       "std         10.631027\n",
       "min         18.000000\n",
       "25%         33.000000\n",
       "50%         39.000000\n",
       "75%         48.000000\n",
       "max         95.000000\n",
       "Name: age, dtype: float64"
      ]
     },
     "execution_count": 50,
     "metadata": {},
     "output_type": "execute_result"
    }
   ],
   "source": [
    "train_df[\"age\"].describe()"
   ]
  },
  {
   "cell_type": "code",
   "execution_count": 53,
   "metadata": {},
   "outputs": [
    {
     "data": {
      "image/png": "[encoded data removed]",
      "text/plain": [
       "<Figure size 1080x936 with 2 Axes>"
      ]
     },
     "metadata": {},
     "output_type": "display_data"
    }
   ],
   "source": [
    "%autoreload 2\n",
    "custom_functions.create_histogram_plus_boxplot(train_df[\"age\"], \"Age\", color = \"royalblue\", ylabel = \"Frequency\", \n",
    "                                               xlabel = \"Age in years\" , size = (15,13))"
   ]
  },
  {
   "cell_type": "code",
   "execution_count": 64,
   "metadata": {},
   "outputs": [
    {
     "name": "stdout",
     "output_type": "stream",
     "text": [
      "Number of outliers : 388\n"
     ]
    }
   ],
   "source": [
    "print(\"Number of outliers :\", train_df[train_df[\"age\"] > 70].shape[0])"
   ]
  },
  {
   "cell_type": "markdown",
   "metadata": {},
   "source": [
    "Distribution is right skewed which makes sense as there should be less participation from old people in such term deposit plan that's why there are outliers in the data. 388 Observations where age is greater than 70 years(BY looking at the boxplot right hand whisker) are outliers, which is reasonable amount."
   ]
  },
  {
   "cell_type": "markdown",
   "metadata": {},
   "source": [
    "### job"
   ]
  },
  {
   "cell_type": "code",
   "execution_count": null,
   "metadata": {},
   "outputs": [],
   "source": []
  }
 ],
 "metadata": {
  "kernelspec": {
   "display_name": "Python 3",
   "language": "python",
   "name": "python3"
  },
  "language_info": {
   "codemirror_mode": {
    "name": "ipython",
    "version": 3
   },
   "file_extension": ".py",
   "mimetype": "text/x-python",
   "name": "python",
   "nbconvert_exporter": "python",
   "pygments_lexer": "ipython3",
   "version": "3.7.6"
  }
 },
 "nbformat": 4,
 "nbformat_minor": 2
}
