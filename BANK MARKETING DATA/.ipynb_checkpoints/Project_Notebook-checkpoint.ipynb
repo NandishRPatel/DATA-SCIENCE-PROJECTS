{
 "cells": [
  {
   "cell_type": "markdown",
   "metadata": {},
   "source": [
    "# 0. Importing libraries"
   ]
  },
  {
   "cell_type": "code",
   "execution_count": 92,
   "metadata": {},
   "outputs": [],
   "source": [
    "%reload_ext autoreload\n",
    "%autoreload 2\n",
    "\n",
    "import sys\n",
    "sys.path.append(\"../Functions\")\n",
    "import warnings\n",
    "warnings.filterwarnings(action = 'ignore')\n",
    "import custom_functions\n",
    "import pandas as pd\n",
    "import numpy as np\n",
    "import seaborn as sns\n",
    "import matplotlib as mpl\n",
    "import matplotlib.pyplot as plt\n",
    "from sklearn.utils import shuffle\n",
    "from sklearn.preprocessing import LabelEncoder\n",
    "from imblearn.over_sampling import SMOTE\n",
    "from sklearn.metrics import accuracy_score, f1_score, recall_score, confusion_matrix\n",
    "from sklearn.linear_model import LogisticRegression\n",
    "from imblearn.under_sampling import NearMiss\n",
    "from joblib import dump, load\n",
    "from sklearn import preprocessing\n",
    "from sklearn.tree import DecisionTreeClassifier\n",
    "from sklearn.ensemble import RandomForestClassifier, AdaBoostClassifier, ExtraTreesClassifier\n",
    "from sklearn.preprocessing import StandardScaler, MinMaxScaler\n",
    "from sklearn.metrics import accuracy_score, confusion_matrix\n",
    "from keras.utils import to_categorical\n",
    "from sklearn.decomposition import PCA, IncrementalPCA\n",
    "from sklearn.linear_model import SGDClassifier, LogisticRegression\n",
    "from sklearn.utils import shuffle\n",
    "from sklearn.metrics import auc, accuracy_score, confusion_matrix, mean_squared_error\n",
    "from sklearn.model_selection import GridSearchCV, RandomizedSearchCV, train_test_split\n",
    "from sklearn.svm import LinearSVC, SVC\n",
    "from sklearn.tree import DecisionTreeClassifier\n",
    "from sklearn.ensemble import RandomForestClassifier, AdaBoostClassifier\n",
    "from sklearn.naive_bayes import GaussianNB, MultinomialNB\n",
    "from sklearn.model_selection import GridSearchCV\n",
    "from sklearn.neighbors import KNeighborsClassifier\n",
    "from sklearn.naive_bayes import GaussianNB, MultinomialNB\n",
    "from sklearn.metrics import fbeta_score, make_scorer\n",
    "from sklearn.neural_network import MLPClassifier\n",
    "from sklearn.discriminant_analysis import QuadraticDiscriminantAnalysis\n",
    "\n",
    "\n",
    "plt.style.use('ggplot')\n",
    "## Change title size of a plot\n",
    "mpl.rcParams['axes.titlesize'] = 22\n",
    "# Figure size\n",
    "mpl.rc(\"figure\", figsize = (15,7))\n",
    "## Change label size(x and y) of a plot\n",
    "mpl.rcParams['axes.labelsize'] = 18\n",
    "## Change xticks size of a plot\n",
    "mpl.rcParams['xtick.labelsize'] = 16\n",
    "## Change yticks size of a plot\n",
    "mpl.rcParams['ytick.labelsize'] = 16"
   ]
  },
  {
   "cell_type": "markdown",
   "metadata": {},
   "source": [
    "# 0.1 Functions created"
   ]
  },
  {
   "cell_type": "code",
   "execution_count": 93,
   "metadata": {},
   "outputs": [],
   "source": [
    "def process_data(df):\n",
    "    \n",
    "    # Empty dataframe\n",
    "    new_df = pd.DataFrame()\n",
    "\n",
    "    # Needed features\n",
    "    features = ['age', 'balance', 'day', 'duration', 'campaign', 'pdays']\n",
    "    features.extend(df.columns.values[17:])\n",
    "    \n",
    "    # storing selected columns in new dataframe\n",
    "    for feat in features:\n",
    "        new_df[feat] = df[feat]\n",
    "    \n",
    "    # Returning new dataframe\n",
    "    return new_df\n",
    "\n",
    "\n",
    "def classwise_accuracy(y_true, y_pred, flag = True):\n",
    "    \n",
    "    # Confusion matrix\n",
    "    cm = confusion_matrix(y_true, y_pred)\n",
    "\n",
    "    # Normalizing the entries in the matrix\n",
    "    cm = cm.astype('float') / cm.sum(axis = 1)[:, np.newaxis]\n",
    "\n",
    "    # Diagonal entries represent the accuracies of each class\n",
    "    print(\"Class 0 Accuracy : \", cm.diagonal()[0])\n",
    "    print(\"Class 1 Accuracy : \", cm.diagonal()[1])\n",
    "    \n",
    "    if flag:\n",
    "        print(\"\\n#############################################\\n\")\n",
    "        \n",
    "\n",
    "def custom_score_function(true, pred):\n",
    "    \n",
    "    # Confusion matrix\n",
    "    cm = confusion_matrix(true, pred)\n",
    "\n",
    "    # Normalizing the entries in the matrix\n",
    "    cm = cm.astype('float') / cm.sum(axis = 1)[:, np.newaxis]\n",
    "\n",
    "    # Diagonal entries represent the accuracies of each class\n",
    "    zero = cm.diagonal()[0]\n",
    "    one = cm.diagonal()[1]\n",
    "    \n",
    "    # Returning the absolute difference\n",
    "    return abs(zero - one)"
   ]
  },
  {
   "cell_type": "markdown",
   "metadata": {},
   "source": [
    "# 1. Loading data"
   ]
  },
  {
   "cell_type": "code",
   "execution_count": 94,
   "metadata": {},
   "outputs": [],
   "source": [
    "# loading csv file as a dataframe\n",
    "data = pd.read_csv(\"DATA/bank-full.csv\", sep = \";\")"
   ]
  },
  {
   "cell_type": "markdown",
   "metadata": {},
   "source": [
    "# 2. Data exploring"
   ]
  },
  {
   "cell_type": "code",
   "execution_count": 95,
   "metadata": {},
   "outputs": [
    {
     "data": {
      "text/plain": [
       "(45211, 17)"
      ]
     },
     "execution_count": 95,
     "metadata": {},
     "output_type": "execute_result"
    }
   ],
   "source": [
    "# Number of observations and variables\n",
    "data.shape"
   ]
  },
  {
   "cell_type": "code",
   "execution_count": 96,
   "metadata": {},
   "outputs": [
    {
     "data": {
      "text/plain": [
       "Index(['age', 'job', 'marital', 'education', 'default', 'balance', 'housing',\n",
       "       'loan', 'contact', 'day', 'month', 'duration', 'campaign', 'pdays',\n",
       "       'previous', 'poutcome', 'y'],\n",
       "      dtype='object')"
      ]
     },
     "execution_count": 96,
     "metadata": {},
     "output_type": "execute_result"
    }
   ],
   "source": [
    "# List of variables\n",
    "data.columns"
   ]
  },
  {
   "cell_type": "markdown",
   "metadata": {},
   "source": [
    "## What variables represent?"
   ]
  },
  {
   "cell_type": "markdown",
   "metadata": {},
   "source": [
    "### Bank Client Data\n",
    "\n",
    "1 - age (**numeric**)\n",
    "\n",
    "2 - job : type of job (**categorical**: \"admin.\", \"unknown\", \"unemployed\", \"management\", \"housemaid\", \"entrepreneur\", \"student\",\n",
    "                        \"blue-collar\", \"self-employed\", \"retired\", \"technician\", \"services\") \n",
    "\n",
    "3 - marital : marital status (**categorical**: \"married\", \"divorced\", \"single\"; note: \"divorced\" means divorced or widowed)\n",
    "\n",
    "4 - education (**categorical**: \"unknown\", \"secondary\", \"primary\", \"tertiary\")\n",
    "\n",
    "5 - default: has credit in default? (**binary**: \"yes\", \"no\")\n",
    "\n",
    "6 - balance: average yearly balance, in euros (**numeric**) \n",
    "\n",
    "7 - housing: has housing loan? (**binary**: \"yes\", \"no\")\n",
    "\n",
    "8 - loan: has personal loan? (**binary**: \"yes\", \"no\")\n",
    "\n",
    "### Related with the last contact of the current campaign:\n",
    "\n",
    "9 - contact: contact communication type (**categorical**: \"unknown\", \"telephone\", \"cellular\") \n",
    "\n",
    "10 - day: last contact day of the month (**numeric**)\n",
    "\n",
    "11 - month: last contact month of year (**categorical**: \"jan\", \"feb\", \"mar\", ..., \"nov\", \"dec\")\n",
    "\n",
    "12 - duration: last contact duration, in seconds (**numeric**)\n",
    "\n",
    "### other attributes:\n",
    "\n",
    "13 - campaign: number of contacts performed during this campaign and for this client (**numeric**, includes last contact)\n",
    "\n",
    "14 - pdays: number of days that passed by after the client was last contacted from a previous campaign (**numeric**, -1 means client\n",
    "was not previously contacted)\n",
    "\n",
    "15 - previous: number of contacts performed before this campaign and for this client (**numeric**)\n",
    "\n",
    "16 - poutcome: outcome of the previous marketing campaign (**categorical**: \"unknown\", \"other\", \"failure\", \"success\")\n",
    "\n",
    "### Output variable (desired target):\n",
    "17 - y - has the client subscribed a term deposit? (**binary**: \"yes\", \"no\")"
   ]
  },
  {
   "cell_type": "code",
   "execution_count": 97,
   "metadata": {},
   "outputs": [
    {
     "name": "stdout",
     "output_type": "stream",
     "text": [
      "<class 'pandas.core.frame.DataFrame'>\n",
      "RangeIndex: 45211 entries, 0 to 45210\n",
      "Data columns (total 17 columns):\n",
      "age          45211 non-null int64\n",
      "job          45211 non-null object\n",
      "marital      45211 non-null object\n",
      "education    45211 non-null object\n",
      "default      45211 non-null object\n",
      "balance      45211 non-null int64\n",
      "housing      45211 non-null object\n",
      "loan         45211 non-null object\n",
      "contact      45211 non-null object\n",
      "day          45211 non-null int64\n",
      "month        45211 non-null object\n",
      "duration     45211 non-null int64\n",
      "campaign     45211 non-null int64\n",
      "pdays        45211 non-null int64\n",
      "previous     45211 non-null int64\n",
      "poutcome     45211 non-null object\n",
      "y            45211 non-null object\n",
      "dtypes: int64(7), object(10)\n",
      "memory usage: 5.9+ MB\n"
     ]
    }
   ],
   "source": [
    "# Information about the dataframe\n",
    "# null_counts = true, will not count rows which have missing values in it.\n",
    "data.info(null_counts = True)"
   ]
  },
  {
   "cell_type": "code",
   "execution_count": 98,
   "metadata": {},
   "outputs": [
    {
     "data": {
      "text/plain": [
       "age          False\n",
       "job          False\n",
       "marital      False\n",
       "education    False\n",
       "default      False\n",
       "balance      False\n",
       "housing      False\n",
       "loan         False\n",
       "contact      False\n",
       "day          False\n",
       "month        False\n",
       "duration     False\n",
       "campaign     False\n",
       "pdays        False\n",
       "previous     False\n",
       "poutcome     False\n",
       "y            False\n",
       "dtype: bool"
      ]
     },
     "execution_count": 98,
     "metadata": {},
     "output_type": "execute_result"
    }
   ],
   "source": [
    "# Checking for missing values\n",
    "data.isna().all()"
   ]
  },
  {
   "cell_type": "markdown",
   "metadata": {},
   "source": [
    "There are no missing values in any variables as mentioned by the data owner now I can carry out initial exploration using visualization after splitting data into 3 groups(training, validation and testing). "
   ]
  },
  {
   "cell_type": "markdown",
   "metadata": {},
   "source": [
    "### Some data preprocessing"
   ]
  },
  {
   "cell_type": "code",
   "execution_count": 99,
   "metadata": {},
   "outputs": [],
   "source": [
    "# Dummy variables for nominal columns\n",
    "dummy_cols = pd.get_dummies(data.loc[:, ['job', 'marital', 'education', 'month', 'poutcome', 'contact']], drop_first = True)\n",
    "\n",
    "# Label encoding for binary variables\n",
    "label_en = LabelEncoder()\n",
    "\n",
    "# Empty dataframe\n",
    "encoded_cols = pd.DataFrame()\n",
    "\n",
    "# Adding encoded columns\n",
    "encoded_cols['default_code'] = label_en.fit_transform(data['default'])\n",
    "encoded_cols['loan_code'] = label_en.fit_transform(data['loan'])\n",
    "encoded_cols['housing_code'] = label_en.fit_transform(data['housing'])\n",
    "encoded_cols['y_code'] = label_en.fit_transform(data['y'])\n",
    "\n",
    "# Creating new dataframe\n",
    "data_new = data.copy()\n",
    "data_new = data_new.join(dummy_cols)\n",
    "data_new = data_new.join(encoded_cols)"
   ]
  },
  {
   "cell_type": "markdown",
   "metadata": {},
   "source": [
    "### Splitting the data"
   ]
  },
  {
   "cell_type": "code",
   "execution_count": 100,
   "metadata": {},
   "outputs": [],
   "source": [
    "shuffled_data = shuffle(data_new, random_state = 73).reset_index(drop = True)\n",
    "\n",
    "# Splitting the dataframe in train, validate and test\n",
    "## Reference - https://docs.scipy.org/doc/numpy-1.10.1/reference/generated/numpy.split.html\n",
    "train_df, validate_df, test_df = np.split(\n",
    "                                          shuffled_data.sample(frac = 1), \n",
    "                                          [ int( 0.8 * len(shuffled_data) ), int( 0.9 * len(shuffled_data) ) ] \n",
    "                                         )"
   ]
  },
  {
   "cell_type": "markdown",
   "metadata": {},
   "source": [
    "### Storing the data in .CSV files"
   ]
  },
  {
   "cell_type": "code",
   "execution_count": 101,
   "metadata": {},
   "outputs": [],
   "source": [
    "train_df.to_csv(\"DATA/train.csv\", sep = \"\\t\", index = False)\n",
    "validate_df.to_csv(\"DATA/validate.csv\", sep = \"\\t\", index = False)\n",
    "test_df.to_csv(\"DATA/test.csv\", sep = \"\\t\", index = False)"
   ]
  },
  {
   "cell_type": "markdown",
   "metadata": {},
   "source": [
    "### Loading the data"
   ]
  },
  {
   "cell_type": "code",
   "execution_count": 102,
   "metadata": {},
   "outputs": [],
   "source": [
    "train_df = pd.read_csv(\"DATA/train.csv\", sep = \"\\t\")\n",
    "validate_df = pd.read_csv(\"DATA/validate.csv\", sep = \"\\t\")\n",
    "test_df = pd.read_csv(\"DATA/test.csv\", sep = \"\\t\")"
   ]
  },
  {
   "cell_type": "code",
   "execution_count": 103,
   "metadata": {},
   "outputs": [
    {
     "name": "stdout",
     "output_type": "stream",
     "text": [
      "Training dataset : (36168, 53)\n",
      "Validation dataset : (4521, 53)\n",
      "Testing dataset : (4522, 53)\n"
     ]
    }
   ],
   "source": [
    "print(\"Training dataset :\", train_df.shape)\n",
    "print(\"Validation dataset :\", validate_df.shape)\n",
    "print(\"Testing dataset :\", test_df.shape)"
   ]
  },
  {
   "cell_type": "code",
   "execution_count": 105,
   "metadata": {},
   "outputs": [
    {
     "data": {
      "text/plain": [
       "Index(['age', 'job', 'marital', 'education', 'default', 'balance', 'housing',\n",
       "       'loan', 'contact', 'day', 'month', 'duration', 'campaign', 'pdays',\n",
       "       'previous', 'poutcome', 'y', 'job_blue-collar', 'job_entrepreneur',\n",
       "       'job_housemaid', 'job_management', 'job_retired', 'job_self-employed',\n",
       "       'job_services', 'job_student', 'job_technician', 'job_unemployed',\n",
       "       'job_unknown', 'marital_married', 'marital_single',\n",
       "       'education_secondary', 'education_tertiary', 'education_unknown',\n",
       "       'month_aug', 'month_dec', 'month_feb', 'month_jan', 'month_jul',\n",
       "       'month_jun', 'month_mar', 'month_may', 'month_nov', 'month_oct',\n",
       "       'month_sep', 'poutcome_other', 'poutcome_success', 'poutcome_unknown',\n",
       "       'contact_telephone', 'contact_unknown', 'default_code', 'loan_code',\n",
       "       'housing_code', 'y_code'],\n",
       "      dtype='object')"
      ]
     },
     "execution_count": 105,
     "metadata": {},
     "output_type": "execute_result"
    }
   ],
   "source": [
    "train_df.columns"
   ]
  },
  {
   "cell_type": "markdown",
   "metadata": {},
   "source": [
    "## Data Summaries and Visualizations"
   ]
  },
  {
   "cell_type": "markdown",
   "metadata": {},
   "source": [
    "### age"
   ]
  },
  {
   "cell_type": "code",
   "execution_count": 106,
   "metadata": {},
   "outputs": [
    {
     "data": {
      "text/plain": [
       "count    36168.000000\n",
       "mean        40.964748\n",
       "std         10.621709\n",
       "min         18.000000\n",
       "25%         33.000000\n",
       "50%         39.000000\n",
       "75%         48.000000\n",
       "max         95.000000\n",
       "Name: age, dtype: float64"
      ]
     },
     "execution_count": 106,
     "metadata": {},
     "output_type": "execute_result"
    }
   ],
   "source": [
    "train_df[\"age\"].describe()"
   ]
  },
  {
   "cell_type": "code",
   "execution_count": 107,
   "metadata": {},
   "outputs": [
    {
     "data": {
      "image/png": "[encoded data removed]",
      "text/plain": [
       "<Figure size 1080x936 with 2 Axes>"
      ]
     },
     "metadata": {},
     "output_type": "display_data"
    }
   ],
   "source": [
    "%autoreload 2\n",
    "custom_functions.create_histogram_plus_boxplot(train_df[\"age\"], \"Age\", color = \"royalblue\", ylabel = \"Frequency\", \n",
    "                                               xlabel = \"Age in years\" , size = (15,13))"
   ]
  },
  {
   "cell_type": "code",
   "execution_count": 108,
   "metadata": {},
   "outputs": [
    {
     "name": "stdout",
     "output_type": "stream",
     "text": [
      "Number of outliers : 394\n"
     ]
    }
   ],
   "source": [
    "print(\"Number of outliers :\", train_df[train_df[\"age\"] > 70].shape[0])"
   ]
  },
  {
   "cell_type": "markdown",
   "metadata": {},
   "source": [
    "Distribution is right skewed which makes sense as there should be less participation from old people in such term deposit plan that's why there are outliers in the data. Observations where age is greater than 70 years(BY looking at the boxplot right hand whisker) are outliers, which is reasonable amount."
   ]
  },
  {
   "cell_type": "markdown",
   "metadata": {},
   "source": [
    "### job"
   ]
  },
  {
   "cell_type": "code",
   "execution_count": 109,
   "metadata": {},
   "outputs": [
    {
     "data": {
      "text/plain": [
       "blue-collar      7798\n",
       "management       7563\n",
       "technician       6105\n",
       "admin.           4109\n",
       "services         3308\n",
       "retired          1815\n",
       "self-employed    1264\n",
       "entrepreneur     1191\n",
       "unemployed       1034\n",
       "housemaid        1003\n",
       "student           749\n",
       "unknown           229\n",
       "Name: job, dtype: int64"
      ]
     },
     "execution_count": 109,
     "metadata": {},
     "output_type": "execute_result"
    }
   ],
   "source": [
    "# Frequency\n",
    "job_count_series = train_df[\"job\"].value_counts()\n",
    "job_count_series"
   ]
  },
  {
   "cell_type": "code",
   "execution_count": 110,
   "metadata": {},
   "outputs": [
    {
     "data": {
      "text/plain": [
       "blue-collar      21.560495\n",
       "management       20.910750\n",
       "technician       16.879562\n",
       "admin.           11.360871\n",
       "services          9.146207\n",
       "retired           5.018248\n",
       "self-employed     3.494802\n",
       "entrepreneur      3.292966\n",
       "unemployed        2.858881\n",
       "housemaid         2.773170\n",
       "student           2.070891\n",
       "unknown           0.633156\n",
       "Name: job, dtype: float64"
      ]
     },
     "execution_count": 110,
     "metadata": {},
     "output_type": "execute_result"
    }
   ],
   "source": [
    "# Percentage\n",
    "job_count_series/train_df.shape[0] * 100"
   ]
  },
  {
   "cell_type": "code",
   "execution_count": 111,
   "metadata": {},
   "outputs": [
    {
     "data": {
      "image/png": "[encoded data removed]",
      "text/plain": [
       "<Figure size 864x720 with 1 Axes>"
      ]
     },
     "metadata": {},
     "output_type": "display_data"
    }
   ],
   "source": [
    "# Barplot\n",
    "%autoreload 2\n",
    "custom_functions.barplot(job_count_series, \"Job\", \"Counts\", \"Job\", \n",
    "                         color = (\"salmon\", \"lightgreen\", \"cornflowerblue\",) * 4, labels = job_count_series.index, \n",
    "                         xrotation = 90)"
   ]
  },
  {
   "cell_type": "markdown",
   "metadata": {},
   "source": [
    "Most of the customers have blue-collar jobs or jobs in management. Very few Housemaid and stundents have bank accounts."
   ]
  },
  {
   "cell_type": "markdown",
   "metadata": {},
   "source": [
    "### marital"
   ]
  },
  {
   "cell_type": "code",
   "execution_count": 112,
   "metadata": {},
   "outputs": [
    {
     "data": {
      "text/plain": [
       "married     21788\n",
       "single      10182\n",
       "divorced     4198\n",
       "Name: marital, dtype: int64"
      ]
     },
     "execution_count": 112,
     "metadata": {},
     "output_type": "execute_result"
    }
   ],
   "source": [
    "# Frequency\n",
    "marital_count_series = train_df[\"marital\"].value_counts()\n",
    "marital_count_series"
   ]
  },
  {
   "cell_type": "code",
   "execution_count": 113,
   "metadata": {},
   "outputs": [
    {
     "data": {
      "text/plain": [
       "married     60.241097\n",
       "single      28.151958\n",
       "divorced    11.606945\n",
       "Name: marital, dtype: float64"
      ]
     },
     "execution_count": 113,
     "metadata": {},
     "output_type": "execute_result"
    }
   ],
   "source": [
    "# Percentage\n",
    "marital_count_series/train_df.shape[0] * 100"
   ]
  },
  {
   "cell_type": "code",
   "execution_count": 114,
   "metadata": {},
   "outputs": [
    {
     "data": {
      "image/png": "[encoded data removed]",
      "text/plain": [
       "<Figure size 1080x504 with 1 Axes>"
      ]
     },
     "metadata": {},
     "output_type": "display_data"
    }
   ],
   "source": [
    "# Donut Chart\n",
    "plt.pie(marital_count_series, colors = [\"orange\", \"royalblue\", \"seagreen\"], labels = [\"Married\", \"Single\", \"Divorced\"], \n",
    "        autopct = '%1.1f%%', startangle = 90, pctdistance = 0.80, textprops = {\"fontsize\" : 18})\n",
    "plt.gca().add_artist(plt.Circle((0, 0), 0.60, fc = 'white'));\n",
    "plt.title(\"Marital Status\")\n",
    "plt.show()"
   ]
  },
  {
   "cell_type": "markdown",
   "metadata": {},
   "source": [
    "Most of the account holders are married."
   ]
  },
  {
   "cell_type": "markdown",
   "metadata": {},
   "source": [
    "### education"
   ]
  },
  {
   "cell_type": "code",
   "execution_count": 115,
   "metadata": {},
   "outputs": [
    {
     "data": {
      "text/plain": [
       "secondary    18605\n",
       "tertiary     10618\n",
       "primary       5476\n",
       "unknown       1469\n",
       "Name: education, dtype: int64"
      ]
     },
     "execution_count": 115,
     "metadata": {},
     "output_type": "execute_result"
    }
   ],
   "source": [
    "# Frequency\n",
    "edu_count_series = train_df[\"education\"].value_counts()\n",
    "edu_count_series"
   ]
  },
  {
   "cell_type": "code",
   "execution_count": 116,
   "metadata": {},
   "outputs": [
    {
     "data": {
      "text/plain": [
       "secondary    51.440500\n",
       "tertiary     29.357443\n",
       "primary      15.140456\n",
       "unknown       4.061601\n",
       "Name: education, dtype: float64"
      ]
     },
     "execution_count": 116,
     "metadata": {},
     "output_type": "execute_result"
    }
   ],
   "source": [
    "# Percentage\n",
    "edu_count_series/train_df.shape[0] * 100"
   ]
  },
  {
   "cell_type": "code",
   "execution_count": 117,
   "metadata": {},
   "outputs": [
    {
     "data": {
      "image/png": "[encoded data removed]",
      "text/plain": [
       "<Figure size 864x720 with 1 Axes>"
      ]
     },
     "metadata": {},
     "output_type": "display_data"
    }
   ],
   "source": [
    "# Barplot\n",
    "%autoreload 2\n",
    "custom_functions.barplot(edu_count_series, \"Level of Education\", \"Counts\", \"Level of Education\", \n",
    "                         color = (\"orange\", \"mediumseagreen\", \"skyblue\", \"pink\"), labels = edu_count_series.index)"
   ]
  },
  {
   "cell_type": "markdown",
   "metadata": {},
   "source": [
    "Most of the account holders have secondary educations followed by customers who have tertiary education."
   ]
  },
  {
   "cell_type": "markdown",
   "metadata": {},
   "source": [
    "### default"
   ]
  },
  {
   "cell_type": "code",
   "execution_count": 118,
   "metadata": {},
   "outputs": [
    {
     "data": {
      "text/plain": [
       "no     35505\n",
       "yes      663\n",
       "Name: default, dtype: int64"
      ]
     },
     "execution_count": 118,
     "metadata": {},
     "output_type": "execute_result"
    }
   ],
   "source": [
    "# Frequency\n",
    "default_count_series = train_df[\"default\"].value_counts()\n",
    "default_count_series"
   ]
  },
  {
   "cell_type": "code",
   "execution_count": 119,
   "metadata": {},
   "outputs": [
    {
     "data": {
      "text/plain": [
       "no     98.166888\n",
       "yes     1.833112\n",
       "Name: default, dtype: float64"
      ]
     },
     "execution_count": 119,
     "metadata": {},
     "output_type": "execute_result"
    }
   ],
   "source": [
    "# Percentage\n",
    "default_count_series/train_df.shape[0] * 100"
   ]
  },
  {
   "cell_type": "code",
   "execution_count": 120,
   "metadata": {},
   "outputs": [
    {
     "data": {
      "image/png": "[encoded data removed]",
      "text/plain": [
       "<Figure size 864x720 with 1 Axes>"
      ]
     },
     "metadata": {},
     "output_type": "display_data"
    }
   ],
   "source": [
    "# Barplot\n",
    "%autoreload 2\n",
    "custom_functions.barplot(default_count_series, \"Default Credit\", \"Counts\", \"Default Credit\", color = (\"royalblue\", \"tomato\"), \n",
    "                         labels = default_count_series.index)"
   ]
  },
  {
   "cell_type": "markdown",
   "metadata": {},
   "source": [
    "Nearly 1.8% of the account holders were failed to repay a debt back to the bank."
   ]
  },
  {
   "cell_type": "markdown",
   "metadata": {},
   "source": [
    "### balance"
   ]
  },
  {
   "cell_type": "code",
   "execution_count": 121,
   "metadata": {},
   "outputs": [
    {
     "data": {
      "text/plain": [
       "count     36168.000000\n",
       "mean       1347.880060\n",
       "std        2973.296172\n",
       "min       -8019.000000\n",
       "25%          71.000000\n",
       "50%         448.000000\n",
       "75%        1423.000000\n",
       "max      102127.000000\n",
       "Name: balance, dtype: float64"
      ]
     },
     "execution_count": 121,
     "metadata": {},
     "output_type": "execute_result"
    }
   ],
   "source": [
    "train_df[\"balance\"].describe()"
   ]
  },
  {
   "cell_type": "code",
   "execution_count": 122,
   "metadata": {},
   "outputs": [
    {
     "data": {
      "image/png": "[encoded data removed]",
      "text/plain": [
       "<Figure size 1080x936 with 2 Axes>"
      ]
     },
     "metadata": {},
     "output_type": "display_data"
    }
   ],
   "source": [
    "%autoreload 2\n",
    "custom_functions.create_histogram_plus_boxplot(train_df[\"balance\"], \"Account Balance\", color = \"purple\", \n",
    "                                               ylabel = \"Frequency\", xlabel = \"Balance in euros\" , size = (15, 13))"
   ]
  },
  {
   "cell_type": "markdown",
   "metadata": {},
   "source": [
    "As we can see there are many outliers in the balance variable, by looking at the boxplot above we can say that amount greater than 40k can be ruled as extreme. Let's have a look at those account holders."
   ]
  },
  {
   "cell_type": "code",
   "execution_count": 123,
   "metadata": {},
   "outputs": [
    {
     "data": {
      "text/html": [
       "<div>\n",
       "<style scoped>\n",
       "    .dataframe tbody tr th:only-of-type {\n",
       "        vertical-align: middle;\n",
       "    }\n",
       "\n",
       "    .dataframe tbody tr th {\n",
       "        vertical-align: top;\n",
       "    }\n",
       "\n",
       "    .dataframe thead th {\n",
       "        text-align: right;\n",
       "    }\n",
       "</style>\n",
       "<table border=\"1\" class=\"dataframe\">\n",
       "  <thead>\n",
       "    <tr style=\"text-align: right;\">\n",
       "      <th></th>\n",
       "      <th>age</th>\n",
       "      <th>job</th>\n",
       "      <th>marital</th>\n",
       "      <th>education</th>\n",
       "      <th>default</th>\n",
       "      <th>balance</th>\n",
       "      <th>housing</th>\n",
       "      <th>loan</th>\n",
       "      <th>contact</th>\n",
       "      <th>day</th>\n",
       "      <th>month</th>\n",
       "      <th>duration</th>\n",
       "      <th>campaign</th>\n",
       "      <th>pdays</th>\n",
       "      <th>previous</th>\n",
       "      <th>poutcome</th>\n",
       "      <th>y</th>\n",
       "    </tr>\n",
       "  </thead>\n",
       "  <tbody>\n",
       "    <tr>\n",
       "      <th>38</th>\n",
       "      <td>60</td>\n",
       "      <td>retired</td>\n",
       "      <td>married</td>\n",
       "      <td>primary</td>\n",
       "      <td>no</td>\n",
       "      <td>71188</td>\n",
       "      <td>no</td>\n",
       "      <td>no</td>\n",
       "      <td>cellular</td>\n",
       "      <td>6</td>\n",
       "      <td>oct</td>\n",
       "      <td>205</td>\n",
       "      <td>1</td>\n",
       "      <td>-1</td>\n",
       "      <td>0</td>\n",
       "      <td>unknown</td>\n",
       "      <td>no</td>\n",
       "    </tr>\n",
       "    <tr>\n",
       "      <th>2434</th>\n",
       "      <td>56</td>\n",
       "      <td>blue-collar</td>\n",
       "      <td>married</td>\n",
       "      <td>secondary</td>\n",
       "      <td>no</td>\n",
       "      <td>58932</td>\n",
       "      <td>no</td>\n",
       "      <td>no</td>\n",
       "      <td>telephone</td>\n",
       "      <td>7</td>\n",
       "      <td>jul</td>\n",
       "      <td>339</td>\n",
       "      <td>2</td>\n",
       "      <td>-1</td>\n",
       "      <td>0</td>\n",
       "      <td>unknown</td>\n",
       "      <td>no</td>\n",
       "    </tr>\n",
       "    <tr>\n",
       "      <th>3828</th>\n",
       "      <td>55</td>\n",
       "      <td>management</td>\n",
       "      <td>single</td>\n",
       "      <td>tertiary</td>\n",
       "      <td>no</td>\n",
       "      <td>43074</td>\n",
       "      <td>yes</td>\n",
       "      <td>no</td>\n",
       "      <td>cellular</td>\n",
       "      <td>25</td>\n",
       "      <td>aug</td>\n",
       "      <td>92</td>\n",
       "      <td>6</td>\n",
       "      <td>-1</td>\n",
       "      <td>0</td>\n",
       "      <td>unknown</td>\n",
       "      <td>no</td>\n",
       "    </tr>\n",
       "    <tr>\n",
       "      <th>5172</th>\n",
       "      <td>59</td>\n",
       "      <td>housemaid</td>\n",
       "      <td>divorced</td>\n",
       "      <td>secondary</td>\n",
       "      <td>no</td>\n",
       "      <td>45141</td>\n",
       "      <td>no</td>\n",
       "      <td>no</td>\n",
       "      <td>unknown</td>\n",
       "      <td>6</td>\n",
       "      <td>jun</td>\n",
       "      <td>42</td>\n",
       "      <td>1</td>\n",
       "      <td>-1</td>\n",
       "      <td>0</td>\n",
       "      <td>unknown</td>\n",
       "      <td>no</td>\n",
       "    </tr>\n",
       "    <tr>\n",
       "      <th>6934</th>\n",
       "      <td>55</td>\n",
       "      <td>entrepreneur</td>\n",
       "      <td>married</td>\n",
       "      <td>tertiary</td>\n",
       "      <td>no</td>\n",
       "      <td>41923</td>\n",
       "      <td>no</td>\n",
       "      <td>no</td>\n",
       "      <td>cellular</td>\n",
       "      <td>6</td>\n",
       "      <td>aug</td>\n",
       "      <td>69</td>\n",
       "      <td>3</td>\n",
       "      <td>-1</td>\n",
       "      <td>0</td>\n",
       "      <td>unknown</td>\n",
       "      <td>no</td>\n",
       "    </tr>\n",
       "    <tr>\n",
       "      <th>7865</th>\n",
       "      <td>44</td>\n",
       "      <td>admin.</td>\n",
       "      <td>married</td>\n",
       "      <td>secondary</td>\n",
       "      <td>no</td>\n",
       "      <td>58544</td>\n",
       "      <td>yes</td>\n",
       "      <td>no</td>\n",
       "      <td>unknown</td>\n",
       "      <td>7</td>\n",
       "      <td>may</td>\n",
       "      <td>144</td>\n",
       "      <td>2</td>\n",
       "      <td>-1</td>\n",
       "      <td>0</td>\n",
       "      <td>unknown</td>\n",
       "      <td>no</td>\n",
       "    </tr>\n",
       "    <tr>\n",
       "      <th>10616</th>\n",
       "      <td>43</td>\n",
       "      <td>admin.</td>\n",
       "      <td>single</td>\n",
       "      <td>secondary</td>\n",
       "      <td>no</td>\n",
       "      <td>56831</td>\n",
       "      <td>no</td>\n",
       "      <td>no</td>\n",
       "      <td>unknown</td>\n",
       "      <td>15</td>\n",
       "      <td>may</td>\n",
       "      <td>243</td>\n",
       "      <td>1</td>\n",
       "      <td>-1</td>\n",
       "      <td>0</td>\n",
       "      <td>unknown</td>\n",
       "      <td>no</td>\n",
       "    </tr>\n",
       "    <tr>\n",
       "      <th>10856</th>\n",
       "      <td>59</td>\n",
       "      <td>retired</td>\n",
       "      <td>married</td>\n",
       "      <td>tertiary</td>\n",
       "      <td>no</td>\n",
       "      <td>41242</td>\n",
       "      <td>no</td>\n",
       "      <td>no</td>\n",
       "      <td>cellular</td>\n",
       "      <td>21</td>\n",
       "      <td>nov</td>\n",
       "      <td>161</td>\n",
       "      <td>1</td>\n",
       "      <td>-1</td>\n",
       "      <td>0</td>\n",
       "      <td>unknown</td>\n",
       "      <td>no</td>\n",
       "    </tr>\n",
       "    <tr>\n",
       "      <th>10883</th>\n",
       "      <td>61</td>\n",
       "      <td>self-employed</td>\n",
       "      <td>divorced</td>\n",
       "      <td>tertiary</td>\n",
       "      <td>no</td>\n",
       "      <td>52587</td>\n",
       "      <td>no</td>\n",
       "      <td>no</td>\n",
       "      <td>cellular</td>\n",
       "      <td>15</td>\n",
       "      <td>feb</td>\n",
       "      <td>394</td>\n",
       "      <td>3</td>\n",
       "      <td>189</td>\n",
       "      <td>1</td>\n",
       "      <td>success</td>\n",
       "      <td>yes</td>\n",
       "    </tr>\n",
       "    <tr>\n",
       "      <th>11862</th>\n",
       "      <td>56</td>\n",
       "      <td>management</td>\n",
       "      <td>divorced</td>\n",
       "      <td>tertiary</td>\n",
       "      <td>no</td>\n",
       "      <td>66721</td>\n",
       "      <td>no</td>\n",
       "      <td>no</td>\n",
       "      <td>cellular</td>\n",
       "      <td>8</td>\n",
       "      <td>aug</td>\n",
       "      <td>442</td>\n",
       "      <td>2</td>\n",
       "      <td>-1</td>\n",
       "      <td>0</td>\n",
       "      <td>unknown</td>\n",
       "      <td>no</td>\n",
       "    </tr>\n",
       "    <tr>\n",
       "      <th>13045</th>\n",
       "      <td>84</td>\n",
       "      <td>retired</td>\n",
       "      <td>married</td>\n",
       "      <td>secondary</td>\n",
       "      <td>no</td>\n",
       "      <td>81204</td>\n",
       "      <td>no</td>\n",
       "      <td>no</td>\n",
       "      <td>telephone</td>\n",
       "      <td>28</td>\n",
       "      <td>dec</td>\n",
       "      <td>679</td>\n",
       "      <td>1</td>\n",
       "      <td>313</td>\n",
       "      <td>2</td>\n",
       "      <td>other</td>\n",
       "      <td>yes</td>\n",
       "    </tr>\n",
       "    <tr>\n",
       "      <th>14022</th>\n",
       "      <td>39</td>\n",
       "      <td>technician</td>\n",
       "      <td>single</td>\n",
       "      <td>unknown</td>\n",
       "      <td>no</td>\n",
       "      <td>45248</td>\n",
       "      <td>yes</td>\n",
       "      <td>no</td>\n",
       "      <td>unknown</td>\n",
       "      <td>6</td>\n",
       "      <td>may</td>\n",
       "      <td>1623</td>\n",
       "      <td>1</td>\n",
       "      <td>-1</td>\n",
       "      <td>0</td>\n",
       "      <td>unknown</td>\n",
       "      <td>yes</td>\n",
       "    </tr>\n",
       "    <tr>\n",
       "      <th>14688</th>\n",
       "      <td>58</td>\n",
       "      <td>entrepreneur</td>\n",
       "      <td>married</td>\n",
       "      <td>primary</td>\n",
       "      <td>no</td>\n",
       "      <td>52499</td>\n",
       "      <td>no</td>\n",
       "      <td>no</td>\n",
       "      <td>unknown</td>\n",
       "      <td>6</td>\n",
       "      <td>jun</td>\n",
       "      <td>198</td>\n",
       "      <td>2</td>\n",
       "      <td>-1</td>\n",
       "      <td>0</td>\n",
       "      <td>unknown</td>\n",
       "      <td>no</td>\n",
       "    </tr>\n",
       "    <tr>\n",
       "      <th>17740</th>\n",
       "      <td>32</td>\n",
       "      <td>entrepreneur</td>\n",
       "      <td>single</td>\n",
       "      <td>tertiary</td>\n",
       "      <td>no</td>\n",
       "      <td>59649</td>\n",
       "      <td>no</td>\n",
       "      <td>no</td>\n",
       "      <td>cellular</td>\n",
       "      <td>1</td>\n",
       "      <td>sep</td>\n",
       "      <td>69</td>\n",
       "      <td>2</td>\n",
       "      <td>-1</td>\n",
       "      <td>0</td>\n",
       "      <td>unknown</td>\n",
       "      <td>no</td>\n",
       "    </tr>\n",
       "    <tr>\n",
       "      <th>18486</th>\n",
       "      <td>59</td>\n",
       "      <td>unemployed</td>\n",
       "      <td>divorced</td>\n",
       "      <td>secondary</td>\n",
       "      <td>no</td>\n",
       "      <td>44134</td>\n",
       "      <td>no</td>\n",
       "      <td>no</td>\n",
       "      <td>cellular</td>\n",
       "      <td>3</td>\n",
       "      <td>feb</td>\n",
       "      <td>117</td>\n",
       "      <td>1</td>\n",
       "      <td>-1</td>\n",
       "      <td>0</td>\n",
       "      <td>unknown</td>\n",
       "      <td>no</td>\n",
       "    </tr>\n",
       "    <tr>\n",
       "      <th>23718</th>\n",
       "      <td>43</td>\n",
       "      <td>management</td>\n",
       "      <td>married</td>\n",
       "      <td>tertiary</td>\n",
       "      <td>no</td>\n",
       "      <td>41630</td>\n",
       "      <td>no</td>\n",
       "      <td>no</td>\n",
       "      <td>cellular</td>\n",
       "      <td>18</td>\n",
       "      <td>aug</td>\n",
       "      <td>68</td>\n",
       "      <td>4</td>\n",
       "      <td>-1</td>\n",
       "      <td>0</td>\n",
       "      <td>unknown</td>\n",
       "      <td>no</td>\n",
       "    </tr>\n",
       "    <tr>\n",
       "      <th>24128</th>\n",
       "      <td>50</td>\n",
       "      <td>services</td>\n",
       "      <td>married</td>\n",
       "      <td>secondary</td>\n",
       "      <td>no</td>\n",
       "      <td>57435</td>\n",
       "      <td>yes</td>\n",
       "      <td>no</td>\n",
       "      <td>cellular</td>\n",
       "      <td>21</td>\n",
       "      <td>nov</td>\n",
       "      <td>319</td>\n",
       "      <td>3</td>\n",
       "      <td>-1</td>\n",
       "      <td>0</td>\n",
       "      <td>unknown</td>\n",
       "      <td>no</td>\n",
       "    </tr>\n",
       "    <tr>\n",
       "      <th>25449</th>\n",
       "      <td>61</td>\n",
       "      <td>self-employed</td>\n",
       "      <td>divorced</td>\n",
       "      <td>tertiary</td>\n",
       "      <td>no</td>\n",
       "      <td>52587</td>\n",
       "      <td>no</td>\n",
       "      <td>no</td>\n",
       "      <td>cellular</td>\n",
       "      <td>10</td>\n",
       "      <td>aug</td>\n",
       "      <td>290</td>\n",
       "      <td>1</td>\n",
       "      <td>-1</td>\n",
       "      <td>0</td>\n",
       "      <td>unknown</td>\n",
       "      <td>yes</td>\n",
       "    </tr>\n",
       "    <tr>\n",
       "      <th>28083</th>\n",
       "      <td>52</td>\n",
       "      <td>blue-collar</td>\n",
       "      <td>married</td>\n",
       "      <td>primary</td>\n",
       "      <td>no</td>\n",
       "      <td>66653</td>\n",
       "      <td>no</td>\n",
       "      <td>no</td>\n",
       "      <td>cellular</td>\n",
       "      <td>14</td>\n",
       "      <td>aug</td>\n",
       "      <td>109</td>\n",
       "      <td>3</td>\n",
       "      <td>-1</td>\n",
       "      <td>0</td>\n",
       "      <td>unknown</td>\n",
       "      <td>no</td>\n",
       "    </tr>\n",
       "    <tr>\n",
       "      <th>29310</th>\n",
       "      <td>42</td>\n",
       "      <td>entrepreneur</td>\n",
       "      <td>married</td>\n",
       "      <td>tertiary</td>\n",
       "      <td>no</td>\n",
       "      <td>42045</td>\n",
       "      <td>no</td>\n",
       "      <td>no</td>\n",
       "      <td>cellular</td>\n",
       "      <td>8</td>\n",
       "      <td>aug</td>\n",
       "      <td>205</td>\n",
       "      <td>2</td>\n",
       "      <td>-1</td>\n",
       "      <td>0</td>\n",
       "      <td>unknown</td>\n",
       "      <td>no</td>\n",
       "    </tr>\n",
       "    <tr>\n",
       "      <th>32653</th>\n",
       "      <td>31</td>\n",
       "      <td>management</td>\n",
       "      <td>single</td>\n",
       "      <td>tertiary</td>\n",
       "      <td>no</td>\n",
       "      <td>44128</td>\n",
       "      <td>no</td>\n",
       "      <td>no</td>\n",
       "      <td>cellular</td>\n",
       "      <td>21</td>\n",
       "      <td>nov</td>\n",
       "      <td>74</td>\n",
       "      <td>1</td>\n",
       "      <td>-1</td>\n",
       "      <td>0</td>\n",
       "      <td>unknown</td>\n",
       "      <td>no</td>\n",
       "    </tr>\n",
       "    <tr>\n",
       "      <th>32934</th>\n",
       "      <td>51</td>\n",
       "      <td>management</td>\n",
       "      <td>single</td>\n",
       "      <td>tertiary</td>\n",
       "      <td>no</td>\n",
       "      <td>102127</td>\n",
       "      <td>no</td>\n",
       "      <td>no</td>\n",
       "      <td>cellular</td>\n",
       "      <td>3</td>\n",
       "      <td>jun</td>\n",
       "      <td>90</td>\n",
       "      <td>1</td>\n",
       "      <td>-1</td>\n",
       "      <td>0</td>\n",
       "      <td>unknown</td>\n",
       "      <td>no</td>\n",
       "    </tr>\n",
       "  </tbody>\n",
       "</table>\n",
       "</div>"
      ],
      "text/plain": [
       "       age            job   marital  education default  balance housing loan  \\\n",
       "38      60        retired   married    primary      no    71188      no   no   \n",
       "2434    56    blue-collar   married  secondary      no    58932      no   no   \n",
       "3828    55     management    single   tertiary      no    43074     yes   no   \n",
       "5172    59      housemaid  divorced  secondary      no    45141      no   no   \n",
       "6934    55   entrepreneur   married   tertiary      no    41923      no   no   \n",
       "7865    44         admin.   married  secondary      no    58544     yes   no   \n",
       "10616   43         admin.    single  secondary      no    56831      no   no   \n",
       "10856   59        retired   married   tertiary      no    41242      no   no   \n",
       "10883   61  self-employed  divorced   tertiary      no    52587      no   no   \n",
       "11862   56     management  divorced   tertiary      no    66721      no   no   \n",
       "13045   84        retired   married  secondary      no    81204      no   no   \n",
       "14022   39     technician    single    unknown      no    45248     yes   no   \n",
       "14688   58   entrepreneur   married    primary      no    52499      no   no   \n",
       "17740   32   entrepreneur    single   tertiary      no    59649      no   no   \n",
       "18486   59     unemployed  divorced  secondary      no    44134      no   no   \n",
       "23718   43     management   married   tertiary      no    41630      no   no   \n",
       "24128   50       services   married  secondary      no    57435     yes   no   \n",
       "25449   61  self-employed  divorced   tertiary      no    52587      no   no   \n",
       "28083   52    blue-collar   married    primary      no    66653      no   no   \n",
       "29310   42   entrepreneur   married   tertiary      no    42045      no   no   \n",
       "32653   31     management    single   tertiary      no    44128      no   no   \n",
       "32934   51     management    single   tertiary      no   102127      no   no   \n",
       "\n",
       "         contact  day month  duration  campaign  pdays  previous poutcome    y  \n",
       "38      cellular    6   oct       205         1     -1         0  unknown   no  \n",
       "2434   telephone    7   jul       339         2     -1         0  unknown   no  \n",
       "3828    cellular   25   aug        92         6     -1         0  unknown   no  \n",
       "5172     unknown    6   jun        42         1     -1         0  unknown   no  \n",
       "6934    cellular    6   aug        69         3     -1         0  unknown   no  \n",
       "7865     unknown    7   may       144         2     -1         0  unknown   no  \n",
       "10616    unknown   15   may       243         1     -1         0  unknown   no  \n",
       "10856   cellular   21   nov       161         1     -1         0  unknown   no  \n",
       "10883   cellular   15   feb       394         3    189         1  success  yes  \n",
       "11862   cellular    8   aug       442         2     -1         0  unknown   no  \n",
       "13045  telephone   28   dec       679         1    313         2    other  yes  \n",
       "14022    unknown    6   may      1623         1     -1         0  unknown  yes  \n",
       "14688    unknown    6   jun       198         2     -1         0  unknown   no  \n",
       "17740   cellular    1   sep        69         2     -1         0  unknown   no  \n",
       "18486   cellular    3   feb       117         1     -1         0  unknown   no  \n",
       "23718   cellular   18   aug        68         4     -1         0  unknown   no  \n",
       "24128   cellular   21   nov       319         3     -1         0  unknown   no  \n",
       "25449   cellular   10   aug       290         1     -1         0  unknown  yes  \n",
       "28083   cellular   14   aug       109         3     -1         0  unknown   no  \n",
       "29310   cellular    8   aug       205         2     -1         0  unknown   no  \n",
       "32653   cellular   21   nov        74         1     -1         0  unknown   no  \n",
       "32934   cellular    3   jun        90         1     -1         0  unknown   no  "
      ]
     },
     "execution_count": 123,
     "metadata": {},
     "output_type": "execute_result"
    }
   ],
   "source": [
    "train_df[train_df[\"balance\"] > 40000].iloc[:,:17]"
   ]
  },
  {
   "cell_type": "markdown",
   "metadata": {},
   "source": [
    "There are many outliers in account balance variable. Most extremes(approx. 20) outliers are where the account balance is greater than 40,000 EUROS. All other columns seem valid so I will keep the outliers as they are because they represent the nature of the distribution. Most of the high balance account holders are in management jobs or retired and had tertiary education. Most of the account holders are married as well as they dont have default credit(given high balance). Most of them have neither have personal or home loan(given high balance). "
   ]
  },
  {
   "cell_type": "code",
   "execution_count": 124,
   "metadata": {},
   "outputs": [
    {
     "data": {
      "text/html": [
       "<div>\n",
       "<style scoped>\n",
       "    .dataframe tbody tr th:only-of-type {\n",
       "        vertical-align: middle;\n",
       "    }\n",
       "\n",
       "    .dataframe tbody tr th {\n",
       "        vertical-align: top;\n",
       "    }\n",
       "\n",
       "    .dataframe thead th {\n",
       "        text-align: right;\n",
       "    }\n",
       "</style>\n",
       "<table border=\"1\" class=\"dataframe\">\n",
       "  <thead>\n",
       "    <tr style=\"text-align: right;\">\n",
       "      <th></th>\n",
       "      <th>age</th>\n",
       "      <th>job</th>\n",
       "      <th>marital</th>\n",
       "      <th>education</th>\n",
       "      <th>default</th>\n",
       "      <th>balance</th>\n",
       "      <th>housing</th>\n",
       "      <th>loan</th>\n",
       "      <th>contact</th>\n",
       "      <th>day</th>\n",
       "      <th>month</th>\n",
       "      <th>duration</th>\n",
       "      <th>campaign</th>\n",
       "      <th>pdays</th>\n",
       "      <th>previous</th>\n",
       "      <th>poutcome</th>\n",
       "      <th>y</th>\n",
       "    </tr>\n",
       "  </thead>\n",
       "  <tbody>\n",
       "    <tr>\n",
       "      <th>9</th>\n",
       "      <td>48</td>\n",
       "      <td>management</td>\n",
       "      <td>married</td>\n",
       "      <td>tertiary</td>\n",
       "      <td>yes</td>\n",
       "      <td>-13</td>\n",
       "      <td>yes</td>\n",
       "      <td>no</td>\n",
       "      <td>cellular</td>\n",
       "      <td>15</td>\n",
       "      <td>may</td>\n",
       "      <td>20</td>\n",
       "      <td>6</td>\n",
       "      <td>291</td>\n",
       "      <td>2</td>\n",
       "      <td>other</td>\n",
       "      <td>no</td>\n",
       "    </tr>\n",
       "    <tr>\n",
       "      <th>12</th>\n",
       "      <td>54</td>\n",
       "      <td>blue-collar</td>\n",
       "      <td>single</td>\n",
       "      <td>primary</td>\n",
       "      <td>no</td>\n",
       "      <td>-119</td>\n",
       "      <td>yes</td>\n",
       "      <td>no</td>\n",
       "      <td>cellular</td>\n",
       "      <td>13</td>\n",
       "      <td>may</td>\n",
       "      <td>261</td>\n",
       "      <td>1</td>\n",
       "      <td>-1</td>\n",
       "      <td>0</td>\n",
       "      <td>unknown</td>\n",
       "      <td>no</td>\n",
       "    </tr>\n",
       "    <tr>\n",
       "      <th>19</th>\n",
       "      <td>32</td>\n",
       "      <td>self-employed</td>\n",
       "      <td>single</td>\n",
       "      <td>tertiary</td>\n",
       "      <td>no</td>\n",
       "      <td>-359</td>\n",
       "      <td>yes</td>\n",
       "      <td>no</td>\n",
       "      <td>cellular</td>\n",
       "      <td>9</td>\n",
       "      <td>feb</td>\n",
       "      <td>122</td>\n",
       "      <td>3</td>\n",
       "      <td>-1</td>\n",
       "      <td>0</td>\n",
       "      <td>unknown</td>\n",
       "      <td>no</td>\n",
       "    </tr>\n",
       "    <tr>\n",
       "      <th>50</th>\n",
       "      <td>44</td>\n",
       "      <td>blue-collar</td>\n",
       "      <td>married</td>\n",
       "      <td>secondary</td>\n",
       "      <td>no</td>\n",
       "      <td>-674</td>\n",
       "      <td>yes</td>\n",
       "      <td>no</td>\n",
       "      <td>unknown</td>\n",
       "      <td>5</td>\n",
       "      <td>may</td>\n",
       "      <td>257</td>\n",
       "      <td>1</td>\n",
       "      <td>-1</td>\n",
       "      <td>0</td>\n",
       "      <td>unknown</td>\n",
       "      <td>no</td>\n",
       "    </tr>\n",
       "    <tr>\n",
       "      <th>51</th>\n",
       "      <td>41</td>\n",
       "      <td>management</td>\n",
       "      <td>married</td>\n",
       "      <td>tertiary</td>\n",
       "      <td>no</td>\n",
       "      <td>-456</td>\n",
       "      <td>no</td>\n",
       "      <td>no</td>\n",
       "      <td>cellular</td>\n",
       "      <td>14</td>\n",
       "      <td>apr</td>\n",
       "      <td>427</td>\n",
       "      <td>4</td>\n",
       "      <td>144</td>\n",
       "      <td>1</td>\n",
       "      <td>failure</td>\n",
       "      <td>no</td>\n",
       "    </tr>\n",
       "    <tr>\n",
       "      <th>52</th>\n",
       "      <td>27</td>\n",
       "      <td>services</td>\n",
       "      <td>married</td>\n",
       "      <td>unknown</td>\n",
       "      <td>no</td>\n",
       "      <td>-209</td>\n",
       "      <td>yes</td>\n",
       "      <td>yes</td>\n",
       "      <td>cellular</td>\n",
       "      <td>29</td>\n",
       "      <td>jan</td>\n",
       "      <td>128</td>\n",
       "      <td>1</td>\n",
       "      <td>-1</td>\n",
       "      <td>0</td>\n",
       "      <td>unknown</td>\n",
       "      <td>no</td>\n",
       "    </tr>\n",
       "    <tr>\n",
       "      <th>74</th>\n",
       "      <td>59</td>\n",
       "      <td>management</td>\n",
       "      <td>divorced</td>\n",
       "      <td>tertiary</td>\n",
       "      <td>yes</td>\n",
       "      <td>-23</td>\n",
       "      <td>yes</td>\n",
       "      <td>no</td>\n",
       "      <td>telephone</td>\n",
       "      <td>7</td>\n",
       "      <td>may</td>\n",
       "      <td>287</td>\n",
       "      <td>2</td>\n",
       "      <td>-1</td>\n",
       "      <td>0</td>\n",
       "      <td>unknown</td>\n",
       "      <td>no</td>\n",
       "    </tr>\n",
       "    <tr>\n",
       "      <th>104</th>\n",
       "      <td>37</td>\n",
       "      <td>technician</td>\n",
       "      <td>married</td>\n",
       "      <td>secondary</td>\n",
       "      <td>yes</td>\n",
       "      <td>-143</td>\n",
       "      <td>yes</td>\n",
       "      <td>no</td>\n",
       "      <td>cellular</td>\n",
       "      <td>4</td>\n",
       "      <td>feb</td>\n",
       "      <td>95</td>\n",
       "      <td>1</td>\n",
       "      <td>-1</td>\n",
       "      <td>0</td>\n",
       "      <td>unknown</td>\n",
       "      <td>no</td>\n",
       "    </tr>\n",
       "    <tr>\n",
       "      <th>114</th>\n",
       "      <td>44</td>\n",
       "      <td>services</td>\n",
       "      <td>married</td>\n",
       "      <td>secondary</td>\n",
       "      <td>no</td>\n",
       "      <td>-395</td>\n",
       "      <td>yes</td>\n",
       "      <td>no</td>\n",
       "      <td>cellular</td>\n",
       "      <td>5</td>\n",
       "      <td>may</td>\n",
       "      <td>894</td>\n",
       "      <td>1</td>\n",
       "      <td>-1</td>\n",
       "      <td>0</td>\n",
       "      <td>unknown</td>\n",
       "      <td>yes</td>\n",
       "    </tr>\n",
       "    <tr>\n",
       "      <th>115</th>\n",
       "      <td>40</td>\n",
       "      <td>technician</td>\n",
       "      <td>married</td>\n",
       "      <td>secondary</td>\n",
       "      <td>no</td>\n",
       "      <td>-496</td>\n",
       "      <td>no</td>\n",
       "      <td>no</td>\n",
       "      <td>telephone</td>\n",
       "      <td>28</td>\n",
       "      <td>jul</td>\n",
       "      <td>22</td>\n",
       "      <td>2</td>\n",
       "      <td>-1</td>\n",
       "      <td>0</td>\n",
       "      <td>unknown</td>\n",
       "      <td>no</td>\n",
       "    </tr>\n",
       "    <tr>\n",
       "      <th>121</th>\n",
       "      <td>53</td>\n",
       "      <td>admin.</td>\n",
       "      <td>divorced</td>\n",
       "      <td>secondary</td>\n",
       "      <td>no</td>\n",
       "      <td>-120</td>\n",
       "      <td>yes</td>\n",
       "      <td>no</td>\n",
       "      <td>unknown</td>\n",
       "      <td>27</td>\n",
       "      <td>may</td>\n",
       "      <td>211</td>\n",
       "      <td>1</td>\n",
       "      <td>-1</td>\n",
       "      <td>0</td>\n",
       "      <td>unknown</td>\n",
       "      <td>no</td>\n",
       "    </tr>\n",
       "    <tr>\n",
       "      <th>140</th>\n",
       "      <td>47</td>\n",
       "      <td>services</td>\n",
       "      <td>divorced</td>\n",
       "      <td>secondary</td>\n",
       "      <td>no</td>\n",
       "      <td>-116</td>\n",
       "      <td>no</td>\n",
       "      <td>yes</td>\n",
       "      <td>cellular</td>\n",
       "      <td>25</td>\n",
       "      <td>jul</td>\n",
       "      <td>160</td>\n",
       "      <td>3</td>\n",
       "      <td>-1</td>\n",
       "      <td>0</td>\n",
       "      <td>unknown</td>\n",
       "      <td>no</td>\n",
       "    </tr>\n",
       "    <tr>\n",
       "      <th>141</th>\n",
       "      <td>58</td>\n",
       "      <td>technician</td>\n",
       "      <td>married</td>\n",
       "      <td>unknown</td>\n",
       "      <td>no</td>\n",
       "      <td>-205</td>\n",
       "      <td>yes</td>\n",
       "      <td>no</td>\n",
       "      <td>unknown</td>\n",
       "      <td>3</td>\n",
       "      <td>jun</td>\n",
       "      <td>497</td>\n",
       "      <td>2</td>\n",
       "      <td>-1</td>\n",
       "      <td>0</td>\n",
       "      <td>unknown</td>\n",
       "      <td>no</td>\n",
       "    </tr>\n",
       "    <tr>\n",
       "      <th>148</th>\n",
       "      <td>31</td>\n",
       "      <td>management</td>\n",
       "      <td>married</td>\n",
       "      <td>tertiary</td>\n",
       "      <td>no</td>\n",
       "      <td>-6</td>\n",
       "      <td>no</td>\n",
       "      <td>no</td>\n",
       "      <td>cellular</td>\n",
       "      <td>28</td>\n",
       "      <td>aug</td>\n",
       "      <td>198</td>\n",
       "      <td>6</td>\n",
       "      <td>-1</td>\n",
       "      <td>0</td>\n",
       "      <td>unknown</td>\n",
       "      <td>no</td>\n",
       "    </tr>\n",
       "    <tr>\n",
       "      <th>151</th>\n",
       "      <td>52</td>\n",
       "      <td>self-employed</td>\n",
       "      <td>married</td>\n",
       "      <td>secondary</td>\n",
       "      <td>no</td>\n",
       "      <td>-163</td>\n",
       "      <td>yes</td>\n",
       "      <td>no</td>\n",
       "      <td>cellular</td>\n",
       "      <td>20</td>\n",
       "      <td>aug</td>\n",
       "      <td>138</td>\n",
       "      <td>2</td>\n",
       "      <td>-1</td>\n",
       "      <td>0</td>\n",
       "      <td>unknown</td>\n",
       "      <td>no</td>\n",
       "    </tr>\n",
       "    <tr>\n",
       "      <th>169</th>\n",
       "      <td>59</td>\n",
       "      <td>technician</td>\n",
       "      <td>married</td>\n",
       "      <td>secondary</td>\n",
       "      <td>no</td>\n",
       "      <td>-247</td>\n",
       "      <td>yes</td>\n",
       "      <td>no</td>\n",
       "      <td>unknown</td>\n",
       "      <td>26</td>\n",
       "      <td>may</td>\n",
       "      <td>131</td>\n",
       "      <td>1</td>\n",
       "      <td>-1</td>\n",
       "      <td>0</td>\n",
       "      <td>unknown</td>\n",
       "      <td>no</td>\n",
       "    </tr>\n",
       "    <tr>\n",
       "      <th>172</th>\n",
       "      <td>35</td>\n",
       "      <td>technician</td>\n",
       "      <td>married</td>\n",
       "      <td>secondary</td>\n",
       "      <td>no</td>\n",
       "      <td>-67</td>\n",
       "      <td>yes</td>\n",
       "      <td>no</td>\n",
       "      <td>cellular</td>\n",
       "      <td>17</td>\n",
       "      <td>jul</td>\n",
       "      <td>160</td>\n",
       "      <td>6</td>\n",
       "      <td>-1</td>\n",
       "      <td>0</td>\n",
       "      <td>unknown</td>\n",
       "      <td>no</td>\n",
       "    </tr>\n",
       "    <tr>\n",
       "      <th>187</th>\n",
       "      <td>51</td>\n",
       "      <td>admin.</td>\n",
       "      <td>married</td>\n",
       "      <td>secondary</td>\n",
       "      <td>no</td>\n",
       "      <td>-287</td>\n",
       "      <td>yes</td>\n",
       "      <td>no</td>\n",
       "      <td>cellular</td>\n",
       "      <td>12</td>\n",
       "      <td>may</td>\n",
       "      <td>814</td>\n",
       "      <td>1</td>\n",
       "      <td>-1</td>\n",
       "      <td>0</td>\n",
       "      <td>unknown</td>\n",
       "      <td>no</td>\n",
       "    </tr>\n",
       "    <tr>\n",
       "      <th>190</th>\n",
       "      <td>55</td>\n",
       "      <td>services</td>\n",
       "      <td>married</td>\n",
       "      <td>primary</td>\n",
       "      <td>no</td>\n",
       "      <td>-747</td>\n",
       "      <td>yes</td>\n",
       "      <td>no</td>\n",
       "      <td>cellular</td>\n",
       "      <td>15</td>\n",
       "      <td>may</td>\n",
       "      <td>265</td>\n",
       "      <td>7</td>\n",
       "      <td>-1</td>\n",
       "      <td>0</td>\n",
       "      <td>unknown</td>\n",
       "      <td>no</td>\n",
       "    </tr>\n",
       "    <tr>\n",
       "      <th>208</th>\n",
       "      <td>24</td>\n",
       "      <td>blue-collar</td>\n",
       "      <td>married</td>\n",
       "      <td>secondary</td>\n",
       "      <td>no</td>\n",
       "      <td>-220</td>\n",
       "      <td>yes</td>\n",
       "      <td>no</td>\n",
       "      <td>cellular</td>\n",
       "      <td>2</td>\n",
       "      <td>apr</td>\n",
       "      <td>90</td>\n",
       "      <td>1</td>\n",
       "      <td>-1</td>\n",
       "      <td>0</td>\n",
       "      <td>unknown</td>\n",
       "      <td>no</td>\n",
       "    </tr>\n",
       "  </tbody>\n",
       "</table>\n",
       "</div>"
      ],
      "text/plain": [
       "     age            job   marital  education default  balance housing loan  \\\n",
       "9     48     management   married   tertiary     yes      -13     yes   no   \n",
       "12    54    blue-collar    single    primary      no     -119     yes   no   \n",
       "19    32  self-employed    single   tertiary      no     -359     yes   no   \n",
       "50    44    blue-collar   married  secondary      no     -674     yes   no   \n",
       "51    41     management   married   tertiary      no     -456      no   no   \n",
       "52    27       services   married    unknown      no     -209     yes  yes   \n",
       "74    59     management  divorced   tertiary     yes      -23     yes   no   \n",
       "104   37     technician   married  secondary     yes     -143     yes   no   \n",
       "114   44       services   married  secondary      no     -395     yes   no   \n",
       "115   40     technician   married  secondary      no     -496      no   no   \n",
       "121   53         admin.  divorced  secondary      no     -120     yes   no   \n",
       "140   47       services  divorced  secondary      no     -116      no  yes   \n",
       "141   58     technician   married    unknown      no     -205     yes   no   \n",
       "148   31     management   married   tertiary      no       -6      no   no   \n",
       "151   52  self-employed   married  secondary      no     -163     yes   no   \n",
       "169   59     technician   married  secondary      no     -247     yes   no   \n",
       "172   35     technician   married  secondary      no      -67     yes   no   \n",
       "187   51         admin.   married  secondary      no     -287     yes   no   \n",
       "190   55       services   married    primary      no     -747     yes   no   \n",
       "208   24    blue-collar   married  secondary      no     -220     yes   no   \n",
       "\n",
       "       contact  day month  duration  campaign  pdays  previous poutcome    y  \n",
       "9     cellular   15   may        20         6    291         2    other   no  \n",
       "12    cellular   13   may       261         1     -1         0  unknown   no  \n",
       "19    cellular    9   feb       122         3     -1         0  unknown   no  \n",
       "50     unknown    5   may       257         1     -1         0  unknown   no  \n",
       "51    cellular   14   apr       427         4    144         1  failure   no  \n",
       "52    cellular   29   jan       128         1     -1         0  unknown   no  \n",
       "74   telephone    7   may       287         2     -1         0  unknown   no  \n",
       "104   cellular    4   feb        95         1     -1         0  unknown   no  \n",
       "114   cellular    5   may       894         1     -1         0  unknown  yes  \n",
       "115  telephone   28   jul        22         2     -1         0  unknown   no  \n",
       "121    unknown   27   may       211         1     -1         0  unknown   no  \n",
       "140   cellular   25   jul       160         3     -1         0  unknown   no  \n",
       "141    unknown    3   jun       497         2     -1         0  unknown   no  \n",
       "148   cellular   28   aug       198         6     -1         0  unknown   no  \n",
       "151   cellular   20   aug       138         2     -1         0  unknown   no  \n",
       "169    unknown   26   may       131         1     -1         0  unknown   no  \n",
       "172   cellular   17   jul       160         6     -1         0  unknown   no  \n",
       "187   cellular   12   may       814         1     -1         0  unknown   no  \n",
       "190   cellular   15   may       265         7     -1         0  unknown   no  \n",
       "208   cellular    2   apr        90         1     -1         0  unknown   no  "
      ]
     },
     "execution_count": 124,
     "metadata": {},
     "output_type": "execute_result"
    }
   ],
   "source": [
    "negative_bal = train_df[train_df[\"balance\"] < 0].copy()\n",
    "negative_bal.iloc[:,:17].head(20)"
   ]
  },
  {
   "cell_type": "code",
   "execution_count": 125,
   "metadata": {},
   "outputs": [
    {
     "data": {
      "text/plain": [
       "count    3048.000000\n",
       "mean       39.583333\n",
       "std         9.116841\n",
       "min        20.000000\n",
       "25%        32.000000\n",
       "50%        38.000000\n",
       "75%        46.000000\n",
       "max        63.000000\n",
       "Name: age, dtype: float64"
      ]
     },
     "execution_count": 125,
     "metadata": {},
     "output_type": "execute_result"
    }
   ],
   "source": [
    "## AGE\n",
    "negative_bal[\"age\"].describe()"
   ]
  },
  {
   "cell_type": "code",
   "execution_count": 126,
   "metadata": {},
   "outputs": [
    {
     "data": {
      "image/png": "[encoded data removed]",
      "text/plain": [
       "<Figure size 1080x936 with 2 Axes>"
      ]
     },
     "metadata": {},
     "output_type": "display_data"
    }
   ],
   "source": [
    "%autoreload 2\n",
    "custom_functions.create_histogram_plus_boxplot(negative_bal[\"age\"], \"Age\", color = \"royalblue\", ylabel = \"Frequency\", \n",
    "                                               xlabel = \"Age in years\" , size = (15,13))"
   ]
  },
  {
   "cell_type": "markdown",
   "metadata": {},
   "source": [
    "Most of the account holders with the negative balance are aged between 32 and 46\\[Working adults\\]. "
   ]
  },
  {
   "cell_type": "code",
   "execution_count": 127,
   "metadata": {},
   "outputs": [
    {
     "data": {
      "text/plain": [
       "blue-collar      29.199475\n",
       "technician       17.650919\n",
       "management       15.190289\n",
       "admin.           13.221785\n",
       "services         12.762467\n",
       "retired           3.379265\n",
       "entrepreneur      2.887139\n",
       "self-employed     2.230971\n",
       "unemployed        1.870079\n",
       "housemaid         1.148294\n",
       "student           0.328084\n",
       "unknown           0.131234\n",
       "Name: job, dtype: float64"
      ]
     },
     "execution_count": 127,
     "metadata": {},
     "output_type": "execute_result"
    }
   ],
   "source": [
    "negative_bal[\"job\"].value_counts()/len(negative_bal) * 100"
   ]
  },
  {
   "cell_type": "markdown",
   "metadata": {},
   "source": [
    "As we can see that most of the account holders(more than 25%) have blue collar job, which explains the negative balance as these people work at the bottom of the chain and enagaged with manual labor work. "
   ]
  },
  {
   "cell_type": "code",
   "execution_count": 128,
   "metadata": {},
   "outputs": [
    {
     "data": {
      "text/plain": [
       "secondary    61.417323\n",
       "tertiary     19.094488\n",
       "primary      16.437008\n",
       "unknown       3.051181\n",
       "Name: education, dtype: float64"
      ]
     },
     "execution_count": 128,
     "metadata": {},
     "output_type": "execute_result"
    }
   ],
   "source": [
    "negative_bal[\"education\"].value_counts()/len(negative_bal) * 100"
   ]
  },
  {
   "cell_type": "markdown",
   "metadata": {},
   "source": [
    "compare to people with account having high balance, most of these account holders have fininshed secondary education(high school), which also explain the fact that they are engaged in the manual labour work and not high end job like management."
   ]
  },
  {
   "cell_type": "code",
   "execution_count": 129,
   "metadata": {},
   "outputs": [
    {
     "name": "stdout",
     "output_type": "stream",
     "text": [
      "Neg balance Housing Loan : \n",
      "\n",
      "yes    72.670604\n",
      "no     27.329396\n",
      "Name: housing, dtype: float64\n"
     ]
    }
   ],
   "source": [
    "print(\"Neg balance Housing Loan : \\n\")\n",
    "print(negative_bal[\"housing\"].value_counts()/len(negative_bal) * 100)"
   ]
  },
  {
   "cell_type": "markdown",
   "metadata": {},
   "source": [
    "By looking at the data, as we can see that most of the people with negative balance have housing loan."
   ]
  },
  {
   "cell_type": "markdown",
   "metadata": {},
   "source": [
    "### housing"
   ]
  },
  {
   "cell_type": "code",
   "execution_count": 130,
   "metadata": {},
   "outputs": [
    {
     "data": {
      "text/plain": [
       "yes    20086\n",
       "no     16082\n",
       "Name: housing, dtype: int64"
      ]
     },
     "execution_count": 130,
     "metadata": {},
     "output_type": "execute_result"
    }
   ],
   "source": [
    "# Frequency\n",
    "housing_count_series = train_df[\"housing\"].value_counts()\n",
    "housing_count_series"
   ]
  },
  {
   "cell_type": "code",
   "execution_count": 131,
   "metadata": {},
   "outputs": [
    {
     "data": {
      "text/plain": [
       "yes    55.53528\n",
       "no     44.46472\n",
       "Name: housing, dtype: float64"
      ]
     },
     "execution_count": 131,
     "metadata": {},
     "output_type": "execute_result"
    }
   ],
   "source": [
    "# Percentage\n",
    "housing_count_series/train_df.shape[0] * 100"
   ]
  },
  {
   "cell_type": "code",
   "execution_count": 132,
   "metadata": {},
   "outputs": [
    {
     "data": {
      "image/png": "[encoded data removed]",
      "text/plain": [
       "<Figure size 1080x504 with 1 Axes>"
      ]
     },
     "metadata": {},
     "output_type": "display_data"
    }
   ],
   "source": [
    "# Donut Chart\n",
    "plt.pie(housing_count_series, colors = [\"tomato\", \"royalblue\"], labels = [\"Yes\", \"No\"], \n",
    "        autopct = '%1.1f%%', startangle = 90, pctdistance = 0.80, textprops = {\"fontsize\" : 18})\n",
    "plt.gca().add_artist(plt.Circle((0, 0), 0.60, fc = 'white'));\n",
    "plt.title(\"Has housing loan?\")\n",
    "plt.show()"
   ]
  },
  {
   "cell_type": "markdown",
   "metadata": {},
   "source": [
    "Majority of the customers have a housing loan."
   ]
  },
  {
   "cell_type": "markdown",
   "metadata": {},
   "source": [
    "### loan"
   ]
  },
  {
   "cell_type": "code",
   "execution_count": 133,
   "metadata": {},
   "outputs": [
    {
     "data": {
      "text/plain": [
       "no     30384\n",
       "yes     5784\n",
       "Name: loan, dtype: int64"
      ]
     },
     "execution_count": 133,
     "metadata": {},
     "output_type": "execute_result"
    }
   ],
   "source": [
    "# Frequency\n",
    "loan_count_series = train_df[\"loan\"].value_counts()\n",
    "loan_count_series"
   ]
  },
  {
   "cell_type": "code",
   "execution_count": 134,
   "metadata": {},
   "outputs": [
    {
     "data": {
      "text/plain": [
       "no     84.007963\n",
       "yes    15.992037\n",
       "Name: loan, dtype: float64"
      ]
     },
     "execution_count": 134,
     "metadata": {},
     "output_type": "execute_result"
    }
   ],
   "source": [
    "# Percentage\n",
    "loan_count_series/train_df.shape[0] * 100"
   ]
  },
  {
   "cell_type": "code",
   "execution_count": 135,
   "metadata": {},
   "outputs": [
    {
     "data": {
      "image/png": "[encoded data removed]",
      "text/plain": [
       "<Figure size 1080x504 with 1 Axes>"
      ]
     },
     "metadata": {},
     "output_type": "display_data"
    }
   ],
   "source": [
    "# Donut Chart\n",
    "plt.pie(loan_count_series, colors = [\"royalblue\", \"tomato\"], labels = [\"No\", \"Yes\"], \n",
    "        autopct = '%1.1f%%', startangle = 90, pctdistance = 0.80, textprops = {\"fontsize\" : 18})\n",
    "plt.gca().add_artist(plt.Circle((0, 0), 0.60, fc = 'white'));\n",
    "plt.title(\"Has Personal loan?\")\n",
    "plt.show()"
   ]
  },
  {
   "cell_type": "markdown",
   "metadata": {},
   "source": [
    "Majority of the account holders does not have a personal loan."
   ]
  },
  {
   "cell_type": "markdown",
   "metadata": {},
   "source": [
    "### contact"
   ]
  },
  {
   "cell_type": "code",
   "execution_count": 136,
   "metadata": {},
   "outputs": [
    {
     "data": {
      "text/plain": [
       "cellular     23432\n",
       "unknown      10405\n",
       "telephone     2331\n",
       "Name: contact, dtype: int64"
      ]
     },
     "execution_count": 136,
     "metadata": {},
     "output_type": "execute_result"
    }
   ],
   "source": [
    "# Frequency\n",
    "contact_count_series = train_df[\"contact\"].value_counts()\n",
    "contact_count_series"
   ]
  },
  {
   "cell_type": "code",
   "execution_count": 137,
   "metadata": {},
   "outputs": [
    {
     "data": {
      "text/plain": [
       "cellular     64.786552\n",
       "unknown      28.768525\n",
       "telephone     6.444924\n",
       "Name: contact, dtype: float64"
      ]
     },
     "execution_count": 137,
     "metadata": {},
     "output_type": "execute_result"
    }
   ],
   "source": [
    "# Percentage\n",
    "contact_count_series/train_df.shape[0] * 100"
   ]
  },
  {
   "cell_type": "code",
   "execution_count": 138,
   "metadata": {},
   "outputs": [
    {
     "data": {
      "image/png": "[encoded data removed]",
      "text/plain": [
       "<Figure size 864x720 with 1 Axes>"
      ]
     },
     "metadata": {},
     "output_type": "display_data"
    }
   ],
   "source": [
    "# Barplot\n",
    "%autoreload 2\n",
    "custom_functions.barplot(contact_count_series, \"Communication Medium\", \"Counts\", \"Type of contact\", \n",
    "                         color = (\"orange\", \"mediumseagreen\", \"skyblue\"), labels = contact_count_series.index)"
   ]
  },
  {
   "cell_type": "markdown",
   "metadata": {},
   "source": [
    "Most of the customers were contacted on their cellular regarding the term deposit which makes sense as time when data was collected mobile phones were more prominient and everyone had one with them. "
   ]
  },
  {
   "cell_type": "code",
   "execution_count": 139,
   "metadata": {},
   "outputs": [
    {
     "name": "stdout",
     "output_type": "stream",
     "text": [
      "Median age of the customers who were contacted using cellular : 38.0\n"
     ]
    }
   ],
   "source": [
    "print(\"Median age of the customers who were contacted using cellular :\", \n",
    "      train_df[train_df[\"contact\"] == \"cellular\"][\"age\"].median())"
   ]
  },
  {
   "cell_type": "code",
   "execution_count": 140,
   "metadata": {},
   "outputs": [
    {
     "name": "stdout",
     "output_type": "stream",
     "text": [
      "Median age of the customers who were contacted using telephone : 47.0\n"
     ]
    }
   ],
   "source": [
    "print(\"Median age of the customers who were contacted using telephone :\", \n",
    "      train_df[train_df[\"contact\"] == \"telephone\"][\"age\"].median())"
   ]
  },
  {
   "cell_type": "markdown",
   "metadata": {},
   "source": [
    "The above calculation and graphs reflect that cellular was more popular among the younger people compared to people using telephone. \\[Old People generally use telephones\\]"
   ]
  },
  {
   "cell_type": "markdown",
   "metadata": {},
   "source": [
    "### day"
   ]
  },
  {
   "cell_type": "code",
   "execution_count": 141,
   "metadata": {},
   "outputs": [
    {
     "data": {
      "text/plain": [
       "20    2215\n",
       "18    1822\n",
       "21    1631\n",
       "17    1541\n",
       "5     1525\n",
       "6     1522\n",
       "8     1469\n",
       "14    1462\n",
       "28    1441\n",
       "7     1434\n",
       "19    1398\n",
       "29    1392\n",
       "15    1385\n",
       "12    1315\n",
       "9     1281\n",
       "30    1274\n",
       "13    1269\n",
       "11    1199\n",
       "4     1150\n",
       "16    1123\n",
       "2     1044\n",
       "27     875\n",
       "3      839\n",
       "26     830\n",
       "23     769\n",
       "22     736\n",
       "25     665\n",
       "31     513\n",
       "10     411\n",
       "24     371\n",
       "1      267\n",
       "Name: day, dtype: int64"
      ]
     },
     "execution_count": 141,
     "metadata": {},
     "output_type": "execute_result"
    }
   ],
   "source": [
    "# Frequency\n",
    "day_count_series = train_df[\"day\"].value_counts()\n",
    "day_count_series"
   ]
  },
  {
   "cell_type": "code",
   "execution_count": 142,
   "metadata": {},
   "outputs": [
    {
     "data": {
      "image/png": "[encoded data removed]",
      "text/plain": [
       "<Figure size 864x720 with 1 Axes>"
      ]
     },
     "metadata": {},
     "output_type": "display_data"
    }
   ],
   "source": [
    "# Barplot\n",
    "%autoreload 2\n",
    "custom_functions.barplot(day_count_series, \"Day of the month\", \"Counts\", \"Last Contact Day of the month\", \n",
    "                         color = (\"orange\", \"mediumseagreen\", \"skyblue\",) * 10, labels = day_count_series.index)"
   ]
  },
  {
   "cell_type": "markdown",
   "metadata": {},
   "source": [
    "Contacts regarding the term deposits were generally made in the middle of the months The Least mean amount of the calls were made in the last week of the months."
   ]
  },
  {
   "cell_type": "markdown",
   "metadata": {},
   "source": [
    "### month"
   ]
  },
  {
   "cell_type": "code",
   "execution_count": 143,
   "metadata": {},
   "outputs": [
    {
     "name": "stdout",
     "output_type": "stream",
     "text": [
      "may    10996\n",
      "jul     5537\n",
      "aug     5038\n",
      "jun     4262\n",
      "nov     3167\n",
      "apr     2347\n",
      "feb     2140\n",
      "jan     1116\n",
      "oct      570\n",
      "sep      463\n",
      "mar      371\n",
      "dec      161\n",
      "Name: month, dtype: int64\n"
     ]
    }
   ],
   "source": [
    "# Frequency\n",
    "month_count_series = train_df[\"month\"].value_counts()\n",
    "print(month_count_series)\n",
    "month_count_series = month_count_series[['jan', 'feb', 'mar', 'apr', 'may', 'jun', 'jul', 'aug', 'sep', 'oct','nov', 'dec']]"
   ]
  },
  {
   "cell_type": "code",
   "execution_count": 144,
   "metadata": {},
   "outputs": [
    {
     "data": {
      "image/png": "[encoded data removed]",
      "text/plain": [
       "<Figure size 864x720 with 1 Axes>"
      ]
     },
     "metadata": {},
     "output_type": "display_data"
    }
   ],
   "source": [
    "# Barplot\n",
    "%autoreload 2\n",
    "custom_functions.barplot(month_count_series, \"Last Contact day of the month\", \"Counts\", \"Day of the month\", \n",
    "                         color = (\"tomato\", \"seagreen\", \"royalblue\",) * 10, labels = month_count_series.index)"
   ]
  },
  {
   "cell_type": "markdown",
   "metadata": {},
   "source": [
    "Most of the contacts were made in the month may. Majority of the contacts were made in the middle of the year. December has the least number of the contacts that can be explained by the festive season(employees not working/customers don't have time to talk to the bank employees/last month of the fiscal year)"
   ]
  },
  {
   "cell_type": "markdown",
   "metadata": {},
   "source": [
    "### duration"
   ]
  },
  {
   "cell_type": "code",
   "execution_count": 145,
   "metadata": {},
   "outputs": [
    {
     "data": {
      "text/plain": [
       "count    36168.000000\n",
       "mean       259.257797\n",
       "std        257.863214\n",
       "min          0.000000\n",
       "25%        103.000000\n",
       "50%        181.000000\n",
       "75%        320.000000\n",
       "max       4918.000000\n",
       "Name: duration, dtype: float64"
      ]
     },
     "execution_count": 145,
     "metadata": {},
     "output_type": "execute_result"
    }
   ],
   "source": [
    "train_df[\"duration\"].describe()"
   ]
  },
  {
   "cell_type": "code",
   "execution_count": 146,
   "metadata": {},
   "outputs": [
    {
     "data": {
      "image/png": "[encoded data removed]",
      "text/plain": [
       "<Figure size 1080x936 with 2 Axes>"
      ]
     },
     "metadata": {},
     "output_type": "display_data"
    }
   ],
   "source": [
    "%autoreload 2\n",
    "custom_functions.create_histogram_plus_boxplot(train_df[\"duration\"], \"Call Duration in seconds\", color = \"orange\", \n",
    "                                               ylabel = \"Frequency\", xlabel = \"Call Duration\" , size = (15, 13))"
   ]
  },
  {
   "cell_type": "markdown",
   "metadata": {},
   "source": [
    "Most common duration for the call is 3 minutes(180 seconds). There are many outliers out of which duration > 2500 seconds are extreme ones. Maximum duration for the call is 63 minutes(3785 seconds) which is quite long."
   ]
  },
  {
   "cell_type": "markdown",
   "metadata": {},
   "source": [
    "### campaign"
   ]
  },
  {
   "cell_type": "code",
   "execution_count": 147,
   "metadata": {},
   "outputs": [
    {
     "data": {
      "text/plain": [
       "count    36168.000000\n",
       "mean         2.764433\n",
       "std          3.100339\n",
       "min          1.000000\n",
       "25%          1.000000\n",
       "50%          2.000000\n",
       "75%          3.000000\n",
       "max         63.000000\n",
       "Name: campaign, dtype: float64"
      ]
     },
     "execution_count": 147,
     "metadata": {},
     "output_type": "execute_result"
    }
   ],
   "source": [
    "train_df[\"campaign\"].describe()"
   ]
  },
  {
   "cell_type": "code",
   "execution_count": 148,
   "metadata": {},
   "outputs": [
    {
     "data": {
      "image/png": "[encoded data removed]",
      "text/plain": [
       "<Figure size 1080x936 with 2 Axes>"
      ]
     },
     "metadata": {},
     "output_type": "display_data"
    }
   ],
   "source": [
    "%autoreload 2\n",
    "custom_functions.create_histogram_plus_boxplot(train_df[\"campaign\"], \"No of contacts for the campaign\", color = \"magenta\", \n",
    "                                               ylabel = \"Frequency\", xlabel = \"No of contacts\" , size = (15, 13))"
   ]
  },
  {
   "cell_type": "markdown",
   "metadata": {},
   "source": [
    "On average account holders were contacted 2 times. There aremany outliers out of which no of the times contacts are greater 40 are extreme. The highest no of contact is 63 which is quite large and unusual."
   ]
  },
  {
   "cell_type": "markdown",
   "metadata": {},
   "source": [
    "### pdays"
   ]
  },
  {
   "cell_type": "code",
   "execution_count": 149,
   "metadata": {},
   "outputs": [
    {
     "name": "stdout",
     "output_type": "stream",
     "text": [
      "Previously Contacted : 6600\n",
      "Previously Not Contacted : 29568\n"
     ]
    }
   ],
   "source": [
    "not_contacted_count = train_df[train_df[\"pdays\"] == -1].shape[0]\n",
    "contacted_count = train_df.shape[0] - not_contacted_count\n",
    "\n",
    "contacted = train_df[train_df[\"pdays\"] != -1]\n",
    "\n",
    "print(\"Previously Contacted :\", contacted_count)\n",
    "print(\"Previously Not Contacted :\", not_contacted_count)"
   ]
  },
  {
   "cell_type": "code",
   "execution_count": 150,
   "metadata": {},
   "outputs": [
    {
     "data": {
      "text/plain": [
       "count    6600.000000\n",
       "mean      224.475303\n",
       "std       114.598507\n",
       "min         1.000000\n",
       "25%       133.000000\n",
       "50%       195.000000\n",
       "75%       326.000000\n",
       "max       871.000000\n",
       "Name: pdays, dtype: float64"
      ]
     },
     "execution_count": 150,
     "metadata": {},
     "output_type": "execute_result"
    }
   ],
   "source": [
    "contacted[\"pdays\"].describe()"
   ]
  },
  {
   "cell_type": "code",
   "execution_count": 151,
   "metadata": {},
   "outputs": [
    {
     "data": {
      "image/png": "[encoded data removed]",
      "text/plain": [
       "<Figure size 1080x936 with 2 Axes>"
      ]
     },
     "metadata": {},
     "output_type": "display_data"
    }
   ],
   "source": [
    "%autoreload 2\n",
    "custom_functions.create_histogram_plus_boxplot(contacted[\"pdays\"], \"Pdays\", color = \"purple\", \n",
    "                                               ylabel = \"Frequency\", xlabel = \"Days\" , size = (15, 13))"
   ]
  },
  {
   "cell_type": "markdown",
   "metadata": {},
   "source": [
    "Average number of days that passed by after the client was last contacted from a previous campaign is 225 days. There are few outliers but none of them are too extreme."
   ]
  },
  {
   "cell_type": "markdown",
   "metadata": {},
   "source": [
    "### previous"
   ]
  },
  {
   "cell_type": "code",
   "execution_count": 152,
   "metadata": {},
   "outputs": [
    {
     "data": {
      "text/plain": [
       "count    36168.000000\n",
       "mean         0.583803\n",
       "std          2.401659\n",
       "min          0.000000\n",
       "25%          0.000000\n",
       "50%          0.000000\n",
       "75%          0.000000\n",
       "max        275.000000\n",
       "Name: previous, dtype: float64"
      ]
     },
     "execution_count": 152,
     "metadata": {},
     "output_type": "execute_result"
    }
   ],
   "source": [
    "train_df[\"previous\"].describe()"
   ]
  },
  {
   "cell_type": "code",
   "execution_count": 153,
   "metadata": {},
   "outputs": [
    {
     "data": {
      "image/png": "[encoded data removed]",
      "text/plain": [
       "<Figure size 1080x936 with 2 Axes>"
      ]
     },
     "metadata": {},
     "output_type": "display_data"
    }
   ],
   "source": [
    "%autoreload 2\n",
    "custom_functions.create_histogram_plus_boxplot(train_df[\"previous\"], \"No of contacts before this campaign\", color = \"gold\", \n",
    "                                               ylabel = \"Frequency\", xlabel = \"No of contacts\" , size = (15, 13))"
   ]
  },
  {
   "cell_type": "markdown",
   "metadata": {},
   "source": [
    "There is one extreme outlier where number of contacts performed before this campaign is 275. I will remove this observation from the data."
   ]
  },
  {
   "cell_type": "code",
   "execution_count": 154,
   "metadata": {},
   "outputs": [],
   "source": [
    "train_df = train_df[train_df[\"previous\"] < 275]"
   ]
  },
  {
   "cell_type": "code",
   "execution_count": 155,
   "metadata": {},
   "outputs": [
    {
     "data": {
      "image/png": "[encoded data removed]",
      "text/plain": [
       "<Figure size 1080x936 with 2 Axes>"
      ]
     },
     "metadata": {},
     "output_type": "display_data"
    }
   ],
   "source": [
    "%autoreload 2\n",
    "custom_functions.create_histogram_plus_boxplot(train_df[\"previous\"], \"No of contacts before this campaign\", color = \"gold\", \n",
    "                                               ylabel = \"Frequency\", xlabel = \"No of contacts\" , size = (15, 13))"
   ]
  },
  {
   "cell_type": "code",
   "execution_count": 156,
   "metadata": {},
   "outputs": [
    {
     "name": "stdout",
     "output_type": "stream",
     "text": [
      "Previously Contacted : 6599\n",
      "Previously Not Contacted : 29568\n"
     ]
    }
   ],
   "source": [
    "not_contacted_count = train_df[train_df[\"previous\"] == 0].shape[0]\n",
    "contacted_count = train_df.shape[0] - not_contacted_count\n",
    "\n",
    "contacted = train_df[train_df[\"previous\"] != 0]\n",
    "\n",
    "print(\"Previously Contacted :\", contacted_count)\n",
    "print(\"Previously Not Contacted :\", not_contacted_count)"
   ]
  },
  {
   "cell_type": "code",
   "execution_count": 157,
   "metadata": {},
   "outputs": [
    {
     "data": {
      "text/plain": [
       "count    6599.000000\n",
       "mean        3.158054\n",
       "std         3.471142\n",
       "min         1.000000\n",
       "25%         1.000000\n",
       "50%         2.000000\n",
       "75%         4.000000\n",
       "max        58.000000\n",
       "Name: previous, dtype: float64"
      ]
     },
     "execution_count": 157,
     "metadata": {},
     "output_type": "execute_result"
    }
   ],
   "source": [
    "contacted[\"previous\"].describe()"
   ]
  },
  {
   "cell_type": "code",
   "execution_count": 158,
   "metadata": {},
   "outputs": [
    {
     "data": {
      "image/png": "[encoded data removed]",
      "text/plain": [
       "<Figure size 1080x936 with 2 Axes>"
      ]
     },
     "metadata": {},
     "output_type": "display_data"
    }
   ],
   "source": [
    "%autoreload 2\n",
    "custom_functions.create_histogram_plus_boxplot(contacted[\"previous\"], \"Previous\", color = \"black\", \n",
    "                                               ylabel = \"Frequency\", xlabel = \"No of contacts\" , size = (15, 13))"
   ]
  },
  {
   "cell_type": "markdown",
   "metadata": {},
   "source": [
    "Average number of contacts made before this campaign is 3. There are few outliers few extreme ones where no of contact is greater than 50 but due to low in number I will keep them as it is."
   ]
  },
  {
   "cell_type": "markdown",
   "metadata": {},
   "source": [
    "### poutcome"
   ]
  },
  {
   "cell_type": "code",
   "execution_count": 159,
   "metadata": {},
   "outputs": [
    {
     "data": {
      "text/plain": [
       "unknown    29573\n",
       "failure     3923\n",
       "other       1468\n",
       "success     1203\n",
       "Name: poutcome, dtype: int64"
      ]
     },
     "execution_count": 159,
     "metadata": {},
     "output_type": "execute_result"
    }
   ],
   "source": [
    "# Frequency\n",
    "poutcome_count_series = train_df[\"poutcome\"].value_counts()\n",
    "poutcome_count_series"
   ]
  },
  {
   "cell_type": "code",
   "execution_count": 160,
   "metadata": {},
   "outputs": [
    {
     "data": {
      "text/plain": [
       "unknown    81.767910\n",
       "failure    10.846905\n",
       "other       4.058949\n",
       "success     3.326237\n",
       "Name: poutcome, dtype: float64"
      ]
     },
     "execution_count": 160,
     "metadata": {},
     "output_type": "execute_result"
    }
   ],
   "source": [
    "# Percentage\n",
    "poutcome_count_series/train_df.shape[0] * 100"
   ]
  },
  {
   "cell_type": "code",
   "execution_count": 161,
   "metadata": {},
   "outputs": [
    {
     "data": {
      "image/png": "[encoded data removed]",
      "text/plain": [
       "<Figure size 864x720 with 1 Axes>"
      ]
     },
     "metadata": {},
     "output_type": "display_data"
    }
   ],
   "source": [
    "# Barplot\n",
    "%autoreload 2\n",
    "custom_functions.barplot(poutcome_count_series, \"Outcome of the previos campaign\", \"Counts\", \"Outcome\", \n",
    "                         color = (\"orange\", \"mediumseagreen\", \"skyblue\", \"salmon\"), labels = poutcome_count_series.index)"
   ]
  },
  {
   "cell_type": "markdown",
   "metadata": {},
   "source": [
    "If we ignore the the observation where outcome is unknown and other, the success rate for the previous campaign is quite low(half as failure rate)."
   ]
  },
  {
   "cell_type": "markdown",
   "metadata": {},
   "source": [
    "### y"
   ]
  },
  {
   "cell_type": "code",
   "execution_count": 162,
   "metadata": {},
   "outputs": [
    {
     "data": {
      "text/plain": [
       "no     31879\n",
       "yes     4288\n",
       "Name: y, dtype: int64"
      ]
     },
     "execution_count": 162,
     "metadata": {},
     "output_type": "execute_result"
    }
   ],
   "source": [
    "# Frequency\n",
    "y_count_series = train_df[\"y\"].value_counts()\n",
    "y_count_series"
   ]
  },
  {
   "cell_type": "code",
   "execution_count": 163,
   "metadata": {},
   "outputs": [
    {
     "data": {
      "text/plain": [
       "no     88.143888\n",
       "yes    11.856112\n",
       "Name: y, dtype: float64"
      ]
     },
     "execution_count": 163,
     "metadata": {},
     "output_type": "execute_result"
    }
   ],
   "source": [
    "# Percentage\n",
    "y_count_series/train_df.shape[0] * 100"
   ]
  },
  {
   "cell_type": "code",
   "execution_count": 164,
   "metadata": {},
   "outputs": [
    {
     "data": {
      "image/png": "[encoded data removed]",
      "text/plain": [
       "<Figure size 864x720 with 1 Axes>"
      ]
     },
     "metadata": {},
     "output_type": "display_data"
    }
   ],
   "source": [
    "# Barplot\n",
    "%autoreload 2\n",
    "custom_functions.barplot(y_count_series, \"Term deposit describe or not\", \"Counts\", \"Term deposit subscribed?\", \n",
    "                         color = (\"skyblue\", \"salmon\"), labels = y_count_series.index)"
   ]
  },
  {
   "cell_type": "markdown",
   "metadata": {},
   "source": [
    "There are only 12% of the clients subscribed to the terms which can be explained by the poor success rate of previous campaign outcome. As we can see that data is imbalanced in the terms of outcome variable."
   ]
  },
  {
   "cell_type": "markdown",
   "metadata": {},
   "source": [
    "## Data Preprocessing"
   ]
  },
  {
   "cell_type": "code",
   "execution_count": 165,
   "metadata": {},
   "outputs": [
    {
     "name": "stdout",
     "output_type": "stream",
     "text": [
      "X_train shape:  (36167, 41)\n",
      "y_train shape:  (36167,)\n",
      "X_valid shape:  (4521, 41)\n",
      "y_valid shape:  (4521,)\n",
      "X_test shape:  (4522, 41)\n",
      "y_test shape:  (4522,)\n"
     ]
    }
   ],
   "source": [
    "new_train = process_data(train_df)\n",
    "new_valid = process_data(validate_df)\n",
    "new_test = process_data(test_df)\n",
    "\n",
    "# Training data\n",
    "X_train = new_train.iloc[:,:-1]\n",
    "y_train = new_train.iloc[:, -1]\n",
    "\n",
    "# Validation data\n",
    "X_valid = new_valid.iloc[:,:-1]\n",
    "y_valid = new_valid.iloc[:, -1]\n",
    "\n",
    "# Test data\n",
    "X_test = new_test.iloc[:,:-1]\n",
    "y_test = new_test.iloc[:, -1]\n",
    "\n",
    "\n",
    "print(\"X_train shape: \", X_train.shape)\n",
    "print(\"y_train shape: \", y_train.shape)\n",
    "print(\"X_valid shape: \", X_valid.shape)\n",
    "print(\"y_valid shape: \", y_valid.shape)\n",
    "print(\"X_test shape: \", X_test.shape)\n",
    "print(\"y_test shape: \", y_test.shape)"
   ]
  },
  {
   "cell_type": "markdown",
   "metadata": {},
   "source": [
    "### Scaling"
   ]
  },
  {
   "cell_type": "code",
   "execution_count": 172,
   "metadata": {},
   "outputs": [
    {
     "data": {
      "text/html": [
       "<div>\n",
       "<style scoped>\n",
       "    .dataframe tbody tr th:only-of-type {\n",
       "        vertical-align: middle;\n",
       "    }\n",
       "\n",
       "    .dataframe tbody tr th {\n",
       "        vertical-align: top;\n",
       "    }\n",
       "\n",
       "    .dataframe thead th {\n",
       "        text-align: right;\n",
       "    }\n",
       "</style>\n",
       "<table border=\"1\" class=\"dataframe\">\n",
       "  <thead>\n",
       "    <tr style=\"text-align: right;\">\n",
       "      <th></th>\n",
       "      <th>age</th>\n",
       "      <th>balance</th>\n",
       "      <th>day</th>\n",
       "      <th>duration</th>\n",
       "      <th>campaign</th>\n",
       "      <th>pdays</th>\n",
       "      <th>job_blue-collar</th>\n",
       "      <th>job_entrepreneur</th>\n",
       "      <th>job_housemaid</th>\n",
       "      <th>job_management</th>\n",
       "      <th>...</th>\n",
       "      <th>month_oct</th>\n",
       "      <th>month_sep</th>\n",
       "      <th>poutcome_other</th>\n",
       "      <th>poutcome_success</th>\n",
       "      <th>poutcome_unknown</th>\n",
       "      <th>contact_telephone</th>\n",
       "      <th>contact_unknown</th>\n",
       "      <th>default_code</th>\n",
       "      <th>loan_code</th>\n",
       "      <th>housing_code</th>\n",
       "    </tr>\n",
       "  </thead>\n",
       "  <tbody>\n",
       "    <tr>\n",
       "      <th>0</th>\n",
       "      <td>43</td>\n",
       "      <td>14144</td>\n",
       "      <td>21</td>\n",
       "      <td>504</td>\n",
       "      <td>1</td>\n",
       "      <td>-1</td>\n",
       "      <td>0</td>\n",
       "      <td>0</td>\n",
       "      <td>0</td>\n",
       "      <td>0</td>\n",
       "      <td>...</td>\n",
       "      <td>0</td>\n",
       "      <td>0</td>\n",
       "      <td>0</td>\n",
       "      <td>0</td>\n",
       "      <td>1</td>\n",
       "      <td>0</td>\n",
       "      <td>0</td>\n",
       "      <td>0</td>\n",
       "      <td>0</td>\n",
       "      <td>1</td>\n",
       "    </tr>\n",
       "    <tr>\n",
       "      <th>1</th>\n",
       "      <td>36</td>\n",
       "      <td>1604</td>\n",
       "      <td>11</td>\n",
       "      <td>47</td>\n",
       "      <td>3</td>\n",
       "      <td>-1</td>\n",
       "      <td>0</td>\n",
       "      <td>0</td>\n",
       "      <td>0</td>\n",
       "      <td>1</td>\n",
       "      <td>...</td>\n",
       "      <td>0</td>\n",
       "      <td>0</td>\n",
       "      <td>0</td>\n",
       "      <td>0</td>\n",
       "      <td>1</td>\n",
       "      <td>0</td>\n",
       "      <td>1</td>\n",
       "      <td>0</td>\n",
       "      <td>0</td>\n",
       "      <td>1</td>\n",
       "    </tr>\n",
       "    <tr>\n",
       "      <th>2</th>\n",
       "      <td>48</td>\n",
       "      <td>505</td>\n",
       "      <td>7</td>\n",
       "      <td>113</td>\n",
       "      <td>2</td>\n",
       "      <td>-1</td>\n",
       "      <td>0</td>\n",
       "      <td>0</td>\n",
       "      <td>0</td>\n",
       "      <td>0</td>\n",
       "      <td>...</td>\n",
       "      <td>0</td>\n",
       "      <td>0</td>\n",
       "      <td>0</td>\n",
       "      <td>0</td>\n",
       "      <td>1</td>\n",
       "      <td>0</td>\n",
       "      <td>0</td>\n",
       "      <td>0</td>\n",
       "      <td>0</td>\n",
       "      <td>1</td>\n",
       "    </tr>\n",
       "    <tr>\n",
       "      <th>3</th>\n",
       "      <td>45</td>\n",
       "      <td>1780</td>\n",
       "      <td>9</td>\n",
       "      <td>464</td>\n",
       "      <td>1</td>\n",
       "      <td>-1</td>\n",
       "      <td>0</td>\n",
       "      <td>0</td>\n",
       "      <td>0</td>\n",
       "      <td>0</td>\n",
       "      <td>...</td>\n",
       "      <td>0</td>\n",
       "      <td>0</td>\n",
       "      <td>0</td>\n",
       "      <td>0</td>\n",
       "      <td>1</td>\n",
       "      <td>0</td>\n",
       "      <td>1</td>\n",
       "      <td>0</td>\n",
       "      <td>0</td>\n",
       "      <td>0</td>\n",
       "    </tr>\n",
       "    <tr>\n",
       "      <th>4</th>\n",
       "      <td>34</td>\n",
       "      <td>0</td>\n",
       "      <td>11</td>\n",
       "      <td>331</td>\n",
       "      <td>2</td>\n",
       "      <td>-1</td>\n",
       "      <td>0</td>\n",
       "      <td>0</td>\n",
       "      <td>0</td>\n",
       "      <td>1</td>\n",
       "      <td>...</td>\n",
       "      <td>0</td>\n",
       "      <td>0</td>\n",
       "      <td>0</td>\n",
       "      <td>0</td>\n",
       "      <td>1</td>\n",
       "      <td>0</td>\n",
       "      <td>0</td>\n",
       "      <td>0</td>\n",
       "      <td>0</td>\n",
       "      <td>0</td>\n",
       "    </tr>\n",
       "  </tbody>\n",
       "</table>\n",
       "<p>5 rows × 41 columns</p>\n",
       "</div>"
      ],
      "text/plain": [
       "   age  balance  day  duration  campaign  pdays  job_blue-collar  \\\n",
       "0   43    14144   21       504         1     -1                0   \n",
       "1   36     1604   11        47         3     -1                0   \n",
       "2   48      505    7       113         2     -1                0   \n",
       "3   45     1780    9       464         1     -1                0   \n",
       "4   34        0   11       331         2     -1                0   \n",
       "\n",
       "   job_entrepreneur  job_housemaid  job_management  ...  month_oct  month_sep  \\\n",
       "0                 0              0               0  ...          0          0   \n",
       "1                 0              0               1  ...          0          0   \n",
       "2                 0              0               0  ...          0          0   \n",
       "3                 0              0               0  ...          0          0   \n",
       "4                 0              0               1  ...          0          0   \n",
       "\n",
       "   poutcome_other  poutcome_success  poutcome_unknown  contact_telephone  \\\n",
       "0               0                 0                 1                  0   \n",
       "1               0                 0                 1                  0   \n",
       "2               0                 0                 1                  0   \n",
       "3               0                 0                 1                  0   \n",
       "4               0                 0                 1                  0   \n",
       "\n",
       "   contact_unknown  default_code  loan_code  housing_code  \n",
       "0                0             0          0             1  \n",
       "1                1             0          0             1  \n",
       "2                0             0          0             1  \n",
       "3                1             0          0             0  \n",
       "4                0             0          0             0  \n",
       "\n",
       "[5 rows x 41 columns]"
      ]
     },
     "execution_count": 172,
     "metadata": {},
     "output_type": "execute_result"
    }
   ],
   "source": [
    "X_train.head()"
   ]
  },
  {
   "cell_type": "markdown",
   "metadata": {},
   "source": [
    "As we can see that all features are on different scale(footing), it is better to scale them so that variance of these features dont affect the models."
   ]
  },
  {
   "cell_type": "code",
   "execution_count": 173,
   "metadata": {},
   "outputs": [],
   "source": [
    "# Scaling the data\n",
    "X_train.loc[:, [\"age\", \"balance\", \"day\", \"duration\", \"campaign\", \"pdays\"]] = preprocessing.scale(X_train.loc[:, [\"age\", \"balance\", \"day\", \"duration\", \"campaign\", \"pdays\"]])\n",
    "X_valid.loc[:, [\"age\", \"balance\", \"day\", \"duration\", \"campaign\", \"pdays\"]] = preprocessing.scale(X_valid.loc[:, [\"age\", \"balance\", \"day\", \"duration\", \"campaign\", \"pdays\"]])\n",
    "X_test.loc[:, [\"age\", \"balance\", \"day\", \"duration\", \"campaign\", \"pdays\"]] = preprocessing.scale(X_test.loc[:, [\"age\", \"balance\", \"day\", \"duration\", \"campaign\", \"pdays\"]])"
   ]
  },
  {
   "cell_type": "markdown",
   "metadata": {},
   "source": [
    "### SMOTE Over Sampling"
   ]
  },
  {
   "cell_type": "markdown",
   "metadata": {},
   "source": [
    "#### Problem"
   ]
  },
  {
   "cell_type": "code",
   "execution_count": 174,
   "metadata": {},
   "outputs": [
    {
     "data": {
      "text/plain": [
       "0    31879\n",
       "1     4288\n",
       "Name: y_code, dtype: int64"
      ]
     },
     "execution_count": 174,
     "metadata": {},
     "output_type": "execute_result"
    }
   ],
   "source": [
    "new_train[\"y_code\"].value_counts()"
   ]
  },
  {
   "cell_type": "markdown",
   "metadata": {},
   "source": [
    "As we can see that the data is imbalanced. The number of observations with y value 1 is way less compared to number of observation with y value 0. Such unbalanced dataset can cause models to learn well about frequently appearing y values but when it comes to less frequent category model is unable to learn. Consider following example."
   ]
  },
  {
   "cell_type": "code",
   "execution_count": 175,
   "metadata": {},
   "outputs": [],
   "source": [
    "# Let's run simple logistic regression for our imbalanced data set\n",
    "# Init the model\n",
    "log_model = LogisticRegression(random_state=79)\n",
    "\n",
    "# Fitting the model\n",
    "log_model.fit(X_train, y_train);"
   ]
  },
  {
   "cell_type": "code",
   "execution_count": 176,
   "metadata": {},
   "outputs": [
    {
     "name": "stdout",
     "output_type": "stream",
     "text": [
      "Overall Accuracy of the model :  0.9006856890068569\n"
     ]
    }
   ],
   "source": [
    "# Prediction labels for validation data\n",
    "y_valid_pred = log_model.predict(X_valid)\n",
    "\n",
    "# Checking the performance of the model\n",
    "print(\"Overall Accuracy of the model : \", accuracy_score(y_valid, y_valid_pred))"
   ]
  },
  {
   "cell_type": "markdown",
   "metadata": {},
   "source": [
    "As we can see that overall accuract is 90% which is good but let's look at class wise accuracy and see how well model did."
   ]
  },
  {
   "cell_type": "code",
   "execution_count": 177,
   "metadata": {},
   "outputs": [
    {
     "name": "stdout",
     "output_type": "stream",
     "text": [
      "Class 0 Accuracy :  0.9712301587301587\n",
      "Class 1 Accuracy :  0.31901840490797545\n"
     ]
    }
   ],
   "source": [
    "# Confusion matrix\n",
    "cm = confusion_matrix(y_valid, y_valid_pred)\n",
    "\n",
    "# Normalizing the entries in the matrix\n",
    "cm = cm.astype('float') / cm.sum(axis=1)[:, np.newaxis]\n",
    "\n",
    "# Diagonal entries represent the accuracies of each class\n",
    "print(\"Class 0 Accuracy : \", cm.diagonal()[0])\n",
    "print(\"Class 1 Accuracy : \", cm.diagonal()[1])"
   ]
  },
  {
   "cell_type": "markdown",
   "metadata": {},
   "source": [
    "As we can see that model got 98% accuracy for class 0 observations while on the other hand model is poorly performing for class 1 observations. Here our objective is to predict whether client subscribes to a loan or not model need to perform well on both classes especially for class 1 which represent \"no\"."
   ]
  },
  {
   "cell_type": "markdown",
   "metadata": {},
   "source": [
    "#### Solution : Over-Sampling"
   ]
  },
  {
   "cell_type": "code",
   "execution_count": 178,
   "metadata": {
    "scrolled": true
   },
   "outputs": [
    {
     "data": {
      "text/plain": [
       "1    31879\n",
       "0    31879\n",
       "Name: y_code, dtype: int64"
      ]
     },
     "execution_count": 178,
     "metadata": {},
     "output_type": "execute_result"
    }
   ],
   "source": [
    "# Over sampling using SMOTE\n",
    "smt = SMOTE(k_neighbors = 6, random_state = 79)\n",
    "\n",
    "# Getting new data\n",
    "X_train_SMOTE, y_train_SMOTE = smt.fit_sample(X_train, y_train)\n",
    "\n",
    "# Checking proportions of target class categories\n",
    "y_train_SMOTE.value_counts()"
   ]
  },
  {
   "cell_type": "markdown",
   "metadata": {},
   "source": [
    "#### Saving the data"
   ]
  },
  {
   "cell_type": "code",
   "execution_count": 179,
   "metadata": {},
   "outputs": [],
   "source": [
    "# TRAINING DATA\n",
    "X_train_SMOTE.to_csv(\"DATA/X_train_SMOTE.csv\", index = False)\n",
    "y_train_SMOTE.to_csv(\"DATA/y_train_SMOTE.csv\", index = False)\n",
    "\n",
    "# VALIDATION DATA\n",
    "X_valid.to_csv(\"DATA/X_valid.csv\", index = False)\n",
    "y_valid.to_csv(\"DATA/y_valid.csv\", index = False)\n",
    "\n",
    "# TEST DATA\n",
    "X_test.to_csv(\"DATA/X_test.csv\", index = False)\n",
    "y_test.to_csv(\"DATA/y_test.csv\", index = False)"
   ]
  },
  {
   "cell_type": "markdown",
   "metadata": {},
   "source": [
    "#### Loading the data"
   ]
  },
  {
   "cell_type": "code",
   "execution_count": 180,
   "metadata": {},
   "outputs": [],
   "source": [
    "# TRAINING DATA\n",
    "X_train_SMOTE = pd.read_csv(\"DATA/X_train_SMOTE.csv\")\n",
    "y_train_SMOTE = pd.read_csv(\"DATA/y_train_SMOTE.csv\", header = None)\n",
    "\n",
    "# VALIDATION DATA\n",
    "X_valid = pd.read_csv(\"DATA/X_valid.csv\")\n",
    "y_valid = pd.read_csv(\"DATA/y_valid.csv\", header = None)\n",
    "\n",
    "# TEST DATA\n",
    "X_test = pd.read_csv(\"DATA/X_test.csv\")\n",
    "y_test = pd.read_csv(\"DATA/y_test.csv\", header = None)"
   ]
  },
  {
   "cell_type": "code",
   "execution_count": 181,
   "metadata": {},
   "outputs": [
    {
     "name": "stdout",
     "output_type": "stream",
     "text": [
      "X_train shape:  (63758, 41)\n",
      "y_train shape:  (63758, 1)\n",
      "X_valid shape:  (4521, 41)\n",
      "y_valid shape:  (4521, 1)\n",
      "X_test shape:  (4522, 41)\n",
      "y_test shape:  (4522, 1)\n"
     ]
    }
   ],
   "source": [
    "print(\"X_train shape: \", X_train_SMOTE.shape)\n",
    "print(\"y_train shape: \", y_train_SMOTE.shape)\n",
    "print(\"X_valid shape: \", X_valid.shape)\n",
    "print(\"y_valid shape: \", y_valid.shape)\n",
    "print(\"X_test shape: \", X_test.shape)\n",
    "print(\"y_test shape: \", y_test.shape)"
   ]
  },
  {
   "cell_type": "markdown",
   "metadata": {},
   "source": [
    "As we can see that now we have created synthetic samples using SMOTE and also both classes have same observations."
   ]
  },
  {
   "cell_type": "code",
   "execution_count": 182,
   "metadata": {},
   "outputs": [],
   "source": [
    "# Init model\n",
    "log_model = LogisticRegression(random_state = 79)\n",
    "\n",
    "# Fitting the model\n",
    "log_model.fit(X_train_SMOTE, y_train_SMOTE);"
   ]
  },
  {
   "cell_type": "code",
   "execution_count": 183,
   "metadata": {},
   "outputs": [
    {
     "name": "stdout",
     "output_type": "stream",
     "text": [
      "Overall Accuracy of the model :  0.8471577084715771\n"
     ]
    }
   ],
   "source": [
    "y_valid_pred = log_model.predict(X_valid)\n",
    "\n",
    "# Checking the performance of the model\n",
    "print(\"Overall Accuracy of the model : \", accuracy_score(y_valid, y_valid_pred))"
   ]
  },
  {
   "cell_type": "code",
   "execution_count": 184,
   "metadata": {},
   "outputs": [
    {
     "name": "stdout",
     "output_type": "stream",
     "text": [
      "Class 0 Accuracy :  0.8655753968253969\n",
      "Class 1 Accuracy :  0.6952965235173824\n"
     ]
    }
   ],
   "source": [
    "# Confusion matrix\n",
    "cm = confusion_matrix(y_valid, y_valid_pred)\n",
    "\n",
    "# Normalizing the entries in the matrix\n",
    "cm = cm.astype('float') / cm.sum(axis=1)[:, np.newaxis]\n",
    "\n",
    "# Diagonal entries represent the accuracies of each class\n",
    "print(\"Class 0 Accuracy : \", cm.diagonal()[0])\n",
    "print(\"Class 1 Accuracy : \", cm.diagonal()[1])"
   ]
  },
  {
   "cell_type": "markdown",
   "metadata": {},
   "source": [
    "As we can see that we are slighly compromising the overall accuracy and Class 0 Accuracy but on the other hand we can see that Class 1 Accuracy got increased. "
   ]
  },
  {
   "cell_type": "markdown",
   "metadata": {},
   "source": [
    "#### Solution :  Under-Sampling"
   ]
  },
  {
   "cell_type": "markdown",
   "metadata": {},
   "source": [
    "Observe the proportions of the classes in the target data."
   ]
  },
  {
   "cell_type": "code",
   "execution_count": 185,
   "metadata": {},
   "outputs": [
    {
     "data": {
      "text/plain": [
       "0    31879\n",
       "1     4288\n",
       "Name: y_code, dtype: int64"
      ]
     },
     "execution_count": 185,
     "metadata": {},
     "output_type": "execute_result"
    }
   ],
   "source": [
    "y_train.value_counts()"
   ]
  },
  {
   "cell_type": "markdown",
   "metadata": {},
   "source": [
    "#### Applying the Under-Sampling technique Near Miss"
   ]
  },
  {
   "cell_type": "code",
   "execution_count": 186,
   "metadata": {},
   "outputs": [
    {
     "data": {
      "text/plain": [
       "1    4288\n",
       "0    4288\n",
       "Name: y_code, dtype: int64"
      ]
     },
     "execution_count": 186,
     "metadata": {},
     "output_type": "execute_result"
    }
   ],
   "source": [
    "# Init the near miss model\n",
    "nr = NearMiss(n_neighbors = 6)\n",
    "\n",
    "# Getting new data\n",
    "X_train_NM, y_train_NM = nr.fit_sample(X_train, y_train)\n",
    "\n",
    "# Checking the data after near miss\n",
    "y_train_NM.value_counts()"
   ]
  },
  {
   "cell_type": "markdown",
   "metadata": {},
   "source": [
    "As we can see that no we reduced the number of majority classes and both classes have same observations."
   ]
  },
  {
   "cell_type": "code",
   "execution_count": 187,
   "metadata": {},
   "outputs": [],
   "source": [
    "# Init model\n",
    "log_model = LogisticRegression(random_state = 79)\n",
    "\n",
    "# Fitting the model\n",
    "log_model.fit(X_train_NM, y_train_NM);"
   ]
  },
  {
   "cell_type": "code",
   "execution_count": 189,
   "metadata": {},
   "outputs": [
    {
     "name": "stdout",
     "output_type": "stream",
     "text": [
      "Overall Accuracy of the model :  0.6264100862641009\n"
     ]
    }
   ],
   "source": [
    "y_valid_pred = log_model.predict(X_valid)\n",
    "\n",
    "# Checking the performance of the model\n",
    "print(\"Overall Accuracy of the model : \", accuracy_score(y_valid, y_valid_pred))"
   ]
  },
  {
   "cell_type": "code",
   "execution_count": 190,
   "metadata": {},
   "outputs": [
    {
     "name": "stdout",
     "output_type": "stream",
     "text": [
      "Class 0 Accuracy :  0.6059027777777778\n",
      "Class 1 Accuracy :  0.7955010224948875\n"
     ]
    }
   ],
   "source": [
    "# Confusion matrix\n",
    "cm = confusion_matrix(y_valid, y_valid_pred)\n",
    "\n",
    "# Normalizing the entries in the matrix\n",
    "cm = cm.astype('float') / cm.sum(axis=1)[:, np.newaxis]\n",
    "\n",
    "# Diagonal entries represent the accuracies of each class\n",
    "print(\"Class 0 Accuracy : \", cm.diagonal()[0])\n",
    "print(\"Class 1 Accuracy : \", cm.diagonal()[1])"
   ]
  },
  {
   "cell_type": "markdown",
   "metadata": {},
   "source": [
    "As we can see that we are compromising the overall accuracy and Class 0 Accuracy but on the other hand we can see that Class 1 Accuracy got significantly increased. But near miss caused the overall accuracy to get very low. So we will stick with the SMOTE instead of NEARMISS."
   ]
  },
  {
   "cell_type": "markdown",
   "metadata": {},
   "source": [
    "## Modelling"
   ]
  },
  {
   "cell_type": "markdown",
   "metadata": {},
   "source": [
    "We can perform Grid search but it gives us the best parameters based on the overall accuracy and here we are trying to find the best parameters that give us good overall accuracy as well as good class wise accuracy, hence performing the grid search using for loops."
   ]
  },
  {
   "cell_type": "markdown",
   "metadata": {},
   "source": [
    "### Logistic Regression"
   ]
  },
  {
   "cell_type": "markdown",
   "metadata": {},
   "source": [
    "#### Hyperparameter selection"
   ]
  },
  {
   "cell_type": "code",
   "execution_count": null,
   "metadata": {
    "scrolled": false
   },
   "outputs": [],
   "source": [
    "# Tolerance for criteria\n",
    "tol = [0.00001, 0.000001, 0.0000001, 0.00000001]\n",
    "\n",
    "# Cost for regularization\n",
    "cost = [0.001, 0.01, 0.1, 1, 10, 100, 1000]\n",
    "\n",
    "# Looping through all the combinations of parameters\n",
    "for t in tol:\n",
    "    \n",
    "    for c in cost:\n",
    "        \n",
    "        # Printing the parameters\n",
    "        print(\"TOL : \", t)\n",
    "        print(\"C : \", c)\n",
    "        \n",
    "        # INIT the model\n",
    "        lr = LogisticRegression(tol = t, C = c, random_state = 79)\n",
    "        \n",
    "        # Fitting the model\n",
    "        lr.fit(X_train_SMOTE, y_train_SMOTE)\n",
    "        \n",
    "        # Predicting using the model\n",
    "        pred = lr.predict(X_valid)\n",
    "        \n",
    "        # Overall accuracy score\n",
    "        ## Train\n",
    "        print(\"Overall accuracy(Train) : \", accuracy_score(y_train_SMOTE, lr.predict(X_train_SMOTE)))\n",
    "        ## Valid\n",
    "        print(\"Overall accuracy(Valid) : \", accuracy_score(y_valid, pred))\n",
    "        \n",
    "        # Classwise accuracy\n",
    "        classwise_accuracy(y_valid, pred)"
   ]
  },
  {
   "cell_type": "markdown",
   "metadata": {},
   "source": [
    "As we can see that for C = 0.001 and all the values of TOL we got the highest overall and class wise accuracy. And the accuracy is consistent across the train and valid data. We will stick to the highest TOL and C = 0.001 values. Results is as following:\n",
    "\n",
    "TOL :  1e-05\n",
    "\n",
    "C :  0.001\n",
    "\n",
    "Overall accuracy(Train) :  0.8552442078897934\n",
    "\n",
    "\n",
    "Overall accuracy(Valid) :  0.8476000884760009\n",
    "\n",
    "Class 0 Accuracy :  0.8620085149010769\n",
    "\n",
    "Class 1 Accuracy :  0.7386363636363636"
   ]
  },
  {
   "cell_type": "markdown",
   "metadata": {},
   "source": [
    "#### The best model"
   ]
  },
  {
   "cell_type": "code",
   "execution_count": null,
   "metadata": {},
   "outputs": [],
   "source": [
    "# Init the model with the best params\n",
    "lr_final = LogisticRegression(tol = 0.00001, C = 0.001, random_state = 79)\n",
    "\n",
    "# Fitting the data\n",
    "lr_final.fit(X_train_SMOTE, y_train_SMOTE)\n",
    "\n",
    "\n",
    "# Overall accuracy score for training data\n",
    "print(\"Overall accuracy (Train) : \", accuracy_score(y_train_SMOTE, \n",
    "                                            lr_final.predict(X_train_SMOTE)))\n",
    "\n",
    "# Predicting using the final model\n",
    "pred = lr_final.predict(X_valid)\n",
    "\n",
    "# Overall accuracy score for validation data\n",
    "print(\"Overall accuracy (Validation) : \", accuracy_score(y_valid, pred))\n",
    "\n",
    "\n",
    "# class wise accuracy\n",
    "classwise_accuracy(y_valid, pred, False)\n",
    "\n",
    "# Saving the model\n",
    "dump(lr_final, 'MODELS/Log_reg.joblib');"
   ]
  },
  {
   "cell_type": "markdown",
   "metadata": {},
   "source": [
    "As we can see that model accuracy is consistent across the training and validation dataset we can rule out the possibilities of under or over fitting."
   ]
  },
  {
   "cell_type": "markdown",
   "metadata": {},
   "source": [
    "### Decision Tree"
   ]
  },
  {
   "cell_type": "markdown",
   "metadata": {},
   "source": [
    "#### Parameter Selection"
   ]
  },
  {
   "cell_type": "code",
   "execution_count": null,
   "metadata": {
    "scrolled": false
   },
   "outputs": [],
   "source": [
    "# Parameters of choice\n",
    "min_sample_splits = [1000, 900, 800, 700, 600, 500]\n",
    "min_sample_leafs = [500, 400, 300, 200, 100]\n",
    "\n",
    "\n",
    "for split in min_sample_splits:\n",
    "    \n",
    "    for leaf in min_sample_leafs:\n",
    "        \n",
    "        print(\"SPLIT : \", split)\n",
    "        print(\"LEAF : \", leaf)\n",
    "        \n",
    "        dt = DecisionTreeClassifier(\n",
    "                                min_samples_split = split, \n",
    "                                min_samples_leaf = leaf,\n",
    "                                random_state = 79\n",
    "                            )\n",
    "        \n",
    "        dt.fit(X_train_SMOTE, y_train_SMOTE)\n",
    "        \n",
    "        # Predicting using the model\n",
    "        pred = dt.predict(X_valid)\n",
    "        \n",
    "        # Overall accuracy\n",
    "        ## train\n",
    "        print(\"Overall accuracy(train) : \", accuracy_score(y_train_SMOTE, dt.predict(X_train_SMOTE)))\n",
    "        ## Valid\n",
    "        print(\"Overall accuracy(valid) : \", accuracy_score(y_valid, pred))\n",
    "        \n",
    "        # Classwise accuracy (Valid)\n",
    "        classwise_accuracy(y_valid, pred)"
   ]
  },
  {
   "cell_type": "markdown",
   "metadata": {},
   "source": [
    "We are going to choose min_samples_split = 800 and min_samples_leaf = 400 as we have almost same overall accuracy as the highest overall accuracy and individual class accuracies are also the same. There are also other parameter combinations which got the same result such as min_sample_split = 700, 600, 500 and min_sample_leaf = 400. "
   ]
  },
  {
   "cell_type": "markdown",
   "metadata": {},
   "source": [
    "#### The best model"
   ]
  },
  {
   "cell_type": "code",
   "execution_count": null,
   "metadata": {},
   "outputs": [],
   "source": [
    "# Init the model with the best params\n",
    "dt_final = DecisionTreeClassifier(\n",
    "                                  min_samples_split = 800, \n",
    "                                  min_samples_leaf = 400,\n",
    "                                  random_state = 79\n",
    "                                )\n",
    "\n",
    "# Fitting the data\n",
    "dt_final.fit(X_train_SMOTE, y_train_SMOTE)\n",
    "\n",
    "\n",
    "# Overall accuracy score for training data\n",
    "print(\"Overall accuracy (Train) : \", accuracy_score(y_train_SMOTE, \n",
    "                                            dt_final.predict(X_train_SMOTE)))\n",
    "\n",
    "# Predicting on validation data\n",
    "pred = dt_final.predict(X_valid)\n",
    "\n",
    "# Overall accuracy score for validation data\n",
    "print(\"Overall accuracy (Validation) : \", accuracy_score(y_valid, pred))\n",
    "\n",
    "# Classwise accuracy\n",
    "classwise_accuracy(y_valid, pred, False)\n",
    "\n",
    "# Saving the model\n",
    "dump(dt_final, 'MODELS/dt.joblib');"
   ]
  },
  {
   "cell_type": "markdown",
   "metadata": {},
   "source": [
    "As we can see that model is performing good on training data but slighly poorly on validation data. Model is slightly overfitting on the training data. We will try to address this problem using boosting algorithms and using cluster of trees(RandomForest). "
   ]
  },
  {
   "cell_type": "markdown",
   "metadata": {},
   "source": [
    "### Random Forest"
   ]
  },
  {
   "cell_type": "markdown",
   "metadata": {},
   "source": [
    "We will use the best parameters from decision tree because random forest is nothing but just cluster of decision tree classifiers."
   ]
  },
  {
   "cell_type": "markdown",
   "metadata": {},
   "source": [
    "#### Parameter Selection"
   ]
  },
  {
   "cell_type": "code",
   "execution_count": null,
   "metadata": {
    "scrolled": false
   },
   "outputs": [],
   "source": [
    "# Parameters of choice\n",
    "estimators = [500, 400, 300, 200, 100]\n",
    "\n",
    "for est in estimators:\n",
    "    \n",
    "    print(\"# of Estimators : \", est)\n",
    "    \n",
    "    rf = RandomForestClassifier(\n",
    "                                n_estimators = est,\n",
    "                                min_samples_split = 800, \n",
    "                                min_samples_leaf = 400,\n",
    "                                random_state = 79\n",
    "                            )\n",
    "    \n",
    "    rf.fit(X_train_SMOTE, y_train_SMOTE)\n",
    "    \n",
    "    # Predicting using the model\n",
    "    pred = rf.predict(X_valid)\n",
    "    \n",
    "    # Overall accuracy\n",
    "    ## train\n",
    "    print(\"Overall accuracy(train) : \", accuracy_score(y_train_SMOTE, rf.predict(X_train_SMOTE)))\n",
    "    ## Valid\n",
    "    print(\"Overall accuracy(valid) : \", accuracy_score(y_valid, pred))\n",
    "    \n",
    "    # Classwise accuracy (Valid)\n",
    "    classwise_accuracy(y_valid, pred)"
   ]
  },
  {
   "cell_type": "markdown",
   "metadata": {},
   "source": [
    "As we can see that for 200 estimators we get great balance between classwise accuracies(least difference). Overall accuracy for training and validation data is same for all the estimators."
   ]
  },
  {
   "cell_type": "markdown",
   "metadata": {},
   "source": [
    "#### Best model"
   ]
  },
  {
   "cell_type": "code",
   "execution_count": null,
   "metadata": {},
   "outputs": [],
   "source": [
    "#Training of a Random Forest classifier with 500 trees \n",
    "rnd_clf = RandomForestClassifier(n_estimators = 200, min_samples_split = 500, \n",
    "                                 min_samples_leaf = 300, random_state = 79)\n",
    "rnd_clf.fit(X_train_SMOTE, y_train_SMOTE)\n",
    "\n",
    "# Saving the model\n",
    "rf_dump = dump(rnd_clf, 'MODELS/RF.joblib')\n",
    "\n",
    "# Loading the model\n",
    "# rnd_clf = load('MODELS/RF.joblib')\n",
    "\n",
    "# Training and Validation accuracy\n",
    "print(\"Train Accuracy:\", accuracy_score(y_train_SMOTE,\n",
    "                                       rnd_clf.predict(X_train_SMOTE)))\n",
    "\n",
    "# Prediciton on validation data\n",
    "pred = rnd_clf.predict(X_valid);\n",
    "\n",
    "print(\"Validation Accuracy:\", accuracy_score(y_valid, pred))\n",
    "\n",
    "# Classwise accuracy\n",
    "classwise_accuracy(y_valid, pred, False)"
   ]
  },
  {
   "cell_type": "markdown",
   "metadata": {},
   "source": [
    "As we can see that RandomForest is also performing same as decision tree classifier, there is no improvement in the overall accuracy for either train or validation."
   ]
  },
  {
   "cell_type": "markdown",
   "metadata": {},
   "source": [
    "### Extra trees classifier"
   ]
  },
  {
   "cell_type": "markdown",
   "metadata": {},
   "source": [
    "#### Parameter selection"
   ]
  },
  {
   "cell_type": "code",
   "execution_count": null,
   "metadata": {
    "scrolled": false
   },
   "outputs": [],
   "source": [
    "# Parameters of choice\n",
    "min_sample_splits = [1000, 900, 800, 700, 600, 500]\n",
    "min_sample_leafs = [500, 400, 300, 200, 100]\n",
    "\n",
    "\n",
    "for split in min_sample_splits:\n",
    "    \n",
    "    for leaf in min_sample_leafs:\n",
    "        \n",
    "        print(\"SPLIT : \", split)\n",
    "        print(\"LEAF : \", leaf)\n",
    "        \n",
    "        ext = ExtraTreesClassifier(\n",
    "                                min_samples_split = split, \n",
    "                                min_samples_leaf = leaf,\n",
    "                                random_state = 79\n",
    "                            )\n",
    "        \n",
    "        ext.fit(X_train_SMOTE, y_train_SMOTE)\n",
    "        \n",
    "        # Predicting using the model\n",
    "        pred = ext.predict(X_valid)\n",
    "        \n",
    "        # Overall accuracy\n",
    "        ## train\n",
    "        print(\"Overall accuracy(train) : \", accuracy_score(y_train_SMOTE, ext.predict(X_train_SMOTE)))\n",
    "        ## Valid\n",
    "        print(\"Overall accuracy(valid) : \", accuracy_score(y_valid, pred))\n",
    "    \n",
    "        # Classwise accuracy\n",
    "        classwise_accuracy(y_valid, pred)"
   ]
  },
  {
   "cell_type": "markdown",
   "metadata": {},
   "source": [
    "We are ready to compromise the overall and class 0 accuracy for greater accuracy of class 1 instances. Here we will select such \n",
    "parameter combination which gives us the highest class 1 accuracy. Such parameters are:\n",
    "\n",
    "SPLIT :  900\n",
    "\n",
    "LEAF :  100\n",
    "\n",
    "Overall accuracy(valid) :  0.8619774386197744\n",
    "\n",
    "Class 0 Accuracy :  0.8915602304032056\n",
    "\n",
    "Class 1 Accuracy :  0.6382575757575758"
   ]
  },
  {
   "cell_type": "markdown",
   "metadata": {},
   "source": [
    "#### The best model"
   ]
  },
  {
   "cell_type": "code",
   "execution_count": null,
   "metadata": {},
   "outputs": [],
   "source": [
    "ext_clf = ExtraTreesClassifier(min_samples_split = 900, \n",
    "                                 min_samples_leaf = 100, random_state = 79)\n",
    "\n",
    "ext_clf.fit(X_train_SMOTE, y_train_SMOTE)\n",
    "\n",
    "# Saving the model\n",
    "ext_dump = dump(ext_clf, 'MODELS/ext.joblib')\n",
    "\n",
    "# Loading the model\n",
    "# ext_clf = load('MODELS/EXT.joblib')\n",
    "\n",
    "# Training and Validation accuracy\n",
    "print(\"Train Accuracy:\", accuracy_score(y_train_SMOTE,\n",
    "                                       ext_clf.predict(X_train_SMOTE)))\n",
    "\n",
    "# Prediciton on validation data\n",
    "pred = ext_clf.predict(X_valid);\n",
    "\n",
    "print(\"Validation Accuracy:\", accuracy_score(y_valid, pred))\n",
    "\n",
    "# Classwise accuracy\n",
    "classwise_accuracy(y_valid, pred, False)"
   ]
  },
  {
   "cell_type": "markdown",
   "metadata": {},
   "source": [
    "As we can see that model gives us consistent(almost the same) result across the training and validation dataset. But the class 1 accuracy is quite low compared to class 0 accuracy but it adequate."
   ]
  },
  {
   "cell_type": "markdown",
   "metadata": {},
   "source": [
    "### KNN"
   ]
  },
  {
   "cell_type": "markdown",
   "metadata": {},
   "source": [
    "#### Parameter selection - uniform weights"
   ]
  },
  {
   "cell_type": "code",
   "execution_count": null,
   "metadata": {},
   "outputs": [],
   "source": [
    "# Number of neighbors\n",
    "neighbors = range(10, 20)\n",
    "\n",
    "for n in neighbors:\n",
    "    \n",
    "    print(\"#Neighbours : \", n)\n",
    "    \n",
    "    # Init the model\n",
    "    neigh = KNeighborsClassifier(n_neighbors = n)\n",
    "    \n",
    "    # Fitting the training data\n",
    "    neigh.fit(X_train_SMOTE, y_train_SMOTE)\n",
    "    \n",
    "    # Predictions on validation data\n",
    "    pred = neigh.predict(X_valid)\n",
    "    \n",
    "    # Overall accuracy\n",
    "    ## train\n",
    "    print(\"Overall accuracy(train) : \", accuracy_score(y_train_SMOTE, neigh.predict(X_train_SMOTE)))\n",
    "    ## Valid\n",
    "    print(\"Overall accuracy(valid) : \", accuracy_score(y_valid, pred))\n",
    "    \n",
    "    # Classwise accuracy\n",
    "    classwise_accuracy(y_valid, pred)"
   ]
  },
  {
   "cell_type": "markdown",
   "metadata": {},
   "source": [
    "AS we can see that KNN with more than 10 neighbours perfoming quite well with the data. We can see that for all the choices of neighbours there is overfitting present. It is because we performed the SMOTE on the training data and SMOTE generated extra points based on the neighbuorhood data points. Since all the choices are performing great, we will choose the #neighbours = 15 because there is classic balance b/w the accuracy of the two classes.\n",
    "\n",
    "#Neighbours :  15\n",
    "\n",
    "\n",
    "Overall accuracy(train) :  0.9126330619912336\n",
    "\n",
    "Overall accuracy(valid) :  0.8352134483521345\n",
    "\n",
    "\n",
    "Class 0 Accuracy :  0.8354620586025545\n",
    "\n",
    "Class 1 Accuracy :  0.8333333333333334\n"
   ]
  },
  {
   "cell_type": "markdown",
   "metadata": {},
   "source": [
    "#### Parameter selection - distance based weights"
   ]
  },
  {
   "cell_type": "code",
   "execution_count": null,
   "metadata": {},
   "outputs": [],
   "source": [
    "# Number of neighbors\n",
    "neighbors = range(10, 20)\n",
    "\n",
    "for n in neighbors:\n",
    "    \n",
    "    print(\"#Neighbours : \", n)\n",
    "    \n",
    "    # Init the model\n",
    "    neigh = KNeighborsClassifier(n_neighbors = n, weights = \"distance\")\n",
    "    \n",
    "    # Fitting the training data\n",
    "    neigh.fit(X_train_SMOTE, y_train_SMOTE)\n",
    "    \n",
    "    # Predictions on validation data\n",
    "    pred = neigh.predict(X_valid)\n",
    "    \n",
    "    # Overall accuracy\n",
    "    ## train\n",
    "    print(\"Overall accuracy(train) : \", accuracy_score(y_train_SMOTE, neigh.predict(X_train_SMOTE)))\n",
    "    ## Valid\n",
    "    print(\"Overall accuracy(valid) : \", accuracy_score(y_valid, pred))\n",
    "    \n",
    "    # Classwise accuracy\n",
    "    classwise_accuracy(y_valid, pred)"
   ]
  },
  {
   "cell_type": "markdown",
   "metadata": {},
   "source": [
    "As we can see that model if overfitting to the training data more than KNN with uniform weights. We will **use uniform weights** instead of distance based weigths."
   ]
  },
  {
   "cell_type": "markdown",
   "metadata": {},
   "source": [
    "#### Best model"
   ]
  },
  {
   "cell_type": "code",
   "execution_count": null,
   "metadata": {},
   "outputs": [],
   "source": [
    "# Best model init\n",
    "neigh_final = KNeighborsClassifier(n_neighbors = 15)\n",
    "\n",
    "# Fitting the model\n",
    "neigh_final.fit(X_train_SMOTE, y_train_SMOTE)\n",
    "    \n",
    "# Saving the model\n",
    "neigh_dump = dump(neigh_final, 'MODELS/KNN.joblib')\n",
    "\n",
    "# Loading the model\n",
    "# ext_clf = load('MODELS/EXT.joblib')    \n",
    "    \n",
    "# Predictions using the best model\n",
    "pred = neigh_final.predict(X_valid)\n",
    "  \n",
    "# Overall accuracy\n",
    "## train\n",
    "print(\"Overall accuracy(train) : \", accuracy_score(y_train_SMOTE, neigh_final.predict(X_train_SMOTE)))\n",
    "## Valid\n",
    "print(\"Overall accuracy(valid) : \", accuracy_score(y_valid, pred))\n",
    "    \n",
    "# Classwise accuracy\n",
    "classwise_accuracy(y_valid, pred, False)"
   ]
  },
  {
   "cell_type": "markdown",
   "metadata": {},
   "source": [
    "### Gaussian Naive Bayes"
   ]
  },
  {
   "cell_type": "code",
   "execution_count": null,
   "metadata": {},
   "outputs": [],
   "source": [
    "# Init the model\n",
    "gnb = GaussianNB()\n",
    "\n",
    "# Fitting the data\n",
    "gnb.fit(X_train_SMOTE, y_train_SMOTE)\n",
    "\n",
    "# Predictions using the best model\n",
    "pred = gnb.predict(X_valid)\n",
    "  \n",
    "# Overall accuracy\n",
    "## train\n",
    "print(\"Overall accuracy(train) : \", accuracy_score(y_train_SMOTE, gnb.predict(X_train_SMOTE)))\n",
    "## Valid\n",
    "print(\"Overall accuracy(valid) : \", accuracy_score(y_valid, pred))\n",
    "    \n",
    "# Classwise accuracy\n",
    "classwise_accuracy(y_valid, pred, False)\n",
    "\n",
    "# Saving the model\n",
    "gnb_dump = dump(gnb, 'MODELS/GNB.joblib')"
   ]
  },
  {
   "cell_type": "markdown",
   "metadata": {},
   "source": [
    "### SVC"
   ]
  },
  {
   "cell_type": "markdown",
   "metadata": {},
   "source": [
    "We will do three different kernels(Linear/RBF/POLY) with different parameter values. We will use 10-6 for stopping criteria.  "
   ]
  },
  {
   "cell_type": "markdown",
   "metadata": {},
   "source": [
    "#### Parameter Selection - RBF kernel"
   ]
  },
  {
   "cell_type": "code",
   "execution_count": null,
   "metadata": {},
   "outputs": [],
   "source": [
    "# Choices of cost - regularization parameter\n",
    "cost = [0.001, 0.01, 0.1, 1, 10, 100, 1000]\n",
    "\n",
    "# Tolerance for stopping criterion.\n",
    "tol = 0.00001\n",
    "\n",
    "for c in cost:\n",
    "    \n",
    "    # cost\n",
    "    print(\"C : \", c)\n",
    "    \n",
    "    # Init the classifier\n",
    "    svm = SVC(C = c, kernel = 'rbf', tol = tol, random_state = 79)\n",
    "    \n",
    "    # Fitting the training data\n",
    "    svm.fit(X_train_SMOTE, y_train_SMOTE)\n",
    "    \n",
    "    # Predictions on validation data\n",
    "    pred = svm.predict(X_valid)\n",
    "    \n",
    "    # Overall accuracy\n",
    "    ## train\n",
    "    print(\"Overall accuracy(train) : \", accuracy_score(y_train_SMOTE, svm.predict(X_train_SMOTE)))\n",
    "    ## Valid\n",
    "    print(\"Overall accuracy(valid) : \", accuracy_score(y_valid, pred))\n",
    "    \n",
    "    # Classwise accuracy\n",
    "    classwise_accuracy(y_valid, pred)"
   ]
  },
  {
   "cell_type": "markdown",
   "metadata": {},
   "source": [
    "As we can see that as C increases Class-0 accuracy increases and the difference of train accuracy and validation accuracy(degree of overfitting increases). We can see that C = 0.01 gives the best performance.\n",
    "\n",
    "\n",
    "C :  0.01\n",
    "\n",
    "\n",
    "Overall accuracy(train) :  0.8712742642454603\n",
    "\n",
    "Overall accuracy(valid) :  0.8396372483963724\n",
    "\n",
    "\n",
    "Class 0 Accuracy :  0.8447282744803406\n",
    "\n",
    "Class 1 Accuracy :  0.8011363636363636\n",
    "\n",
    "\n",
    "Because we have the smallest difference in training and validation accuracy as well as between Class-0 and Class-1 accuracy."
   ]
  },
  {
   "cell_type": "markdown",
   "metadata": {},
   "source": [
    "#### Parameter Selection - Linear Kernel"
   ]
  },
  {
   "cell_type": "code",
   "execution_count": null,
   "metadata": {},
   "outputs": [],
   "source": [
    "# Choices of cost - regularization parameter\n",
    "cost = [0.001, 0.01, 0.1, 1, 10, 100, 1000]\n",
    "\n",
    "# Tolerance for stopping criterion.\n",
    "tol = 0.00001\n",
    "\n",
    "for c in cost:\n",
    "    \n",
    "    # cost\n",
    "    print(\"C : \", c)\n",
    "    \n",
    "    # Init the classifier\n",
    "    svm = SVC(C = c, kernel = 'linear', tol = tol, random_state = 79)\n",
    "    \n",
    "    # Fitting the training data\n",
    "    svm.fit(X_train_SMOTE, y_train_SMOTE)\n",
    "    \n",
    "    # Predictions on validation data\n",
    "    pred = svm.predict(X_valid)\n",
    "    \n",
    "    # Overall accuracy\n",
    "    ## train\n",
    "    print(\"Overall accuracy(train) : \", accuracy_score(y_train_SMOTE, svm.predict(X_train_SMOTE)))\n",
    "    ## Valid\n",
    "    print(\"Overall accuracy(valid) : \", accuracy_score(y_valid, pred))\n",
    "    \n",
    "    # Classwise accuracy\n",
    "    classwise_accuracy(y_valid, pred)"
   ]
  },
  {
   "cell_type": "markdown",
   "metadata": {},
   "source": [
    "As we can see that as C increases Class-0 accuracy increases and the difference of train accuracy and validation accuracy(degree of overfitting increases). We can see that C = 0.001 gives the best performance.\n",
    "\n",
    "\n",
    "C :  0.001\n",
    "\n",
    "Overall accuracy(train) :  0.8731058234189104\n",
    "\n",
    "Overall accuracy(valid) :  0.8484848484848485\n",
    "\n",
    "Class 0 Accuracy :  0.8605058852992737\n",
    "\n",
    "Class 1 Accuracy :  0.7575757575757576\n",
    "\n",
    "\n",
    "Because we have the smallest difference in training and validation accuracy as well as between Class-0 and Class-1 accuracy."
   ]
  },
  {
   "cell_type": "markdown",
   "metadata": {},
   "source": [
    "#### Parameter Selection - Poly Kernel"
   ]
  },
  {
   "cell_type": "markdown",
   "metadata": {},
   "source": [
    "We will choose two cost C = 0.01 and 0.001, as it gave us the best results with different number of polynomial terms."
   ]
  },
  {
   "cell_type": "code",
   "execution_count": null,
   "metadata": {
    "scrolled": false
   },
   "outputs": [],
   "source": [
    "# Choices of cost - regularization parameter\n",
    "cost = [0.01, 0.001]\n",
    "\n",
    "# Tolerance for stopping criterion.\n",
    "tol = 0.00001\n",
    "\n",
    "# Polynomial choices\n",
    "poly = range(3, 11)\n",
    "\n",
    "for p in poly:\n",
    "    \n",
    "    # polynomial\n",
    "    print(\"\\nPoly : \", p)\n",
    "\n",
    "    for c in cost:\n",
    "\n",
    "        # cost\n",
    "        print(\"C : \", c)\n",
    "\n",
    "        # Init the classifier\n",
    "        svm = SVC(C = c, degree = p, kernel = 'poly', tol = tol, random_state = 79)\n",
    "\n",
    "        # Fitting the training data\n",
    "        svm.fit(X_train_SMOTE, y_train_SMOTE)\n",
    "\n",
    "        # Predictions on validation data\n",
    "        pred = svm.predict(X_valid)\n",
    "\n",
    "        # Overall accuracy\n",
    "        ## train\n",
    "        print(\"Overall accuracy(train) : \", accuracy_score(y_train_SMOTE, svm.predict(X_train_SMOTE)))\n",
    "        ## Valid\n",
    "        print(\"Overall accuracy(valid) : \", accuracy_score(y_valid, pred))\n",
    "\n",
    "        # Classwise accuracy\n",
    "        classwise_accuracy(y_valid, pred)"
   ]
  },
  {
   "cell_type": "markdown",
   "metadata": {},
   "source": [
    "As we can see that polynomial degree of 3 with C = 0.01 gives us the best results. Here it is,\n",
    "\n",
    "Poly :  3\n",
    "\n",
    "C :  0.01\n",
    "\n",
    "Overall accuracy(train) :  0.8704915466499686\n",
    "\n",
    "Overall accuracy(valid) :  0.8312320283123202\n",
    "\n",
    "Class 0 Accuracy :  0.8324567993989481\n",
    "\n",
    "Class 1 Accuracy :  0.821969696969697\n",
    "\n",
    "**The above result gives us the best SVC model among all different models from rbf and linear kernel.**"
   ]
  },
  {
   "cell_type": "markdown",
   "metadata": {},
   "source": [
    "#### Best model"
   ]
  },
  {
   "cell_type": "code",
   "execution_count": null,
   "metadata": {},
   "outputs": [],
   "source": [
    "# Init the classifier\n",
    "svm = SVC(C = 0.01, degree = 3, kernel = 'poly', tol = 0.00001, random_state = 79)\n",
    "\n",
    "# Fitting the training data\n",
    "svm.fit(X_train_SMOTE, y_train_SMOTE)\n",
    "\n",
    "# Saving the model\n",
    "svm_dump = dump(svm, 'MODELS/SVC.joblib')\n",
    "\n",
    "# Predictions on validation data\n",
    "pred = svm.predict(X_valid)\n",
    "\n",
    "# Overall accuracy\n",
    "## train\n",
    "print(\"Overall accuracy(train) : \", accuracy_score(y_train_SMOTE, svm.predict(X_train_SMOTE)))\n",
    "## Valid\n",
    "print(\"Overall accuracy(valid) : \", accuracy_score(y_valid, pred))\n",
    "\n",
    "# Classwise accuracy\n",
    "classwise_accuracy(y_valid, pred, False)"
   ]
  },
  {
   "cell_type": "markdown",
   "metadata": {},
   "source": [
    "### Multi Layer Perceptron"
   ]
  },
  {
   "cell_type": "markdown",
   "metadata": {},
   "source": [
    "#### Custom score function for Grid search"
   ]
  },
  {
   "cell_type": "code",
   "execution_count": null,
   "metadata": {},
   "outputs": [],
   "source": [
    "score = make_scorer(custom_score_function, greater_is_better = False)"
   ]
  },
  {
   "cell_type": "markdown",
   "metadata": {},
   "source": [
    "#### Grid search hyperparameters"
   ]
  },
  {
   "cell_type": "code",
   "execution_count": null,
   "metadata": {},
   "outputs": [],
   "source": [
    "# Parameter space for MLPClassifier\n",
    "parameter_space = {\n",
    "    'hidden_layer_sizes': [(50, 50, 50), (50, 100, 50), (100, 50, 100)],\n",
    "    'activation': ['tanh', 'relu'],\n",
    "    'solver': ['sgd', 'adam'],\n",
    "    'alpha': [0.001, 0.01, 0.1, 1],\n",
    "    'learning_rate': ['constant','adaptive'],\n",
    "}\n",
    "\n",
    "# Init MLPClassifier\n",
    "mlp = MLPClassifier(random_state = 79)\n",
    "\n",
    "# Grid search init\n",
    "gcv = GridSearchCV(mlp, param_grid = parameter_space, scoring = score)\n",
    "\n",
    "# Fitting the data\n",
    "gcv.fit(X_train_SMOTE, y_train_SMOTE)"
   ]
  },
  {
   "cell_type": "code",
   "execution_count": null,
   "metadata": {},
   "outputs": [],
   "source": [
    "gcv.best_params_"
   ]
  },
  {
   "cell_type": "code",
   "execution_count": null,
   "metadata": {},
   "outputs": [],
   "source": [
    "# Predictions on validation data\n",
    "pred = mlp.predict(X_valid)\n",
    "\n",
    "# Overall accuracy\n",
    "## train\n",
    "print(\"Overall accuracy(train) : \", accuracy_score(y_train_SMOTE, mlp.predict(X_train_SMOTE)))\n",
    "## Valid\n",
    "print(\"Overall accuracy(valid) : \", accuracy_score(y_valid, pred))\n",
    "\n",
    "# Classwise accuracy\n",
    "classwise_accuracy(y_valid, pred, False)"
   ]
  },
  {
   "cell_type": "markdown",
   "metadata": {},
   "source": [
    "#### Best Model"
   ]
  },
  {
   "cell_type": "code",
   "execution_count": null,
   "metadata": {},
   "outputs": [],
   "source": []
  },
  {
   "cell_type": "markdown",
   "metadata": {},
   "source": [
    "### Quadratic Discriminant Analysis"
   ]
  },
  {
   "cell_type": "markdown",
   "metadata": {},
   "source": [
    "#### Parameter selection"
   ]
  },
  {
   "cell_type": "code",
   "execution_count": null,
   "metadata": {},
   "outputs": [],
   "source": [
    "# Choices of cost - regularization parameter\n",
    "reg = [0.001, 0.05, 0.01, 0.1, 0.5, 1, 2]\n",
    "\n",
    "for r in reg:\n",
    "    \n",
    "    # cost\n",
    "    print(\"reg : \", r)\n",
    "    \n",
    "    # INIT the model\n",
    "    qda = QuadraticDiscriminantAnalysis(store_covariance = True, tol = 0.00001, reg_param = r)\n",
    "\n",
    "    # Fitting the training data\n",
    "    qda.fit(X_train_SMOTE, y_train_SMOTE)\n",
    "\n",
    "    # Prediction on validation data\n",
    "    pred = qda.predict(X_valid)\n",
    "\n",
    "    # Overall accuracy\n",
    "    ## train\n",
    "    print(\"Overall accuracy(train) : \", accuracy_score(y_train_SMOTE, qda.predict(X_train_SMOTE)))\n",
    "    ## Valid\n",
    "    print(\"Overall accuracy(valid) : \", accuracy_score(y_valid, pred))\n",
    "\n",
    "    # Classwise accuracy\n",
    "    classwise_accuracy(y_valid, pred)"
   ]
  },
  {
   "cell_type": "markdown",
   "metadata": {},
   "source": [
    "As we can see that the best choice for regularization parameter is 0.1, which gives us following result\n",
    "\n",
    "\n",
    "Overall accuracy(train) :  0.8584063869755792\n",
    "\n",
    "Overall accuracy(valid) :  0.8378677283786773\n",
    "\n",
    "\n",
    "Class 0 Accuracy :  0.8444778362133734\n",
    "\n",
    "Class 1 Accuracy :  0.7878787878787878"
   ]
  },
  {
   "cell_type": "markdown",
   "metadata": {},
   "source": [
    "#### Best model"
   ]
  },
  {
   "cell_type": "code",
   "execution_count": null,
   "metadata": {},
   "outputs": [],
   "source": [
    "# INIT the model\n",
    "qda = QuadraticDiscriminantAnalysis(store_covariance = True, tol = 0.00001, reg_param = 0.1)\n",
    "\n",
    "# Fitting the training data\n",
    "qda.fit(X_train_SMOTE, y_train_SMOTE)\n",
    "\n",
    "# Saving the model\n",
    "qda_dump = dump(qda, 'MODELS/QDA.joblib')\n",
    "\n",
    "# Prediction on validation data\n",
    "pred = qda.predict(X_valid)\n",
    "\n",
    "# Overall accuracy\n",
    "## train\n",
    "print(\"Overall accuracy(train) : \", accuracy_score(y_train_SMOTE, qda.predict(X_train_SMOTE)))\n",
    "## Valid\n",
    "print(\"Overall accuracy(valid) : \", accuracy_score(y_valid, pred))\n",
    "\n",
    "# Classwise accuracy\n",
    "classwise_accuracy(y_valid, pred, 0)"
   ]
  },
  {
   "cell_type": "code",
   "execution_count": null,
   "metadata": {},
   "outputs": [],
   "source": []
  }
 ],
 "metadata": {
  "kernelspec": {
   "display_name": "Python 3",
   "language": "python",
   "name": "python3"
  },
  "language_info": {
   "codemirror_mode": {
    "name": "ipython",
    "version": 3
   },
   "file_extension": ".py",
   "mimetype": "text/x-python",
   "name": "python",
   "nbconvert_exporter": "python",
   "pygments_lexer": "ipython3",
   "version": "3.7.6"
  }
 },
 "nbformat": 4,
 "nbformat_minor": 2
}
